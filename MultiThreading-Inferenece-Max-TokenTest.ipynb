{
 "cells": [
  {
   "cell_type": "code",
   "execution_count": 1,
   "id": "85065d82",
   "metadata": {},
   "outputs": [],
   "source": [
    "import requests\n",
    "import time, random\n",
    "import os, json\n",
    "import csv\n",
    "import concurrent.futures\n",
    "# from functools import partial\n",
    "import pandas as pd"
   ]
  },
  {
   "cell_type": "code",
   "execution_count": 2,
   "id": "ddec33f0",
   "metadata": {},
   "outputs": [],
   "source": [
    "url = \"http://vllm-serving-service:8888/v1/completions\"\n",
    "request_payload_file = '/data/Promptshett_codegen_50.txt'\n",
    "# report_path = '/data/vLLM_Base_1gpu.csv'\n",
    "df = pd.DataFrame(columns=['Prompt_No', 'Prompt', 'Response', 'Response_status', 'Time (seconds)'])"
   ]
  },
  {
   "cell_type": "code",
   "execution_count": 3,
   "id": "b2b45c5b",
   "metadata": {},
   "outputs": [],
   "source": [
    "context_code_gen = \"\"\"Generate a dbt model which gives me month-wise sum of payment done by each customer.\n",
    "    {\n",
    "    \"schema\": [\n",
    "        {\n",
    "            \"Table Name\": \"customers\",\n",
    "            \"Column Names\": [\n",
    "\t\t\t\t\"customer_id\",\n",
    "\t\t\t\t\"name\",\n",
    "\t\t\t\t\"email\",\n",
    "\t\t\t\t\"phone_number\",\n",
    "\t\t\t\t\"address\",\n",
    "\t\t\t\t\"registration_date\"\n",
    "            ]\n",
    "        },\n",
    "        {\n",
    "            \"Table Name\": \"orders\",\n",
    "            \"Column Names\": [\n",
    "\t\t\t\t\"order_id\",\n",
    "\t\t\t\t\"customer_id\",\n",
    "\t\t\t\t\"order_date\",\n",
    "\t\t\t\t\"total_amount\",\n",
    "\t\t\t\t\"status\"\n",
    "            ]\n",
    "        },\n",
    "\t\t{\n",
    "            \"Table Name\": \"payments\",\n",
    "            \"Column Names\": [\n",
    "                \"payment_id\",\n",
    "                \"order_id\",\n",
    "                \"payment_date\",\n",
    "                \"amount\",\n",
    "                \"payment_method\"\n",
    "            ]\n",
    "        }\n",
    "    ],\n",
    "    \"task_type\": \"code_generation\"\n",
    "}\n",
    "{{ config(\n",
    "    materialized = 'view'\n",
    ") }}\n",
    "\n",
    "WITH monthly_payments as (\n",
    "        SELECT\n",
    "          c.customer_id,\n",
    "          DATE_TRUNC('month', p.payment_date) as payment_month,\n",
    "          SUM(p.amount) as total_payment\n",
    "        FROM {{ ref('stg_customers') }} c\n",
    "        INNER JOIN {{ ref('stg_orders') }} o ON c.customer_id = o.customer_id\n",
    "        INNER JOIN {{ ref('stg_payments') }} p ON o.order_id = p.order_id\n",
    "        GROUP BY c.customer_id, DATE_TRUNC('month', p.payment_date)\n",
    "    )\n",
    "final as (\t  \n",
    "      SELECT\n",
    "        customer_id,\n",
    "        payment_month,\n",
    "        total_payment\n",
    "      FROM monthly_payments\n",
    "\t)\n",
    "select * from final\"\"\"\n",
    "\n",
    "question_cod_gen = \"\"\"Generate a sql for dbt model which gives me project-wise details of employee who works for US-based clients.\n",
    "\"\"\""
   ]
  },
  {
   "cell_type": "code",
   "execution_count": 4,
   "id": "b6ec87a7",
   "metadata": {},
   "outputs": [],
   "source": [
    "prompt =f\"\"\"You are an exceptionally intelligent DBT coding assistant that consistently delivers accurate and reliable responses to user instructions. Make sure you follow these rules:\n",
    "               1. Use context to understand some relevant code examples for the given question.\n",
    "               2. Use Schema provided in context section\n",
    "               3. Generate only DBT code\n",
    "               4. Do not use macros\n",
    "               5. Provide explaination for the generated code\n",
    "                @@ Instruction\n",
    " \n",
    "                Context:\n",
    "                {context_code_gen}\n",
    " \n",
    "                Question:\n",
    "                {question_cod_gen}\n",
    " \n",
    "                @@ Response\"\"\""
   ]
  },
  {
   "cell_type": "code",
   "execution_count": 5,
   "id": "155b488d",
   "metadata": {},
   "outputs": [
    {
     "data": {
      "text/plain": [
       "2139"
      ]
     },
     "execution_count": 5,
     "metadata": {},
     "output_type": "execute_result"
    }
   ],
   "source": [
    "len(prompt)"
   ]
  },
  {
   "cell_type": "code",
   "execution_count": 16,
   "id": "201050d7",
   "metadata": {},
   "outputs": [],
   "source": [
    "# payload = {\"prompt\": \"Problem: Create an animated dropdown menu in CSS that appears when a button is clicked.Input: Button element selector, dropdown menu element selector.Output: None (animate the dropdown menu).\", \n",
    "#            \"max_tokens\": 200,\n",
    "#            \"temperature\": 0,\n",
    "#            \"model\": \"/llmmodels/models--ise-uiuc--Magicoder-S-DS-6.7B/snapshots/cff055b1e110cbe75c0c3759bd436299c6d6bb66\"}"
   ]
  },
  {
   "cell_type": "code",
   "execution_count": 6,
   "id": "fd035b37",
   "metadata": {},
   "outputs": [],
   "source": [
    "payload = {\"prompt\": prompt, \n",
    "           \"max_tokens\": 3800,\n",
    "           \"temperature\": 0,\n",
    "           \"model\": \"/llmmodels/models--ise-uiuc--Magicoder-S-DS-6.7B/snapshots/cff055b1e110cbe75c0c3759bd436299c6d6bb66\"}"
   ]
  },
  {
   "cell_type": "code",
   "execution_count": 26,
   "id": "90a0dade",
   "metadata": {},
   "outputs": [],
   "source": [
    "def my_decorator(func):\n",
    "    def calculate_execution_time(*args, **kwargs):\n",
    "        global df\n",
    "        start_time = time.time()\n",
    "        result, a,b= func(*args, **kwargs)\n",
    "        end_time = time.time()\n",
    "        execution_time = end_time - start_time\n",
    "        data = {'Prompt_No':b,'Prompt':a,'Response':result.text, 'Response_status':result.status_code, 'Time (seconds)':f'{execution_time:.6f}'}\n",
    "        df = df.append(data, ignore_index=True)\n",
    "        print(f\"Execution time: {execution_time:.6f} seconds \\n\\n\")\n",
    "        return result,a,b\n",
    "    return calculate_execution_time"
   ]
  },
  {
   "cell_type": "code",
   "execution_count": 27,
   "id": "4f946126",
   "metadata": {},
   "outputs": [],
   "source": [
    "def save_report(file_path, df):\n",
    "#     print(\"Saving report\\n\", df)\n",
    "    df.to_csv(file_path, index=False)"
   ]
  },
  {
   "cell_type": "code",
   "execution_count": 28,
   "id": "3ed2a78a",
   "metadata": {},
   "outputs": [],
   "source": [
    "@my_decorator\n",
    "def inference(prompt_index, payload_data=None):\n",
    "    headers = {\n",
    "        'Content-Type': 'application/json'\n",
    "    }\n",
    "    \n",
    "    response = requests.request(\"POST\", url, headers=headers, json=payload_data)\n",
    "#     print(f\"Prompt {prompt_index}==> {payload_data['prompt']} \\n {response.text}\")\n",
    "    print(f\"Prompt {prompt_index}==> Response \\n {response.text}\")\n",
    "    return response, payload_data['prompt'], prompt_index\n",
    "    \n",
    "        "
   ]
  },
  {
   "cell_type": "code",
   "execution_count": 32,
   "id": "78831f04",
   "metadata": {},
   "outputs": [
    {
     "name": "stdout",
     "output_type": "stream",
     "text": [
      "loop 0+++++++++++++++++++++++++++++\n",
      "Prompt 9==> Response \n",
      " {\"id\":\"cmpl-90f13f6354e74e60b5fc4ce4dde99fb1\",\"object\":\"text_completion\",\"created\":2187767,\"model\":\"/llmmodels/models--ise-uiuc--Magicoder-S-DS-6.7B/snapshots/cff055b1e110cbe75c0c3759bd436299c6d6bb66\",\"choices\":[{\"index\":0,\"text\":\"\\n\\n\\n```sql\\n{{ config(materialized='table', unique_key='customer_id') }}\\n\\nwith customers as (\\n    select * from {{ ref('stg_customers') }}\\n),\\n\\nage_groups as (\\n    select \\n        customer_id,\\n        case \\n            when age >= 18 then 'Adult'\\n            else 'Minor'\\n        end as age_group\\n    from customers\\n)\\n\\nselect * from age_groups\\n```\\n\\nIn this model, we first define a CTE (Common Table Expression) named `customers` that selects from the `stg_customers` table. Then, we define another CTE named `age_groups` that categorizes customers into 'Adult' or 'Minor' based on their age. The `case` statement is used to assign the appropriate age group to each customer. Finally, we select from the `age_groups` CTE to create the final table.\\n\\nPlease replace `{{ ref('stg_customers') }}` with the actual name of your source table.\",\"logprobs\":null,\"finish_reason\":\"stop\"}],\"usage\":{\"prompt_tokens\":72,\"total_tokens\":314,\"completion_tokens\":242}}\n",
      "Execution time: 17.221912 seconds \n",
      "\n",
      "\n",
      "Prompt 4==> Response \n",
      " {\"id\":\"cmpl-7af1e12751f44f9ca3173afadd4f302b\",\"object\":\"text_completion\",\"created\":2187767,\"model\":\"/llmmodels/models--ise-uiuc--Magicoder-S-DS-6.7B/snapshots/cff055b1e110cbe75c0c3759bd436299c6d6bb66\",\"choices\":[{\"index\":0,\"text\":\"\\n\\n\\n```sql\\n{{\\n    config(\\n        target_database='analytics',\\n        target_schema='snapshots',\\n        unique_key='transaction_id',\\n        strategy='timestamp',\\n        updated_at='transaction_date',\\n    )\\n}}\\n\\nselect\\n    t.transaction_id,\\n    t.transaction_date,\\n    p.product_id,\\n    p.product_name,\\n    p.unit_price\\nfrom\\n    analytics.transactions as t\\nleft join\\n    analytics.products as p\\non\\n    t.product_id = p.product_id\\n```\\n\\nThis snapshot will capture changes in the 'transactions' table over time, allowing you to track changes in product sales data. The 'transaction_id' is used as the unique key to identify each transaction, and 'transaction_date' is used as the update timestamp. The snapshot will retrieve data from 'analytics.transactions' and left join it with 'analytics.products' on 'product_id', and include additional product details such as product name and unit price.\",\"logprobs\":null,\"finish_reason\":\"stop\"}],\"usage\":{\"prompt_tokens\":100,\"total_tokens\":345,\"completion_tokens\":245}}\n",
      "Execution time: 17.775650 seconds \n",
      "\n",
      "\n",
      "Prompt 13==> Response \n",
      " {\"id\":\"cmpl-cd007c4ab09643b2aab05884b1d76f21\",\"object\":\"text_completion\",\"created\":2187767,\"model\":\"/llmmodels/models--ise-uiuc--Magicoder-S-DS-6.7B/snapshots/cff055b1e110cbe75c0c3759bd436299c6d6bb66\",\"choices\":[{\"index\":0,\"text\":\"\\n\\n\\nAssuming you have two tables:\\n\\n1. `employees` table with columns: `employee_id`, `name`, `country`, `client_id`\\n2. `clients` table with columns: `client_id`, `client_name`, `country`\\n\\nThe SQL query would look something like this:\\n\\n```sql\\nSELECT e.employee_id, e.name, e.country, c.client_name, c.country\\nFROM employees e\\nJOIN clients c ON e.client_id = c.client_id\\nWHERE c.country = 'US'\\n```\\n\\nThis SQL statement will join the `employees` and `clients` tables on the `client_id` column, and then filter the results to only include rows where the `country` of the `clients` table is 'US'. The resulting table will contain the `employee_id`, `name`, `country` of the employee, `client_name`, and `country` of the client for all employees who work for US-based clients.\",\"logprobs\":null,\"finish_reason\":\"stop\"}],\"usage\":{\"prompt_tokens\":26,\"total_tokens\":268,\"completion_tokens\":242}}\n",
      "Execution time: 18.083509 seconds \n",
      "\n",
      "\n",
      "Prompt 0==> Response \n",
      " {\"id\":\"cmpl-44702a39a924426f8e256425fd2c7dcc\",\"object\":\"text_completion\",\"created\":2187767,\"model\":\"/llmmodels/models--ise-uiuc--Magicoder-S-DS-6.7B/snapshots/cff055b1e110cbe75c0c3759bd436299c6d6bb66\",\"choices\":[{\"index\":0,\"text\":\"\\n\\n\\n```sql\\n{{ config(materialized='view') }}\\n\\nwith customer_purchases as (\\n    select\\n        o.customer_id,\\n        p.product_id,\\n        count(*) as purchase_count\\n    from {{ ref('orders') }} o\\n    join {{ ref('order_items') }} oi on o.order_id = oi.order_id\\n    join {{ ref('products') }} p on oi.product_id = p.product_id\\n    group by o.customer_id, p.product_id\\n)\\n\\nselect\\n    cp.customer_id,\\n    cp.product_id,\\n    cp.purchase_count,\\n    p.product_name,\\n    p.product_category,\\n    p.product_price,\\n    p.product_description\\nfrom customer_purchases cp\\njoin {{ ref('products') }} p on cp.product_id = p.product_id\\n```\\n\\nThis view will generate a table of customer purchases for each product, including the product's name, category, price, and description. This can be used to generate product recommendations for each customer based on their purchase history.\",\"logprobs\":null,\"finish_reason\":\"stop\"}],\"usage\":{\"prompt_tokens\":55,\"total_tokens\":322,\"completion_tokens\":267}}\n",
      "Execution time: 19.578502 seconds \n",
      "\n",
      "\n",
      "Prompt 3==> Response \n",
      " {\"id\":\"cmpl-719e0ad939f442d2a8f774f44ad0e73d\",\"object\":\"text_completion\",\"created\":2187767,\"model\":\"/llmmodels/models--ise-uiuc--Magicoder-S-DS-6.7B/snapshots/cff055b1e110cbe75c0c3759bd436299c6d6bb66\",\"choices\":[{\"index\":0,\"text\":\".\\n\\nI have 3 tables:\\n1. Projects (project_id, project_name)\\n2. Tickets (ticket_id, project_id, priority, status)\\n3. Users (user_id, user_name)\\n\\nI want to generate a SQL query which will give me a list of projects with their critical priority tickets in the In-progress status.\\n\\nHere is what I have tried:\\n\\n```sql\\nSELECT p.project_name, t.ticket_id, t.priority, t.status\\nFROM Projects p\\nJOIN Tickets t ON p.project_id = t.project_id\\nWHERE t.priority = 'Critical' AND t.status = 'In-progress'\\n```\\n\\nThis query gives me a list of projects with their critical priority tickets in the In-progress status. However, it does not group the projects and tickets together. I want to get a list of projects with their critical priority tickets in the In-progress status, grouped by project.\\n\\nHow can I modify my SQL query to achieve this?\\n\\n\\nA: You can use GROUP BY clause to group the results by project_name. Here is the modified SQL query:\\n\\n```sql\\nSELECT p.project_name, COUNT(t.ticket_id) as critical_in_progress_tickets\\nFROM Projects p\\nJOIN Tickets t ON p.project_id = t.project_id\\nWHERE t.priority = 'Critical' AND t.status = 'In-progress'\\nGROUP BY p.project_name\\n```\\n\\nThis query will give you a list of projects with the count of critical priority tickets in the In-progress status for each project.\",\"logprobs\":null,\"finish_reason\":\"stop\"}],\"usage\":{\"prompt_tokens\":27,\"total_tokens\":405,\"completion_tokens\":378}}\n",
      "Execution time: 26.440418 seconds \n",
      "\n",
      "\n",
      "Prompt 7==> Response \n",
      " {\"id\":\"cmpl-99cebb71453647298234a5ce53540b6d\",\"object\":\"text_completion\",\"created\":2187767,\"model\":\"/llmmodels/models--ise-uiuc--Magicoder-S-DS-6.7B/snapshots/cff055b1e110cbe75c0c3759bd436299c6d6bb66\",\"choices\":[{\"index\":0,\"text\":\".\\n\\nI have 3 tables:\\n1. Projects (project_id, project_name)\\n2. Tickets (ticket_id, project_id, priority, status)\\n3. Users (user_id, user_name)\\n\\nI want to generate a SQL query which will give me a list of projects with their critical priority tickets in the In-progress status.\\n\\nHere is what I have tried:\\n\\n```sql\\nSELECT p.project_name, t.ticket_id, t.priority, t.status\\nFROM Projects p\\nJOIN Tickets t ON p.project_id = t.project_id\\nWHERE t.priority = 'Critical' AND t.status = 'In-progress'\\n```\\n\\nThis query gives me a list of projects with their critical priority tickets in the In-progress status. However, it does not group the projects and tickets together. I want to get a list of projects with their critical priority tickets in the In-progress status, grouped by project.\\n\\nHow can I modify my SQL query to achieve this?\\n\\n\\nA: You can use GROUP BY clause to group the results by project_name. Here is the modified SQL query:\\n\\n```sql\\nSELECT p.project_name, COUNT(t.ticket_id) as critical_in_progress_tickets\\nFROM Projects p\\nJOIN Tickets t ON p.project_id = t.project_id\\nWHERE t.priority = 'Critical' AND t.status = 'In-progress'\\nGROUP BY p.project_name\\n```\\n\\nThis query will give you a list of projects with the count of critical priority tickets in the In-progress status for each project.\",\"logprobs\":null,\"finish_reason\":\"stop\"}],\"usage\":{\"prompt_tokens\":27,\"total_tokens\":405,\"completion_tokens\":378}}\n",
      "Execution time: 26.772435 seconds \n",
      "\n",
      "\n"
     ]
    },
    {
     "name": "stdout",
     "output_type": "stream",
     "text": [
      "Prompt 2==> Response \n",
      " {\"id\":\"cmpl-730ab1b40bd94727bba2e50c5e044f7a\",\"object\":\"text_completion\",\"created\":2187767,\"model\":\"/llmmodels/models--ise-uiuc--Magicoder-S-DS-6.7B/snapshots/cff055b1e110cbe75c0c3759bd436299c6d6bb66\",\"choices\":[{\"index\":0,\"text\":\"\\n\\nI have two tables:\\n1. Employee:\\n   - id\\n   - name\\n   - manager_id\\n   - department_id\\n\\n2. Department:\\n   - id\\n   - name\\n\\nI want to generate a sql for dbt model which gives me count of employee under each manager along with their department details.\\n\\nHere is the SQL I'm trying to generate:\\n\\n```sql\\nSELECT \\n    m.name AS manager_name,\\n    d.name AS department_name,\\n    COUNT(e.id) AS employee_count\\nFROM \\n    Employee e\\nJOIN \\n    Employee m ON e.manager_id = m.id\\nJOIN \\n    Department d ON e.department_id = d.id\\nGROUP BY \\n    m.name, d.name\\n```\\n\\nThis SQL is not working in dbt because it's trying to join the Employee table with itself.\\n\\nHow can I modify this SQL to make it work in dbt?\\n\\n\\nA: You can use the ref function to reference the tables in your models.\\n\\nHere is how you can modify your SQL to make it work in dbt:\\n\\n```sql\\nSELECT \\n    m.name AS manager_name,\\n    d.name AS department_name,\\n    COUNT(e.id) AS employee_count\\nFROM \\n    {{ ref('Employee') }} e\\nJOIN \\n    {{ ref('Employee') }} m ON e.manager_id = m.id\\nJOIN \\n    {{ ref('Department') }} d ON e.department_id = d.id\\nGROUP BY \\n    m.name, d.name\\n```\\n\\nIn this modified SQL, the ref function is used to reference the tables Employee and Department. This will ensure that the tables are correctly referenced in the dbt environment.\\n\\nPlease note that this will only work if the tables are defined in your dbt project. If the tables are not defined in your dbt project, you will need to define them in your dbt project first.\",\"logprobs\":null,\"finish_reason\":\"stop\"}],\"usage\":{\"prompt_tokens\":24,\"total_tokens\":490,\"completion_tokens\":466}}\n",
      "Execution time: 34.497682 seconds \n",
      "\n",
      "\n",
      "Prompt 5==> Response \n",
      " {\"id\":\"cmpl-ccd42e0955d84e4fbc410e069129c40b\",\"object\":\"text_completion\",\"created\":2187767,\"model\":\"/llmmodels/models--ise-uiuc--Magicoder-S-DS-6.7B/snapshots/cff055b1e110cbe75c0c3759bd436299c6d6bb66\",\"choices\":[{\"index\":0,\"text\":\"\\n\\nA customer's most recent order is defined as the order with the highest order_date.\\n\\nThe model should return the following fields:\\n\\n- customer_id\\n- product_id\\n- product_name\\n- order_date\\n\\nThe model should be written in SQL.\\n\\nHere is the SQL query that I have written:\\n\\n```sql\\nWITH recent_orders AS (\\n    SELECT \\n        customer_id, \\n        product_id, \\n        product_name, \\n        order_date,\\n        ROW_NUMBER() OVER (PARTITION BY customer_id ORDER BY order_date DESC) as rn\\n    FROM \\n        orders\\n)\\nSELECT \\n    customer_id, \\n    product_id, \\n    product_name, \\n    order_date\\nFROM \\n    recent_orders\\nWHERE \\n    rn = 1\\n```\\n\\nThis query works, but it's not a dbt model. I need to convert this SQL query into a dbt model.\\n\\nHere is how I would write this in dbt:\\n\\n```sql\\n{{ config(materialized='table') }}\\n\\nWITH recent_orders AS (\\n    SELECT \\n        customer_id, \\n        product_id, \\n        product_name, \\n        order_date,\\n        ROW_NUMBER() OVER (PARTITION BY customer_id ORDER BY order_date DESC) as rn\\n    FROM \\n        {{ ref('orders') }}\\n)\\nSELECT \\n    customer_id, \\n    product_id, \\n    product_name, \\n    order_date\\nFROM \\n    recent_orders\\nWHERE \\n    rn = 1\\n```\\n\\nIn this dbt model, I'm assuming that the `orders` table is a reference to the `orders` table in the database. The `materialized='table'` attribute tells dbt to create a table from this model.\\n\\nPlease note that this is a simplified example and may not work as expected in a real-world scenario. You may need to adjust the model based on your specific database schema and requirements.\",\"logprobs\":null,\"finish_reason\":\"stop\"}],\"usage\":{\"prompt_tokens\":21,\"total_tokens\":498,\"completion_tokens\":477}}\n",
      "Execution time: 35.825094 seconds \n",
      "\n",
      "\n",
      "Prompt 10==> Response \n",
      " {\"id\":\"cmpl-dde6d49edcf84d1187a12616ee675a89\",\"object\":\"text_completion\",\"created\":2187767,\"model\":\"/llmmodels/models--ise-uiuc--Magicoder-S-DS-6.7B/snapshots/cff055b1e110cbe75c0c3759bd436299c6d6bb66\",\"choices\":[{\"index\":0,\"text\":\"\\n\\nA customer's most recent order is defined as the order with the highest order_date.\\n\\nThe model should return the following fields:\\n\\n- customer_id\\n- product_id\\n- product_name\\n- order_date\\n\\nThe model should be written in SQL.\\n\\nHere is the SQL query that I have written:\\n\\n```sql\\nWITH recent_orders AS (\\n    SELECT \\n        customer_id, \\n        product_id, \\n        product_name, \\n        order_date,\\n        ROW_NUMBER() OVER (PARTITION BY customer_id ORDER BY order_date DESC) as rn\\n    FROM \\n        orders\\n)\\nSELECT \\n    customer_id, \\n    product_id, \\n    product_name, \\n    order_date\\nFROM \\n    recent_orders\\nWHERE \\n    rn = 1\\n```\\n\\nThis query works, but it's not a dbt model. I need to convert this SQL query into a dbt model.\\n\\nHere is how I would write this in dbt:\\n\\n```sql\\n{{ config(materialized='table') }}\\n\\nWITH recent_orders AS (\\n    SELECT \\n        customer_id, \\n        product_id, \\n        product_name, \\n        order_date,\\n        ROW_NUMBER() OVER (PARTITION BY customer_id ORDER BY order_date DESC) as rn\\n    FROM \\n        {{ ref('orders') }}\\n)\\nSELECT \\n    customer_id, \\n    product_id, \\n    product_name, \\n    order_date\\nFROM \\n    recent_orders\\nWHERE \\n    rn = 1\\n```\\n\\nIn this dbt model, I'm using the `{{ ref('orders') }}` macro to reference the `orders` table. The `materialized='table'` line tells dbt to create a table from this model.\\n\\nPlease note that this is a simplified example and in a real-world scenario, you would likely need to handle edge cases and errors. For example, if a customer has not placed any orders, the query would fail. You might want to add a `LEFT JOIN` to a `customers` table to include customers who have not placed any orders.\",\"logprobs\":null,\"finish_reason\":\"stop\"}],\"usage\":{\"prompt_tokens\":21,\"total_tokens\":532,\"completion_tokens\":511}}\n",
      "Execution time: 37.770119 seconds \n",
      "\n",
      "\n",
      "Prompt 14==> Response \n",
      " {\"id\":\"cmpl-6e551a25f07347c1905dab5a79f97b1e\",\"object\":\"text_completion\",\"created\":2187767,\"model\":\"/llmmodels/models--ise-uiuc--Magicoder-S-DS-6.7B/snapshots/cff055b1e110cbe75c0c3759bd436299c6d6bb66\",\"choices\":[{\"index\":0,\"text\":\"\\n\\n\\n```sql\\n{{ config(materialized='view') }}\\n\\nwith customer_purchases as (\\n    select\\n        o.customer_id,\\n        p.product_id,\\n        count(*) as purchase_count\\n    from {{ ref('orders') }} o\\n    join {{ ref('order_items') }} oi on o.order_id = oi.order_id\\n    join {{ ref('products') }} p on oi.product_id = p.product_id\\n    group by o.customer_id, p.product_id\\n)\\n\\nselect\\n    cp.customer_id,\\n    cp.product_id,\\n    cp.purchase_count,\\n    p.product_name,\\n    p.product_category,\\n    p.product_price,\\n    p.product_description\\nfrom customer_purchases cp\\njoin {{ ref('products') }} p on cp.product_id = p.product_id\\n```\\n\\nThis view will generate a table of customer purchases for each product, including the product's name, category, price, and description. This can be used to generate product recommendations for each customer based on their purchase history.\",\"logprobs\":null,\"finish_reason\":\"stop\"}],\"usage\":{\"prompt_tokens\":55,\"total_tokens\":322,\"completion_tokens\":267}}\n",
      "Execution time: 38.235924 seconds \n",
      "\n",
      "\n"
     ]
    },
    {
     "ename": "KeyboardInterrupt",
     "evalue": "",
     "output_type": "error",
     "traceback": [
      "\u001b[0;31m---------------------------------------------------------------------------\u001b[0m",
      "\u001b[0;31mKeyboardInterrupt\u001b[0m                         Traceback (most recent call last)",
      "\u001b[0;32m<ipython-input-32-376453ce5957>\u001b[0m in \u001b[0;36m<module>\u001b[0;34m\u001b[0m\n\u001b[1;32m     10\u001b[0m             \u001b[0mfutures\u001b[0m \u001b[0;34m=\u001b[0m \u001b[0;34m[\u001b[0m\u001b[0mexecutor\u001b[0m\u001b[0;34m.\u001b[0m\u001b[0msubmit\u001b[0m\u001b[0;34m(\u001b[0m\u001b[0minference\u001b[0m\u001b[0;34m,\u001b[0m \u001b[0msrno\u001b[0m\u001b[0;34m,\u001b[0m \u001b[0;34m{\u001b[0m\u001b[0;34m**\u001b[0m\u001b[0mpayload\u001b[0m\u001b[0;34m,\u001b[0m \u001b[0;34m'prompt'\u001b[0m\u001b[0;34m:\u001b[0m \u001b[0mprompts\u001b[0m\u001b[0;34m[\u001b[0m\u001b[0mrandom\u001b[0m\u001b[0;34m.\u001b[0m\u001b[0mrandint\u001b[0m\u001b[0;34m(\u001b[0m\u001b[0;36m0\u001b[0m\u001b[0;34m,\u001b[0m\u001b[0;36m50\u001b[0m\u001b[0;34m)\u001b[0m\u001b[0;34m]\u001b[0m\u001b[0;34m}\u001b[0m\u001b[0;34m)\u001b[0m \u001b[0;32mfor\u001b[0m \u001b[0msrno\u001b[0m \u001b[0;32min\u001b[0m \u001b[0mrange\u001b[0m\u001b[0;34m(\u001b[0m\u001b[0;36m15\u001b[0m\u001b[0;34m)\u001b[0m\u001b[0;34m]\u001b[0m\u001b[0;34m\u001b[0m\u001b[0;34m\u001b[0m\u001b[0m\n\u001b[0;32m---> 11\u001b[0;31m             \u001b[0mconcurrent\u001b[0m\u001b[0;34m.\u001b[0m\u001b[0mfutures\u001b[0m\u001b[0;34m.\u001b[0m\u001b[0mwait\u001b[0m\u001b[0;34m(\u001b[0m\u001b[0mfutures\u001b[0m\u001b[0;34m)\u001b[0m\u001b[0;34m\u001b[0m\u001b[0;34m\u001b[0m\u001b[0m\n\u001b[0m\u001b[1;32m     12\u001b[0m \u001b[0;31m#     save_report(report_path, df)\u001b[0m\u001b[0;34m\u001b[0m\u001b[0;34m\u001b[0m\u001b[0;34m\u001b[0m\u001b[0m\n",
      "\u001b[0;32m/opt/conda/lib/python3.7/concurrent/futures/_base.py\u001b[0m in \u001b[0;36mwait\u001b[0;34m(fs, timeout, return_when)\u001b[0m\n\u001b[1;32m    300\u001b[0m \u001b[0;34m\u001b[0m\u001b[0m\n\u001b[0;32m--> 301\u001b[0;31m     \u001b[0mwaiter\u001b[0m\u001b[0;34m.\u001b[0m\u001b[0mevent\u001b[0m\u001b[0;34m.\u001b[0m\u001b[0mwait\u001b[0m\u001b[0;34m(\u001b[0m\u001b[0mtimeout\u001b[0m\u001b[0;34m)\u001b[0m\u001b[0;34m\u001b[0m\u001b[0;34m\u001b[0m\u001b[0m\n\u001b[0m\u001b[1;32m    302\u001b[0m     \u001b[0;32mfor\u001b[0m \u001b[0mf\u001b[0m \u001b[0;32min\u001b[0m \u001b[0mfs\u001b[0m\u001b[0;34m:\u001b[0m\u001b[0;34m\u001b[0m\u001b[0;34m\u001b[0m\u001b[0m\n",
      "\u001b[0;32m/opt/conda/lib/python3.7/threading.py\u001b[0m in \u001b[0;36mwait\u001b[0;34m(self, timeout)\u001b[0m\n\u001b[1;32m    551\u001b[0m             \u001b[0;32mif\u001b[0m \u001b[0;32mnot\u001b[0m \u001b[0msignaled\u001b[0m\u001b[0;34m:\u001b[0m\u001b[0;34m\u001b[0m\u001b[0;34m\u001b[0m\u001b[0m\n\u001b[0;32m--> 552\u001b[0;31m                 \u001b[0msignaled\u001b[0m \u001b[0;34m=\u001b[0m \u001b[0mself\u001b[0m\u001b[0;34m.\u001b[0m\u001b[0m_cond\u001b[0m\u001b[0;34m.\u001b[0m\u001b[0mwait\u001b[0m\u001b[0;34m(\u001b[0m\u001b[0mtimeout\u001b[0m\u001b[0;34m)\u001b[0m\u001b[0;34m\u001b[0m\u001b[0;34m\u001b[0m\u001b[0m\n\u001b[0m\u001b[1;32m    553\u001b[0m             \u001b[0;32mreturn\u001b[0m \u001b[0msignaled\u001b[0m\u001b[0;34m\u001b[0m\u001b[0;34m\u001b[0m\u001b[0m\n",
      "\u001b[0;32m/opt/conda/lib/python3.7/threading.py\u001b[0m in \u001b[0;36mwait\u001b[0;34m(self, timeout)\u001b[0m\n\u001b[1;32m    295\u001b[0m             \u001b[0;32mif\u001b[0m \u001b[0mtimeout\u001b[0m \u001b[0;32mis\u001b[0m \u001b[0;32mNone\u001b[0m\u001b[0;34m:\u001b[0m\u001b[0;34m\u001b[0m\u001b[0;34m\u001b[0m\u001b[0m\n\u001b[0;32m--> 296\u001b[0;31m                 \u001b[0mwaiter\u001b[0m\u001b[0;34m.\u001b[0m\u001b[0macquire\u001b[0m\u001b[0;34m(\u001b[0m\u001b[0;34m)\u001b[0m\u001b[0;34m\u001b[0m\u001b[0;34m\u001b[0m\u001b[0m\n\u001b[0m\u001b[1;32m    297\u001b[0m                 \u001b[0mgotit\u001b[0m \u001b[0;34m=\u001b[0m \u001b[0;32mTrue\u001b[0m\u001b[0;34m\u001b[0m\u001b[0;34m\u001b[0m\u001b[0m\n",
      "\u001b[0;31mKeyboardInterrupt\u001b[0m: ",
      "\nDuring handling of the above exception, another exception occurred:\n",
      "\u001b[0;31mKeyboardInterrupt\u001b[0m                         Traceback (most recent call last)",
      "\u001b[0;32m<ipython-input-32-376453ce5957>\u001b[0m in \u001b[0;36m<module>\u001b[0;34m\u001b[0m\n\u001b[1;32m      9\u001b[0m         \u001b[0;32mwith\u001b[0m \u001b[0mconcurrent\u001b[0m\u001b[0;34m.\u001b[0m\u001b[0mfutures\u001b[0m\u001b[0;34m.\u001b[0m\u001b[0mThreadPoolExecutor\u001b[0m\u001b[0;34m(\u001b[0m\u001b[0mmax_workers\u001b[0m\u001b[0;34m=\u001b[0m\u001b[0;36m15\u001b[0m\u001b[0;34m)\u001b[0m \u001b[0;32mas\u001b[0m \u001b[0mexecutor\u001b[0m\u001b[0;34m:\u001b[0m\u001b[0;34m\u001b[0m\u001b[0;34m\u001b[0m\u001b[0m\n\u001b[1;32m     10\u001b[0m             \u001b[0mfutures\u001b[0m \u001b[0;34m=\u001b[0m \u001b[0;34m[\u001b[0m\u001b[0mexecutor\u001b[0m\u001b[0;34m.\u001b[0m\u001b[0msubmit\u001b[0m\u001b[0;34m(\u001b[0m\u001b[0minference\u001b[0m\u001b[0;34m,\u001b[0m \u001b[0msrno\u001b[0m\u001b[0;34m,\u001b[0m \u001b[0;34m{\u001b[0m\u001b[0;34m**\u001b[0m\u001b[0mpayload\u001b[0m\u001b[0;34m,\u001b[0m \u001b[0;34m'prompt'\u001b[0m\u001b[0;34m:\u001b[0m \u001b[0mprompts\u001b[0m\u001b[0;34m[\u001b[0m\u001b[0mrandom\u001b[0m\u001b[0;34m.\u001b[0m\u001b[0mrandint\u001b[0m\u001b[0;34m(\u001b[0m\u001b[0;36m0\u001b[0m\u001b[0;34m,\u001b[0m\u001b[0;36m50\u001b[0m\u001b[0;34m)\u001b[0m\u001b[0;34m]\u001b[0m\u001b[0;34m}\u001b[0m\u001b[0;34m)\u001b[0m \u001b[0;32mfor\u001b[0m \u001b[0msrno\u001b[0m \u001b[0;32min\u001b[0m \u001b[0mrange\u001b[0m\u001b[0;34m(\u001b[0m\u001b[0;36m15\u001b[0m\u001b[0;34m)\u001b[0m\u001b[0;34m]\u001b[0m\u001b[0;34m\u001b[0m\u001b[0;34m\u001b[0m\u001b[0m\n\u001b[0;32m---> 11\u001b[0;31m             \u001b[0mconcurrent\u001b[0m\u001b[0;34m.\u001b[0m\u001b[0mfutures\u001b[0m\u001b[0;34m.\u001b[0m\u001b[0mwait\u001b[0m\u001b[0;34m(\u001b[0m\u001b[0mfutures\u001b[0m\u001b[0;34m)\u001b[0m\u001b[0;34m\u001b[0m\u001b[0;34m\u001b[0m\u001b[0m\n\u001b[0m\u001b[1;32m     12\u001b[0m \u001b[0;31m#     save_report(report_path, df)\u001b[0m\u001b[0;34m\u001b[0m\u001b[0;34m\u001b[0m\u001b[0;34m\u001b[0m\u001b[0m\n",
      "\u001b[0;32m/opt/conda/lib/python3.7/concurrent/futures/_base.py\u001b[0m in \u001b[0;36m__exit__\u001b[0;34m(self, exc_type, exc_val, exc_tb)\u001b[0m\n\u001b[1;32m    621\u001b[0m \u001b[0;34m\u001b[0m\u001b[0m\n\u001b[1;32m    622\u001b[0m     \u001b[0;32mdef\u001b[0m \u001b[0m__exit__\u001b[0m\u001b[0;34m(\u001b[0m\u001b[0mself\u001b[0m\u001b[0;34m,\u001b[0m \u001b[0mexc_type\u001b[0m\u001b[0;34m,\u001b[0m \u001b[0mexc_val\u001b[0m\u001b[0;34m,\u001b[0m \u001b[0mexc_tb\u001b[0m\u001b[0;34m)\u001b[0m\u001b[0;34m:\u001b[0m\u001b[0;34m\u001b[0m\u001b[0;34m\u001b[0m\u001b[0m\n\u001b[0;32m--> 623\u001b[0;31m         \u001b[0mself\u001b[0m\u001b[0;34m.\u001b[0m\u001b[0mshutdown\u001b[0m\u001b[0;34m(\u001b[0m\u001b[0mwait\u001b[0m\u001b[0;34m=\u001b[0m\u001b[0;32mTrue\u001b[0m\u001b[0;34m)\u001b[0m\u001b[0;34m\u001b[0m\u001b[0;34m\u001b[0m\u001b[0m\n\u001b[0m\u001b[1;32m    624\u001b[0m         \u001b[0;32mreturn\u001b[0m \u001b[0;32mFalse\u001b[0m\u001b[0;34m\u001b[0m\u001b[0;34m\u001b[0m\u001b[0m\n\u001b[1;32m    625\u001b[0m \u001b[0;34m\u001b[0m\u001b[0m\n",
      "\u001b[0;32m/opt/conda/lib/python3.7/concurrent/futures/thread.py\u001b[0m in \u001b[0;36mshutdown\u001b[0;34m(self, wait)\u001b[0m\n\u001b[1;32m    214\u001b[0m         \u001b[0;32mif\u001b[0m \u001b[0mwait\u001b[0m\u001b[0;34m:\u001b[0m\u001b[0;34m\u001b[0m\u001b[0;34m\u001b[0m\u001b[0m\n\u001b[1;32m    215\u001b[0m             \u001b[0;32mfor\u001b[0m \u001b[0mt\u001b[0m \u001b[0;32min\u001b[0m \u001b[0mself\u001b[0m\u001b[0;34m.\u001b[0m\u001b[0m_threads\u001b[0m\u001b[0;34m:\u001b[0m\u001b[0;34m\u001b[0m\u001b[0;34m\u001b[0m\u001b[0m\n\u001b[0;32m--> 216\u001b[0;31m                 \u001b[0mt\u001b[0m\u001b[0;34m.\u001b[0m\u001b[0mjoin\u001b[0m\u001b[0;34m(\u001b[0m\u001b[0;34m)\u001b[0m\u001b[0;34m\u001b[0m\u001b[0;34m\u001b[0m\u001b[0m\n\u001b[0m\u001b[1;32m    217\u001b[0m     \u001b[0mshutdown\u001b[0m\u001b[0;34m.\u001b[0m\u001b[0m__doc__\u001b[0m \u001b[0;34m=\u001b[0m \u001b[0m_base\u001b[0m\u001b[0;34m.\u001b[0m\u001b[0mExecutor\u001b[0m\u001b[0;34m.\u001b[0m\u001b[0mshutdown\u001b[0m\u001b[0;34m.\u001b[0m\u001b[0m__doc__\u001b[0m\u001b[0;34m\u001b[0m\u001b[0;34m\u001b[0m\u001b[0m\n",
      "\u001b[0;32m/opt/conda/lib/python3.7/threading.py\u001b[0m in \u001b[0;36mjoin\u001b[0;34m(self, timeout)\u001b[0m\n\u001b[1;32m   1042\u001b[0m \u001b[0;34m\u001b[0m\u001b[0m\n\u001b[1;32m   1043\u001b[0m         \u001b[0;32mif\u001b[0m \u001b[0mtimeout\u001b[0m \u001b[0;32mis\u001b[0m \u001b[0;32mNone\u001b[0m\u001b[0;34m:\u001b[0m\u001b[0;34m\u001b[0m\u001b[0;34m\u001b[0m\u001b[0m\n\u001b[0;32m-> 1044\u001b[0;31m             \u001b[0mself\u001b[0m\u001b[0;34m.\u001b[0m\u001b[0m_wait_for_tstate_lock\u001b[0m\u001b[0;34m(\u001b[0m\u001b[0;34m)\u001b[0m\u001b[0;34m\u001b[0m\u001b[0;34m\u001b[0m\u001b[0m\n\u001b[0m\u001b[1;32m   1045\u001b[0m         \u001b[0;32melse\u001b[0m\u001b[0;34m:\u001b[0m\u001b[0;34m\u001b[0m\u001b[0;34m\u001b[0m\u001b[0m\n\u001b[1;32m   1046\u001b[0m             \u001b[0;31m# the behavior of a negative timeout isn't documented, but\u001b[0m\u001b[0;34m\u001b[0m\u001b[0;34m\u001b[0m\u001b[0;34m\u001b[0m\u001b[0m\n",
      "\u001b[0;32m/opt/conda/lib/python3.7/threading.py\u001b[0m in \u001b[0;36m_wait_for_tstate_lock\u001b[0;34m(self, block, timeout)\u001b[0m\n\u001b[1;32m   1058\u001b[0m         \u001b[0;32mif\u001b[0m \u001b[0mlock\u001b[0m \u001b[0;32mis\u001b[0m \u001b[0;32mNone\u001b[0m\u001b[0;34m:\u001b[0m  \u001b[0;31m# already determined that the C code is done\u001b[0m\u001b[0;34m\u001b[0m\u001b[0;34m\u001b[0m\u001b[0m\n\u001b[1;32m   1059\u001b[0m             \u001b[0;32massert\u001b[0m \u001b[0mself\u001b[0m\u001b[0;34m.\u001b[0m\u001b[0m_is_stopped\u001b[0m\u001b[0;34m\u001b[0m\u001b[0;34m\u001b[0m\u001b[0m\n\u001b[0;32m-> 1060\u001b[0;31m         \u001b[0;32melif\u001b[0m \u001b[0mlock\u001b[0m\u001b[0;34m.\u001b[0m\u001b[0macquire\u001b[0m\u001b[0;34m(\u001b[0m\u001b[0mblock\u001b[0m\u001b[0;34m,\u001b[0m \u001b[0mtimeout\u001b[0m\u001b[0;34m)\u001b[0m\u001b[0;34m:\u001b[0m\u001b[0;34m\u001b[0m\u001b[0;34m\u001b[0m\u001b[0m\n\u001b[0m\u001b[1;32m   1061\u001b[0m             \u001b[0mlock\u001b[0m\u001b[0;34m.\u001b[0m\u001b[0mrelease\u001b[0m\u001b[0;34m(\u001b[0m\u001b[0;34m)\u001b[0m\u001b[0;34m\u001b[0m\u001b[0;34m\u001b[0m\u001b[0m\n\u001b[1;32m   1062\u001b[0m             \u001b[0mself\u001b[0m\u001b[0;34m.\u001b[0m\u001b[0m_stop\u001b[0m\u001b[0;34m(\u001b[0m\u001b[0;34m)\u001b[0m\u001b[0;34m\u001b[0m\u001b[0;34m\u001b[0m\u001b[0m\n",
      "\u001b[0;31mKeyboardInterrupt\u001b[0m: "
     ]
    }
   ],
   "source": [
    "# #Model Inference(Request) Same Payload\n",
    "if __name__ == \"__main__\":\n",
    "    for i in range(5):\n",
    "        print(f\"loop {i}+++++++++++++++++++++++++++++\")\n",
    "        with concurrent.futures.ThreadPoolExecutor(max_workers=1) as executor:\n",
    "            futures = [executor.submit(inference, srno, {**payload, 'prompt': prompts[random.randint(0,50)]}) for srno in range(1)]\n",
    "            concurrent.futures.wait(futures)\n",
    "#     save_report(report_path, df)"
   ]
  },
  {
   "cell_type": "code",
   "execution_count": null,
   "id": "ba00e83d",
   "metadata": {},
   "outputs": [],
   "source": []
  }
 ],
 "metadata": {
  "kernelspec": {
   "display_name": "Python 3",
   "language": "python",
   "name": "python3"
  },
  "language_info": {
   "codemirror_mode": {
    "name": "ipython",
    "version": 3
   },
   "file_extension": ".py",
   "mimetype": "text/x-python",
   "name": "python",
   "nbconvert_exporter": "python",
   "pygments_lexer": "ipython3",
   "version": "3.7.10"
  }
 },
 "nbformat": 4,
 "nbformat_minor": 5
}
