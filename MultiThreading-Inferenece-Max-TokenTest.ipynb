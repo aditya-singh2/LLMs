{
 "cells": [
  {
   "cell_type": "code",
   "execution_count": 1,
   "id": "85065d82",
   "metadata": {},
   "outputs": [],
   "source": [
    "import requests\n",
    "import time, random\n",
    "import os, json\n",
    "import csv\n",
    "import concurrent.futures\n",
    "# from functools import partial\n",
    "import pandas as pd"
   ]
  },
  {
   "cell_type": "code",
   "execution_count": 2,
   "id": "ddec33f0",
   "metadata": {},
   "outputs": [],
   "source": [
    "url = \"http://vllm-serving-service:8888/v1/completions\"\n",
    "request_payload_file = '/data/Promptshett_codegen_50.txt'\n",
    "# report_path = '/data/vLLM_Base_1gpu.csv'\n",
    "df = pd.DataFrame(columns=['Prompt_No', 'Prompt', 'Response', 'Response_status', 'Time (seconds)'])"
   ]
  },
  {
   "cell_type": "code",
   "execution_count": 3,
   "id": "76229548",
   "metadata": {},
   "outputs": [],
   "source": [
    "context_code_gen = \"\"\"Generate a dbt model which gives me month-wise sum of payment done by each customer.\n",
    "    {\n",
    "    \"schema\": [\n",
    "        {\n",
    "            \"Table Name\": \"customers\",\n",
    "            \"Column Names\": [\n",
    "\t\t\t\t\"customer_id\",\n",
    "\t\t\t\t\"name\",\n",
    "\t\t\t\t\"email\",\n",
    "\t\t\t\t\"phone_number\",\n",
    "\t\t\t\t\"address\",\n",
    "\t\t\t\t\"registration_date\"\n",
    "            ]\n",
    "        },\n",
    "        {\n",
    "            \"Table Name\": \"orders\",\n",
    "            \"Column Names\": [\n",
    "\t\t\t\t\"order_id\",\n",
    "\t\t\t\t\"customer_id\",\n",
    "\t\t\t\t\"order_date\",\n",
    "\t\t\t\t\"total_amount\",\n",
    "\t\t\t\t\"status\"\n",
    "            ]\n",
    "        },\n",
    "\t\t{\n",
    "            \"Table Name\": \"payments\",\n",
    "            \"Column Names\": [\n",
    "                \"payment_id\",\n",
    "                \"order_id\",\n",
    "                \"payment_date\",\n",
    "                \"amount\",\n",
    "                \"payment_method\"\n",
    "            ]\n",
    "        }\n",
    "    ],\n",
    "    \"task_type\": \"code_generation\"\n",
    "}\n",
    "{{ config(\n",
    "    materialized = 'view'\n",
    ") }}\n",
    "\n",
    "WITH monthly_payments as (\n",
    "        SELECT\n",
    "          c.customer_id,\n",
    "          DATE_TRUNC('month', p.payment_date) as payment_month,\n",
    "          SUM(p.amount) as total_payment\n",
    "        FROM {{ ref('stg_customers') }} c\n",
    "        INNER JOIN {{ ref('stg_orders') }} o ON c.customer_id = o.customer_id\n",
    "        INNER JOIN {{ ref('stg_payments') }} p ON o.order_id = p.order_id\n",
    "        GROUP BY c.customer_id, DATE_TRUNC('month', p.payment_date)\n",
    "    )\n",
    "final as (\t  \n",
    "      SELECT\n",
    "        customer_id,\n",
    "        payment_month,\n",
    "        total_payment\n",
    "      FROM monthly_payments\n",
    "\t)\n",
    "select * from final\"\"\"\n",
    "\n",
    "question_cod_gen = \"\"\"Generate a sql for dbt model which gives me project-wise details of employee who works for US-based clients.\n",
    "\"\"\""
   ]
  },
  {
   "cell_type": "code",
   "execution_count": 4,
   "id": "f674cf57",
   "metadata": {},
   "outputs": [],
   "source": [
    "prompt =f\"\"\"You are an exceptionally intelligent DBT coding assistant that consistently delivers accurate and reliable responses to user instructions. Make sure you follow these rules:\n",
    "               1. Use context to understand some relevant code examples for the given question.\n",
    "               2. Use Schema provided in context section\n",
    "               3. Generate only DBT code\n",
    "               4. Do not use macros\n",
    "               5. Provide explaination for the generated code\n",
    "                @@ Instruction\n",
    " \n",
    "                Context:\n",
    "                {context_code_gen}\n",
    " \n",
    "                Question:\n",
    "                {question_cod_gen}\n",
    " \n",
    "                @@ Response\"\"\""
   ]
  },
  {
   "cell_type": "code",
   "execution_count": 5,
   "id": "46950ea1",
   "metadata": {},
   "outputs": [
    {
     "data": {
      "text/plain": [
       "2139"
      ]
     },
     "execution_count": 5,
     "metadata": {},
     "output_type": "execute_result"
    }
   ],
   "source": [
    "len(prompt)"
   ]
  },
  {
   "cell_type": "code",
   "execution_count": 16,
   "id": "201050d7",
   "metadata": {},
   "outputs": [],
   "source": [
    "# payload = {\"prompt\": \"Problem: Create an animated dropdown menu in CSS that appears when a button is clicked.Input: Button element selector, dropdown menu element selector.Output: None (animate the dropdown menu).\", \n",
    "#            \"max_tokens\": 200,\n",
    "#            \"temperature\": 0,\n",
    "#            \"model\": \"/llmmodels/models--ise-uiuc--Magicoder-S-DS-6.7B/snapshots/cff055b1e110cbe75c0c3759bd436299c6d6bb66\"}"
   ]
  },
  {
   "cell_type": "code",
   "execution_count": 7,
   "id": "fd035b37",
   "metadata": {},
   "outputs": [],
   "source": [
    "payload = {\"prompt\": prompt, \n",
    "           \"max_tokens\": {},\n",
    "           \"temperature\": 0,\n",
    "           \"model\": \"/llmmodels/models--ise-uiuc--Magicoder-S-DS-6.7B/snapshots/cff055b1e110cbe75c0c3759bd436299c6d6bb66\"}"
   ]
  },
  {
   "cell_type": "code",
   "execution_count": 8,
   "id": "90a0dade",
   "metadata": {},
   "outputs": [],
   "source": [
    "def my_decorator(func):\n",
    "    def calculate_execution_time(*args, **kwargs):\n",
    "        global df\n",
    "        start_time = time.time()\n",
    "        result, a,b= func(*args, **kwargs)\n",
    "        end_time = time.time()\n",
    "        execution_time = end_time - start_time\n",
    "        data = {'Prompt_No':b,'Prompt':a,'Response':result.text, 'Response_status':result.status_code, 'Time (seconds)':f'{execution_time:.6f}'}\n",
    "        df = df.append(data, ignore_index=True)\n",
    "        print(f\"Execution time: {execution_time:.6f} seconds \\n\\n\")\n",
    "        return result,a,b\n",
    "    return calculate_execution_time"
   ]
  },
  {
   "cell_type": "code",
   "execution_count": 9,
   "id": "4f946126",
   "metadata": {},
   "outputs": [],
   "source": [
    "def save_report(file_path, df):\n",
    "#     print(\"Saving report\\n\", df)\n",
    "    df.to_csv(file_path, index=False)"
   ]
  },
  {
   "cell_type": "code",
   "execution_count": 10,
   "id": "3ed2a78a",
   "metadata": {},
   "outputs": [],
   "source": [
    "@my_decorator\n",
    "def inference(prompt_index, payload_data=None):\n",
    "    headers = {\n",
    "        'Content-Type': 'application/json'\n",
    "    }\n",
    "    \n",
    "    response = requests.request(\"POST\", url, headers=headers, json=payload_data)\n",
    "#     print(f\"Prompt {prompt_index}==> {payload_data['prompt']} \\n {response.text}\")\n",
    "    print(f\"Prompt {prompt_index}==> Response \\n {response.text}\")\n",
    "    return response, payload_data['prompt'], prompt_index\n",
    "    \n",
    "        "
   ]
  },
  {
   "cell_type": "code",
   "execution_count": 11,
   "id": "78831f04",
   "metadata": {},
   "outputs": [
    {
     "name": "stdout",
     "output_type": "stream",
     "text": [
      "loop 0+++++++++++++++++++++++++++++\n",
      "Prompt 0==> Response \n",
      " {\"object\":\"error\",\"message\":\"This model's maximum context length is 4096 tokens. However, you requested 4384 tokens (584 in the messages, 3800 in the completion). Please reduce the length of the messages or completion.\",\"type\":\"BadRequestError\",\"param\":null,\"code\":400}\n",
      "Execution time: 0.068971 seconds \n",
      "\n",
      "\n",
      "loop 1+++++++++++++++++++++++++++++\n",
      "Prompt 0==> Response \n",
      " {\"object\":\"error\",\"message\":\"This model's maximum context length is 4096 tokens. However, you requested 4384 tokens (584 in the messages, 3800 in the completion). Please reduce the length of the messages or completion.\",\"type\":\"BadRequestError\",\"param\":null,\"code\":400}\n",
      "Execution time: 0.067798 seconds \n",
      "\n",
      "\n",
      "loop 2+++++++++++++++++++++++++++++\n",
      "Prompt 0==> Response \n",
      " {\"object\":\"error\",\"message\":\"This model's maximum context length is 4096 tokens. However, you requested 4384 tokens (584 in the messages, 3800 in the completion). Please reduce the length of the messages or completion.\",\"type\":\"BadRequestError\",\"param\":null,\"code\":400}\n",
      "Execution time: 0.052023 seconds \n",
      "\n",
      "\n",
      "loop 3+++++++++++++++++++++++++++++\n",
      "Prompt 0==> Response \n",
      " {\"object\":\"error\",\"message\":\"This model's maximum context length is 4096 tokens. However, you requested 4384 tokens (584 in the messages, 3800 in the completion). Please reduce the length of the messages or completion.\",\"type\":\"BadRequestError\",\"param\":null,\"code\":400}\n",
      "Execution time: 0.041848 seconds \n",
      "\n",
      "\n",
      "loop 4+++++++++++++++++++++++++++++\n",
      "Prompt 0==> Response \n",
      " {\"object\":\"error\",\"message\":\"This model's maximum context length is 4096 tokens. However, you requested 4384 tokens (584 in the messages, 3800 in the completion). Please reduce the length of the messages or completion.\",\"type\":\"BadRequestError\",\"param\":null,\"code\":400}\n",
      "Execution time: 0.051874 seconds \n",
      "\n",
      "\n"
     ]
    }
   ],
   "source": [
    "# #Model Inference(Request) Same Payload\n",
    "if __name__ == \"__main__\":\n",
    "    for i in range(5):\n",
    "        print(f\"loop {i}+++++++++++++++++++++++++++++\")\n",
    "        with concurrent.futures.ThreadPoolExecutor(max_workers=1) as executor:\n",
    "            futures = [executor.submit(inference, srno, payload) for srno in range(1)]\n",
    "            concurrent.futures.wait(futures)\n",
    "#     save_report(report_path, df)"
   ]
  },
  {
   "cell_type": "code",
   "execution_count": null,
   "id": "ba00e83d",
   "metadata": {},
   "outputs": [],
   "source": []
  }
 ],
 "metadata": {
  "kernelspec": {
   "display_name": "Python 3",
   "language": "python",
   "name": "python3"
  },
  "language_info": {
   "codemirror_mode": {
    "name": "ipython",
    "version": 3
   },
   "file_extension": ".py",
   "mimetype": "text/x-python",
   "name": "python",
   "nbconvert_exporter": "python",
   "pygments_lexer": "ipython3",
   "version": "3.7.10"
  }
 },
 "nbformat": 4,
 "nbformat_minor": 5
}
