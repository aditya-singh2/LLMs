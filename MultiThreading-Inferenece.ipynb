{
 "cells": [
  {
   "cell_type": "code",
   "execution_count": 37,
   "id": "85065d82",
   "metadata": {},
   "outputs": [],
   "source": [
    "import requests\n",
    "import time\n",
    "import os, json\n",
    "import csv\n",
    "import concurrent.futures\n",
    "# from functools import partial\n",
    "import pandas as pd"
   ]
  },
  {
   "cell_type": "code",
   "execution_count": 38,
   "id": "ddec33f0",
   "metadata": {},
   "outputs": [],
   "source": [
    "# url = \"https://refract.fosfor.com/magiccodermodel/6188a3e2-bc43-444e-bfaa-8159fca71b3a/score\"\n",
    "url = \"http://vllm-serving-service:8888/v1/completions\"\n",
    "# lltoken = \"eyJhbGciOiJSUzI1NiIsInR5cCIgOiAiSldUIiwia2lkIiA6ICJ4WTdTd3k5UE1xaXRDQmNSMm5qcVl6bmoxS3NqZzV3TmdOV0xDVzdyUkhvIn0.eyJleHAiOjE3MzA4ODM3MzgsImlhdCI6MTY5OTI2MTMzOCwiYXV0aF90aW1lIjoxNjk5MjUyMDQ0LCJqdGkiOiJmN2EzMzQwYy1kNDQwLTRlMzUtYjk2ZS04YzBiMTc0Y2RhODAiLCJpc3MiOiJodHRwczovL3JlZnJhY3QtbG9naW4uZm9zZm9yLmNvbS9hdXRoL3JlYWxtcy9tb3NhaWMiLCJhdWQiOlsibW9zYWljLWdhdGVrZWVwZXIiLCJhY2NvdW50Il0sInN1YiI6IjZjMjU4MWU3LWZmMTItNDljNy04MDJmLWI2ZjQzOWQxZDIwMSIsInR5cCI6IkJlYXJlciIsImF6cCI6Im1vc2FpYy1nYXRla2VlcGVyIiwic2Vzc2lvbl9zdGF0ZSI6IjBhY2Y3YWZhLTVmMzMtNGRhZS05OGM3LTQyZDQwYTdlZTM2NiIsImFsbG93ZWQtb3JpZ2lucyI6WyIqIl0sInJlYWxtX2FjY2VzcyI6eyJyb2xlcyI6WyJNTE9QUyIsImxvbmdfbGl2ZWRfdG9rZW4iLCJzcGVjdHJhLWRldmVsb3BlciIsImRlZmF1bHQtcm9sZXMtbW9zYWljIiwicmVmcmFjdC1kZXZlbG9wZXIiLCJvZmZsaW5lX2FjY2VzcyIsImFkbWluIiwidW1hX2F1dGhvcml6YXRpb24iLCJyZWZyYWN0LWFkbWluIl19LCJyZXNvdXJjZV9hY2Nlc3MiOnsiYWNjb3VudCI6eyJyb2xlcyI6WyJtYW5hZ2UtYWNjb3VudCIsIm1hbmFnZS1hY2NvdW50LWxpbmtzIiwidmlldy1wcm9maWxlIl19fSwic2NvcGUiOiJvcGVuaWQgZW1haWwgcHJvZmlsZSIsInNpZCI6IjBhY2Y3YWZhLTVmMzMtNGRhZS05OGM3LTQyZDQwYTdlZTM2NiIsImVtYWlsX3ZlcmlmaWVkIjp0cnVlLCJuYW1lIjoiUmVmcmFjdCBCRlNJIiwicHJlZmVycmVkX3VzZXJuYW1lIjoicmVmcmFjdC5iZnNpQGZvc2Zvci5jb20iLCJnaXZlbl9uYW1lIjoiUmVmcmFjdCIsImZhbWlseV9uYW1lIjoiQkZTSSIsImVtYWlsIjoicmVmcmFjdC5iZnNpQGZvc2Zvci5jb20ifQ.b6SYLgjo9Veo3GmJ8eZjCTNupQjpfMhzsoXdYjWwRtvRnNjBfx0gOqcugO9OcGn-mm8wwpSGI5uiL30-I6SdWBjsf1ur6GztoX7j-nP_3SrJJn3UhNNqIO8LbsPi5gGRTzWtnfjz92BF1YaCXxQwPY0P_aa8vJ6JxZz5Uctn9aIPIJZZnnjC_GPXtXurmshM_tEN2kwCjhEyr7wYzRqUoMtBGfpLjZREBzgZY-x6JyYiXNtycb1d6PFcCXf7nJVV8ienEC_x7OuciDzfeqd-SQnImvAHH7rqFdi9smBN08AbkDS2uAbMrokHrmbiBpaimrR013VwCWz2KL5QYlWleA\"\n",
    "request_payload_file = '/data/Magicoder_payloads.txt'\n",
    "report_path = '/data/vLLM_5Concurrency_1gpu.csv'\n",
    "df = pd.DataFrame(columns=['Response', 'Response_status', 'Time (seconds)'])"
   ]
  },
  {
   "cell_type": "code",
   "execution_count": 39,
   "id": "201050d7",
   "metadata": {},
   "outputs": [],
   "source": [
    "payload = {\"prompt\": \"Problem: Write a function in python to check if two strings are anagrams.Input: Strings s1 and s2.Output: Boolean, indicating whether s1 and s2 are anagrams.\", \n",
    "           \"max_tokens\": 200,\n",
    "           \"temperature\": 0,\n",
    "           \"model\": \"/llmmodels/models--ise-uiuc--Magicoder-S-DS-6.7B/snapshots/cff055b1e110cbe75c0c3759bd436299c6d6bb66\"}"
   ]
  },
  {
   "cell_type": "code",
   "execution_count": 40,
   "id": "30c55110",
   "metadata": {},
   "outputs": [],
   "source": [
    "def read_payloads(file_path):\n",
    "    with open(file_path, 'r') as file:\n",
    "        for line in file:\n",
    "            yield line.strip()"
   ]
  },
  {
   "cell_type": "code",
   "execution_count": 47,
   "id": "90a0dade",
   "metadata": {},
   "outputs": [],
   "source": [
    "def my_decorator(func):\n",
    "    def calculate_execution_time(*args, **kwargs):\n",
    "        start_time = time.time()\n",
    "        result, df = func(*args, **kwargs)\n",
    "        end_time = time.time()\n",
    "        execution_time = end_time - start_time\n",
    "        data = {'Response':result.text, 'Response_status':result.status_code, 'Time (seconds)':f'{execution_time:.6f}'}\n",
    "        print(data)\n",
    "        df = df.append(data, ignore_index=True)\n",
    "        print(f\"Execution time of {result}: {execution_time:.6f} seconds - Response===> {result.text} \\n\\n\")\n",
    "        print(df)\n",
    "        return result\n",
    "    return calculate_execution_time"
   ]
  },
  {
   "cell_type": "code",
   "execution_count": 48,
   "id": "4f946126",
   "metadata": {},
   "outputs": [],
   "source": [
    "def save_report(file_path, df):\n",
    "    file_exists = os.path.exists(file_path)\n",
    "    df.to_csv(file_path, index=False)"
   ]
  },
  {
   "cell_type": "code",
   "execution_count": 49,
   "id": "3ed2a78a",
   "metadata": {},
   "outputs": [
    {
     "name": "stdout",
     "output_type": "stream",
     "text": [
      "Prompt==> Problem: Write a function in python to check if two strings are anagrams.Input: Strings s1 and s2.Output: Boolean, indicating whether s1 and s2 are anagrams. \n",
      " {\"id\":\"cmpl-0769afe148564381990f2803fa490d85\",\"object\":\"text_completion\",\"created\":433722,\"model\":\"/llmmodels/models--ise-uiuc--Magicoder-S-DS-6.7B/snapshots/cff055b1e110cbe75c0c3759bd436299c6d6bb66\",\"choices\":[{\"index\":0,\"text\":\"\\nAn anagram is a word or phrase formed by rearranging the letters of a different word or phrase, typically using all the original letters exactly once.\\n\\ndef are_anagrams(s1, s2):\\n    return sorted(s1) == sorted(s2)\\n\\n# Test the function\\nprint(are_anagrams(\\\"listen\\\", \\\"silent\\\"))  # True\\nprint(are_anagrams(\\\"hello\\\", \\\"world\\\"))  # False\",\"logprobs\":null,\"finish_reason\":\"stop\"}],\"usage\":{\"prompt_tokens\":45,\"total_tokens\":148,\"completion_tokens\":103}} \n",
      "\n",
      "\n",
      "{'Response': '{\"id\":\"cmpl-0769afe148564381990f2803fa490d85\",\"object\":\"text_completion\",\"created\":433722,\"model\":\"/llmmodels/models--ise-uiuc--Magicoder-S-DS-6.7B/snapshots/cff055b1e110cbe75c0c3759bd436299c6d6bb66\",\"choices\":[{\"index\":0,\"text\":\"\\\\nAn anagram is a word or phrase formed by rearranging the letters of a different word or phrase, typically using all the original letters exactly once.\\\\n\\\\ndef are_anagrams(s1, s2):\\\\n    return sorted(s1) == sorted(s2)\\\\n\\\\n# Test the function\\\\nprint(are_anagrams(\\\\\"listen\\\\\", \\\\\"silent\\\\\"))  # True\\\\nprint(are_anagrams(\\\\\"hello\\\\\", \\\\\"world\\\\\"))  # False\",\"logprobs\":null,\"finish_reason\":\"stop\"}],\"usage\":{\"prompt_tokens\":45,\"total_tokens\":148,\"completion_tokens\":103}}', 'Response_status': 200, 'Time (seconds)': '5.147787'}\n",
      "Execution time of <Response [200]>: 5.147787 seconds - Response===> {\"id\":\"cmpl-0769afe148564381990f2803fa490d85\",\"object\":\"text_completion\",\"created\":433722,\"model\":\"/llmmodels/models--ise-uiuc--Magicoder-S-DS-6.7B/snapshots/cff055b1e110cbe75c0c3759bd436299c6d6bb66\",\"choices\":[{\"index\":0,\"text\":\"\\nAn anagram is a word or phrase formed by rearranging the letters of a different word or phrase, typically using all the original letters exactly once.\\n\\ndef are_anagrams(s1, s2):\\n    return sorted(s1) == sorted(s2)\\n\\n# Test the function\\nprint(are_anagrams(\\\"listen\\\", \\\"silent\\\"))  # True\\nprint(are_anagrams(\\\"hello\\\", \\\"world\\\"))  # False\",\"logprobs\":null,\"finish_reason\":\"stop\"}],\"usage\":{\"prompt_tokens\":45,\"total_tokens\":148,\"completion_tokens\":103}} \n",
      "\n",
      "\n",
      "                                            Response Response_status  \\\n",
      "0  {\"id\":\"cmpl-0769afe148564381990f2803fa490d85\",...             200   \n",
      "\n",
      "  Time (seconds)  \n",
      "0       5.147787  \n"
     ]
    }
   ],
   "source": [
    "@my_decorator\n",
    "def inference(payload_data=None, df = df):\n",
    "    headers = {\n",
    "        'Content-Type': 'application/json'\n",
    "    }\n",
    "    try:\n",
    "        response = requests.request(\"POST\", url, headers=headers, json=payload_data)\n",
    "        print(f\"Prompt==> {payload_data['prompt']} \\n {response.text} \\n\\n\")\n",
    "        return response, df\n",
    "    except Exception as e:\n",
    "        print(e)\n",
    "        \n",
    "\n",
    "#Model Inference(Request)\n",
    "if __name__ == \"__main__\":\n",
    "    # Using the generator function to read lines  {**payload, 'prompt': {prompt}}\n",
    "    prompts = read_payloads(request_payload_file)\n",
    "    for i in range(1):\n",
    "        with concurrent.futures.ThreadPoolExecutor(max_workers=10) as executor:\n",
    "            futures = [executor.submit(inference, {**payload, 'prompt': prompt}) for prompt in prompts]\n",
    "            concurrent.futures.wait(futures)\n",
    "    save_report(report_path, df)\n",
    "#     a=inference(payload)"
   ]
  },
  {
   "cell_type": "code",
   "execution_count": null,
   "id": "969fd1ee",
   "metadata": {},
   "outputs": [],
   "source": [
    "# import aiohttp\n",
    "# import asyncio\n",
    "# import time\n",
    "\n",
    "# start_time = time.time()\n",
    "# headers={\"Content-type\":\"application/json\"} \n",
    "# async def main():\n",
    "\n",
    "#     async with aiohttp.ClientSession(trust_env = True, headers=headers) as session:\n",
    "\n",
    "# #         for payload in payloads:\n",
    "# #             url='https://refract.fosfor.com/openchatfinetunedimqlgenerator/d0721c53-c9f5-4d79-a988-2d21df46198f/score' \n",
    "#         async with session.post(url, json=payload) as resp:\n",
    "#                 mql = await resp.json(content_type=None)\n",
    "#                 print(mql)\n",
    "\n",
    "# await main()\n",
    "# print(\"--- %s seconds ---\" % (time.time() - start_time))"
   ]
  },
  {
   "cell_type": "code",
   "execution_count": null,
   "id": "ba00e83d",
   "metadata": {},
   "outputs": [],
   "source": []
  }
 ],
 "metadata": {
  "kernelspec": {
   "display_name": "Python 3",
   "language": "python",
   "name": "python3"
  },
  "language_info": {
   "codemirror_mode": {
    "name": "ipython",
    "version": 3
   },
   "file_extension": ".py",
   "mimetype": "text/x-python",
   "name": "python",
   "nbconvert_exporter": "python",
   "pygments_lexer": "ipython3",
   "version": "3.7.10"
  }
 },
 "nbformat": 4,
 "nbformat_minor": 5
}
