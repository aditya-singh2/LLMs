{
 "cells": [
  {
   "cell_type": "code",
   "execution_count": 1,
   "id": "85065d82",
   "metadata": {},
   "outputs": [],
   "source": [
    "import requests\n",
    "import time\n",
    "import os, json\n",
    "import csv\n",
    "import concurrent.futures\n",
    "from functools import partial\n",
    "import pandas as pd"
   ]
  },
  {
   "cell_type": "code",
   "execution_count": 2,
   "id": "ddec33f0",
   "metadata": {},
   "outputs": [],
   "source": [
    "# url = \"https://refract.fosfor.com/magiccodermodel/6188a3e2-bc43-444e-bfaa-8159fca71b3a/score\"\n",
    "url = \"http://vllm-serving-service:8888/v1/completions\"\n",
    "# lltoken = \"eyJhbGciOiJSUzI1NiIsInR5cCIgOiAiSldUIiwia2lkIiA6ICJ4WTdTd3k5UE1xaXRDQmNSMm5qcVl6bmoxS3NqZzV3TmdOV0xDVzdyUkhvIn0.eyJleHAiOjE3MzA4ODM3MzgsImlhdCI6MTY5OTI2MTMzOCwiYXV0aF90aW1lIjoxNjk5MjUyMDQ0LCJqdGkiOiJmN2EzMzQwYy1kNDQwLTRlMzUtYjk2ZS04YzBiMTc0Y2RhODAiLCJpc3MiOiJodHRwczovL3JlZnJhY3QtbG9naW4uZm9zZm9yLmNvbS9hdXRoL3JlYWxtcy9tb3NhaWMiLCJhdWQiOlsibW9zYWljLWdhdGVrZWVwZXIiLCJhY2NvdW50Il0sInN1YiI6IjZjMjU4MWU3LWZmMTItNDljNy04MDJmLWI2ZjQzOWQxZDIwMSIsInR5cCI6IkJlYXJlciIsImF6cCI6Im1vc2FpYy1nYXRla2VlcGVyIiwic2Vzc2lvbl9zdGF0ZSI6IjBhY2Y3YWZhLTVmMzMtNGRhZS05OGM3LTQyZDQwYTdlZTM2NiIsImFsbG93ZWQtb3JpZ2lucyI6WyIqIl0sInJlYWxtX2FjY2VzcyI6eyJyb2xlcyI6WyJNTE9QUyIsImxvbmdfbGl2ZWRfdG9rZW4iLCJzcGVjdHJhLWRldmVsb3BlciIsImRlZmF1bHQtcm9sZXMtbW9zYWljIiwicmVmcmFjdC1kZXZlbG9wZXIiLCJvZmZsaW5lX2FjY2VzcyIsImFkbWluIiwidW1hX2F1dGhvcml6YXRpb24iLCJyZWZyYWN0LWFkbWluIl19LCJyZXNvdXJjZV9hY2Nlc3MiOnsiYWNjb3VudCI6eyJyb2xlcyI6WyJtYW5hZ2UtYWNjb3VudCIsIm1hbmFnZS1hY2NvdW50LWxpbmtzIiwidmlldy1wcm9maWxlIl19fSwic2NvcGUiOiJvcGVuaWQgZW1haWwgcHJvZmlsZSIsInNpZCI6IjBhY2Y3YWZhLTVmMzMtNGRhZS05OGM3LTQyZDQwYTdlZTM2NiIsImVtYWlsX3ZlcmlmaWVkIjp0cnVlLCJuYW1lIjoiUmVmcmFjdCBCRlNJIiwicHJlZmVycmVkX3VzZXJuYW1lIjoicmVmcmFjdC5iZnNpQGZvc2Zvci5jb20iLCJnaXZlbl9uYW1lIjoiUmVmcmFjdCIsImZhbWlseV9uYW1lIjoiQkZTSSIsImVtYWlsIjoicmVmcmFjdC5iZnNpQGZvc2Zvci5jb20ifQ.b6SYLgjo9Veo3GmJ8eZjCTNupQjpfMhzsoXdYjWwRtvRnNjBfx0gOqcugO9OcGn-mm8wwpSGI5uiL30-I6SdWBjsf1ur6GztoX7j-nP_3SrJJn3UhNNqIO8LbsPi5gGRTzWtnfjz92BF1YaCXxQwPY0P_aa8vJ6JxZz5Uctn9aIPIJZZnnjC_GPXtXurmshM_tEN2kwCjhEyr7wYzRqUoMtBGfpLjZREBzgZY-x6JyYiXNtycb1d6PFcCXf7nJVV8ienEC_x7OuciDzfeqd-SQnImvAHH7rqFdi9smBN08AbkDS2uAbMrokHrmbiBpaimrR013VwCWz2KL5QYlWleA\"\n",
    "request_payload_file = '/data/Magicoder_payloads.txt'\n",
    "report_path = '/data/vLLM_5Concurrency_1gpu.csv'\n",
    "df = pd.DataFrame(columns=['Thread', 'Response', 'Time (seconds)'])"
   ]
  },
  {
   "cell_type": "code",
   "execution_count": 3,
   "id": "201050d7",
   "metadata": {},
   "outputs": [],
   "source": [
    "payload = {\"prompt\": \"Problem: Write a function in python to check if two strings are anagrams.Input: Strings s1 and s2.Output: Boolean, indicating whether s1 and s2 are anagrams.\", \n",
    "           \"max_tokens\": 200,\n",
    "           \"temperature\": 0,\n",
    "           \"model\": \"/llmmodels/models--ise-uiuc--Magicoder-S-DS-6.7B/snapshots/cff055b1e110cbe75c0c3759bd436299c6d6bb66\"}"
   ]
  },
  {
   "cell_type": "code",
   "execution_count": 4,
   "id": "ac2e0aae",
   "metadata": {},
   "outputs": [],
   "source": [
    "def read_payloads(file_path):\n",
    "    with open(file_path, 'r') as file:\n",
    "        for line in file:\n",
    "            yield line.strip()"
   ]
  },
  {
   "cell_type": "code",
   "execution_count": 5,
   "id": "90a0dade",
   "metadata": {},
   "outputs": [],
   "source": [
    "def my_decorator(func):\n",
    "    def calculate_execution_time(*args, **kwargs):\n",
    "        start_time = time.time()\n",
    "        result,_ = func(*args, **kwargs)\n",
    "        end_time = time.time()\n",
    "        execution_time = end_time - start_time\n",
    "        data = {'Thread':result, 'Response':_.text, 'Time (seconds)':f'{execution_time:.6f}'}\n",
    "        df.append(data, ignore_index=True)\n",
    "        print(f\"Execution time of {result}: {execution_time:.6f} seconds - Response===> {_.text} \\n\\n\")\n",
    "        return result, _\n",
    "    return calculate_execution_time"
   ]
  },
  {
   "cell_type": "code",
   "execution_count": 6,
   "id": "4f946126",
   "metadata": {},
   "outputs": [],
   "source": [
    "def save_report(file_path, df):\n",
    "    file_exists = os.path.exists(file_path)\n",
    "    df.to_csv(file_path, index=False)\n",
    "#     with open(file_path, 'a', newline='') as csv_file:\n",
    "#         csv_writer = csv.writer(csv_file)\n",
    "#         if not file_exists:\n",
    "#             csv_writer.writerow(data[0])\n",
    "#         for row in data[1:]:\n",
    "#             csv_writer.writerow(row)"
   ]
  },
  {
   "cell_type": "code",
   "execution_count": null,
   "id": "3ed2a78a",
   "metadata": {},
   "outputs": [
    {
     "name": "stdout",
     "output_type": "stream",
     "text": [
      "Line 0: {\"payload\":\"Problem: Write a function in python to calculate the factorial of a given non-negative integer.Input: Non-negative integer n. Output: Integer, the factorial of n.\"}\n",
      "Execution time of Thread 0: 4.644881 seconds - Response===> {\"id\":\"cmpl-0a2c2858dfa64733869166942eea49d8\",\"object\":\"text_completion\",\"created\":423720,\"model\":\"/llmmodels/models--ise-uiuc--Magicoder-S-DS-6.7B/snapshots/cff055b1e110cbe75c0c3759bd436299c6d6bb66\",\"choices\":[{\"index\":0,\"text\":\"\\n\\n\\ndef factorial(n):\\n    if n == 0:\\n        return 1\\n    else:\\n        return n * factorial(n-1)\\n\\nn = int(input(\\\"Enter a non-negative integer: \\\"))\\nprint(\\\"The factorial of\\\", n, \\\"is\\\", factorial(n))\",\"logprobs\":null,\"finish_reason\":\"stop\"}],\"usage\":{\"prompt_tokens\":45,\"total_tokens\":118,\"completion_tokens\":73}} \n",
      "\n",
      "\n",
      "Execution time of Thread 2: 4.646673 seconds - Response===> {\"id\":\"cmpl-df016cca9d674ae4924dc2f965530b9d\",\"object\":\"text_completion\",\"created\":423720,\"model\":\"/llmmodels/models--ise-uiuc--Magicoder-S-DS-6.7B/snapshots/cff055b1e110cbe75c0c3759bd436299c6d6bb66\",\"choices\":[{\"index\":0,\"text\":\"\\n\\n\\ndef factorial(n):\\n    if n == 0:\\n        return 1\\n    else:\\n        return n * factorial(n-1)\\n\\nn = int(input(\\\"Enter a non-negative integer: \\\"))\\nprint(\\\"The factorial of\\\", n, \\\"is\\\", factorial(n))\",\"logprobs\":null,\"finish_reason\":\"stop\"}],\"usage\":{\"prompt_tokens\":45,\"total_tokens\":118,\"completion_tokens\":73}} \n",
      "\n",
      "\n",
      "Execution time of Thread 3: 4.624633 seconds - Response===> {\"id\":\"cmpl-c3dd90e7303c4654bb963fb738f3ec9f\",\"object\":\"text_completion\",\"created\":423720,\"model\":\"/llmmodels/models--ise-uiuc--Magicoder-S-DS-6.7B/snapshots/cff055b1e110cbe75c0c3759bd436299c6d6bb66\",\"choices\":[{\"index\":0,\"text\":\"\\n\\n\\ndef factorial(n):\\n    if n == 0:\\n        return 1\\n    else:\\n        return n * factorial(n-1)\\n\\nn = int(input(\\\"Enter a non-negative integer: \\\"))\\nprint(\\\"The factorial of\\\", n, \\\"is\\\", factorial(n))\",\"logprobs\":null,\"finish_reason\":\"stop\"}],\"usage\":{\"prompt_tokens\":45,\"total_tokens\":118,\"completion_tokens\":73}} \n",
      "\n",
      "\n",
      "Execution time of Thread 13: 4.338616 seconds - Response===> {\"id\":\"cmpl-f7589738f4114ecdb9a03e82e54da5c1\",\"object\":\"text_completion\",\"created\":423720,\"model\":\"/llmmodels/models--ise-uiuc--Magicoder-S-DS-6.7B/snapshots/cff055b1e110cbe75c0c3759bd436299c6d6bb66\",\"choices\":[{\"index\":0,\"text\":\"\\n\\n\\ndef factorial(n):\\n    if n == 0:\\n        return 1\\n    else:\\n        return n * factorial(n-1)\\n\\nn = int(input(\\\"Enter a non-negative integer: \\\"))\\nprint(\\\"The factorial of\\\", n, \\\"is\\\", factorial(n))\",\"logprobs\":null,\"finish_reason\":\"stop\"}],\"usage\":{\"prompt_tokens\":45,\"total_tokens\":118,\"completion_tokens\":73}} \n",
      "\n",
      "\n",
      "Execution time of Thread 5: 4.641794 seconds - Response===> {\"id\":\"cmpl-68d7f8fc827e464ca48caed9ecef9853\",\"object\":\"text_completion\",\"created\":423720,\"model\":\"/llmmodels/models--ise-uiuc--Magicoder-S-DS-6.7B/snapshots/cff055b1e110cbe75c0c3759bd436299c6d6bb66\",\"choices\":[{\"index\":0,\"text\":\"\\n\\n\\ndef factorial(n):\\n    if n == 0:\\n        return 1\\n    else:\\n        return n * factorial(n-1)\\n\\nn = int(input(\\\"Enter a non-negative integer: \\\"))\\nprint(\\\"The factorial of\\\", n, \\\"is\\\", factorial(n))\",\"logprobs\":null,\"finish_reason\":\"stop\"}],\"usage\":{\"prompt_tokens\":45,\"total_tokens\":118,\"completion_tokens\":73}} \n",
      "\n",
      "\n",
      "Execution time of Thread 4: 4.654294 seconds - Response===> {\"id\":\"cmpl-234a2e8cc06243bc8f6f6c7dd46277d0\",\"object\":\"text_completion\",\"created\":423720,\"model\":\"/llmmodels/models--ise-uiuc--Magicoder-S-DS-6.7B/snapshots/cff055b1e110cbe75c0c3759bd436299c6d6bb66\",\"choices\":[{\"index\":0,\"text\":\"\\n\\n\\ndef factorial(n):\\n    if n == 0:\\n        return 1\\n    else:\\n        return n * factorial(n-1)\\n\\nn = int(input(\\\"Enter a non-negative integer: \\\"))\\nprint(\\\"The factorial of\\\", n, \\\"is\\\", factorial(n))\",\"logprobs\":null,\"finish_reason\":\"stop\"}],\"usage\":{\"prompt_tokens\":45,\"total_tokens\":118,\"completion_tokens\":73}} \n",
      "\n",
      "\n",
      "Execution time of Thread 6: 4.635724 seconds - Response===> {\"id\":\"cmpl-da797710ae1140808f64f7ad3edb768e\",\"object\":\"text_completion\",\"created\":423720,\"model\":\"/llmmodels/models--ise-uiuc--Magicoder-S-DS-6.7B/snapshots/cff055b1e110cbe75c0c3759bd436299c6d6bb66\",\"choices\":[{\"index\":0,\"text\":\"\\n\\n\\ndef factorial(n):\\n    if n == 0:\\n        return 1\\n    else:\\n        return n * factorial(n-1)\\n\\nn = int(input(\\\"Enter a non-negative integer: \\\"))\\nprint(\\\"The factorial of\\\", n, \\\"is\\\", factorial(n))\",\"logprobs\":null,\"finish_reason\":\"stop\"}],\"usage\":{\"prompt_tokens\":45,\"total_tokens\":118,\"completion_tokens\":73}} \n",
      "\n",
      "\n",
      "Execution time of Thread 1: 4.775417 seconds - Response===> {\"id\":\"cmpl-088c21174d364128b198e9288af17e1f\",\"object\":\"text_completion\",\"created\":423720,\"model\":\"/llmmodels/models--ise-uiuc--Magicoder-S-DS-6.7B/snapshots/cff055b1e110cbe75c0c3759bd436299c6d6bb66\",\"choices\":[{\"index\":0,\"text\":\"\\n\\n\\ndef factorial(n):\\n    if n == 0:\\n        return 1\\n    else:\\n        return n * factorial(n-1)\\n\\nn = int(input(\\\"Enter a non-negative integer: \\\"))\\nprint(\\\"The factorial of\\\", n, \\\"is\\\", factorial(n))\",\"logprobs\":null,\"finish_reason\":\"stop\"}],\"usage\":{\"prompt_tokens\":45,\"total_tokens\":118,\"completion_tokens\":73}} \n",
      "\n",
      "\n",
      "Execution time of Thread 7: 4.592253 seconds - Response===> {\"id\":\"cmpl-d39d90aa9d5c492384e4e6d69757ce4e\",\"object\":\"text_completion\",\"created\":423720,\"model\":\"/llmmodels/models--ise-uiuc--Magicoder-S-DS-6.7B/snapshots/cff055b1e110cbe75c0c3759bd436299c6d6bb66\",\"choices\":[{\"index\":0,\"text\":\"\\n\\n\\ndef factorial(n):\\n    if n == 0:\\n        return 1\\n    else:\\n        return n * factorial(n-1)\\n\\nn = int(input(\\\"Enter a non-negative integer: \\\"))\\nprint(\\\"The factorial of\\\", n, \\\"is\\\", factorial(n))\",\"logprobs\":null,\"finish_reason\":\"stop\"}],\"usage\":{\"prompt_tokens\":45,\"total_tokens\":118,\"completion_tokens\":73}} \n",
      "\n",
      "\n",
      "Execution time of Thread 14: 4.346182 seconds - Response===> {\"id\":\"cmpl-e19c132b401f4d58ae79d16ee9e66806\",\"object\":\"text_completion\",\"created\":423720,\"model\":\"/llmmodels/models--ise-uiuc--Magicoder-S-DS-6.7B/snapshots/cff055b1e110cbe75c0c3759bd436299c6d6bb66\",\"choices\":[{\"index\":0,\"text\":\"\\n\\n\\ndef factorial(n):\\n    if n == 0:\\n        return 1\\n    else:\\n        return n * factorial(n-1)\\n\\nn = int(input(\\\"Enter a non-negative integer: \\\"))\\nprint(\\\"The factorial of\\\", n, \\\"is\\\", factorial(n))\",\"logprobs\":null,\"finish_reason\":\"stop\"}],\"usage\":{\"prompt_tokens\":45,\"total_tokens\":118,\"completion_tokens\":73}} \n",
      "\n",
      "\n",
      "Execution time of Thread 12: 4.372699 seconds - Response===> {\"id\":\"cmpl-d38b9a622b274489835bd7568f50eb98\",\"object\":\"text_completion\",\"created\":423720,\"model\":\"/llmmodels/models--ise-uiuc--Magicoder-S-DS-6.7B/snapshots/cff055b1e110cbe75c0c3759bd436299c6d6bb66\",\"choices\":[{\"index\":0,\"text\":\"\\n\\n\\ndef factorial(n):\\n    if n == 0:\\n        return 1\\n    else:\\n        return n * factorial(n-1)\\n\\nn = int(input(\\\"Enter a non-negative integer: \\\"))\\nprint(\\\"The factorial of\\\", n, \\\"is\\\", factorial(n))\",\"logprobs\":null,\"finish_reason\":\"stop\"}],\"usage\":{\"prompt_tokens\":45,\"total_tokens\":118,\"completion_tokens\":73}} \n",
      "\n",
      "\n",
      "Execution time of Thread 9: 4.531473 seconds - Response===> {\"id\":\"cmpl-1d018b6df7bb43c4b7b5a8e417258a21\",\"object\":\"text_completion\",\"created\":423720,\"model\":\"/llmmodels/models--ise-uiuc--Magicoder-S-DS-6.7B/snapshots/cff055b1e110cbe75c0c3759bd436299c6d6bb66\",\"choices\":[{\"index\":0,\"text\":\"\\n\\n\\ndef factorial(n):\\n    if n == 0:\\n        return 1\\n    else:\\n        return n * factorial(n-1)\\n\\nn = int(input(\\\"Enter a non-negative integer: \\\"))\\nprint(\\\"The factorial of\\\", n, \\\"is\\\", factorial(n))\",\"logprobs\":null,\"finish_reason\":\"stop\"}],\"usage\":{\"prompt_tokens\":45,\"total_tokens\":118,\"completion_tokens\":73}} \n",
      "\n",
      "\n",
      "Execution time of Thread 8: 4.579152 seconds - Response===> {\"id\":\"cmpl-1ba3bc9bbfb54bd98ebb1c0a759b86c7\",\"object\":\"text_completion\",\"created\":423720,\"model\":\"/llmmodels/models--ise-uiuc--Magicoder-S-DS-6.7B/snapshots/cff055b1e110cbe75c0c3759bd436299c6d6bb66\",\"choices\":[{\"index\":0,\"text\":\"\\n\\n\\ndef factorial(n):\\n    if n == 0:\\n        return 1\\n    else:\\n        return n * factorial(n-1)\\n\\nn = int(input(\\\"Enter a non-negative integer: \\\"))\\nprint(\\\"The factorial of\\\", n, \\\"is\\\", factorial(n))\",\"logprobs\":null,\"finish_reason\":\"stop\"}],\"usage\":{\"prompt_tokens\":45,\"total_tokens\":118,\"completion_tokens\":73}} \n",
      "\n",
      "\n",
      "Execution time of Thread 10: 4.508853 seconds - Response===> {\"id\":\"cmpl-98920b9742414ee39904837069c079ba\",\"object\":\"text_completion\",\"created\":423720,\"model\":\"/llmmodels/models--ise-uiuc--Magicoder-S-DS-6.7B/snapshots/cff055b1e110cbe75c0c3759bd436299c6d6bb66\",\"choices\":[{\"index\":0,\"text\":\"\\n\\n\\ndef factorial(n):\\n    if n == 0:\\n        return 1\\n    else:\\n        return n * factorial(n-1)\\n\\nn = int(input(\\\"Enter a non-negative integer: \\\"))\\nprint(\\\"The factorial of\\\", n, \\\"is\\\", factorial(n))\",\"logprobs\":null,\"finish_reason\":\"stop\"}],\"usage\":{\"prompt_tokens\":45,\"total_tokens\":118,\"completion_tokens\":73}} \n",
      "\n",
      "\n",
      "Execution time of Thread 11: 4.428566 seconds - Response===> {\"id\":\"cmpl-cdb90653a66d4171bba62e2d5324415e\",\"object\":\"text_completion\",\"created\":423720,\"model\":\"/llmmodels/models--ise-uiuc--Magicoder-S-DS-6.7B/snapshots/cff055b1e110cbe75c0c3759bd436299c6d6bb66\",\"choices\":[{\"index\":0,\"text\":\"\\n\\n\\ndef factorial(n):\\n    if n == 0:\\n        return 1\\n    else:\\n        return n * factorial(n-1)\\n\\nn = int(input(\\\"Enter a non-negative integer: \\\"))\\nprint(\\\"The factorial of\\\", n, \\\"is\\\", factorial(n))\",\"logprobs\":null,\"finish_reason\":\"stop\"}],\"usage\":{\"prompt_tokens\":45,\"total_tokens\":118,\"completion_tokens\":73}} \n",
      "\n",
      "\n",
      "Line 1: {\"payload\":\"Problem: Write a function in python to reverse a given string.Input: String s.Output: String, the reversed version of s.\"}\n"
     ]
    }
   ],
   "source": [
    "@my_decorator\n",
    "def inference(thread, payload_data=None):\n",
    "    headers = {\n",
    "        'Content-Type': 'application/json'\n",
    "    }\n",
    "    try:\n",
    "        response = requests.request(\"POST\", url, headers=headers, json=payload_data)\n",
    "        return \"Thread %s\" %thread, response\n",
    "    except Exception as e:\n",
    "        print(e)\n",
    "        \n",
    "\n",
    "#Model Inference(Request)\n",
    "if __name__ == \"__main__\":\n",
    "    # Using the generator function to read lines\n",
    "    prompts = read_payloads(request_payload_file)\n",
    "    for line_number, line_content in enumerate(prompts, start=0):\n",
    "        print(f\"Line {line_number}: {line_content}\") \n",
    "        payload['prompt'] = line_content\n",
    "        thread_func = partial(inference, payload_data=payload)\n",
    "        with concurrent.futures.ThreadPoolExecutor(max_workers=15) as executor:\n",
    "            executor.map(thread_func, range(15))\n",
    "    save_report(report_path, df)"
   ]
  },
  {
   "cell_type": "code",
   "execution_count": 7,
   "id": "969fd1ee",
   "metadata": {},
   "outputs": [
    {
     "name": "stdout",
     "output_type": "stream",
     "text": [
      "{'id': 'cmpl-9142a552a9a1470e8ac53e85e51b2080', 'object': 'text_completion', 'created': 87834, 'model': '/llmmodels/models--ise-uiuc--Magicoder-S-DS-6.7B/snapshots/cff055b1e110cbe75c0c3759bd436299c6d6bb66', 'choices': [{'index': 0, 'text': '\\nAn anagram is a word or phrase formed by rearranging the letters of a different word or phrase, typically using all the original letters exactly once.\\n\\ndef are_anagrams(s1, s2):\\n    return sorted(s1) == sorted(s2)\\n\\n# Test the function\\nprint(are_anagrams(\"listen\", \"silent\"))  # True\\nprint(are_anagrams(\"hello\", \"world\"))  # False', 'logprobs': None, 'finish_reason': 'stop'}], 'usage': {'prompt_tokens': 45, 'total_tokens': 148, 'completion_tokens': 103}}\n",
      "--- 5.502794504165649 seconds ---\n"
     ]
    }
   ],
   "source": [
    "# import aiohttp\n",
    "# import asyncio\n",
    "# import time\n",
    "\n",
    "# start_time = time.time()\n",
    "# headers={\"Content-type\":\"application/json\"} \n",
    "# async def main():\n",
    "\n",
    "#     async with aiohttp.ClientSession(trust_env = True, headers=headers) as session:\n",
    "\n",
    "# #         for payload in payloads:\n",
    "# #             url='https://refract.fosfor.com/openchatfinetunedimqlgenerator/d0721c53-c9f5-4d79-a988-2d21df46198f/score' \n",
    "#         async with session.post(url, json=payload) as resp:\n",
    "#                 mql = await resp.json(content_type=None)\n",
    "#                 print(mql)\n",
    "\n",
    "# await main()\n",
    "# print(\"--- %s seconds ---\" % (time.time() - start_time))"
   ]
  },
  {
   "cell_type": "code",
   "execution_count": null,
   "id": "ba00e83d",
   "metadata": {},
   "outputs": [],
   "source": []
  }
 ],
 "metadata": {
  "kernelspec": {
   "display_name": "Python 3",
   "language": "python",
   "name": "python3"
  },
  "language_info": {
   "codemirror_mode": {
    "name": "ipython",
    "version": 3
   },
   "file_extension": ".py",
   "mimetype": "text/x-python",
   "name": "python",
   "nbconvert_exporter": "python",
   "pygments_lexer": "ipython3",
   "version": "3.7.10"
  }
 },
 "nbformat": 4,
 "nbformat_minor": 5
}
