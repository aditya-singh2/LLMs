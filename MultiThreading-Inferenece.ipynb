{
 "cells": [
  {
   "cell_type": "code",
   "execution_count": 99,
   "id": "85065d82",
   "metadata": {},
   "outputs": [],
   "source": [
    "import requests\n",
    "import time\n",
    "import os, json\n",
    "import csv\n",
    "import concurrent.futures\n",
    "# from functools import partial\n",
    "import pandas as pd"
   ]
  },
  {
   "cell_type": "code",
   "execution_count": 107,
   "id": "ddec33f0",
   "metadata": {},
   "outputs": [],
   "source": [
    "# url = \"https://refract.fosfor.com/magiccodermodel/6188a3e2-bc43-444e-bfaa-8159fca71b3a/score\"\n",
    "url = \"http://vllm-serving-service:8888/v1/completions\"\n",
    "# lltoken = \"eyJhbGciOiJSUzI1NiIsInR5cCIgOiAiSldUIiwia2lkIiA6ICJ4WTdTd3k5UE1xaXRDQmNSMm5qcVl6bmoxS3NqZzV3TmdOV0xDVzdyUkhvIn0.eyJleHAiOjE3MzA4ODM3MzgsImlhdCI6MTY5OTI2MTMzOCwiYXV0aF90aW1lIjoxNjk5MjUyMDQ0LCJqdGkiOiJmN2EzMzQwYy1kNDQwLTRlMzUtYjk2ZS04YzBiMTc0Y2RhODAiLCJpc3MiOiJodHRwczovL3JlZnJhY3QtbG9naW4uZm9zZm9yLmNvbS9hdXRoL3JlYWxtcy9tb3NhaWMiLCJhdWQiOlsibW9zYWljLWdhdGVrZWVwZXIiLCJhY2NvdW50Il0sInN1YiI6IjZjMjU4MWU3LWZmMTItNDljNy04MDJmLWI2ZjQzOWQxZDIwMSIsInR5cCI6IkJlYXJlciIsImF6cCI6Im1vc2FpYy1nYXRla2VlcGVyIiwic2Vzc2lvbl9zdGF0ZSI6IjBhY2Y3YWZhLTVmMzMtNGRhZS05OGM3LTQyZDQwYTdlZTM2NiIsImFsbG93ZWQtb3JpZ2lucyI6WyIqIl0sInJlYWxtX2FjY2VzcyI6eyJyb2xlcyI6WyJNTE9QUyIsImxvbmdfbGl2ZWRfdG9rZW4iLCJzcGVjdHJhLWRldmVsb3BlciIsImRlZmF1bHQtcm9sZXMtbW9zYWljIiwicmVmcmFjdC1kZXZlbG9wZXIiLCJvZmZsaW5lX2FjY2VzcyIsImFkbWluIiwidW1hX2F1dGhvcml6YXRpb24iLCJyZWZyYWN0LWFkbWluIl19LCJyZXNvdXJjZV9hY2Nlc3MiOnsiYWNjb3VudCI6eyJyb2xlcyI6WyJtYW5hZ2UtYWNjb3VudCIsIm1hbmFnZS1hY2NvdW50LWxpbmtzIiwidmlldy1wcm9maWxlIl19fSwic2NvcGUiOiJvcGVuaWQgZW1haWwgcHJvZmlsZSIsInNpZCI6IjBhY2Y3YWZhLTVmMzMtNGRhZS05OGM3LTQyZDQwYTdlZTM2NiIsImVtYWlsX3ZlcmlmaWVkIjp0cnVlLCJuYW1lIjoiUmVmcmFjdCBCRlNJIiwicHJlZmVycmVkX3VzZXJuYW1lIjoicmVmcmFjdC5iZnNpQGZvc2Zvci5jb20iLCJnaXZlbl9uYW1lIjoiUmVmcmFjdCIsImZhbWlseV9uYW1lIjoiQkZTSSIsImVtYWlsIjoicmVmcmFjdC5iZnNpQGZvc2Zvci5jb20ifQ.b6SYLgjo9Veo3GmJ8eZjCTNupQjpfMhzsoXdYjWwRtvRnNjBfx0gOqcugO9OcGn-mm8wwpSGI5uiL30-I6SdWBjsf1ur6GztoX7j-nP_3SrJJn3UhNNqIO8LbsPi5gGRTzWtnfjz92BF1YaCXxQwPY0P_aa8vJ6JxZz5Uctn9aIPIJZZnnjC_GPXtXurmshM_tEN2kwCjhEyr7wYzRqUoMtBGfpLjZREBzgZY-x6JyYiXNtycb1d6PFcCXf7nJVV8ienEC_x7OuciDzfeqd-SQnImvAHH7rqFdi9smBN08AbkDS2uAbMrokHrmbiBpaimrR013VwCWz2KL5QYlWleA\"\n",
    "request_payload_file = '/data/Magicoder_payloads.txt'\n",
    "report_path = '/data/vLLM_1Concurrency_1gpu.csv'\n",
    "df = pd.DataFrame(columns=['prompt', 'Response', 'Response_status', 'Time (seconds)'])"
   ]
  },
  {
   "cell_type": "code",
   "execution_count": 108,
   "id": "201050d7",
   "metadata": {},
   "outputs": [],
   "source": [
    "payload = {\"prompt\": \"Problem: Write a function in python to check if two strings are anagrams.Input: Strings s1 and s2.Output: Boolean, indicating whether s1 and s2 are anagrams.\", \n",
    "           \"max_tokens\": 200,\n",
    "           \"temperature\": 0,\n",
    "           \"model\": \"/llmmodels/models--ise-uiuc--Magicoder-S-DS-6.7B/snapshots/cff055b1e110cbe75c0c3759bd436299c6d6bb66\"}"
   ]
  },
  {
   "cell_type": "code",
   "execution_count": 109,
   "id": "30c55110",
   "metadata": {},
   "outputs": [],
   "source": [
    "def read_payloads(file_path):\n",
    "    with open(file_path, 'r') as file:\n",
    "        for line in file:\n",
    "            prompt = json.loads(line.strip())\n",
    "            yield prompt['payload']"
   ]
  },
  {
   "cell_type": "code",
   "execution_count": 110,
   "id": "90a0dade",
   "metadata": {},
   "outputs": [],
   "source": [
    "def my_decorator(func):\n",
    "    def calculate_execution_time(*args, **kwargs):\n",
    "        global df\n",
    "        start_time = time.time()\n",
    "        result, _= func(*args, **kwargs)\n",
    "        end_time = time.time()\n",
    "        execution_time = end_time - start_time\n",
    "        data = {'Prompt':_,'Response':result.text, 'Response_status':result.status_code, 'Time (seconds)':f'{execution_time:.6f}'}\n",
    "        df = df.append(data, ignore_index=True)\n",
    "        print(f\"Execution time: {execution_time:.6f} seconds \\n\\n\")\n",
    "        return result\n",
    "    return calculate_execution_time"
   ]
  },
  {
   "cell_type": "code",
   "execution_count": 111,
   "id": "4f946126",
   "metadata": {},
   "outputs": [],
   "source": [
    "def save_report(file_path, df):\n",
    "    print(df)\n",
    "    file_exists = os.path.exists(file_path)\n",
    "    df.to_csv(file_path, index=False)"
   ]
  },
  {
   "cell_type": "code",
   "execution_count": 112,
   "id": "3ed2a78a",
   "metadata": {},
   "outputs": [],
   "source": [
    "@my_decorator\n",
    "def inference(payload_data=None):\n",
    "    headers = {\n",
    "        'Content-Type': 'application/json'\n",
    "    }\n",
    "    try:\n",
    "        response = requests.request(\"POST\", url, headers=headers, json=payload_data)\n",
    "        print(f\"Prompt==> {payload_data['prompt']} \\n {response.text}\")\n",
    "        return response, payload_data['prompt']\n",
    "    except Exception as e:\n",
    "        print(e)\n",
    "        "
   ]
  },
  {
   "cell_type": "code",
   "execution_count": null,
   "id": "ab2accfa",
   "metadata": {},
   "outputs": [
    {
     "name": "stdout",
     "output_type": "stream",
     "text": [
      "Prompt==> Problem: Write a function in python to calculate the factorial of a given non-negative integer.Input: Non-negative integer n. Output: Integer, the factorial of n. \n",
      " {\"id\":\"cmpl-38c8164ea0804f3e8bdf0394d0cb1932\",\"object\":\"text_completion\",\"created\":436498,\"model\":\"/llmmodels/models--ise-uiuc--Magicoder-S-DS-6.7B/snapshots/cff055b1e110cbe75c0c3759bd436299c6d6bb66\",\"choices\":[{\"index\":0,\"text\":\"\\n\\n\\ndef factorial(n):\\n    if n == 0:\\n        return 1\\n    else:\\n        return n * factorial(n-1)\\n\\n# Test the function\\nprint(factorial(5))  # Output: 120\\nprint(factorial(0))  # Output: 1\\nprint(factorial(10))  # Output: 3628800\",\"logprobs\":null,\"finish_reason\":\"stop\"}],\"usage\":{\"prompt_tokens\":40,\"total_tokens\":135,\"completion_tokens\":95}}\n",
      "Execution time: 4.718785 seconds \n",
      "\n",
      "\n",
      "Prompt==> Problem: Write a function in python to reverse a given string.Input: String s.Output: String, the reversed version of s. \n",
      " {\"id\":\"cmpl-1c834db9085a434ebdfe44edc2fb90e5\",\"object\":\"text_completion\",\"created\":436503,\"model\":\"/llmmodels/models--ise-uiuc--Magicoder-S-DS-6.7B/snapshots/cff055b1e110cbe75c0c3759bd436299c6d6bb66\",\"choices\":[{\"index\":0,\"text\":\"\\n\\n\\ndef reverse_string(s):\\n    return s[::-1]\\n\\n# Test the function\\nprint(reverse_string(\\\"Hello, World!\\\"))  # Output: !dlroW ,olleH\",\"logprobs\":null,\"finish_reason\":\"stop\"}],\"usage\":{\"prompt_tokens\":31,\"total_tokens\":82,\"completion_tokens\":51}}\n",
      "Execution time: 2.553611 seconds \n",
      "\n",
      "\n",
      "Prompt==> Problem: Write a function in python to check if a given number is a prime number.Input: Positive integer num.Output: Boolean, indicating whether num is prime. \n",
      " {\"id\":\"cmpl-391a3991ca7342dbb93423f693f99910\",\"object\":\"text_completion\",\"created\":436505,\"model\":\"/llmmodels/models--ise-uiuc--Magicoder-S-DS-6.7B/snapshots/cff055b1e110cbe75c0c3759bd436299c6d6bb66\",\"choices\":[{\"index\":0,\"text\":\"\\n\\n\\ndef is_prime(num):\\n    if num <= 1:\\n        return False\\n    elif num <= 3:\\n        return True\\n    elif num % 2 == 0 or num % 3 == 0:\\n        return False\\n    i = 5\\n    while i * i <= num:\\n        if num % i == 0 or num % (i + 2) == 0:\\n            return False\\n        i += 6\\n    return True\\n\\n# Test the function\\nprint(is_prime(2))  # True\\nprint(is_prime(4))  # False\\nprint(is_prime(17))  # True\\nprint(is_prime(25))  # False\\nprint(is_prime(1))  # False\\nprint(is_prime(0))  # False\",\"logprobs\":null,\"finish_reason\":\"stop\"}],\"usage\":{\"prompt_tokens\":37,\"total_tokens\":217,\"completion_tokens\":180}}\n",
      "Execution time: 9.100786 seconds \n",
      "\n",
      "\n",
      "Prompt==> Problem: Write a function in python to check if a given string is a palindrome.Input: String s.Output: Boolean, indicating whether s is a palindrome. \n",
      " {\"id\":\"cmpl-46cb226f3c91461193c928382e91e2bd\",\"object\":\"text_completion\",\"created\":436514,\"model\":\"/llmmodels/models--ise-uiuc--Magicoder-S-DS-6.7B/snapshots/cff055b1e110cbe75c0c3759bd436299c6d6bb66\",\"choices\":[{\"index\":0,\"text\":\"\\n\\n\\ndef is_palindrome(s):\\n    return s == s[::-1]\\n\\n# Test the function\\nprint(is_palindrome('madam'))  # True\\nprint(is_palindrome('hello'))  # False\",\"logprobs\":null,\"finish_reason\":\"stop\"}],\"usage\":{\"prompt_tokens\":39,\"total_tokens\":98,\"completion_tokens\":59}}\n",
      "Execution time: 2.996840 seconds \n",
      "\n",
      "\n",
      "Prompt==> Problem: Write a function in python to calculate the sum of the digits of a given positive integer.Input: Positive integer num.Output: Integer, the sum of the digits of num. \n",
      " {\"id\":\"cmpl-4b6553f57322479989daf66afd37288b\",\"object\":\"text_completion\",\"created\":436517,\"model\":\"/llmmodels/models--ise-uiuc--Magicoder-S-DS-6.7B/snapshots/cff055b1e110cbe75c0c3759bd436299c6d6bb66\",\"choices\":[{\"index\":0,\"text\":\"\\n\\n\\ndef sum_of_digits(num):\\n    return sum(int(digit) for digit in str(num))\\n\\n# Test the function\\nprint(sum_of_digits(1234))  # Output: 10\\nprint(sum_of_digits(5678))  # Output: 26\\nprint(sum_of_digits(9001))  # Output: 10\",\"logprobs\":null,\"finish_reason\":\"stop\"}],\"usage\":{\"prompt_tokens\":43,\"total_tokens\":146,\"completion_tokens\":103}}\n",
      "Execution time: 5.238157 seconds \n",
      "\n",
      "\n",
      "Prompt==> Problem: Write a function in python to generate the nth Fibonacci number.Input: Non-negative integer n.Output: Integer, the nth Fibonacci number. \n",
      " {\"id\":\"cmpl-507c7e5a27014aa2a29eaaf543f9780c\",\"object\":\"text_completion\",\"created\":436523,\"model\":\"/llmmodels/models--ise-uiuc--Magicoder-S-DS-6.7B/snapshots/cff055b1e110cbe75c0c3759bd436299c6d6bb66\",\"choices\":[{\"index\":0,\"text\":\"\\n\\nFibonacci sequence: 0, 1, 1, 2, 3, 5, 8, 13, 21, 34, 55, 89, 144, ...\\n\\nThe Fibonacci sequence is defined as follows:\\n\\nF(0) = 0, F(1) = 1\\n\\nFor n > 1, F(n) = F(n-1) + F(n-2)\\n\\nHere is a Python function that generates the nth Fibonacci number:\\n\\n```python\\ndef fibonacci(n):\\n    if n <= 0:\\n        return \\\"Input should be a positive integer.\\\"\\n    elif n == 1:\\n        return 0\\n    elif n == 2:\\n        return 1\\n    else:\\n        a, b = 0, 1\\n       \",\"logprobs\":null,\"finish_reason\":\"length\"}],\"usage\":{\"prompt_tokens\":43,\"total_tokens\":243,\"completion_tokens\":200}}\n",
      "Execution time: 10.354788 seconds \n",
      "\n",
      "\n",
      "Prompt==> Problem: Write a function in python to count the number of words in a given string.Input: String s.Output: Integer, the number of words in s. \n",
      " {\"id\":\"cmpl-4994505d1c27437693f2d980fc1d39a8\",\"object\":\"text_completion\",\"created\":436533,\"model\":\"/llmmodels/models--ise-uiuc--Magicoder-S-DS-6.7B/snapshots/cff055b1e110cbe75c0c3759bd436299c6d6bb66\",\"choices\":[{\"index\":0,\"text\":\"\\n\\n\\ndef count_words(s):\\n    return len(s.split())\\n\\n# Test the function\\ns = \\\"Hello, how are you doing today?\\\"\\nprint(count_words(s))  # Output: 5\",\"logprobs\":null,\"finish_reason\":\"stop\"}],\"usage\":{\"prompt_tokens\":36,\"total_tokens\":89,\"completion_tokens\":53}}\n",
      "Execution time: 2.799113 seconds \n",
      "\n",
      "\n",
      "Prompt==> Problem: Write a function in python to perform binary search on a sorted list.Input: Sorted list arr and target value target.Output: Integer, the index of target in arr (or -1 if not found). \n",
      " {\"id\":\"cmpl-9e58d5a1ee134de6a02bb0262a5c5bb8\",\"object\":\"text_completion\",\"created\":436536,\"model\":\"/llmmodels/models--ise-uiuc--Magicoder-S-DS-6.7B/snapshots/cff055b1e110cbe75c0c3759bd436299c6d6bb66\",\"choices\":[{\"index\":0,\"text\":\"\\n\\n\\ndef binary_search(arr, target):\\n    left, right = 0, len(arr) - 1\\n    while left <= right:\\n        mid = (left + right) // 2\\n        if arr[mid] == target:\\n            return mid\\n        elif arr[mid] < target:\\n            left = mid + 1\\n        else:\\n            right = mid - 1\\n    return -1\\n\\n# Test the function\\narr = [1, 2, 3, 4, 5, 6, 7, 8, 9, 10]\\ntarget = 5\\nprint(binary_search(arr, target))  # Output: 4\\n\\ntarget = 11\\nprint(binary_search(arr, target))  # Output: -1\",\"logprobs\":null,\"finish_reason\":\"stop\"}],\"usage\":{\"prompt_tokens\":47,\"total_tokens\":226,\"completion_tokens\":179}}\n",
      "Execution time: 9.932296 seconds \n",
      "\n",
      "\n",
      "Prompt==> Problem: Write a function in python to transpose a given matrix.Input: 2D list representing a matrix.Output: 2D list, the transpose of the input matrix. \n",
      " {\"id\":\"cmpl-3f844dbf201d4f27afd86f1760a88ab2\",\"object\":\"text_completion\",\"created\":436546,\"model\":\"/llmmodels/models--ise-uiuc--Magicoder-S-DS-6.7B/snapshots/cff055b1e110cbe75c0c3759bd436299c6d6bb66\",\"choices\":[{\"index\":0,\"text\":\"\\n\\nTranspose of a matrix is a new matrix whose rows are the columns of the original matrix.\\n\\nExample:\\nInput: [[1, 2, 3], [4, 5, 6], [7, 8, 9]]\\nOutput: [[1, 4, 7], [2, 5, 8], [3, 6, 9]]\\n\\nHere is a Python function that does this:\\n\\n```python\\ndef transpose(matrix):\\n    return [[matrix[j][i] for j in range(len(matrix))] for i in range(len(matrix[0]))]\\n```\\n\\nThis function works by iterating over the columns of the original matrix, and for each column, it creates a new row in the transposed matrix by selecting the corresponding element from each row of the original matrix.\",\"logprobs\":null,\"finish_reason\":\"stop\"}],\"usage\":{\"prompt_tokens\":41,\"total_tokens\":227,\"completion_tokens\":186}}\n",
      "Execution time: 10.200001 seconds \n",
      "\n",
      "\n",
      "Prompt==> Problem: Write a function in python to check if two strings are anagrams.Input: Strings s1 and s2.Output: Boolean, indicating whether s1 and s2 are anagrams. \n",
      " {\"id\":\"cmpl-9292cac8fb524919bb52fab5d6aa7077\",\"object\":\"text_completion\",\"created\":436556,\"model\":\"/llmmodels/models--ise-uiuc--Magicoder-S-DS-6.7B/snapshots/cff055b1e110cbe75c0c3759bd436299c6d6bb66\",\"choices\":[{\"index\":0,\"text\":\"\\nAn anagram is a word or phrase formed by rearranging the letters of a different word or phrase, typically using all the original letters exactly once.\\n\\ndef are_anagrams(s1, s2):\\n    return sorted(s1) == sorted(s2)\\n\\n# Test the function\\nprint(are_anagrams(\\\"listen\\\", \\\"silent\\\"))  # True\\nprint(are_anagrams(\\\"hello\\\", \\\"world\\\"))  # False\",\"logprobs\":null,\"finish_reason\":\"stop\"}],\"usage\":{\"prompt_tokens\":45,\"total_tokens\":148,\"completion_tokens\":103}}\n",
      "Execution time: 5.658422 seconds \n",
      "\n",
      "\n"
     ]
    },
    {
     "name": "stdout",
     "output_type": "stream",
     "text": [
      "Prompt==> Problem: Write a function in java to calculate the factorial of a given non-negative integer.Input: Non-negative integer n. Output: Integer, the factorial of n. \n",
      " {\"id\":\"cmpl-8f2e9c0584324428aa4c01929906df1a\",\"object\":\"text_completion\",\"created\":436561,\"model\":\"/llmmodels/models--ise-uiuc--Magicoder-S-DS-6.7B/snapshots/cff055b1e110cbe75c0c3759bd436299c6d6bb66\",\"choices\":[{\"index\":0,\"text\":\"\\n\\n\\nSolution:\\n\\nHere is a simple Java function to calculate the factorial of a given non-negative integer:\\n\\n```java\\npublic class Main {\\n    public static void main(String[] args) {\\n        System.out.println(factorial(5));  // Output: 120\\n    }\\n\\n    public static int factorial(int n) {\\n        if (n == 0) {\\n            return 1;\\n        } else {\\n            return n * factorial(n - 1);\\n        }\\n    }\\n}\\n```\\n\\nThis function uses recursion to calculate the factorial. The base case is when `n` is 0, in which case the function returns 1. For all other values of `n`, the function calls itself with the argument `n - 1` and multiplies the result by `n`. This continues until `n`\",\"logprobs\":null,\"finish_reason\":\"length\"}],\"usage\":{\"prompt_tokens\":40,\"total_tokens\":240,\"completion_tokens\":200}}\n",
      "Execution time: 11.143900 seconds \n",
      "\n",
      "\n",
      "Prompt==> Problem: Write a function in java to reverse a given string.Input: String s.Output: String, the reversed version of s. \n",
      " {\"id\":\"cmpl-c186617253664231a58ce48362677fe1\",\"object\":\"text_completion\",\"created\":436573,\"model\":\"/llmmodels/models--ise-uiuc--Magicoder-S-DS-6.7B/snapshots/cff055b1e110cbe75c0c3759bd436299c6d6bb66\",\"choices\":[{\"index\":0,\"text\":\"\\n\\n\\npublic class Main {\\n    public static void main(String[] args) {\\n        String s = \\\"Hello World\\\";\\n        System.out.println(reverseString(s));\\n    }\\n\\n    public static String reverseString(String s) {\\n        String reversed = \\\"\\\";\\n        for (int i = s.length() - 1; i >= 0; i--) {\\n            reversed += s.charAt(i);\\n        }\\n        return reversed;\\n    }\\n}\",\"logprobs\":null,\"finish_reason\":\"stop\"}],\"usage\":{\"prompt_tokens\":31,\"total_tokens\":146,\"completion_tokens\":115}}\n",
      "Execution time: 6.393275 seconds \n",
      "\n",
      "\n",
      "Prompt==> Problem: Write a function in java to check if a given number is a prime number.Input: Positive integer num.Output: Boolean, indicating whether num is prime. \n",
      " {\"id\":\"cmpl-eec8a699967d494aaf8c1cddc873058b\",\"object\":\"text_completion\",\"created\":436579,\"model\":\"/llmmodels/models--ise-uiuc--Magicoder-S-DS-6.7B/snapshots/cff055b1e110cbe75c0c3759bd436299c6d6bb66\",\"choices\":[{\"index\":0,\"text\":\"\\n\\n\\nSolution:\\n\\n```java\\npublic class Main {\\n    public static void main(String[] args) {\\n        System.out.println(isPrime(11));  // Output: true\\n        System.out.println(isPrime(15));  // Output: false\\n    }\\n\\n    public static boolean isPrime(int num) {\\n        if (num <= 1) {\\n            return false;\\n        }\\n        for (int i = 2; i * i <= num; i++) {\\n            if (num % i == 0) {\\n                return false;\\n            }\\n        }\\n        return true;\\n    }\\n}\\n```\\n\\nThis function works by checking if the number is less than or equal to 1, in which case it is not prime. Then it checks if the number is divisible by any number up to its square root. If\",\"logprobs\":null,\"finish_reason\":\"length\"}],\"usage\":{\"prompt_tokens\":37,\"total_tokens\":237,\"completion_tokens\":200}}\n",
      "Execution time: 11.349442 seconds \n",
      "\n",
      "\n",
      "Prompt==> Problem: Write a function in java to check if a given string is a palindrome.Input: String s.Output: Boolean, indicating whether s is a palindrome. \n",
      " {\"id\":\"cmpl-92456155ac8f48f2b9e78778565afa44\",\"object\":\"text_completion\",\"created\":436590,\"model\":\"/llmmodels/models--ise-uiuc--Magicoder-S-DS-6.7B/snapshots/cff055b1e110cbe75c0c3759bd436299c6d6bb66\",\"choices\":[{\"index\":0,\"text\":\"\\n\\n\\nSolution:\\n\\n```java\\npublic class Main {\\n    public static void main(String[] args) {\\n        System.out.println(isPalindrome(\\\"madam\\\"));\\n        System.out.println(isPalindrome(\\\"hello\\\"));\\n    }\\n\\n    public static boolean isPalindrome(String s) {\\n        int i = 0, j = s.length() - 1;\\n\\n        while (i < j) {\\n            if (s.charAt(i) != s.charAt(j))\\n                return false;\\n            i++;\\n            j--;\\n        }\\n\\n        return true;\\n    }\\n}\\n```\\n\\nIn this code, we define a function `isPalindrome` that takes a string `s` as input. We initialize two pointers, `i` and `j`, at the start and end\",\"logprobs\":null,\"finish_reason\":\"length\"}],\"usage\":{\"prompt_tokens\":39,\"total_tokens\":239,\"completion_tokens\":200}}\n",
      "Execution time: 11.489544 seconds \n",
      "\n",
      "\n",
      "Prompt==> Problem: Write a function in java to calculate the sum of the digits of a given positive integer.Input: Positive integer num.Output: Integer, the sum of the digits of num. \n",
      " {\"id\":\"cmpl-85afbf8e02b947d5aa8a85376a59384f\",\"object\":\"text_completion\",\"created\":436602,\"model\":\"/llmmodels/models--ise-uiuc--Magicoder-S-DS-6.7B/snapshots/cff055b1e110cbe75c0c3759bd436299c6d6bb66\",\"choices\":[{\"index\":0,\"text\":\"\\n\\n\\nHere is a simple Java function that calculates the sum of the digits of a given positive integer:\\n\\n```java\\npublic class Main {\\n    public static void main(String[] args) {\\n        int num = 12345;\\n        System.out.println(\\\"Sum of digits: \\\" + sumOfDigits(num));\\n    }\\n\\n    public static int sumOfDigits(int num) {\\n        int sum = 0;\\n        while (num != 0) {\\n            sum += num % 10;\\n            num /= 10;\\n        }\\n        return sum;\\n    }\\n}\\n```\\n\\nIn this function, we use a while loop to iterate through each digit of the number. In each iteration, we add the last digit of the number to the sum and then remove the last digit from the number by dividing it by 10.\",\"logprobs\":null,\"finish_reason\":\"length\"}],\"usage\":{\"prompt_tokens\":43,\"total_tokens\":243,\"completion_tokens\":200}}\n",
      "Execution time: 11.665220 seconds \n",
      "\n",
      "\n",
      "Prompt==> Problem: Write a function in java to check if two strings are anagrams.Input: Strings s1 and s2.Output: Boolean, indicating whether s1 and s2 are anagrams. \n",
      " {\"id\":\"cmpl-8f54740358124215b4a1f95bf7b3c035\",\"object\":\"text_completion\",\"created\":436614,\"model\":\"/llmmodels/models--ise-uiuc--Magicoder-S-DS-6.7B/snapshots/cff055b1e110cbe75c0c3759bd436299c6d6bb66\",\"choices\":[{\"index\":0,\"text\":\"\\nAn anagram is a word or phrase formed by rearranging the letters of a different word or phrase, typically using all the original letters exactly once.\\n\\nHere is a simple Java function to check if two strings are anagrams:\\n\\n```java\\nimport java.util.Arrays;\\n\\npublic class Main {\\n    public static void main(String[] args) {\\n        System.out.println(areAnagrams(\\\"listen\\\", \\\"silent\\\"));  // Output: true\\n        System.out.println(areAnagrams(\\\"hello\\\", \\\"world\\\"));  // Output: false\\n    }\\n\\n    public static boolean areAnagrams(String s1, String s2) {\\n        if (s1.length() != s2.length()) {\\n            return false;\\n        }\\n\\n        char[] s1Array = s1.toCharArray();\\n        char[] s2Array =\",\"logprobs\":null,\"finish_reason\":\"length\"}],\"usage\":{\"prompt_tokens\":45,\"total_tokens\":245,\"completion_tokens\":200}}\n",
      "Execution time: 11.652117 seconds \n",
      "\n",
      "\n",
      "Prompt==> Problem: Write a function in java to generate the nth Fibonacci number.Input: Non-negative integer n.Output: Integer, the nth Fibonacci number. \n",
      " {\"id\":\"cmpl-bd8f9494b6bb421889e48594f924c1c4\",\"object\":\"text_completion\",\"created\":436625,\"model\":\"/llmmodels/models--ise-uiuc--Magicoder-S-DS-6.7B/snapshots/cff055b1e110cbe75c0c3759bd436299c6d6bb66\",\"choices\":[{\"index\":0,\"text\":\"\\n\\nFibonacci sequence: 0, 1, 1, 2, 3, 5, 8, 13, 21, 34, 55, 89, 144, 233, 377, 610, 987, 1597, 2584, 4181, 6765, 10946, …\\n\\nHere is a simple Java function to generate the nth Fibonacci number:\\n\\n```java\\npublic class Main {\\n    public static void main(String[] args) {\\n        System.out.println(fibonacci(10));  // Output: 55\\n    }\\n\\n    public static int fibonacci(int n) {\\n        if (n <= 1) {\",\"logprobs\":null,\"finish_reason\":\"length\"}],\"usage\":{\"prompt_tokens\":43,\"total_tokens\":243,\"completion_tokens\":200}}\n",
      "Execution time: 11.798658 seconds \n",
      "\n",
      "\n",
      "Prompt==> Problem: Write a function in java to count the number of words in a given string.Input: String s.Output: Integer, the number of words in s. \n",
      " {\"id\":\"cmpl-0e3729f557eb4916b4209a606de6a5d7\",\"object\":\"text_completion\",\"created\":436637,\"model\":\"/llmmodels/models--ise-uiuc--Magicoder-S-DS-6.7B/snapshots/cff055b1e110cbe75c0c3759bd436299c6d6bb66\",\"choices\":[{\"index\":0,\"text\":\"\\n\\n\\nSolution:\\n\\n```java\\npublic class Main {\\n    public static void main(String[] args) {\\n        String s = \\\"Hello world! This is a test.\\\";\\n        System.out.println(countWords(s));\\n    }\\n\\n    public static int countWords(String s) {\\n        if (s == null || s.isEmpty()) {\\n            return 0;\\n        }\\n\\n        String[] words = s.split(\\\"\\\\\\\\s+\\\");\\n        return words.length;\\n    }\\n}\\n```\\n\\nIn this code, the `countWords` function takes a string `s` as input and returns the number of words in `s`. It first checks if `s` is null or empty, and if so, returns 0. Then it splits `s` into an array of words using the `split` method, which splits the string\",\"logprobs\":null,\"finish_reason\":\"length\"}],\"usage\":{\"prompt_tokens\":36,\"total_tokens\":236,\"completion_tokens\":200}}\n",
      "Execution time: 12.031259 seconds \n",
      "\n",
      "\n"
     ]
    },
    {
     "name": "stdout",
     "output_type": "stream",
     "text": [
      "Prompt==> Problem: Write a function in java to perform binary search on a sorted list.Input: Sorted list arr and target value target.Output: Integer, the index of target in arr (or -1 if not found). \n",
      " {\"id\":\"cmpl-547e3fd8db9345c08229de4ebcd4ad9f\",\"object\":\"text_completion\",\"created\":436649,\"model\":\"/llmmodels/models--ise-uiuc--Magicoder-S-DS-6.7B/snapshots/cff055b1e110cbe75c0c3759bd436299c6d6bb66\",\"choices\":[{\"index\":0,\"text\":\"\\n\\n\\n```java\\npublic class BinarySearch {\\n    public static int binarySearch(int[] arr, int target) {\\n        int left = 0;\\n        int right = arr.length - 1;\\n\\n        while (left <= right) {\\n            int mid = left + (right - left) / 2;\\n\\n            if (arr[mid] == target) {\\n                return mid;\\n            } else if (arr[mid] < target) {\\n                left = mid + 1;\\n            } else {\\n                right = mid - 1;\\n            }\\n        }\\n\\n        return -1;\\n    }\\n\\n    public static void main(String[] args) {\\n        int[] arr = {1, 2, 3, 4, 5, 6, 7, 8, 9, 10};\\n        int target = 5;\",\"logprobs\":null,\"finish_reason\":\"length\"}],\"usage\":{\"prompt_tokens\":47,\"total_tokens\":247,\"completion_tokens\":200}}\n",
      "Execution time: 12.106831 seconds \n",
      "\n",
      "\n",
      "Prompt==> Problem: Write a function in java to transpose a given matrix.Input: 2D list representing a matrix.Output: 2D list, the transpose of the input matrix. \n",
      " {\"id\":\"cmpl-487b7d49ded040dd89d3744782e4808b\",\"object\":\"text_completion\",\"created\":436661,\"model\":\"/llmmodels/models--ise-uiuc--Magicoder-S-DS-6.7B/snapshots/cff055b1e110cbe75c0c3759bd436299c6d6bb66\",\"choices\":[{\"index\":0,\"text\":\"\\n\\nTranspose of a matrix is obtained by changing rows to columns and columns to rows.\\n\\nExample:\\nInput:\\n1 2 3\\n4 5 6\\n7 8 9\\n\\nOutput:\\n1 4 7\\n2 5 8\\n3 6 9\\n\\nHere is a Java function that transposes a given matrix:\\n\\n```java\\npublic class Main {\\n    public static void main(String[] args) {\\n        int[][] matrix = {{1, 2, 3}, {4, 5, 6}, {7, 8, 9}};\\n        int[][] transpose = transposeMatrix(matrix);\\n        printMatrix(transpose);\\n    }\\n\\n    public static int[][] transposeMatrix(int[][] matrix) {\\n        int rows = matrix.length;\\n        int cols = matrix[0].length;\",\"logprobs\":null,\"finish_reason\":\"length\"}],\"usage\":{\"prompt_tokens\":41,\"total_tokens\":241,\"completion_tokens\":200}}\n",
      "Execution time: 12.113272 seconds \n",
      "\n",
      "\n",
      "Prompt==> Problem: Write a function in c++ to calculate the factorial of a given non-negative integer.Input: Non-negative integer n. Output: Integer, the factorial of n. \n",
      " {\"id\":\"cmpl-094e2ac651ff4c26bef3d64fb8685ee9\",\"object\":\"text_completion\",\"created\":436673,\"model\":\"/llmmodels/models--ise-uiuc--Magicoder-S-DS-6.7B/snapshots/cff055b1e110cbe75c0c3759bd436299c6d6bb66\",\"choices\":[{\"index\":0,\"text\":\"\\n\\n\\nSolution:\\n\\n```cpp\\n#include <iostream>\\nusing namespace std;\\n\\nint factorial(int n) {\\n    if(n == 0)\\n        return 1;\\n    else\\n        return n * factorial(n - 1);\\n}\\n\\nint main() {\\n    int n;\\n    cout << \\\"Enter a non-negative integer: \\\";\\n    cin >> n;\\n    cout << \\\"Factorial of \\\" << n << \\\" is \\\" << factorial(n) << endl;\\n    return 0;\\n}\\n```\\n\\nThis program uses a recursive function to calculate the factorial of a given non-negative integer. The base case of the recursion is when n is 0, in which case the function returns 1. For all other values of n, the function calls itself with the argument n - 1 and multiplies the result by n\",\"logprobs\":null,\"finish_reason\":\"length\"}],\"usage\":{\"prompt_tokens\":41,\"total_tokens\":241,\"completion_tokens\":200}}\n",
      "Execution time: 12.294774 seconds \n",
      "\n",
      "\n",
      "Prompt==> Problem: Write a function in c++ to reverse a given string.Input: String s.Output: String, the reversed version of s. \n",
      " {\"id\":\"cmpl-390aa1575fe842ab91d13237192f24eb\",\"object\":\"text_completion\",\"created\":436686,\"model\":\"/llmmodels/models--ise-uiuc--Magicoder-S-DS-6.7B/snapshots/cff055b1e110cbe75c0c3759bd436299c6d6bb66\",\"choices\":[{\"index\":0,\"text\":\"\\n\\n\\n#include <iostream>\\n#include <string>\\n\\nusing namespace std;\\n\\nstring reverseString(string s) {\\n    int len = s.length();\\n    string reversed = \\\"\\\";\\n    for (int i = len - 1; i >= 0; i--) {\\n        reversed += s[i];\\n    }\\n    return reversed;\\n}\\n\\nint main() {\\n    string s;\\n    cout << \\\"Enter a string: \\\";\\n    getline(cin, s);\\n    cout << \\\"Reversed string: \\\" << reverseString(s) << endl;\\n    return 0;\\n}\",\"logprobs\":null,\"finish_reason\":\"stop\"}],\"usage\":{\"prompt_tokens\":32,\"total_tokens\":180,\"completion_tokens\":148}}\n",
      "Execution time: 9.249180 seconds \n",
      "\n",
      "\n",
      "Prompt==> Problem: Write a function in c++ to check if a given number is a prime number.Input: Positive integer num.Output: Boolean, indicating whether num is prime. \n",
      " {\"id\":\"cmpl-c5758a48727f4420b73151238a01964c\",\"object\":\"text_completion\",\"created\":436695,\"model\":\"/llmmodels/models--ise-uiuc--Magicoder-S-DS-6.7B/snapshots/cff055b1e110cbe75c0c3759bd436299c6d6bb66\",\"choices\":[{\"index\":0,\"text\":\"\\n\\n\\nSolution:\\n\\n```cpp\\n#include <iostream>\\n#include <cmath>\\n\\nbool isPrime(int num) {\\n    if (num <= 1) {\\n        return false;\\n    }\\n    if (num == 2) {\\n        return true;\\n    }\\n    if (num % 2 == 0) {\\n        return false;\\n    }\\n    for (int i = 3; i <= sqrt(num); i += 2) {\\n        if (num % i == 0) {\\n            return false;\\n        }\\n    }\\n    return true;\\n}\\n\\nint main() {\\n    int num;\\n    std::cout << \\\"Enter a number: \\\";\\n    std::cin >> num;\\n    if (isPrime(num)) {\\n        std::cout << num << \\\" is a prime number.\\\" << std\",\"logprobs\":null,\"finish_reason\":\"length\"}],\"usage\":{\"prompt_tokens\":38,\"total_tokens\":238,\"completion_tokens\":200}}\n",
      "Execution time: 12.598216 seconds \n",
      "\n",
      "\n"
     ]
    }
   ],
   "source": [
    "#Model Inference(Request)\n",
    "if __name__ == \"__main__\":\n",
    "    # Using the generator function to read lines \n",
    "    prompts = read_payloads(request_payload_file)\n",
    "    \n",
    "    global df\n",
    "    for i in range(1):\n",
    "        with concurrent.futures.ThreadPoolExecutor(max_workers=1) as executor:\n",
    "            futures = [executor.submit(inference, {**payload, 'prompt': prompt}) for prompt in prompts]\n",
    "            concurrent.futures.wait(futures)\n",
    "    save_report(report_path, df)"
   ]
  },
  {
   "cell_type": "code",
   "execution_count": null,
   "id": "969fd1ee",
   "metadata": {},
   "outputs": [],
   "source": [
    "# import aiohttp\n",
    "# import asyncio\n",
    "# import time\n",
    "\n",
    "# start_time = time.time()\n",
    "# headers={\"Content-type\":\"application/json\"} \n",
    "# async def main():\n",
    "\n",
    "#     async with aiohttp.ClientSession(trust_env = True, headers=headers) as session:\n",
    "\n",
    "# #         for payload in payloads:\n",
    "# #             url='https://refract.fosfor.com/openchatfinetunedimqlgenerator/d0721c53-c9f5-4d79-a988-2d21df46198f/score' \n",
    "#         async with session.post(url, json=payload) as resp:\n",
    "#                 mql = await resp.json(content_type=None)\n",
    "#                 print(mql)\n",
    "\n",
    "# await main()\n",
    "# print(\"--- %s seconds ---\" % (time.time() - start_time))"
   ]
  },
  {
   "cell_type": "code",
   "execution_count": null,
   "id": "ba00e83d",
   "metadata": {},
   "outputs": [],
   "source": []
  }
 ],
 "metadata": {
  "kernelspec": {
   "display_name": "Python 3",
   "language": "python",
   "name": "python3"
  },
  "language_info": {
   "codemirror_mode": {
    "name": "ipython",
    "version": 3
   },
   "file_extension": ".py",
   "mimetype": "text/x-python",
   "name": "python",
   "nbconvert_exporter": "python",
   "pygments_lexer": "ipython3",
   "version": "3.7.10"
  }
 },
 "nbformat": 4,
 "nbformat_minor": 5
}
