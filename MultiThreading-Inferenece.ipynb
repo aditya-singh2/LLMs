{
 "cells": [
  {
   "cell_type": "code",
   "execution_count": 16,
   "id": "85065d82",
   "metadata": {},
   "outputs": [],
   "source": [
    "import requests\n",
    "import time\n",
    "import os, json\n",
    "import csv\n",
    "import concurrent.futures\n",
    "# from functools import partial\n",
    "import pandas as pd"
   ]
  },
  {
   "cell_type": "code",
   "execution_count": 17,
   "id": "ddec33f0",
   "metadata": {},
   "outputs": [],
   "source": [
    "# url = \"https://refract.fosfor.com/magiccodermodel/6188a3e2-bc43-444e-bfaa-8159fca71b3a/score\"\n",
    "url = \"http://vllm-serving-service:8888/v1/completions\"\n",
    "# lltoken = \"eyJhbGciOiJSUzI1NiIsInR5cCIgOiAiSldUIiwia2lkIiA6ICJ4WTdTd3k5UE1xaXRDQmNSMm5qcVl6bmoxS3NqZzV3TmdOV0xDVzdyUkhvIn0.eyJleHAiOjE3MzA4ODM3MzgsImlhdCI6MTY5OTI2MTMzOCwiYXV0aF90aW1lIjoxNjk5MjUyMDQ0LCJqdGkiOiJmN2EzMzQwYy1kNDQwLTRlMzUtYjk2ZS04YzBiMTc0Y2RhODAiLCJpc3MiOiJodHRwczovL3JlZnJhY3QtbG9naW4uZm9zZm9yLmNvbS9hdXRoL3JlYWxtcy9tb3NhaWMiLCJhdWQiOlsibW9zYWljLWdhdGVrZWVwZXIiLCJhY2NvdW50Il0sInN1YiI6IjZjMjU4MWU3LWZmMTItNDljNy04MDJmLWI2ZjQzOWQxZDIwMSIsInR5cCI6IkJlYXJlciIsImF6cCI6Im1vc2FpYy1nYXRla2VlcGVyIiwic2Vzc2lvbl9zdGF0ZSI6IjBhY2Y3YWZhLTVmMzMtNGRhZS05OGM3LTQyZDQwYTdlZTM2NiIsImFsbG93ZWQtb3JpZ2lucyI6WyIqIl0sInJlYWxtX2FjY2VzcyI6eyJyb2xlcyI6WyJNTE9QUyIsImxvbmdfbGl2ZWRfdG9rZW4iLCJzcGVjdHJhLWRldmVsb3BlciIsImRlZmF1bHQtcm9sZXMtbW9zYWljIiwicmVmcmFjdC1kZXZlbG9wZXIiLCJvZmZsaW5lX2FjY2VzcyIsImFkbWluIiwidW1hX2F1dGhvcml6YXRpb24iLCJyZWZyYWN0LWFkbWluIl19LCJyZXNvdXJjZV9hY2Nlc3MiOnsiYWNjb3VudCI6eyJyb2xlcyI6WyJtYW5hZ2UtYWNjb3VudCIsIm1hbmFnZS1hY2NvdW50LWxpbmtzIiwidmlldy1wcm9maWxlIl19fSwic2NvcGUiOiJvcGVuaWQgZW1haWwgcHJvZmlsZSIsInNpZCI6IjBhY2Y3YWZhLTVmMzMtNGRhZS05OGM3LTQyZDQwYTdlZTM2NiIsImVtYWlsX3ZlcmlmaWVkIjp0cnVlLCJuYW1lIjoiUmVmcmFjdCBCRlNJIiwicHJlZmVycmVkX3VzZXJuYW1lIjoicmVmcmFjdC5iZnNpQGZvc2Zvci5jb20iLCJnaXZlbl9uYW1lIjoiUmVmcmFjdCIsImZhbWlseV9uYW1lIjoiQkZTSSIsImVtYWlsIjoicmVmcmFjdC5iZnNpQGZvc2Zvci5jb20ifQ.b6SYLgjo9Veo3GmJ8eZjCTNupQjpfMhzsoXdYjWwRtvRnNjBfx0gOqcugO9OcGn-mm8wwpSGI5uiL30-I6SdWBjsf1ur6GztoX7j-nP_3SrJJn3UhNNqIO8LbsPi5gGRTzWtnfjz92BF1YaCXxQwPY0P_aa8vJ6JxZz5Uctn9aIPIJZZnnjC_GPXtXurmshM_tEN2kwCjhEyr7wYzRqUoMtBGfpLjZREBzgZY-x6JyYiXNtycb1d6PFcCXf7nJVV8ienEC_x7OuciDzfeqd-SQnImvAHH7rqFdi9smBN08AbkDS2uAbMrokHrmbiBpaimrR013VwCWz2KL5QYlWleA\"\n",
    "request_payload_file = '/data/Magicoder_payloads.txt'\n",
    "report_path = '/data/vLLM_15Concurrency_1gpu.csv'\n",
    "df = pd.DataFrame(columns=['Prompt', 'Response', 'Response_status', 'Time (seconds)'])"
   ]
  },
  {
   "cell_type": "code",
   "execution_count": 18,
   "id": "201050d7",
   "metadata": {},
   "outputs": [],
   "source": [
    "payload = {\"prompt\": \"Problem: Write a function in python to check if two strings are anagrams.Input: Strings s1 and s2.Output: Boolean, indicating whether s1 and s2 are anagrams.\", \n",
    "           \"max_tokens\": 200,\n",
    "           \"temperature\": 0,\n",
    "           \"model\": \"/llmmodels/models--ise-uiuc--Magicoder-S-DS-6.7B/snapshots/cff055b1e110cbe75c0c3759bd436299c6d6bb66\"}"
   ]
  },
  {
   "cell_type": "code",
   "execution_count": 19,
   "id": "30c55110",
   "metadata": {},
   "outputs": [],
   "source": [
    "def read_payloads(file_path):\n",
    "    with open(file_path, 'r') as file:\n",
    "        for line in file:\n",
    "            prompt = json.loads(line.strip())\n",
    "            yield prompt['payload']"
   ]
  },
  {
   "cell_type": "code",
   "execution_count": 20,
   "id": "90a0dade",
   "metadata": {},
   "outputs": [],
   "source": [
    "def my_decorator(func):\n",
    "    def calculate_execution_time(*args, **kwargs):\n",
    "        global df\n",
    "        start_time = time.time()\n",
    "        result, _= func(*args, **kwargs)\n",
    "        end_time = time.time()\n",
    "        execution_time = end_time - start_time\n",
    "        data = {'Prompt':_,'Response':result.text, 'Response_status':result.status_code, 'Time (seconds)':f'{execution_time:.6f}'}\n",
    "        df = df.append(data, ignore_index=True)\n",
    "        print(f\"Execution time: {execution_time:.6f} seconds \\n\\n\")\n",
    "        return result\n",
    "    return calculate_execution_time"
   ]
  },
  {
   "cell_type": "code",
   "execution_count": 21,
   "id": "4f946126",
   "metadata": {},
   "outputs": [],
   "source": [
    "def save_report(file_path, df):\n",
    "    print(df)\n",
    "    df.to_csv(file_path, index=False)"
   ]
  },
  {
   "cell_type": "code",
   "execution_count": 22,
   "id": "3ed2a78a",
   "metadata": {},
   "outputs": [],
   "source": [
    "@my_decorator\n",
    "def inference(payload_data=None):\n",
    "    headers = {\n",
    "        'Content-Type': 'application/json'\n",
    "    }\n",
    "    try:\n",
    "        response = requests.request(\"POST\", url, headers=headers, json=payload_data)\n",
    "        print(f\"Prompt==> {payload_data['prompt']} \\n {response.text}\")\n",
    "        return response, payload_data['prompt']\n",
    "    except Exception as e:\n",
    "        print(e)\n",
    "        "
   ]
  },
  {
   "cell_type": "code",
   "execution_count": null,
   "id": "c706b11c",
   "metadata": {},
   "outputs": [
    {
     "name": "stdout",
     "output_type": "stream",
     "text": [
      "loop 0+++++++++++++++++++++++++++++\n",
      "Prompt==> Problem: Write a function in python to reverse a given string.Input: String s.Output: String, the reversed version of s. \n",
      " {\"id\":\"cmpl-d95d870e84b54a33bc3a569bec89e950\",\"object\":\"text_completion\",\"created\":455946,\"model\":\"/llmmodels/models--ise-uiuc--Magicoder-S-DS-6.7B/snapshots/cff055b1e110cbe75c0c3759bd436299c6d6bb66\",\"choices\":[{\"index\":0,\"text\":\"\\n\\n\\ndef reverse_string(s):\\n    return s[::-1]\\n\\n# Test the function\\nprint(reverse_string(\\\"Hello, World!\\\"))  # Output: !dlroW ,olleH\",\"logprobs\":null,\"finish_reason\":\"stop\"}],\"usage\":{\"prompt_tokens\":31,\"total_tokens\":82,\"completion_tokens\":51}}\n",
      "Execution time: 3.476907 seconds \n",
      "\n",
      "\n",
      "Prompt==> Problem: Write a function in python to count the number of words in a given string.Input: String s.Output: Integer, the number of words in s. \n",
      " {\"id\":\"cmpl-0f0a69943a254bc490cc27535b571e06\",\"object\":\"text_completion\",\"created\":455946,\"model\":\"/llmmodels/models--ise-uiuc--Magicoder-S-DS-6.7B/snapshots/cff055b1e110cbe75c0c3759bd436299c6d6bb66\",\"choices\":[{\"index\":0,\"text\":\"\\n\\n\\ndef count_words(s):\\n    return len(s.split())\\n\\n# Test the function\\ns = \\\"Hello, how are you doing today?\\\"\\nprint(count_words(s))  # Output: 5\",\"logprobs\":null,\"finish_reason\":\"stop\"}],\"usage\":{\"prompt_tokens\":36,\"total_tokens\":89,\"completion_tokens\":53}}\n",
      "Execution time: 3.599947 seconds \n",
      "\n",
      "\n",
      "Prompt==> Problem: Write a function in python to check if a given string is a palindrome.Input: String s.Output: Boolean, indicating whether s is a palindrome. \n",
      " {\"id\":\"cmpl-8a2624eb475c491f8d87f35b24ac19ed\",\"object\":\"text_completion\",\"created\":455946,\"model\":\"/llmmodels/models--ise-uiuc--Magicoder-S-DS-6.7B/snapshots/cff055b1e110cbe75c0c3759bd436299c6d6bb66\",\"choices\":[{\"index\":0,\"text\":\"\\n\\n\\ndef is_palindrome(s):\\n    return s == s[::-1]\\n\\n# Test the function\\nprint(is_palindrome('madam'))  # True\\nprint(is_palindrome('hello'))  # False\",\"logprobs\":null,\"finish_reason\":\"stop\"}],\"usage\":{\"prompt_tokens\":39,\"total_tokens\":98,\"completion_tokens\":59}}\n",
      "Execution time: 3.970013 seconds \n",
      "\n",
      "\n",
      "Prompt==> Problem: Write a function in python to calculate the factorial of a given non-negative integer.Input: Non-negative integer n. Output: Integer, the factorial of n. \n",
      " {\"id\":\"cmpl-467262f540d749129007148e57ca3b05\",\"object\":\"text_completion\",\"created\":455946,\"model\":\"/llmmodels/models--ise-uiuc--Magicoder-S-DS-6.7B/snapshots/cff055b1e110cbe75c0c3759bd436299c6d6bb66\",\"choices\":[{\"index\":0,\"text\":\"\\n\\n\\ndef factorial(n):\\n    if n == 0:\\n        return 1\\n    else:\\n        return n * factorial(n-1)\\n\\n# Test the function\\nprint(factorial(5))  # Output: 120\\nprint(factorial(0))  # Output: 1\\nprint(factorial(10))  # Output: 3628800\",\"logprobs\":null,\"finish_reason\":\"stop\"}],\"usage\":{\"prompt_tokens\":40,\"total_tokens\":135,\"completion_tokens\":95}}\n",
      "Execution time: 6.057590 seconds \n",
      "\n",
      "\n",
      "Prompt==> Problem: Write a function in python to check if two strings are anagrams.Input: Strings s1 and s2.Output: Boolean, indicating whether s1 and s2 are anagrams. \n",
      " {\"id\":\"cmpl-88bd07a1a6434d849e87c497fb136f9b\",\"object\":\"text_completion\",\"created\":455946,\"model\":\"/llmmodels/models--ise-uiuc--Magicoder-S-DS-6.7B/snapshots/cff055b1e110cbe75c0c3759bd436299c6d6bb66\",\"choices\":[{\"index\":0,\"text\":\"\\nAn anagram is a word or phrase formed by rearranging the letters of a different word or phrase, typically using all the original letters exactly once.\\n\\ndef are_anagrams(s1, s2):\\n    return sorted(s1) == sorted(s2)\\n\\n# Test the function\\nprint(are_anagrams(\\\"listen\\\", \\\"silent\\\"))  # True\\nprint(are_anagrams(\\\"hello\\\", \\\"world\\\"))  # False\",\"logprobs\":null,\"finish_reason\":\"stop\"}],\"usage\":{\"prompt_tokens\":45,\"total_tokens\":148,\"completion_tokens\":103}}\n",
      "Execution time: 6.427230 seconds \n",
      "\n",
      "\n",
      "Prompt==> Problem: Write a function in python to calculate the sum of the digits of a given positive integer.Input: Positive integer num.Output: Integer, the sum of the digits of num. \n",
      " {\"id\":\"cmpl-f63535dda6824faf9eb79f9e1e3f29a7\",\"object\":\"text_completion\",\"created\":455946,\"model\":\"/llmmodels/models--ise-uiuc--Magicoder-S-DS-6.7B/snapshots/cff055b1e110cbe75c0c3759bd436299c6d6bb66\",\"choices\":[{\"index\":0,\"text\":\"\\n\\n\\ndef sum_of_digits(num):\\n    return sum(int(digit) for digit in str(num))\\n\\n# Test the function\\nprint(sum_of_digits(1234))  # Output: 10\\nprint(sum_of_digits(5678))  # Output: 26\\nprint(sum_of_digits(9001))  # Output: 10\",\"logprobs\":null,\"finish_reason\":\"stop\"}],\"usage\":{\"prompt_tokens\":43,\"total_tokens\":146,\"completion_tokens\":103}}\n",
      "Execution time: 6.534299 seconds \n",
      "\n",
      "\n",
      "Prompt==> Problem: Write a function in java to reverse a given string.Input: String s.Output: String, the reversed version of s. \n",
      " {\"id\":\"cmpl-9fdd41b7ac6a4882bd1f15404c954193\",\"object\":\"text_completion\",\"created\":455946,\"model\":\"/llmmodels/models--ise-uiuc--Magicoder-S-DS-6.7B/snapshots/cff055b1e110cbe75c0c3759bd436299c6d6bb66\",\"choices\":[{\"index\":0,\"text\":\"\\n\\n\\npublic class Main {\\n    public static void main(String[] args) {\\n        String s = \\\"Hello World\\\";\\n        System.out.println(reverseString(s));\\n    }\\n\\n    public static String reverseString(String s) {\\n        String reversed = \\\"\\\";\\n        for (int i = s.length() - 1; i >= 0; i--) {\\n            reversed += s.charAt(i);\\n        }\\n        return reversed;\\n    }\\n}\",\"logprobs\":null,\"finish_reason\":\"stop\"}],\"usage\":{\"prompt_tokens\":31,\"total_tokens\":146,\"completion_tokens\":115}}\n",
      "Execution time: 7.216955 seconds \n",
      "\n",
      "\n"
     ]
    }
   ],
   "source": [
    "#Model Inference(Request)\n",
    "if __name__ == \"__main__\":\n",
    "    # Using the generator function to read lines \n",
    "    prompts = list(read_payloads(request_payload_file))\n",
    "    \n",
    "    global df\n",
    "    for i in range(15):\n",
    "        print(f\"loop {i}+++++++++++++++++++++++++++++\")\n",
    "        with concurrent.futures.ThreadPoolExecutor(max_workers=15) as executor:\n",
    "            futures = [executor.submit(inference, {**payload, 'prompt': prompt}) for prompt in prompts]\n",
    "            concurrent.futures.wait(futures)\n",
    "    save_report(report_path, df)"
   ]
  },
  {
   "cell_type": "code",
   "execution_count": null,
   "id": "969fd1ee",
   "metadata": {},
   "outputs": [],
   "source": [
    "# import aiohttp\n",
    "# import asyncio\n",
    "# import time\n",
    "\n",
    "# start_time = time.time()\n",
    "# headers={\"Content-type\":\"application/json\"} \n",
    "# async def main():\n",
    "\n",
    "#     async with aiohttp.ClientSession(trust_env = True, headers=headers) as session:\n",
    "\n",
    "# #         for payload in payloads:\n",
    "# #             url='https://refract.fosfor.com/openchatfinetunedimqlgenerator/d0721c53-c9f5-4d79-a988-2d21df46198f/score' \n",
    "#         async with session.post(url, json=payload) as resp:\n",
    "#                 mql = await resp.json(content_type=None)\n",
    "#                 print(mql)\n",
    "\n",
    "# await main()\n",
    "# print(\"--- %s seconds ---\" % (time.time() - start_time))"
   ]
  },
  {
   "cell_type": "code",
   "execution_count": null,
   "id": "ba00e83d",
   "metadata": {},
   "outputs": [],
   "source": []
  }
 ],
 "metadata": {
  "kernelspec": {
   "display_name": "Python 3",
   "language": "python",
   "name": "python3"
  },
  "language_info": {
   "codemirror_mode": {
    "name": "ipython",
    "version": 3
   },
   "file_extension": ".py",
   "mimetype": "text/x-python",
   "name": "python",
   "nbconvert_exporter": "python",
   "pygments_lexer": "ipython3",
   "version": "3.7.10"
  }
 },
 "nbformat": 4,
 "nbformat_minor": 5
}
