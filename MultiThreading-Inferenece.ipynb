{
 "cells": [
  {
   "cell_type": "code",
   "execution_count": 2,
   "id": "85065d82",
   "metadata": {},
   "outputs": [],
   "source": [
    "import requests\n",
    "import time\n",
    "import os, json\n",
    "import csv\n",
    "import concurrent.futures\n",
    "from functools import partial"
   ]
  },
  {
   "cell_type": "code",
   "execution_count": 3,
   "id": "ddec33f0",
   "metadata": {},
   "outputs": [],
   "source": [
    "# url = \"https://refract.fosfor.com/magiccodermodel/6188a3e2-bc43-444e-bfaa-8159fca71b3a/score\"\n",
    "url = \"http://vllm-serving-service:8888/v1/completions\"\n",
    "# lltoken = \"eyJhbGciOiJSUzI1NiIsInR5cCIgOiAiSldUIiwia2lkIiA6ICJ4WTdTd3k5UE1xaXRDQmNSMm5qcVl6bmoxS3NqZzV3TmdOV0xDVzdyUkhvIn0.eyJleHAiOjE3MzA4ODM3MzgsImlhdCI6MTY5OTI2MTMzOCwiYXV0aF90aW1lIjoxNjk5MjUyMDQ0LCJqdGkiOiJmN2EzMzQwYy1kNDQwLTRlMzUtYjk2ZS04YzBiMTc0Y2RhODAiLCJpc3MiOiJodHRwczovL3JlZnJhY3QtbG9naW4uZm9zZm9yLmNvbS9hdXRoL3JlYWxtcy9tb3NhaWMiLCJhdWQiOlsibW9zYWljLWdhdGVrZWVwZXIiLCJhY2NvdW50Il0sInN1YiI6IjZjMjU4MWU3LWZmMTItNDljNy04MDJmLWI2ZjQzOWQxZDIwMSIsInR5cCI6IkJlYXJlciIsImF6cCI6Im1vc2FpYy1nYXRla2VlcGVyIiwic2Vzc2lvbl9zdGF0ZSI6IjBhY2Y3YWZhLTVmMzMtNGRhZS05OGM3LTQyZDQwYTdlZTM2NiIsImFsbG93ZWQtb3JpZ2lucyI6WyIqIl0sInJlYWxtX2FjY2VzcyI6eyJyb2xlcyI6WyJNTE9QUyIsImxvbmdfbGl2ZWRfdG9rZW4iLCJzcGVjdHJhLWRldmVsb3BlciIsImRlZmF1bHQtcm9sZXMtbW9zYWljIiwicmVmcmFjdC1kZXZlbG9wZXIiLCJvZmZsaW5lX2FjY2VzcyIsImFkbWluIiwidW1hX2F1dGhvcml6YXRpb24iLCJyZWZyYWN0LWFkbWluIl19LCJyZXNvdXJjZV9hY2Nlc3MiOnsiYWNjb3VudCI6eyJyb2xlcyI6WyJtYW5hZ2UtYWNjb3VudCIsIm1hbmFnZS1hY2NvdW50LWxpbmtzIiwidmlldy1wcm9maWxlIl19fSwic2NvcGUiOiJvcGVuaWQgZW1haWwgcHJvZmlsZSIsInNpZCI6IjBhY2Y3YWZhLTVmMzMtNGRhZS05OGM3LTQyZDQwYTdlZTM2NiIsImVtYWlsX3ZlcmlmaWVkIjp0cnVlLCJuYW1lIjoiUmVmcmFjdCBCRlNJIiwicHJlZmVycmVkX3VzZXJuYW1lIjoicmVmcmFjdC5iZnNpQGZvc2Zvci5jb20iLCJnaXZlbl9uYW1lIjoiUmVmcmFjdCIsImZhbWlseV9uYW1lIjoiQkZTSSIsImVtYWlsIjoicmVmcmFjdC5iZnNpQGZvc2Zvci5jb20ifQ.b6SYLgjo9Veo3GmJ8eZjCTNupQjpfMhzsoXdYjWwRtvRnNjBfx0gOqcugO9OcGn-mm8wwpSGI5uiL30-I6SdWBjsf1ur6GztoX7j-nP_3SrJJn3UhNNqIO8LbsPi5gGRTzWtnfjz92BF1YaCXxQwPY0P_aa8vJ6JxZz5Uctn9aIPIJZZnnjC_GPXtXurmshM_tEN2kwCjhEyr7wYzRqUoMtBGfpLjZREBzgZY-x6JyYiXNtycb1d6PFcCXf7nJVV8ienEC_x7OuciDzfeqd-SQnImvAHH7rqFdi9smBN08AbkDS2uAbMrokHrmbiBpaimrR013VwCWz2KL5QYlWleA\"\n",
    "request_payload_file = '/data/Magicoder_payloads.txt'\n",
    "report_path = '/data/vLLM_5Concurrency_1gpu.csv'"
   ]
  },
  {
   "cell_type": "code",
   "execution_count": 4,
   "id": "201050d7",
   "metadata": {},
   "outputs": [],
   "source": [
    "payload = {\"prompt\": \"Problem: Write a function in python to check if two strings are anagrams.Input: Strings s1 and s2.Output: Boolean, indicating whether s1 and s2 are anagrams.\", \n",
    "           \"max_tokens\": 200,\n",
    "           \"temperature\": 0,\n",
    "           \"model\": \"/llmmodels/models--ise-uiuc--Magicoder-S-DS-6.7B/snapshots/cff055b1e110cbe75c0c3759bd436299c6d6bb66\"}"
   ]
  },
  {
   "cell_type": "code",
   "execution_count": 5,
   "id": "90a0dade",
   "metadata": {},
   "outputs": [],
   "source": [
    "def my_decorator(func):\n",
    "    def calculate_execution_time(*args, **kwargs):\n",
    "        start_time = time.time()\n",
    "        result,_ = func(*args, **kwargs)\n",
    "        end_time = time.time()\n",
    "        execution_time = end_time - start_time\n",
    "        data = [\n",
    "            ['Thread', 'Response', 'Time (seconds)'],\n",
    "            [result, _.text, f'{execution_time:.6f}'],\n",
    "        ]\n",
    "        save_report(report_path, data)\n",
    "        print(f\"Execution time of {result}: {execution_time:.6f} seconds - Response===> {_.text} \\n\\n\")\n",
    "        return result, _\n",
    "    return calculate_execution_time"
   ]
  },
  {
   "cell_type": "code",
   "execution_count": 7,
   "id": "4f946126",
   "metadata": {},
   "outputs": [],
   "source": [
    "def save_report(file_path, data):\n",
    "    file_exists = os.path.exists(file_path)\n",
    "    with open(file_path, 'a', newline='') as csv_file:\n",
    "        csv_writer = csv.writer(csv_file)\n",
    "        if not file_exists:\n",
    "            csv_writer.writerow(data[0])\n",
    "        for row in data[1:]:\n",
    "            csv_writer.writerow(row)"
   ]
  },
  {
   "cell_type": "code",
   "execution_count": null,
   "id": "3ed2a78a",
   "metadata": {},
   "outputs": [
    {
     "name": "stdout",
     "output_type": "stream",
     "text": [
      "Execution time of Thread 3: 9.195967 seconds - Response===> {\"id\":\"cmpl-add624175ddf43ac83d097f1199e953c\",\"object\":\"text_completion\",\"created\":95249,\"model\":\"/llmmodels/models--ise-uiuc--Magicoder-S-DS-6.7B/snapshots/cff055b1e110cbe75c0c3759bd436299c6d6bb66\",\"choices\":[{\"index\":0,\"text\":\"\\nAn anagram is a word or phrase formed by rearranging the letters of a different word or phrase, typically using all the original letters exactly once.\\n\\ndef are_anagrams(s1, s2):\\n    return sorted(s1) == sorted(s2)\\n\\n# Test the function\\nprint(are_anagrams(\\\"listen\\\", \\\"silent\\\"))  # True\\nprint(are_anagrams(\\\"hello\\\", \\\"world\\\"))  # False\",\"logprobs\":null,\"finish_reason\":\"stop\"}],\"usage\":{\"prompt_tokens\":45,\"total_tokens\":148,\"completion_tokens\":103}} \n",
      "\n",
      "\n",
      "Execution time of Thread 2: 9.414700 seconds - Response===> {\"id\":\"cmpl-93e74e1ee6b64b05867d888c440c8825\",\"object\":\"text_completion\",\"created\":95249,\"model\":\"/llmmodels/models--ise-uiuc--Magicoder-S-DS-6.7B/snapshots/cff055b1e110cbe75c0c3759bd436299c6d6bb66\",\"choices\":[{\"index\":0,\"text\":\"\\nAn anagram is a word or phrase formed by rearranging the letters of a different word or phrase, typically using all the original letters exactly once.\\n\\ndef are_anagrams(s1, s2):\\n    return sorted(s1) == sorted(s2)\\n\\n# Test the function\\nprint(are_anagrams(\\\"listen\\\", \\\"silent\\\"))  # True\\nprint(are_anagrams(\\\"hello\\\", \\\"world\\\"))  # False\",\"logprobs\":null,\"finish_reason\":\"stop\"}],\"usage\":{\"prompt_tokens\":45,\"total_tokens\":148,\"completion_tokens\":103}} \n",
      "\n",
      "\n",
      "Execution time of Thread 21: 8.932972 seconds - Response===> {\"id\":\"cmpl-e36943859d434d018cae7debc35c238f\",\"object\":\"text_completion\",\"created\":95250,\"model\":\"/llmmodels/models--ise-uiuc--Magicoder-S-DS-6.7B/snapshots/cff055b1e110cbe75c0c3759bd436299c6d6bb66\",\"choices\":[{\"index\":0,\"text\":\"\\nAn anagram is a word or phrase formed by rearranging the letters of a different word or phrase, typically using all the original letters exactly once.\\n\\ndef are_anagrams(s1, s2):\\n    return sorted(s1) == sorted(s2)\\n\\n# Test the function\\nprint(are_anagrams(\\\"listen\\\", \\\"silent\\\"))  # True\\nprint(are_anagrams(\\\"hello\\\", \\\"world\\\"))  # False\",\"logprobs\":null,\"finish_reason\":\"stop\"}],\"usage\":{\"prompt_tokens\":45,\"total_tokens\":148,\"completion_tokens\":103}} \n",
      "\n",
      "\n",
      "Execution time of Thread 13: 9.072505 seconds - Response===> {\"id\":\"cmpl-d3c8c53d446d43939672ebd06cd2efbf\",\"object\":\"text_completion\",\"created\":95250,\"model\":\"/llmmodels/models--ise-uiuc--Magicoder-S-DS-6.7B/snapshots/cff055b1e110cbe75c0c3759bd436299c6d6bb66\",\"choices\":[{\"index\":0,\"text\":\"\\nAn anagram is a word or phrase formed by rearranging the letters of a different word or phrase, typically using all the original letters exactly once.\\n\\ndef are_anagrams(s1, s2):\\n    return sorted(s1) == sorted(s2)\\n\\n# Test the function\\nprint(are_anagrams(\\\"listen\\\", \\\"silent\\\"))  # True\\nprint(are_anagrams(\\\"hello\\\", \\\"world\\\"))  # False\",\"logprobs\":null,\"finish_reason\":\"stop\"}],\"usage\":{\"prompt_tokens\":45,\"total_tokens\":148,\"completion_tokens\":103}} \n",
      "\n",
      "\n",
      "Execution time of Thread 19: 9.040822 seconds - Response===> {\"id\":\"cmpl-cc685fc1e96849c0875d95445cdab837\",\"object\":\"text_completion\",\"created\":95250,\"model\":\"/llmmodels/models--ise-uiuc--Magicoder-S-DS-6.7B/snapshots/cff055b1e110cbe75c0c3759bd436299c6d6bb66\",\"choices\":[{\"index\":0,\"text\":\"\\nAn anagram is a word or phrase formed by rearranging the letters of a different word or phrase, typically using all the original letters exactly once.\\n\\ndef are_anagrams(s1, s2):\\n    return sorted(s1) == sorted(s2)\\n\\n# Test the function\\nprint(are_anagrams(\\\"listen\\\", \\\"silent\\\"))  # True\\nprint(are_anagrams(\\\"hello\\\", \\\"world\\\"))  # False\",\"logprobs\":null,\"finish_reason\":\"stop\"}],\"usage\":{\"prompt_tokens\":45,\"total_tokens\":148,\"completion_tokens\":103}} \n",
      "\n",
      "\n",
      "Execution time of Thread 4: 9.373417 seconds - Response===> {\"id\":\"cmpl-20ca12e22e5e43919aa5b3cb6f8af6a4\",\"object\":\"text_completion\",\"created\":95250,\"model\":\"/llmmodels/models--ise-uiuc--Magicoder-S-DS-6.7B/snapshots/cff055b1e110cbe75c0c3759bd436299c6d6bb66\",\"choices\":[{\"index\":0,\"text\":\"\\nAn anagram is a word or phrase formed by rearranging the letters of a different word or phrase, typically using all the original letters exactly once.\\n\\ndef are_anagrams(s1, s2):\\n    return sorted(s1) == sorted(s2)\\n\\n# Test the function\\nprint(are_anagrams(\\\"listen\\\", \\\"silent\\\"))  # True\\nprint(are_anagrams(\\\"hello\\\", \\\"world\\\"))  # False\",\"logprobs\":null,\"finish_reason\":\"stop\"}],\"usage\":{\"prompt_tokens\":45,\"total_tokens\":148,\"completion_tokens\":103}} \n",
      "\n",
      "\n",
      "Execution time of Thread 14: 9.066901 seconds - Response===> {\"id\":\"cmpl-1134f4cd1a364292b23b0617f24404b0\",\"object\":\"text_completion\",\"created\":95250,\"model\":\"/llmmodels/models--ise-uiuc--Magicoder-S-DS-6.7B/snapshots/cff055b1e110cbe75c0c3759bd436299c6d6bb66\",\"choices\":[{\"index\":0,\"text\":\"\\nAn anagram is a word or phrase formed by rearranging the letters of a different word or phrase, typically using all the original letters exactly once.\\n\\ndef are_anagrams(s1, s2):\\n    return sorted(s1) == sorted(s2)\\n\\n# Test the function\\nprint(are_anagrams(\\\"listen\\\", \\\"silent\\\"))  # True\\nprint(are_anagrams(\\\"hello\\\", \\\"world\\\"))  # False\",\"logprobs\":null,\"finish_reason\":\"stop\"}],\"usage\":{\"prompt_tokens\":45,\"total_tokens\":148,\"completion_tokens\":103}} \n",
      "\n",
      "\n",
      "Execution time of Thread 12: 9.192574 seconds - Response===> {\"id\":\"cmpl-687773c5362749b1b01b8300ccaab5f7\",\"object\":\"text_completion\",\"created\":95250,\"model\":\"/llmmodels/models--ise-uiuc--Magicoder-S-DS-6.7B/snapshots/cff055b1e110cbe75c0c3759bd436299c6d6bb66\",\"choices\":[{\"index\":0,\"text\":\"\\nAn anagram is a word or phrase formed by rearranging the letters of a different word or phrase, typically using all the original letters exactly once.\\n\\ndef are_anagrams(s1, s2):\\n    return sorted(s1) == sorted(s2)\\n\\n# Test the function\\nprint(are_anagrams(\\\"listen\\\", \\\"silent\\\"))  # True\\nprint(are_anagrams(\\\"hello\\\", \\\"world\\\"))  # False\",\"logprobs\":null,\"finish_reason\":\"stop\"}],\"usage\":{\"prompt_tokens\":45,\"total_tokens\":148,\"completion_tokens\":103}} \n",
      "\n",
      "\n",
      "Execution time of Thread 5: 9.353104 seconds - Response===> {\"id\":\"cmpl-4edaa00855e1403088d8c34229daf2e7\",\"object\":\"text_completion\",\"created\":95250,\"model\":\"/llmmodels/models--ise-uiuc--Magicoder-S-DS-6.7B/snapshots/cff055b1e110cbe75c0c3759bd436299c6d6bb66\",\"choices\":[{\"index\":0,\"text\":\"\\nAn anagram is a word or phrase formed by rearranging the letters of a different word or phrase, typically using all the original letters exactly once.\\n\\ndef are_anagrams(s1, s2):\\n    return sorted(s1) == sorted(s2)\\n\\n# Test the function\\nprint(are_anagrams(\\\"listen\\\", \\\"silent\\\"))  # True\\nprint(are_anagrams(\\\"hello\\\", \\\"world\\\"))  # False\",\"logprobs\":null,\"finish_reason\":\"stop\"}],\"usage\":{\"prompt_tokens\":45,\"total_tokens\":148,\"completion_tokens\":103}} \n",
      "\n",
      "\n",
      "Execution time of Thread 29: 8.449733 seconds - Response===> {\"id\":\"cmpl-0417e55b18024185a128587990b5c80a\",\"object\":\"text_completion\",\"created\":95250,\"model\":\"/llmmodels/models--ise-uiuc--Magicoder-S-DS-6.7B/snapshots/cff055b1e110cbe75c0c3759bd436299c6d6bb66\",\"choices\":[{\"index\":0,\"text\":\"\\nAn anagram is a word or phrase formed by rearranging the letters of a different word or phrase, typically using all the original letters exactly once.\\n\\ndef are_anagrams(s1, s2):\\n    return sorted(s1) == sorted(s2)\\n\\n# Test the function\\nprint(are_anagrams(\\\"listen\\\", \\\"silent\\\"))  # True\\nprint(are_anagrams(\\\"hello\\\", \\\"world\\\"))  # False\",\"logprobs\":null,\"finish_reason\":\"stop\"}],\"usage\":{\"prompt_tokens\":45,\"total_tokens\":148,\"completion_tokens\":103}} \n",
      "\n",
      "\n",
      "Execution time of Thread 31: 8.374654 seconds - Response===> {\"id\":\"cmpl-679dc62fc3134898b2d86bffca64b7ad\",\"object\":\"text_completion\",\"created\":95250,\"model\":\"/llmmodels/models--ise-uiuc--Magicoder-S-DS-6.7B/snapshots/cff055b1e110cbe75c0c3759bd436299c6d6bb66\",\"choices\":[{\"index\":0,\"text\":\"\\nAn anagram is a word or phrase formed by rearranging the letters of a different word or phrase, typically using all the original letters exactly once.\\n\\ndef are_anagrams(s1, s2):\\n    return sorted(s1) == sorted(s2)\\n\\n# Test the function\\nprint(are_anagrams(\\\"listen\\\", \\\"silent\\\"))  # True\\nprint(are_anagrams(\\\"hello\\\", \\\"world\\\"))  # False\",\"logprobs\":null,\"finish_reason\":\"stop\"}],\"usage\":{\"prompt_tokens\":45,\"total_tokens\":148,\"completion_tokens\":103}} \n",
      "\n",
      "\n",
      "Execution time of Thread 10: 9.310300 seconds - Response===> {\"id\":\"cmpl-2a4d3972418f43d38b63db53cbeefbd6\",\"object\":\"text_completion\",\"created\":95249,\"model\":\"/llmmodels/models--ise-uiuc--Magicoder-S-DS-6.7B/snapshots/cff055b1e110cbe75c0c3759bd436299c6d6bb66\",\"choices\":[{\"index\":0,\"text\":\"\\nAn anagram is a word or phrase formed by rearranging the letters of a different word or phrase, typically using all the original letters exactly once.\\n\\ndef are_anagrams(s1, s2):\\n    return sorted(s1) == sorted(s2)\\n\\n# Test the function\\nprint(are_anagrams(\\\"listen\\\", \\\"silent\\\"))  # True\\nprint(are_anagrams(\\\"hello\\\", \\\"world\\\"))  # False\",\"logprobs\":null,\"finish_reason\":\"stop\"}],\"usage\":{\"prompt_tokens\":45,\"total_tokens\":148,\"completion_tokens\":103}} \n",
      "\n",
      "\n",
      "Execution time of Thread 18: 9.046320 seconds - Response===> {\"id\":\"cmpl-71dc36eea48747e7a9f7ccb78879366f\",\"object\":\"text_completion\",\"created\":95250,\"model\":\"/llmmodels/models--ise-uiuc--Magicoder-S-DS-6.7B/snapshots/cff055b1e110cbe75c0c3759bd436299c6d6bb66\",\"choices\":[{\"index\":0,\"text\":\"\\nAn anagram is a word or phrase formed by rearranging the letters of a different word or phrase, typically using all the original letters exactly once.\\n\\ndef are_anagrams(s1, s2):\\n    return sorted(s1) == sorted(s2)\\n\\n# Test the function\\nprint(are_anagrams(\\\"listen\\\", \\\"silent\\\"))  # True\\nprint(are_anagrams(\\\"hello\\\", \\\"world\\\"))  # False\",\"logprobs\":null,\"finish_reason\":\"stop\"}],\"usage\":{\"prompt_tokens\":45,\"total_tokens\":148,\"completion_tokens\":103}} \n",
      "\n",
      "\n",
      "Execution time of Thread 9: 9.315550 seconds - Response===> {\"id\":\"cmpl-52bb93b322be4357adf96614fb07d1be\",\"object\":\"text_completion\",\"created\":95249,\"model\":\"/llmmodels/models--ise-uiuc--Magicoder-S-DS-6.7B/snapshots/cff055b1e110cbe75c0c3759bd436299c6d6bb66\",\"choices\":[{\"index\":0,\"text\":\"\\nAn anagram is a word or phrase formed by rearranging the letters of a different word or phrase, typically using all the original letters exactly once.\\n\\ndef are_anagrams(s1, s2):\\n    return sorted(s1) == sorted(s2)\\n\\n# Test the function\\nprint(are_anagrams(\\\"listen\\\", \\\"silent\\\"))  # True\\nprint(are_anagrams(\\\"hello\\\", \\\"world\\\"))  # False\",\"logprobs\":null,\"finish_reason\":\"stop\"}],\"usage\":{\"prompt_tokens\":45,\"total_tokens\":148,\"completion_tokens\":103}} \n",
      "\n",
      "\n",
      "Execution time of Thread 20: 9.036132 seconds - Response===> {\"id\":\"cmpl-868d7ee7aa5f4f84aef3eb57d50f7cde\",\"object\":\"text_completion\",\"created\":95250,\"model\":\"/llmmodels/models--ise-uiuc--Magicoder-S-DS-6.7B/snapshots/cff055b1e110cbe75c0c3759bd436299c6d6bb66\",\"choices\":[{\"index\":0,\"text\":\"\\nAn anagram is a word or phrase formed by rearranging the letters of a different word or phrase, typically using all the original letters exactly once.\\n\\ndef are_anagrams(s1, s2):\\n    return sorted(s1) == sorted(s2)\\n\\n# Test the function\\nprint(are_anagrams(\\\"listen\\\", \\\"silent\\\"))  # True\\nprint(are_anagrams(\\\"hello\\\", \\\"world\\\"))  # False\",\"logprobs\":null,\"finish_reason\":\"stop\"}],\"usage\":{\"prompt_tokens\":45,\"total_tokens\":148,\"completion_tokens\":103}} \n",
      "\n",
      "\n",
      "Execution time of Thread 6: 9.347409 seconds - Response===> {\"id\":\"cmpl-70958634891b4475aebb6afa8c8e69c6\",\"object\":\"text_completion\",\"created\":95250,\"model\":\"/llmmodels/models--ise-uiuc--Magicoder-S-DS-6.7B/snapshots/cff055b1e110cbe75c0c3759bd436299c6d6bb66\",\"choices\":[{\"index\":0,\"text\":\"\\nAn anagram is a word or phrase formed by rearranging the letters of a different word or phrase, typically using all the original letters exactly once.\\n\\ndef are_anagrams(s1, s2):\\n    return sorted(s1) == sorted(s2)\\n\\n# Test the function\\nprint(are_anagrams(\\\"listen\\\", \\\"silent\\\"))  # True\\nprint(are_anagrams(\\\"hello\\\", \\\"world\\\"))  # False\",\"logprobs\":null,\"finish_reason\":\"stop\"}],\"usage\":{\"prompt_tokens\":45,\"total_tokens\":148,\"completion_tokens\":103}} \n",
      "\n",
      "\n",
      "Execution time of Thread 27: 8.490803 seconds - Response===> {\"id\":\"cmpl-90bf659837924393816cdb6ebbb431d9\",\"object\":\"text_completion\",\"created\":95250,\"model\":\"/llmmodels/models--ise-uiuc--Magicoder-S-DS-6.7B/snapshots/cff055b1e110cbe75c0c3759bd436299c6d6bb66\",\"choices\":[{\"index\":0,\"text\":\"\\nAn anagram is a word or phrase formed by rearranging the letters of a different word or phrase, typically using all the original letters exactly once.\\n\\ndef are_anagrams(s1, s2):\\n    return sorted(s1) == sorted(s2)\\n\\n# Test the function\\nprint(are_anagrams(\\\"listen\\\", \\\"silent\\\"))  # True\\nprint(are_anagrams(\\\"hello\\\", \\\"world\\\"))  # False\",\"logprobs\":null,\"finish_reason\":\"stop\"}],\"usage\":{\"prompt_tokens\":45,\"total_tokens\":148,\"completion_tokens\":103}} \n",
      "\n",
      "\n",
      "Execution time of Thread 22: 8.819717 seconds - Response===> {\"id\":\"cmpl-99eea7ef962247988141ab598f124109\",\"object\":\"text_completion\",\"created\":95250,\"model\":\"/llmmodels/models--ise-uiuc--Magicoder-S-DS-6.7B/snapshots/cff055b1e110cbe75c0c3759bd436299c6d6bb66\",\"choices\":[{\"index\":0,\"text\":\"\\nAn anagram is a word or phrase formed by rearranging the letters of a different word or phrase, typically using all the original letters exactly once.\\n\\ndef are_anagrams(s1, s2):\\n    return sorted(s1) == sorted(s2)\\n\\n# Test the function\\nprint(are_anagrams(\\\"listen\\\", \\\"silent\\\"))  # True\\nprint(are_anagrams(\\\"hello\\\", \\\"world\\\"))  # False\",\"logprobs\":null,\"finish_reason\":\"stop\"}],\"usage\":{\"prompt_tokens\":45,\"total_tokens\":148,\"completion_tokens\":103}} \n",
      "\n",
      "\n",
      "Execution time of Thread 17: 9.056082 seconds - Response===> {\"id\":\"cmpl-c4be433f491340228608840a411965ad\",\"object\":\"text_completion\",\"created\":95250,\"model\":\"/llmmodels/models--ise-uiuc--Magicoder-S-DS-6.7B/snapshots/cff055b1e110cbe75c0c3759bd436299c6d6bb66\",\"choices\":[{\"index\":0,\"text\":\"\\nAn anagram is a word or phrase formed by rearranging the letters of a different word or phrase, typically using all the original letters exactly once.\\n\\ndef are_anagrams(s1, s2):\\n    return sorted(s1) == sorted(s2)\\n\\n# Test the function\\nprint(are_anagrams(\\\"listen\\\", \\\"silent\\\"))  # True\\nprint(are_anagrams(\\\"hello\\\", \\\"world\\\"))  # False\",\"logprobs\":null,\"finish_reason\":\"stop\"}],\"usage\":{\"prompt_tokens\":45,\"total_tokens\":148,\"completion_tokens\":103}} \n",
      "\n",
      "\n",
      "Execution time of Thread 7: 9.330766 seconds - Response===> {\"id\":\"cmpl-57a4c8cd1e284e0d87bd80bb0ea8b431\",\"object\":\"text_completion\",\"created\":95250,\"model\":\"/llmmodels/models--ise-uiuc--Magicoder-S-DS-6.7B/snapshots/cff055b1e110cbe75c0c3759bd436299c6d6bb66\",\"choices\":[{\"index\":0,\"text\":\"\\nAn anagram is a word or phrase formed by rearranging the letters of a different word or phrase, typically using all the original letters exactly once.\\n\\ndef are_anagrams(s1, s2):\\n    return sorted(s1) == sorted(s2)\\n\\n# Test the function\\nprint(are_anagrams(\\\"listen\\\", \\\"silent\\\"))  # True\\nprint(are_anagrams(\\\"hello\\\", \\\"world\\\"))  # False\",\"logprobs\":null,\"finish_reason\":\"stop\"}],\"usage\":{\"prompt_tokens\":45,\"total_tokens\":148,\"completion_tokens\":103}} \n",
      "\n",
      "\n",
      "Execution time of Thread 15: 9.067072 seconds - Response===> {\"id\":\"cmpl-2468854e8f2f48e69e1f7b847099d803\",\"object\":\"text_completion\",\"created\":95250,\"model\":\"/llmmodels/models--ise-uiuc--Magicoder-S-DS-6.7B/snapshots/cff055b1e110cbe75c0c3759bd436299c6d6bb66\",\"choices\":[{\"index\":0,\"text\":\"\\nAn anagram is a word or phrase formed by rearranging the letters of a different word or phrase, typically using all the original letters exactly once.\\n\\ndef are_anagrams(s1, s2):\\n    return sorted(s1) == sorted(s2)\\n\\n# Test the function\\nprint(are_anagrams(\\\"listen\\\", \\\"silent\\\"))  # True\\nprint(are_anagrams(\\\"hello\\\", \\\"world\\\"))  # False\",\"logprobs\":null,\"finish_reason\":\"stop\"}],\"usage\":{\"prompt_tokens\":45,\"total_tokens\":148,\"completion_tokens\":103}} \n",
      "\n",
      "\n",
      "Execution time of Thread 1: 9.431095 seconds - Response===> {\"id\":\"cmpl-15860e3a398649fa8289a91006068fb7\",\"object\":\"text_completion\",\"created\":95249,\"model\":\"/llmmodels/models--ise-uiuc--Magicoder-S-DS-6.7B/snapshots/cff055b1e110cbe75c0c3759bd436299c6d6bb66\",\"choices\":[{\"index\":0,\"text\":\"\\nAn anagram is a word or phrase formed by rearranging the letters of a different word or phrase, typically using all the original letters exactly once.\\n\\ndef are_anagrams(s1, s2):\\n    return sorted(s1) == sorted(s2)\\n\\n# Test the function\\nprint(are_anagrams(\\\"listen\\\", \\\"silent\\\"))  # True\\nprint(are_anagrams(\\\"hello\\\", \\\"world\\\"))  # False\",\"logprobs\":null,\"finish_reason\":\"stop\"}],\"usage\":{\"prompt_tokens\":45,\"total_tokens\":148,\"completion_tokens\":103}} \n",
      "\n",
      "\n",
      "Execution time of Thread 11: 9.310220 seconds - Response===> {\"id\":\"cmpl-13bd55e5591f47668bfb4e03770a8d3f\",\"object\":\"text_completion\",\"created\":95249,\"model\":\"/llmmodels/models--ise-uiuc--Magicoder-S-DS-6.7B/snapshots/cff055b1e110cbe75c0c3759bd436299c6d6bb66\",\"choices\":[{\"index\":0,\"text\":\"\\nAn anagram is a word or phrase formed by rearranging the letters of a different word or phrase, typically using all the original letters exactly once.\\n\\ndef are_anagrams(s1, s2):\\n    return sorted(s1) == sorted(s2)\\n\\n# Test the function\\nprint(are_anagrams(\\\"listen\\\", \\\"silent\\\"))  # True\\nprint(are_anagrams(\\\"hello\\\", \\\"world\\\"))  # False\",\"logprobs\":null,\"finish_reason\":\"stop\"}],\"usage\":{\"prompt_tokens\":45,\"total_tokens\":148,\"completion_tokens\":103}} \n",
      "\n",
      "\n",
      "Execution time of Thread 24: 8.635456 seconds - Response===> {\"id\":\"cmpl-d4e680ba94544658ac24c56a08d92327\",\"object\":\"text_completion\",\"created\":95250,\"model\":\"/llmmodels/models--ise-uiuc--Magicoder-S-DS-6.7B/snapshots/cff055b1e110cbe75c0c3759bd436299c6d6bb66\",\"choices\":[{\"index\":0,\"text\":\"\\nAn anagram is a word or phrase formed by rearranging the letters of a different word or phrase, typically using all the original letters exactly once.\\n\\ndef are_anagrams(s1, s2):\\n    return sorted(s1) == sorted(s2)\\n\\n# Test the function\\nprint(are_anagrams(\\\"listen\\\", \\\"silent\\\"))  # True\\nprint(are_anagrams(\\\"hello\\\", \\\"world\\\"))  # False\",\"logprobs\":null,\"finish_reason\":\"stop\"}],\"usage\":{\"prompt_tokens\":45,\"total_tokens\":148,\"completion_tokens\":103}} \n",
      "\n",
      "\n",
      "Execution time of Thread 0: 9.441742 seconds - Response===> {\"id\":\"cmpl-926a18f0aed34269ad9fca9776590d6d\",\"object\":\"text_completion\",\"created\":95249,\"model\":\"/llmmodels/models--ise-uiuc--Magicoder-S-DS-6.7B/snapshots/cff055b1e110cbe75c0c3759bd436299c6d6bb66\",\"choices\":[{\"index\":0,\"text\":\"\\nAn anagram is a word or phrase formed by rearranging the letters of a different word or phrase, typically using all the original letters exactly once.\\n\\ndef are_anagrams(s1, s2):\\n    return sorted(s1) == sorted(s2)\\n\\n# Test the function\\nprint(are_anagrams(\\\"listen\\\", \\\"silent\\\"))  # True\\nprint(are_anagrams(\\\"hello\\\", \\\"world\\\"))  # False\",\"logprobs\":null,\"finish_reason\":\"stop\"}],\"usage\":{\"prompt_tokens\":45,\"total_tokens\":148,\"completion_tokens\":103}} \n",
      "\n",
      "\n",
      "Execution time of Thread 23: 8.645836 seconds - Response===> {\"id\":\"cmpl-13fa90d1af264ce78a6d2765d7bc4180\",\"object\":\"text_completion\",\"created\":95250,\"model\":\"/llmmodels/models--ise-uiuc--Magicoder-S-DS-6.7B/snapshots/cff055b1e110cbe75c0c3759bd436299c6d6bb66\",\"choices\":[{\"index\":0,\"text\":\"\\nAn anagram is a word or phrase formed by rearranging the letters of a different word or phrase, typically using all the original letters exactly once.\\n\\ndef are_anagrams(s1, s2):\\n    return sorted(s1) == sorted(s2)\\n\\n# Test the function\\nprint(are_anagrams(\\\"listen\\\", \\\"silent\\\"))  # True\\nprint(are_anagrams(\\\"hello\\\", \\\"world\\\"))  # False\",\"logprobs\":null,\"finish_reason\":\"stop\"}],\"usage\":{\"prompt_tokens\":45,\"total_tokens\":148,\"completion_tokens\":103}} \n",
      "\n",
      "\n",
      "Execution time of Thread 26: 8.496861 seconds - Response===> {\"id\":\"cmpl-dce2cdd965fd4e5cb764613a82f3ca90\",\"object\":\"text_completion\",\"created\":95250,\"model\":\"/llmmodels/models--ise-uiuc--Magicoder-S-DS-6.7B/snapshots/cff055b1e110cbe75c0c3759bd436299c6d6bb66\",\"choices\":[{\"index\":0,\"text\":\"\\nAn anagram is a word or phrase formed by rearranging the letters of a different word or phrase, typically using all the original letters exactly once.\\n\\ndef are_anagrams(s1, s2):\\n    return sorted(s1) == sorted(s2)\\n\\n# Test the function\\nprint(are_anagrams(\\\"listen\\\", \\\"silent\\\"))  # True\\nprint(are_anagrams(\\\"hello\\\", \\\"world\\\"))  # False\",\"logprobs\":null,\"finish_reason\":\"stop\"}],\"usage\":{\"prompt_tokens\":45,\"total_tokens\":148,\"completion_tokens\":103}} \n",
      "\n",
      "\n",
      "Execution time of Thread 16: 9.062017 seconds - Response===> {\"id\":\"cmpl-565a1c345ce641e4b85e48f59922a817\",\"object\":\"text_completion\",\"created\":95250,\"model\":\"/llmmodels/models--ise-uiuc--Magicoder-S-DS-6.7B/snapshots/cff055b1e110cbe75c0c3759bd436299c6d6bb66\",\"choices\":[{\"index\":0,\"text\":\"\\nAn anagram is a word or phrase formed by rearranging the letters of a different word or phrase, typically using all the original letters exactly once.\\n\\ndef are_anagrams(s1, s2):\\n    return sorted(s1) == sorted(s2)\\n\\n# Test the function\\nprint(are_anagrams(\\\"listen\\\", \\\"silent\\\"))  # True\\nprint(are_anagrams(\\\"hello\\\", \\\"world\\\"))  # False\",\"logprobs\":null,\"finish_reason\":\"stop\"}],\"usage\":{\"prompt_tokens\":45,\"total_tokens\":148,\"completion_tokens\":103}} \n",
      "\n",
      "\n",
      "Execution time of Thread 8: 9.326410 seconds - Response===> {\"id\":\"cmpl-4951d8751326463a9adb682928374582\",\"object\":\"text_completion\",\"created\":95249,\"model\":\"/llmmodels/models--ise-uiuc--Magicoder-S-DS-6.7B/snapshots/cff055b1e110cbe75c0c3759bd436299c6d6bb66\",\"choices\":[{\"index\":0,\"text\":\"\\nAn anagram is a word or phrase formed by rearranging the letters of a different word or phrase, typically using all the original letters exactly once.\\n\\ndef are_anagrams(s1, s2):\\n    return sorted(s1) == sorted(s2)\\n\\n# Test the function\\nprint(are_anagrams(\\\"listen\\\", \\\"silent\\\"))  # True\\nprint(are_anagrams(\\\"hello\\\", \\\"world\\\"))  # False\",\"logprobs\":null,\"finish_reason\":\"stop\"}],\"usage\":{\"prompt_tokens\":45,\"total_tokens\":148,\"completion_tokens\":103}} \n",
      "\n",
      "\n",
      "Execution time of Thread 25: 8.570052 seconds - Response===> {\"id\":\"cmpl-8695d2bb460a4ed69ecc01dedac92d60\",\"object\":\"text_completion\",\"created\":95250,\"model\":\"/llmmodels/models--ise-uiuc--Magicoder-S-DS-6.7B/snapshots/cff055b1e110cbe75c0c3759bd436299c6d6bb66\",\"choices\":[{\"index\":0,\"text\":\"\\nAn anagram is a word or phrase formed by rearranging the letters of a different word or phrase, typically using all the original letters exactly once.\\n\\ndef are_anagrams(s1, s2):\\n    return sorted(s1) == sorted(s2)\\n\\n# Test the function\\nprint(are_anagrams(\\\"listen\\\", \\\"silent\\\"))  # True\\nprint(are_anagrams(\\\"hello\\\", \\\"world\\\"))  # False\",\"logprobs\":null,\"finish_reason\":\"stop\"}],\"usage\":{\"prompt_tokens\":45,\"total_tokens\":148,\"completion_tokens\":103}} \n",
      "\n",
      "\n"
     ]
    }
   ],
   "source": [
    "@my_decorator\n",
    "def inference(thread, payload_data=None):\n",
    "    headers = {\n",
    "        'Content-Type': 'application/json'\n",
    "    }\n",
    "    try:\n",
    "        response = requests.request(\"POST\", url, headers=headers, json=payload_data)\n",
    "        return \"Thread %s\" %thread, response\n",
    "    except Exception as e:\n",
    "        print(e)\n",
    "\n",
    "thread_func = partial(inference, payload_data=payload)        \n",
    "\n",
    "#Model Inference(Request)\n",
    "if __name__ == \"__main__\":\n",
    "    with concurrent.futures.ThreadPoolExecutor(max_workers=50) as executor:\n",
    "        executor.map(thread_func, range(50))\n"
   ]
  },
  {
   "cell_type": "code",
   "execution_count": 7,
   "id": "969fd1ee",
   "metadata": {},
   "outputs": [
    {
     "name": "stdout",
     "output_type": "stream",
     "text": [
      "{'id': 'cmpl-9142a552a9a1470e8ac53e85e51b2080', 'object': 'text_completion', 'created': 87834, 'model': '/llmmodels/models--ise-uiuc--Magicoder-S-DS-6.7B/snapshots/cff055b1e110cbe75c0c3759bd436299c6d6bb66', 'choices': [{'index': 0, 'text': '\\nAn anagram is a word or phrase formed by rearranging the letters of a different word or phrase, typically using all the original letters exactly once.\\n\\ndef are_anagrams(s1, s2):\\n    return sorted(s1) == sorted(s2)\\n\\n# Test the function\\nprint(are_anagrams(\"listen\", \"silent\"))  # True\\nprint(are_anagrams(\"hello\", \"world\"))  # False', 'logprobs': None, 'finish_reason': 'stop'}], 'usage': {'prompt_tokens': 45, 'total_tokens': 148, 'completion_tokens': 103}}\n",
      "--- 5.502794504165649 seconds ---\n"
     ]
    }
   ],
   "source": [
    "# import aiohttp\n",
    "# import asyncio\n",
    "# import time\n",
    "\n",
    "# start_time = time.time()\n",
    "# headers={\"Content-type\":\"application/json\"} \n",
    "# async def main():\n",
    "\n",
    "#     async with aiohttp.ClientSession(trust_env = True, headers=headers) as session:\n",
    "\n",
    "# #         for payload in payloads:\n",
    "# #             url='https://refract.fosfor.com/openchatfinetunedimqlgenerator/d0721c53-c9f5-4d79-a988-2d21df46198f/score' \n",
    "#         async with session.post(url, json=payload) as resp:\n",
    "#                 mql = await resp.json(content_type=None)\n",
    "#                 print(mql)\n",
    "\n",
    "# await main()\n",
    "# print(\"--- %s seconds ---\" % (time.time() - start_time))"
   ]
  },
  {
   "cell_type": "code",
   "execution_count": null,
   "id": "ba00e83d",
   "metadata": {},
   "outputs": [],
   "source": []
  }
 ],
 "metadata": {
  "kernelspec": {
   "display_name": "Python 3",
   "language": "python",
   "name": "python3"
  },
  "language_info": {
   "codemirror_mode": {
    "name": "ipython",
    "version": 3
   },
   "file_extension": ".py",
   "mimetype": "text/x-python",
   "name": "python",
   "nbconvert_exporter": "python",
   "pygments_lexer": "ipython3",
   "version": "3.7.10"
  }
 },
 "nbformat": 4,
 "nbformat_minor": 5
}
