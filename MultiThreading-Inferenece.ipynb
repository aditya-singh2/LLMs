{
 "cells": [
  {
   "cell_type": "code",
   "execution_count": 14,
   "id": "85065d82",
   "metadata": {},
   "outputs": [],
   "source": [
    "import requests\n",
    "import time\n",
    "import os, json\n",
    "import csv\n",
    "import concurrent.futures\n",
    "from functools import partial"
   ]
  },
  {
   "cell_type": "code",
   "execution_count": 15,
   "id": "ddec33f0",
   "metadata": {},
   "outputs": [],
   "source": [
    "# url = \"https://refract.fosfor.com/magiccodermodel/6188a3e2-bc43-444e-bfaa-8159fca71b3a/score\"\n",
    "url = \"http://vllm-serving-service:8888/v1/completions\"\n",
    "# lltoken = \"eyJhbGciOiJSUzI1NiIsInR5cCIgOiAiSldUIiwia2lkIiA6ICJ4WTdTd3k5UE1xaXRDQmNSMm5qcVl6bmoxS3NqZzV3TmdOV0xDVzdyUkhvIn0.eyJleHAiOjE3MzA4ODM3MzgsImlhdCI6MTY5OTI2MTMzOCwiYXV0aF90aW1lIjoxNjk5MjUyMDQ0LCJqdGkiOiJmN2EzMzQwYy1kNDQwLTRlMzUtYjk2ZS04YzBiMTc0Y2RhODAiLCJpc3MiOiJodHRwczovL3JlZnJhY3QtbG9naW4uZm9zZm9yLmNvbS9hdXRoL3JlYWxtcy9tb3NhaWMiLCJhdWQiOlsibW9zYWljLWdhdGVrZWVwZXIiLCJhY2NvdW50Il0sInN1YiI6IjZjMjU4MWU3LWZmMTItNDljNy04MDJmLWI2ZjQzOWQxZDIwMSIsInR5cCI6IkJlYXJlciIsImF6cCI6Im1vc2FpYy1nYXRla2VlcGVyIiwic2Vzc2lvbl9zdGF0ZSI6IjBhY2Y3YWZhLTVmMzMtNGRhZS05OGM3LTQyZDQwYTdlZTM2NiIsImFsbG93ZWQtb3JpZ2lucyI6WyIqIl0sInJlYWxtX2FjY2VzcyI6eyJyb2xlcyI6WyJNTE9QUyIsImxvbmdfbGl2ZWRfdG9rZW4iLCJzcGVjdHJhLWRldmVsb3BlciIsImRlZmF1bHQtcm9sZXMtbW9zYWljIiwicmVmcmFjdC1kZXZlbG9wZXIiLCJvZmZsaW5lX2FjY2VzcyIsImFkbWluIiwidW1hX2F1dGhvcml6YXRpb24iLCJyZWZyYWN0LWFkbWluIl19LCJyZXNvdXJjZV9hY2Nlc3MiOnsiYWNjb3VudCI6eyJyb2xlcyI6WyJtYW5hZ2UtYWNjb3VudCIsIm1hbmFnZS1hY2NvdW50LWxpbmtzIiwidmlldy1wcm9maWxlIl19fSwic2NvcGUiOiJvcGVuaWQgZW1haWwgcHJvZmlsZSIsInNpZCI6IjBhY2Y3YWZhLTVmMzMtNGRhZS05OGM3LTQyZDQwYTdlZTM2NiIsImVtYWlsX3ZlcmlmaWVkIjp0cnVlLCJuYW1lIjoiUmVmcmFjdCBCRlNJIiwicHJlZmVycmVkX3VzZXJuYW1lIjoicmVmcmFjdC5iZnNpQGZvc2Zvci5jb20iLCJnaXZlbl9uYW1lIjoiUmVmcmFjdCIsImZhbWlseV9uYW1lIjoiQkZTSSIsImVtYWlsIjoicmVmcmFjdC5iZnNpQGZvc2Zvci5jb20ifQ.b6SYLgjo9Veo3GmJ8eZjCTNupQjpfMhzsoXdYjWwRtvRnNjBfx0gOqcugO9OcGn-mm8wwpSGI5uiL30-I6SdWBjsf1ur6GztoX7j-nP_3SrJJn3UhNNqIO8LbsPi5gGRTzWtnfjz92BF1YaCXxQwPY0P_aa8vJ6JxZz5Uctn9aIPIJZZnnjC_GPXtXurmshM_tEN2kwCjhEyr7wYzRqUoMtBGfpLjZREBzgZY-x6JyYiXNtycb1d6PFcCXf7nJVV8ienEC_x7OuciDzfeqd-SQnImvAHH7rqFdi9smBN08AbkDS2uAbMrokHrmbiBpaimrR013VwCWz2KL5QYlWleA\"\n",
    "request_payload_file = '/data/Magicoder_payloads.txt'\n",
    "report_path = '/data/vLLM_5Concurrency_1gpu.csv'"
   ]
  },
  {
   "cell_type": "code",
   "execution_count": 16,
   "id": "201050d7",
   "metadata": {},
   "outputs": [],
   "source": [
    "payload = {\"prompt\": \"Problem: Write a function in python to check if two strings are anagrams.Input: Strings s1 and s2.Output: Boolean, indicating whether s1 and s2 are anagrams.\", \n",
    "           \"max_tokens\": 200,\n",
    "           \"temperature\": 0,\n",
    "           \"model\": \"/llmmodels/models--ise-uiuc--Magicoder-S-DS-6.7B/snapshots/cff055b1e110cbe75c0c3759bd436299c6d6bb66\"}"
   ]
  },
  {
   "cell_type": "code",
   "execution_count": 24,
   "id": "90a0dade",
   "metadata": {},
   "outputs": [],
   "source": [
    "def my_decorator(func):\n",
    "    def calculate_execution_time(*args, **kwargs):\n",
    "        start_time = time.time()\n",
    "        result,_ = func(*args, **kwargs)\n",
    "        end_time = time.time()\n",
    "        execution_time = end_time - start_time\n",
    "        data = [\n",
    "            ['Thread', 'Response', 'Time (seconds)'],\n",
    "            [result, _.text, f'{execution_time:.6f}'],\n",
    "        ]\n",
    "        save_report(report_path, data)\n",
    "        print(f\"Execution time of {result}: {execution_time:.6f} seconds - Response===> {_.text} \\n\\n\")\n",
    "        return result, _\n",
    "    return calculate_execution_time"
   ]
  },
  {
   "cell_type": "code",
   "execution_count": 18,
   "id": "4f946126",
   "metadata": {},
   "outputs": [],
   "source": [
    "def save_report(file_path, data):\n",
    "    file_exists = os.path.exists(file_path)\n",
    "    with open(file_path, 'a', newline='') as csv_file:\n",
    "        csv_writer = csv.writer(csv_file)\n",
    "        if not file_exists:\n",
    "            csv_writer.writerow(data[0])\n",
    "        for row in data[1:]:\n",
    "            csv_writer.writerow(row)"
   ]
  },
  {
   "cell_type": "code",
   "execution_count": 40,
   "id": "3ed2a78a",
   "metadata": {},
   "outputs": [
    {
     "name": "stdout",
     "output_type": "stream",
     "text": [
      "Execution time of Thread 9: 11.982511 seconds - Response===> {\"id\":\"cmpl-025cde2e75c441269bc363357b88f2b3\",\"object\":\"text_completion\",\"created\":92710,\"model\":\"/llmmodels/models--ise-uiuc--Magicoder-S-DS-6.7B/snapshots/cff055b1e110cbe75c0c3759bd436299c6d6bb66\",\"choices\":[{\"index\":0,\"text\":\"\\nAn anagram is a word or phrase formed by rearranging the letters of a different word or phrase, typically using all the original letters exactly once.\\n\\ndef are_anagrams(s1, s2):\\n    return sorted(s1) == sorted(s2)\\n\\n# Test the function\\nprint(are_anagrams(\\\"listen\\\", \\\"silent\\\"))  # True\\nprint(are_anagrams(\\\"hello\\\", \\\"world\\\"))  # False\",\"logprobs\":null,\"finish_reason\":\"stop\"}],\"usage\":{\"prompt_tokens\":45,\"total_tokens\":148,\"completion_tokens\":103}} \n",
      "\n",
      "\n",
      "Execution time of Thread 11: 12.159402 seconds - Response===> {\"id\":\"cmpl-26de162a0b9a4b87bbf6b890caf9a9b1\",\"object\":\"text_completion\",\"created\":92711,\"model\":\"/llmmodels/models--ise-uiuc--Magicoder-S-DS-6.7B/snapshots/cff055b1e110cbe75c0c3759bd436299c6d6bb66\",\"choices\":[{\"index\":0,\"text\":\"\\nAn anagram is a word or phrase formed by rearranging the letters of a different word or phrase, typically using all the original letters exactly once.\\n\\ndef are_anagrams(s1, s2):\\n    return sorted(s1) == sorted(s2)\\n\\n# Test the function\\nprint(are_anagrams(\\\"listen\\\", \\\"silent\\\"))  # True\\nprint(are_anagrams(\\\"hello\\\", \\\"world\\\"))  # False\",\"logprobs\":null,\"finish_reason\":\"stop\"}],\"usage\":{\"prompt_tokens\":45,\"total_tokens\":148,\"completion_tokens\":103}} \n",
      "\n",
      "\n",
      "Execution time of Thread 6: 12.217446 seconds - Response===> {\"id\":\"cmpl-1b75a121d4094973ba2b62f6faa6841c\",\"object\":\"text_completion\",\"created\":92711,\"model\":\"/llmmodels/models--ise-uiuc--Magicoder-S-DS-6.7B/snapshots/cff055b1e110cbe75c0c3759bd436299c6d6bb66\",\"choices\":[{\"index\":0,\"text\":\"\\nAn anagram is a word or phrase formed by rearranging the letters of a different word or phrase, typically using all the original letters exactly once.\\n\\ndef are_anagrams(s1, s2):\\n    return sorted(s1) == sorted(s2)\\n\\n# Test the function\\nprint(are_anagrams(\\\"listen\\\", \\\"silent\\\"))  # True\\nprint(are_anagrams(\\\"hello\\\", \\\"world\\\"))  # False\",\"logprobs\":null,\"finish_reason\":\"stop\"}],\"usage\":{\"prompt_tokens\":45,\"total_tokens\":148,\"completion_tokens\":103}} \n",
      "\n",
      "\n",
      "Execution time of Thread 2: 12.248812 seconds - Response===> {\"id\":\"cmpl-1b026e7f55e74125a4b164e5744ac0bb\",\"object\":\"text_completion\",\"created\":92711,\"model\":\"/llmmodels/models--ise-uiuc--Magicoder-S-DS-6.7B/snapshots/cff055b1e110cbe75c0c3759bd436299c6d6bb66\",\"choices\":[{\"index\":0,\"text\":\"\\nAn anagram is a word or phrase formed by rearranging the letters of a different word or phrase, typically using all the original letters exactly once.\\n\\ndef are_anagrams(s1, s2):\\n    return sorted(s1) == sorted(s2)\\n\\n# Test the function\\nprint(are_anagrams(\\\"listen\\\", \\\"silent\\\"))  # True\\nprint(are_anagrams(\\\"hello\\\", \\\"world\\\"))  # False\",\"logprobs\":null,\"finish_reason\":\"stop\"}],\"usage\":{\"prompt_tokens\":45,\"total_tokens\":148,\"completion_tokens\":103}} \n",
      "\n",
      "\n",
      "Execution time of Thread 16: 12.128525 seconds - Response===> {\"id\":\"cmpl-fa82cd2675d147a3af03552245f7a7e7\",\"object\":\"text_completion\",\"created\":92711,\"model\":\"/llmmodels/models--ise-uiuc--Magicoder-S-DS-6.7B/snapshots/cff055b1e110cbe75c0c3759bd436299c6d6bb66\",\"choices\":[{\"index\":0,\"text\":\"\\nAn anagram is a word or phrase formed by rearranging the letters of a different word or phrase, typically using all the original letters exactly once.\\n\\ndef are_anagrams(s1, s2):\\n    return sorted(s1) == sorted(s2)\\n\\n# Test the function\\nprint(are_anagrams(\\\"listen\\\", \\\"silent\\\"))  # True\\nprint(are_anagrams(\\\"hello\\\", \\\"world\\\"))  # False\",\"logprobs\":null,\"finish_reason\":\"stop\"}],\"usage\":{\"prompt_tokens\":45,\"total_tokens\":148,\"completion_tokens\":103}} \n",
      "\n",
      "\n",
      "Execution time of Thread 8: 12.207258 seconds - Response===> {\"id\":\"cmpl-5cfad40e3af042aa8d4ee3caabe7fec2\",\"object\":\"text_completion\",\"created\":92711,\"model\":\"/llmmodels/models--ise-uiuc--Magicoder-S-DS-6.7B/snapshots/cff055b1e110cbe75c0c3759bd436299c6d6bb66\",\"choices\":[{\"index\":0,\"text\":\"\\nAn anagram is a word or phrase formed by rearranging the letters of a different word or phrase, typically using all the original letters exactly once.\\n\\ndef are_anagrams(s1, s2):\\n    return sorted(s1) == sorted(s2)\\n\\n# Test the function\\nprint(are_anagrams(\\\"listen\\\", \\\"silent\\\"))  # True\\nprint(are_anagrams(\\\"hello\\\", \\\"world\\\"))  # False\",\"logprobs\":null,\"finish_reason\":\"stop\"}],\"usage\":{\"prompt_tokens\":45,\"total_tokens\":148,\"completion_tokens\":103}} \n",
      "\n",
      "\n",
      "Execution time of Thread 14: 12.138874 seconds - Response===> {\"id\":\"cmpl-4590d0cc9c9e49c7bad98387a5351780\",\"object\":\"text_completion\",\"created\":92711,\"model\":\"/llmmodels/models--ise-uiuc--Magicoder-S-DS-6.7B/snapshots/cff055b1e110cbe75c0c3759bd436299c6d6bb66\",\"choices\":[{\"index\":0,\"text\":\"\\nAn anagram is a word or phrase formed by rearranging the letters of a different word or phrase, typically using all the original letters exactly once.\\n\\ndef are_anagrams(s1, s2):\\n    return sorted(s1) == sorted(s2)\\n\\n# Test the function\\nprint(are_anagrams(\\\"listen\\\", \\\"silent\\\"))  # True\\nprint(are_anagrams(\\\"hello\\\", \\\"world\\\"))  # False\",\"logprobs\":null,\"finish_reason\":\"stop\"}],\"usage\":{\"prompt_tokens\":45,\"total_tokens\":148,\"completion_tokens\":103}} \n",
      "\n",
      "\n",
      "Execution time of Thread 27: 11.258931 seconds - Response===> {\"id\":\"cmpl-25a5525ae20f476bb1e867384a036039\",\"object\":\"text_completion\",\"created\":92711,\"model\":\"/llmmodels/models--ise-uiuc--Magicoder-S-DS-6.7B/snapshots/cff055b1e110cbe75c0c3759bd436299c6d6bb66\",\"choices\":[{\"index\":0,\"text\":\"\\nAn anagram is a word or phrase formed by rearranging the letters of a different word or phrase, typically using all the original letters exactly once.\\n\\ndef are_anagrams(s1, s2):\\n    return sorted(s1) == sorted(s2)\\n\\n# Test the function\\nprint(are_anagrams(\\\"listen\\\", \\\"silent\\\"))  # True\\nprint(are_anagrams(\\\"hello\\\", \\\"world\\\"))  # False\",\"logprobs\":null,\"finish_reason\":\"stop\"}],\"usage\":{\"prompt_tokens\":45,\"total_tokens\":148,\"completion_tokens\":103}} \n",
      "\n",
      "\n",
      "Execution time of Thread 24: 11.313686 seconds - Response===> {\"id\":\"cmpl-f0a795878c024ffdb5e037e5e3162d55\",\"object\":\"text_completion\",\"created\":92711,\"model\":\"/llmmodels/models--ise-uiuc--Magicoder-S-DS-6.7B/snapshots/cff055b1e110cbe75c0c3759bd436299c6d6bb66\",\"choices\":[{\"index\":0,\"text\":\"\\nAn anagram is a word or phrase formed by rearranging the letters of a different word or phrase, typically using all the original letters exactly once.\\n\\ndef are_anagrams(s1, s2):\\n    return sorted(s1) == sorted(s2)\\n\\n# Test the function\\nprint(are_anagrams(\\\"listen\\\", \\\"silent\\\"))  # True\\nprint(are_anagrams(\\\"hello\\\", \\\"world\\\"))  # False\",\"logprobs\":null,\"finish_reason\":\"stop\"}],\"usage\":{\"prompt_tokens\":45,\"total_tokens\":148,\"completion_tokens\":103}} \n",
      "\n",
      "\n",
      "Execution time of Thread 4: 12.233595 seconds - Response===> {\"id\":\"cmpl-8db9b5f9f03a42e88a49c8934d224574\",\"object\":\"text_completion\",\"created\":92711,\"model\":\"/llmmodels/models--ise-uiuc--Magicoder-S-DS-6.7B/snapshots/cff055b1e110cbe75c0c3759bd436299c6d6bb66\",\"choices\":[{\"index\":0,\"text\":\"\\nAn anagram is a word or phrase formed by rearranging the letters of a different word or phrase, typically using all the original letters exactly once.\\n\\ndef are_anagrams(s1, s2):\\n    return sorted(s1) == sorted(s2)\\n\\n# Test the function\\nprint(are_anagrams(\\\"listen\\\", \\\"silent\\\"))  # True\\nprint(are_anagrams(\\\"hello\\\", \\\"world\\\"))  # False\",\"logprobs\":null,\"finish_reason\":\"stop\"}],\"usage\":{\"prompt_tokens\":45,\"total_tokens\":148,\"completion_tokens\":103}} \n",
      "\n",
      "\n",
      "Execution time of Thread 20: 11.680614 seconds - Response===> {\"id\":\"cmpl-5292a039c60d4b86876707414b3eea65\",\"object\":\"text_completion\",\"created\":92711,\"model\":\"/llmmodels/models--ise-uiuc--Magicoder-S-DS-6.7B/snapshots/cff055b1e110cbe75c0c3759bd436299c6d6bb66\",\"choices\":[{\"index\":0,\"text\":\"\\nAn anagram is a word or phrase formed by rearranging the letters of a different word or phrase, typically using all the original letters exactly once.\\n\\ndef are_anagrams(s1, s2):\\n    return sorted(s1) == sorted(s2)\\n\\n# Test the function\\nprint(are_anagrams(\\\"listen\\\", \\\"silent\\\"))  # True\\nprint(are_anagrams(\\\"hello\\\", \\\"world\\\"))  # False\",\"logprobs\":null,\"finish_reason\":\"stop\"}],\"usage\":{\"prompt_tokens\":45,\"total_tokens\":148,\"completion_tokens\":103}} \n",
      "\n",
      "\n",
      "Execution time of Thread 10: 12.197587 seconds - Response===> {\"id\":\"cmpl-47b8f6a28d2e426081b619aa198b65ca\",\"object\":\"text_completion\",\"created\":92711,\"model\":\"/llmmodels/models--ise-uiuc--Magicoder-S-DS-6.7B/snapshots/cff055b1e110cbe75c0c3759bd436299c6d6bb66\",\"choices\":[{\"index\":0,\"text\":\"\\nAn anagram is a word or phrase formed by rearranging the letters of a different word or phrase, typically using all the original letters exactly once.\\n\\ndef are_anagrams(s1, s2):\\n    return sorted(s1) == sorted(s2)\\n\\n# Test the function\\nprint(are_anagrams(\\\"listen\\\", \\\"silent\\\"))  # True\\nprint(are_anagrams(\\\"hello\\\", \\\"world\\\"))  # False\",\"logprobs\":null,\"finish_reason\":\"stop\"}],\"usage\":{\"prompt_tokens\":45,\"total_tokens\":148,\"completion_tokens\":103}} \n",
      "\n",
      "\n",
      "Execution time of Thread 18: 11.813609 seconds - Response===> {\"id\":\"cmpl-4363f1377d684d8dacf28cb54b49630f\",\"object\":\"text_completion\",\"created\":92711,\"model\":\"/llmmodels/models--ise-uiuc--Magicoder-S-DS-6.7B/snapshots/cff055b1e110cbe75c0c3759bd436299c6d6bb66\",\"choices\":[{\"index\":0,\"text\":\"\\nAn anagram is a word or phrase formed by rearranging the letters of a different word or phrase, typically using all the original letters exactly once.\\n\\ndef are_anagrams(s1, s2):\\n    return sorted(s1) == sorted(s2)\\n\\n# Test the function\\nprint(are_anagrams(\\\"listen\\\", \\\"silent\\\"))  # True\\nprint(are_anagrams(\\\"hello\\\", \\\"world\\\"))  # False\",\"logprobs\":null,\"finish_reason\":\"stop\"}],\"usage\":{\"prompt_tokens\":45,\"total_tokens\":148,\"completion_tokens\":103}} \n",
      "\n",
      "\n",
      "Execution time of Thread 5: 12.223583 seconds - Response===> {\"id\":\"cmpl-349ac89b053b42f0aba04e2fa1034dd8\",\"object\":\"text_completion\",\"created\":92711,\"model\":\"/llmmodels/models--ise-uiuc--Magicoder-S-DS-6.7B/snapshots/cff055b1e110cbe75c0c3759bd436299c6d6bb66\",\"choices\":[{\"index\":0,\"text\":\"\\nAn anagram is a word or phrase formed by rearranging the letters of a different word or phrase, typically using all the original letters exactly once.\\n\\ndef are_anagrams(s1, s2):\\n    return sorted(s1) == sorted(s2)\\n\\n# Test the function\\nprint(are_anagrams(\\\"listen\\\", \\\"silent\\\"))  # True\\nprint(are_anagrams(\\\"hello\\\", \\\"world\\\"))  # False\",\"logprobs\":null,\"finish_reason\":\"stop\"}],\"usage\":{\"prompt_tokens\":45,\"total_tokens\":148,\"completion_tokens\":103}} \n",
      "\n",
      "\n",
      "Execution time of Thread 32: 11.046492 seconds - Response===> {\"id\":\"cmpl-bcc527b0ab4c405c96d31a233502f3c4\",\"object\":\"text_completion\",\"created\":92711,\"model\":\"/llmmodels/models--ise-uiuc--Magicoder-S-DS-6.7B/snapshots/cff055b1e110cbe75c0c3759bd436299c6d6bb66\",\"choices\":[{\"index\":0,\"text\":\"\\nAn anagram is a word or phrase formed by rearranging the letters of a different word or phrase, typically using all the original letters exactly once.\\n\\ndef are_anagrams(s1, s2):\\n    return sorted(s1) == sorted(s2)\\n\\n# Test the function\\nprint(are_anagrams(\\\"listen\\\", \\\"silent\\\"))  # True\\nprint(are_anagrams(\\\"hello\\\", \\\"world\\\"))  # False\",\"logprobs\":null,\"finish_reason\":\"stop\"}],\"usage\":{\"prompt_tokens\":45,\"total_tokens\":148,\"completion_tokens\":103}} \n",
      "\n",
      "\n",
      "Execution time of Thread 21: 11.679299 seconds - Response===> {\"id\":\"cmpl-85dd80c469674c9d909a93538627a9a0\",\"object\":\"text_completion\",\"created\":92711,\"model\":\"/llmmodels/models--ise-uiuc--Magicoder-S-DS-6.7B/snapshots/cff055b1e110cbe75c0c3759bd436299c6d6bb66\",\"choices\":[{\"index\":0,\"text\":\"\\nAn anagram is a word or phrase formed by rearranging the letters of a different word or phrase, typically using all the original letters exactly once.\\n\\ndef are_anagrams(s1, s2):\\n    return sorted(s1) == sorted(s2)\\n\\n# Test the function\\nprint(are_anagrams(\\\"listen\\\", \\\"silent\\\"))  # True\\nprint(are_anagrams(\\\"hello\\\", \\\"world\\\"))  # False\",\"logprobs\":null,\"finish_reason\":\"stop\"}],\"usage\":{\"prompt_tokens\":45,\"total_tokens\":148,\"completion_tokens\":103}} \n",
      "\n",
      "\n",
      "Execution time of Thread 26: 11.278852 seconds - Response===> {\"id\":\"cmpl-b6dd18b2005743388c76fe285b2b8d97\",\"object\":\"text_completion\",\"created\":92711,\"model\":\"/llmmodels/models--ise-uiuc--Magicoder-S-DS-6.7B/snapshots/cff055b1e110cbe75c0c3759bd436299c6d6bb66\",\"choices\":[{\"index\":0,\"text\":\"\\nAn anagram is a word or phrase formed by rearranging the letters of a different word or phrase, typically using all the original letters exactly once.\\n\\ndef are_anagrams(s1, s2):\\n    return sorted(s1) == sorted(s2)\\n\\n# Test the function\\nprint(are_anagrams(\\\"listen\\\", \\\"silent\\\"))  # True\\nprint(are_anagrams(\\\"hello\\\", \\\"world\\\"))  # False\",\"logprobs\":null,\"finish_reason\":\"stop\"}],\"usage\":{\"prompt_tokens\":45,\"total_tokens\":148,\"completion_tokens\":103}} \n",
      "\n",
      "\n",
      "Execution time of Thread 3: 12.243128 seconds - Response===> {\"id\":\"cmpl-2f6d33290ae24af895bcf573274e0d42\",\"object\":\"text_completion\",\"created\":92710,\"model\":\"/llmmodels/models--ise-uiuc--Magicoder-S-DS-6.7B/snapshots/cff055b1e110cbe75c0c3759bd436299c6d6bb66\",\"choices\":[{\"index\":0,\"text\":\"\\nAn anagram is a word or phrase formed by rearranging the letters of a different word or phrase, typically using all the original letters exactly once.\\n\\ndef are_anagrams(s1, s2):\\n    return sorted(s1) == sorted(s2)\\n\\n# Test the function\\nprint(are_anagrams(\\\"listen\\\", \\\"silent\\\"))  # True\\nprint(are_anagrams(\\\"hello\\\", \\\"world\\\"))  # False\",\"logprobs\":null,\"finish_reason\":\"stop\"}],\"usage\":{\"prompt_tokens\":45,\"total_tokens\":148,\"completion_tokens\":103}} \n",
      "\n",
      "\n",
      "Execution time of Thread 1: 12.258902 seconds - Response===> {\"id\":\"cmpl-f4ef08be99cf4b7bbbaa792800395bac\",\"object\":\"text_completion\",\"created\":92710,\"model\":\"/llmmodels/models--ise-uiuc--Magicoder-S-DS-6.7B/snapshots/cff055b1e110cbe75c0c3759bd436299c6d6bb66\",\"choices\":[{\"index\":0,\"text\":\"\\nAn anagram is a word or phrase formed by rearranging the letters of a different word or phrase, typically using all the original letters exactly once.\\n\\ndef are_anagrams(s1, s2):\\n    return sorted(s1) == sorted(s2)\\n\\n# Test the function\\nprint(are_anagrams(\\\"listen\\\", \\\"silent\\\"))  # True\\nprint(are_anagrams(\\\"hello\\\", \\\"world\\\"))  # False\",\"logprobs\":null,\"finish_reason\":\"stop\"}],\"usage\":{\"prompt_tokens\":45,\"total_tokens\":148,\"completion_tokens\":103}} \n",
      "\n",
      "\n",
      "Execution time of Thread 29: 11.136936 seconds - Response===> {\"id\":\"cmpl-1943463c680741199fb0c7ea830d5303\",\"object\":\"text_completion\",\"created\":92711,\"model\":\"/llmmodels/models--ise-uiuc--Magicoder-S-DS-6.7B/snapshots/cff055b1e110cbe75c0c3759bd436299c6d6bb66\",\"choices\":[{\"index\":0,\"text\":\"\\nAn anagram is a word or phrase formed by rearranging the letters of a different word or phrase, typically using all the original letters exactly once.\\n\\ndef are_anagrams(s1, s2):\\n    return sorted(s1) == sorted(s2)\\n\\n# Test the function\\nprint(are_anagrams(\\\"listen\\\", \\\"silent\\\"))  # True\\nprint(are_anagrams(\\\"hello\\\", \\\"world\\\"))  # False\",\"logprobs\":null,\"finish_reason\":\"stop\"}],\"usage\":{\"prompt_tokens\":45,\"total_tokens\":148,\"completion_tokens\":103}} \n",
      "\n",
      "\n",
      "Execution time of Thread 22: 11.574198 seconds - Response===> {\"id\":\"cmpl-6f93d0a7a12147058b65a728151ba7d4\",\"object\":\"text_completion\",\"created\":92711,\"model\":\"/llmmodels/models--ise-uiuc--Magicoder-S-DS-6.7B/snapshots/cff055b1e110cbe75c0c3759bd436299c6d6bb66\",\"choices\":[{\"index\":0,\"text\":\"\\nAn anagram is a word or phrase formed by rearranging the letters of a different word or phrase, typically using all the original letters exactly once.\\n\\ndef are_anagrams(s1, s2):\\n    return sorted(s1) == sorted(s2)\\n\\n# Test the function\\nprint(are_anagrams(\\\"listen\\\", \\\"silent\\\"))  # True\\nprint(are_anagrams(\\\"hello\\\", \\\"world\\\"))  # False\",\"logprobs\":null,\"finish_reason\":\"stop\"}],\"usage\":{\"prompt_tokens\":45,\"total_tokens\":148,\"completion_tokens\":103}} \n",
      "\n",
      "\n",
      "Execution time of Thread 17: 11.884001 seconds - Response===> {\"id\":\"cmpl-fc1246abca0e48ba8d61394e17b868da\",\"object\":\"text_completion\",\"created\":92711,\"model\":\"/llmmodels/models--ise-uiuc--Magicoder-S-DS-6.7B/snapshots/cff055b1e110cbe75c0c3759bd436299c6d6bb66\",\"choices\":[{\"index\":0,\"text\":\"\\nAn anagram is a word or phrase formed by rearranging the letters of a different word or phrase, typically using all the original letters exactly once.\\n\\ndef are_anagrams(s1, s2):\\n    return sorted(s1) == sorted(s2)\\n\\n# Test the function\\nprint(are_anagrams(\\\"listen\\\", \\\"silent\\\"))  # True\\nprint(are_anagrams(\\\"hello\\\", \\\"world\\\"))  # False\",\"logprobs\":null,\"finish_reason\":\"stop\"}],\"usage\":{\"prompt_tokens\":45,\"total_tokens\":148,\"completion_tokens\":103}} \n",
      "\n",
      "\n",
      "Execution time of Thread 23: 11.487031 seconds - Response===> {\"id\":\"cmpl-ec6dc2cbd13046f68830bc5d3e59c427\",\"object\":\"text_completion\",\"created\":92711,\"model\":\"/llmmodels/models--ise-uiuc--Magicoder-S-DS-6.7B/snapshots/cff055b1e110cbe75c0c3759bd436299c6d6bb66\",\"choices\":[{\"index\":0,\"text\":\"\\nAn anagram is a word or phrase formed by rearranging the letters of a different word or phrase, typically using all the original letters exactly once.\\n\\ndef are_anagrams(s1, s2):\\n    return sorted(s1) == sorted(s2)\\n\\n# Test the function\\nprint(are_anagrams(\\\"listen\\\", \\\"silent\\\"))  # True\\nprint(are_anagrams(\\\"hello\\\", \\\"world\\\"))  # False\",\"logprobs\":null,\"finish_reason\":\"stop\"}],\"usage\":{\"prompt_tokens\":45,\"total_tokens\":148,\"completion_tokens\":103}} \n",
      "\n",
      "\n",
      "Execution time of Thread 15: 12.138826 seconds - Response===> {\"id\":\"cmpl-5d48a67286094eb48958c0b98cfb8f06\",\"object\":\"text_completion\",\"created\":92711,\"model\":\"/llmmodels/models--ise-uiuc--Magicoder-S-DS-6.7B/snapshots/cff055b1e110cbe75c0c3759bd436299c6d6bb66\",\"choices\":[{\"index\":0,\"text\":\"\\nAn anagram is a word or phrase formed by rearranging the letters of a different word or phrase, typically using all the original letters exactly once.\\n\\ndef are_anagrams(s1, s2):\\n    return sorted(s1) == sorted(s2)\\n\\n# Test the function\\nprint(are_anagrams(\\\"listen\\\", \\\"silent\\\"))  # True\\nprint(are_anagrams(\\\"hello\\\", \\\"world\\\"))  # False\",\"logprobs\":null,\"finish_reason\":\"stop\"}],\"usage\":{\"prompt_tokens\":45,\"total_tokens\":148,\"completion_tokens\":103}} \n",
      "\n",
      "\n",
      "Execution time of Thread 13: 12.149009 seconds - Response===> {\"id\":\"cmpl-efbe4150508b4251afbde6021a3a937b\",\"object\":\"text_completion\",\"created\":92711,\"model\":\"/llmmodels/models--ise-uiuc--Magicoder-S-DS-6.7B/snapshots/cff055b1e110cbe75c0c3759bd436299c6d6bb66\",\"choices\":[{\"index\":0,\"text\":\"\\nAn anagram is a word or phrase formed by rearranging the letters of a different word or phrase, typically using all the original letters exactly once.\\n\\ndef are_anagrams(s1, s2):\\n    return sorted(s1) == sorted(s2)\\n\\n# Test the function\\nprint(are_anagrams(\\\"listen\\\", \\\"silent\\\"))  # True\\nprint(are_anagrams(\\\"hello\\\", \\\"world\\\"))  # False\",\"logprobs\":null,\"finish_reason\":\"stop\"}],\"usage\":{\"prompt_tokens\":45,\"total_tokens\":148,\"completion_tokens\":103}} \n",
      "\n",
      "\n",
      "Execution time of Thread 0: 12.265056 seconds - Response===> {\"id\":\"cmpl-c51a923d30434c96a1fcaa463f2cf51e\",\"object\":\"text_completion\",\"created\":92711,\"model\":\"/llmmodels/models--ise-uiuc--Magicoder-S-DS-6.7B/snapshots/cff055b1e110cbe75c0c3759bd436299c6d6bb66\",\"choices\":[{\"index\":0,\"text\":\"\\nAn anagram is a word or phrase formed by rearranging the letters of a different word or phrase, typically using all the original letters exactly once.\\n\\ndef are_anagrams(s1, s2):\\n    return sorted(s1) == sorted(s2)\\n\\n# Test the function\\nprint(are_anagrams(\\\"listen\\\", \\\"silent\\\"))  # True\\nprint(are_anagrams(\\\"hello\\\", \\\"world\\\"))  # False\",\"logprobs\":null,\"finish_reason\":\"stop\"}],\"usage\":{\"prompt_tokens\":45,\"total_tokens\":148,\"completion_tokens\":103}} \n",
      "\n",
      "\n",
      "Execution time of Thread 28: 11.258915 seconds - Response===> {\"id\":\"cmpl-98733c27d9d24cc7abd88eade442ad69\",\"object\":\"text_completion\",\"created\":92711,\"model\":\"/llmmodels/models--ise-uiuc--Magicoder-S-DS-6.7B/snapshots/cff055b1e110cbe75c0c3759bd436299c6d6bb66\",\"choices\":[{\"index\":0,\"text\":\"\\nAn anagram is a word or phrase formed by rearranging the letters of a different word or phrase, typically using all the original letters exactly once.\\n\\ndef are_anagrams(s1, s2):\\n    return sorted(s1) == sorted(s2)\\n\\n# Test the function\\nprint(are_anagrams(\\\"listen\\\", \\\"silent\\\"))  # True\\nprint(are_anagrams(\\\"hello\\\", \\\"world\\\"))  # False\",\"logprobs\":null,\"finish_reason\":\"stop\"}],\"usage\":{\"prompt_tokens\":45,\"total_tokens\":148,\"completion_tokens\":103}} \n",
      "\n",
      "\n",
      "Execution time of Thread 12: 12.160143 seconds - Response===> {\"id\":\"cmpl-ba74e06c09704864984ff4b8c35e8d47\",\"object\":\"text_completion\",\"created\":92711,\"model\":\"/llmmodels/models--ise-uiuc--Magicoder-S-DS-6.7B/snapshots/cff055b1e110cbe75c0c3759bd436299c6d6bb66\",\"choices\":[{\"index\":0,\"text\":\"\\nAn anagram is a word or phrase formed by rearranging the letters of a different word or phrase, typically using all the original letters exactly once.\\n\\ndef are_anagrams(s1, s2):\\n    return sorted(s1) == sorted(s2)\\n\\n# Test the function\\nprint(are_anagrams(\\\"listen\\\", \\\"silent\\\"))  # True\\nprint(are_anagrams(\\\"hello\\\", \\\"world\\\"))  # False\",\"logprobs\":null,\"finish_reason\":\"stop\"}],\"usage\":{\"prompt_tokens\":45,\"total_tokens\":148,\"completion_tokens\":103}} \n",
      "\n",
      "\n",
      "Execution time of Thread 19: 11.813442 seconds - Response===> {\"id\":\"cmpl-7e32c81d57e943bcab55714440901181\",\"object\":\"text_completion\",\"created\":92711,\"model\":\"/llmmodels/models--ise-uiuc--Magicoder-S-DS-6.7B/snapshots/cff055b1e110cbe75c0c3759bd436299c6d6bb66\",\"choices\":[{\"index\":0,\"text\":\"\\nAn anagram is a word or phrase formed by rearranging the letters of a different word or phrase, typically using all the original letters exactly once.\\n\\ndef are_anagrams(s1, s2):\\n    return sorted(s1) == sorted(s2)\\n\\n# Test the function\\nprint(are_anagrams(\\\"listen\\\", \\\"silent\\\"))  # True\\nprint(are_anagrams(\\\"hello\\\", \\\"world\\\"))  # False\",\"logprobs\":null,\"finish_reason\":\"stop\"}],\"usage\":{\"prompt_tokens\":45,\"total_tokens\":148,\"completion_tokens\":103}} \n",
      "\n",
      "\n",
      "Execution time of Thread 7: 12.218226 seconds - Response===> {\"id\":\"cmpl-39449a4ca7d64a2793c24825a11d652e\",\"object\":\"text_completion\",\"created\":92711,\"model\":\"/llmmodels/models--ise-uiuc--Magicoder-S-DS-6.7B/snapshots/cff055b1e110cbe75c0c3759bd436299c6d6bb66\",\"choices\":[{\"index\":0,\"text\":\"\\nAn anagram is a word or phrase formed by rearranging the letters of a different word or phrase, typically using all the original letters exactly once.\\n\\ndef are_anagrams(s1, s2):\\n    return sorted(s1) == sorted(s2)\\n\\n# Test the function\\nprint(are_anagrams(\\\"listen\\\", \\\"silent\\\"))  # True\\nprint(are_anagrams(\\\"hello\\\", \\\"world\\\"))  # False\",\"logprobs\":null,\"finish_reason\":\"stop\"}],\"usage\":{\"prompt_tokens\":45,\"total_tokens\":148,\"completion_tokens\":103}} \n",
      "\n",
      "\n"
     ]
    },
    {
     "ename": "KeyboardInterrupt",
     "evalue": "",
     "output_type": "error",
     "traceback": [
      "\u001b[0;31m---------------------------------------------------------------------------\u001b[0m",
      "\u001b[0;31mKeyboardInterrupt\u001b[0m                         Traceback (most recent call last)",
      "\u001b[0;32m<ipython-input-40-cc7d27dffb8f>\u001b[0m in \u001b[0;36m<module>\u001b[0;34m\u001b[0m\n\u001b[1;32m     15\u001b[0m \u001b[0;32mif\u001b[0m \u001b[0m__name__\u001b[0m \u001b[0;34m==\u001b[0m \u001b[0;34m\"__main__\"\u001b[0m\u001b[0;34m:\u001b[0m\u001b[0;34m\u001b[0m\u001b[0;34m\u001b[0m\u001b[0m\n\u001b[1;32m     16\u001b[0m     \u001b[0;32mwith\u001b[0m \u001b[0mconcurrent\u001b[0m\u001b[0;34m.\u001b[0m\u001b[0mfutures\u001b[0m\u001b[0;34m.\u001b[0m\u001b[0mThreadPoolExecutor\u001b[0m\u001b[0;34m(\u001b[0m\u001b[0mmax_workers\u001b[0m\u001b[0;34m=\u001b[0m\u001b[0;36m200\u001b[0m\u001b[0;34m)\u001b[0m \u001b[0;32mas\u001b[0m \u001b[0mexecutor\u001b[0m\u001b[0;34m:\u001b[0m\u001b[0;34m\u001b[0m\u001b[0;34m\u001b[0m\u001b[0m\n\u001b[0;32m---> 17\u001b[0;31m         \u001b[0mexecutor\u001b[0m\u001b[0;34m.\u001b[0m\u001b[0mmap\u001b[0m\u001b[0;34m(\u001b[0m\u001b[0mthread_func\u001b[0m\u001b[0;34m,\u001b[0m \u001b[0mrange\u001b[0m\u001b[0;34m(\u001b[0m\u001b[0;36m200\u001b[0m\u001b[0;34m)\u001b[0m\u001b[0;34m)\u001b[0m\u001b[0;34m\u001b[0m\u001b[0;34m\u001b[0m\u001b[0m\n\u001b[0m",
      "\u001b[0;32m/opt/conda/lib/python3.7/concurrent/futures/_base.py\u001b[0m in \u001b[0;36m__exit__\u001b[0;34m(self, exc_type, exc_val, exc_tb)\u001b[0m\n\u001b[1;32m    621\u001b[0m \u001b[0;34m\u001b[0m\u001b[0m\n\u001b[1;32m    622\u001b[0m     \u001b[0;32mdef\u001b[0m \u001b[0m__exit__\u001b[0m\u001b[0;34m(\u001b[0m\u001b[0mself\u001b[0m\u001b[0;34m,\u001b[0m \u001b[0mexc_type\u001b[0m\u001b[0;34m,\u001b[0m \u001b[0mexc_val\u001b[0m\u001b[0;34m,\u001b[0m \u001b[0mexc_tb\u001b[0m\u001b[0;34m)\u001b[0m\u001b[0;34m:\u001b[0m\u001b[0;34m\u001b[0m\u001b[0;34m\u001b[0m\u001b[0m\n\u001b[0;32m--> 623\u001b[0;31m         \u001b[0mself\u001b[0m\u001b[0;34m.\u001b[0m\u001b[0mshutdown\u001b[0m\u001b[0;34m(\u001b[0m\u001b[0mwait\u001b[0m\u001b[0;34m=\u001b[0m\u001b[0;32mTrue\u001b[0m\u001b[0;34m)\u001b[0m\u001b[0;34m\u001b[0m\u001b[0;34m\u001b[0m\u001b[0m\n\u001b[0m\u001b[1;32m    624\u001b[0m         \u001b[0;32mreturn\u001b[0m \u001b[0;32mFalse\u001b[0m\u001b[0;34m\u001b[0m\u001b[0;34m\u001b[0m\u001b[0m\n\u001b[1;32m    625\u001b[0m \u001b[0;34m\u001b[0m\u001b[0m\n",
      "\u001b[0;32m/opt/conda/lib/python3.7/concurrent/futures/thread.py\u001b[0m in \u001b[0;36mshutdown\u001b[0;34m(self, wait)\u001b[0m\n\u001b[1;32m    214\u001b[0m         \u001b[0;32mif\u001b[0m \u001b[0mwait\u001b[0m\u001b[0;34m:\u001b[0m\u001b[0;34m\u001b[0m\u001b[0;34m\u001b[0m\u001b[0m\n\u001b[1;32m    215\u001b[0m             \u001b[0;32mfor\u001b[0m \u001b[0mt\u001b[0m \u001b[0;32min\u001b[0m \u001b[0mself\u001b[0m\u001b[0;34m.\u001b[0m\u001b[0m_threads\u001b[0m\u001b[0;34m:\u001b[0m\u001b[0;34m\u001b[0m\u001b[0;34m\u001b[0m\u001b[0m\n\u001b[0;32m--> 216\u001b[0;31m                 \u001b[0mt\u001b[0m\u001b[0;34m.\u001b[0m\u001b[0mjoin\u001b[0m\u001b[0;34m(\u001b[0m\u001b[0;34m)\u001b[0m\u001b[0;34m\u001b[0m\u001b[0;34m\u001b[0m\u001b[0m\n\u001b[0m\u001b[1;32m    217\u001b[0m     \u001b[0mshutdown\u001b[0m\u001b[0;34m.\u001b[0m\u001b[0m__doc__\u001b[0m \u001b[0;34m=\u001b[0m \u001b[0m_base\u001b[0m\u001b[0;34m.\u001b[0m\u001b[0mExecutor\u001b[0m\u001b[0;34m.\u001b[0m\u001b[0mshutdown\u001b[0m\u001b[0;34m.\u001b[0m\u001b[0m__doc__\u001b[0m\u001b[0;34m\u001b[0m\u001b[0;34m\u001b[0m\u001b[0m\n",
      "\u001b[0;32m/opt/conda/lib/python3.7/threading.py\u001b[0m in \u001b[0;36mjoin\u001b[0;34m(self, timeout)\u001b[0m\n\u001b[1;32m   1042\u001b[0m \u001b[0;34m\u001b[0m\u001b[0m\n\u001b[1;32m   1043\u001b[0m         \u001b[0;32mif\u001b[0m \u001b[0mtimeout\u001b[0m \u001b[0;32mis\u001b[0m \u001b[0;32mNone\u001b[0m\u001b[0;34m:\u001b[0m\u001b[0;34m\u001b[0m\u001b[0;34m\u001b[0m\u001b[0m\n\u001b[0;32m-> 1044\u001b[0;31m             \u001b[0mself\u001b[0m\u001b[0;34m.\u001b[0m\u001b[0m_wait_for_tstate_lock\u001b[0m\u001b[0;34m(\u001b[0m\u001b[0;34m)\u001b[0m\u001b[0;34m\u001b[0m\u001b[0;34m\u001b[0m\u001b[0m\n\u001b[0m\u001b[1;32m   1045\u001b[0m         \u001b[0;32melse\u001b[0m\u001b[0;34m:\u001b[0m\u001b[0;34m\u001b[0m\u001b[0;34m\u001b[0m\u001b[0m\n\u001b[1;32m   1046\u001b[0m             \u001b[0;31m# the behavior of a negative timeout isn't documented, but\u001b[0m\u001b[0;34m\u001b[0m\u001b[0;34m\u001b[0m\u001b[0;34m\u001b[0m\u001b[0m\n",
      "\u001b[0;32m/opt/conda/lib/python3.7/threading.py\u001b[0m in \u001b[0;36m_wait_for_tstate_lock\u001b[0;34m(self, block, timeout)\u001b[0m\n\u001b[1;32m   1058\u001b[0m         \u001b[0;32mif\u001b[0m \u001b[0mlock\u001b[0m \u001b[0;32mis\u001b[0m \u001b[0;32mNone\u001b[0m\u001b[0;34m:\u001b[0m  \u001b[0;31m# already determined that the C code is done\u001b[0m\u001b[0;34m\u001b[0m\u001b[0;34m\u001b[0m\u001b[0m\n\u001b[1;32m   1059\u001b[0m             \u001b[0;32massert\u001b[0m \u001b[0mself\u001b[0m\u001b[0;34m.\u001b[0m\u001b[0m_is_stopped\u001b[0m\u001b[0;34m\u001b[0m\u001b[0;34m\u001b[0m\u001b[0m\n\u001b[0;32m-> 1060\u001b[0;31m         \u001b[0;32melif\u001b[0m \u001b[0mlock\u001b[0m\u001b[0;34m.\u001b[0m\u001b[0macquire\u001b[0m\u001b[0;34m(\u001b[0m\u001b[0mblock\u001b[0m\u001b[0;34m,\u001b[0m \u001b[0mtimeout\u001b[0m\u001b[0;34m)\u001b[0m\u001b[0;34m:\u001b[0m\u001b[0;34m\u001b[0m\u001b[0;34m\u001b[0m\u001b[0m\n\u001b[0m\u001b[1;32m   1061\u001b[0m             \u001b[0mlock\u001b[0m\u001b[0;34m.\u001b[0m\u001b[0mrelease\u001b[0m\u001b[0;34m(\u001b[0m\u001b[0;34m)\u001b[0m\u001b[0;34m\u001b[0m\u001b[0;34m\u001b[0m\u001b[0m\n\u001b[1;32m   1062\u001b[0m             \u001b[0mself\u001b[0m\u001b[0;34m.\u001b[0m\u001b[0m_stop\u001b[0m\u001b[0;34m(\u001b[0m\u001b[0;34m)\u001b[0m\u001b[0;34m\u001b[0m\u001b[0;34m\u001b[0m\u001b[0m\n",
      "\u001b[0;31mKeyboardInterrupt\u001b[0m: "
     ]
    }
   ],
   "source": [
    "@my_decorator\n",
    "def inference(thread, payload_data=None):\n",
    "    headers = {\n",
    "        'Content-Type': 'application/json'\n",
    "    }\n",
    "    try:\n",
    "        response = requests.request(\"POST\", url, headers=headers, json=payload_data)\n",
    "        return \"Thread %s\" %thread, response\n",
    "    except Exception as e:\n",
    "        print(e)\n",
    "\n",
    "thread_func = partial(inference, payload_data=payload)        \n",
    "\n",
    "#Model Inference(Request)\n",
    "if __name__ == \"__main__\":\n",
    "    with concurrent.futures.ThreadPoolExecutor(max_workers=1) as executor:\n",
    "        executor.map(thread_func, range(1))\n"
   ]
  },
  {
   "cell_type": "code",
   "execution_count": 7,
   "id": "969fd1ee",
   "metadata": {},
   "outputs": [
    {
     "name": "stdout",
     "output_type": "stream",
     "text": [
      "{'id': 'cmpl-9142a552a9a1470e8ac53e85e51b2080', 'object': 'text_completion', 'created': 87834, 'model': '/llmmodels/models--ise-uiuc--Magicoder-S-DS-6.7B/snapshots/cff055b1e110cbe75c0c3759bd436299c6d6bb66', 'choices': [{'index': 0, 'text': '\\nAn anagram is a word or phrase formed by rearranging the letters of a different word or phrase, typically using all the original letters exactly once.\\n\\ndef are_anagrams(s1, s2):\\n    return sorted(s1) == sorted(s2)\\n\\n# Test the function\\nprint(are_anagrams(\"listen\", \"silent\"))  # True\\nprint(are_anagrams(\"hello\", \"world\"))  # False', 'logprobs': None, 'finish_reason': 'stop'}], 'usage': {'prompt_tokens': 45, 'total_tokens': 148, 'completion_tokens': 103}}\n",
      "--- 5.502794504165649 seconds ---\n"
     ]
    }
   ],
   "source": [
    "# import aiohttp\n",
    "# import asyncio\n",
    "# import time\n",
    "\n",
    "# start_time = time.time()\n",
    "# headers={\"Content-type\":\"application/json\"} \n",
    "# async def main():\n",
    "\n",
    "#     async with aiohttp.ClientSession(trust_env = True, headers=headers) as session:\n",
    "\n",
    "# #         for payload in payloads:\n",
    "# #             url='https://refract.fosfor.com/openchatfinetunedimqlgenerator/d0721c53-c9f5-4d79-a988-2d21df46198f/score' \n",
    "#         async with session.post(url, json=payload) as resp:\n",
    "#                 mql = await resp.json(content_type=None)\n",
    "#                 print(mql)\n",
    "\n",
    "# await main()\n",
    "# print(\"--- %s seconds ---\" % (time.time() - start_time))"
   ]
  },
  {
   "cell_type": "code",
   "execution_count": null,
   "id": "ba00e83d",
   "metadata": {},
   "outputs": [],
   "source": []
  }
 ],
 "metadata": {
  "kernelspec": {
   "display_name": "Python 3",
   "language": "python",
   "name": "python3"
  },
  "language_info": {
   "codemirror_mode": {
    "name": "ipython",
    "version": 3
   },
   "file_extension": ".py",
   "mimetype": "text/x-python",
   "name": "python",
   "nbconvert_exporter": "python",
   "pygments_lexer": "ipython3",
   "version": "3.7.10"
  }
 },
 "nbformat": 4,
 "nbformat_minor": 5
}
