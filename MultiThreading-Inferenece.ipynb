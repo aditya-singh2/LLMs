{
 "cells": [
  {
   "cell_type": "code",
   "execution_count": 9,
   "id": "85065d82",
   "metadata": {},
   "outputs": [],
   "source": [
    "import requests\n",
    "import time\n",
    "import os, json\n",
    "import csv\n",
    "import concurrent.futures\n",
    "# from functools import partial\n",
    "import pandas as pd"
   ]
  },
  {
   "cell_type": "code",
   "execution_count": 22,
   "id": "ddec33f0",
   "metadata": {},
   "outputs": [
    {
     "name": "stdout",
     "output_type": "stream",
     "text": [
      "Prompt==> Problem: Write a function in c++ to calculate the sum of the digits of a given positive integer.Input: Positive integer num.Output: Integer, the sum of the digits of num. \n",
      " {\"id\":\"cmpl-56e44ddeca9648ab988ee4bccc4c6d33\",\"object\":\"text_completion\",\"created\":452713,\"model\":\"/llmmodels/models--ise-uiuc--Magicoder-S-DS-6.7B/snapshots/cff055b1e110cbe75c0c3759bd436299c6d6bb66\",\"choices\":[{\"index\":0,\"text\":\"\\n\\n\\nSolution:\\n\\n```cpp\\n#include <iostream>\\nusing namespace std;\\n\\nint sumOfDigits(int num) {\\n    int sum = 0;\\n    while (num != 0) {\\n        sum += num % 10;\\n        num /= 10;\\n    }\\n    return sum;\\n}\\n\\nint main() {\\n    int num;\\n    cout << \\\"Enter a positive integer: \\\";\\n    cin >> num;\\n    cout << \\\"Sum of digits: \\\" << sumOfDigits(num) << endl;\\n    return 0;\\n}\\n```\\n\\nThis program first asks the user to input a positive integer. It then calls the function `sumOfDigits` with the input number as the argument. The function calculates the sum of the digits by repeatedly taking the last digit of the number (using the modulo operator)\",\"logprobs\":null,\"finish_reason\":\"length\"}],\"usage\":{\"prompt_tokens\":44,\"total_tokens\":244,\"completion_tokens\":200}}\n",
      "Execution time: 10.287174 seconds \n",
      "\n",
      "\n",
      "Prompt==> Problem: Write a function in c++ to generate the nth Fibonacci number.Input: Non-negative integer n.Output: Integer, the nth Fibonacci number. \n",
      " {\"id\":\"cmpl-6ab347831ea44f57bafa587e3d56e86a\",\"object\":\"text_completion\",\"created\":452714,\"model\":\"/llmmodels/models--ise-uiuc--Magicoder-S-DS-6.7B/snapshots/cff055b1e110cbe75c0c3759bd436299c6d6bb66\",\"choices\":[{\"index\":0,\"text\":\"\\n\\nFibonacci sequence: 0, 1, 1, 2, 3, 5, 8, 13, 21, 34, 55, 89, 144, ...\\n\\nHere is a simple C++ function to generate the nth Fibonacci number:\\n\\n```cpp\\n#include <iostream>\\nusing namespace std;\\n\\nint fibonacci(int n) {\\n    if (n <= 0)\\n        return 0;\\n    else if (n == 1)\\n        return 1;\\n    else\\n        return fibonacci(n-1) + fibonacci(n-2);\\n}\\n\\nint main() {\\n    int n;\\n    cout << \\\"Enter a positive integer: \\\";\\n    cin >> n;\\n    cout << \\\"Fibonacci\",\"logprobs\":null,\"finish_reason\":\"length\"}],\"usage\":{\"prompt_tokens\":44,\"total_tokens\":244,\"completion_tokens\":200}}\n",
      "Execution time: 10.288116 seconds \n",
      "\n",
      "\n",
      "Prompt==> Problem: Write a function in c++ to check if two strings are anagrams.Input: Strings s1 and s2.Output: Boolean, indicating whether s1 and s2 are anagrams. \n",
      " {\"id\":\"cmpl-5276626a52a64bebb41a168a756380f6\",\"object\":\"text_completion\",\"created\":452715,\"model\":\"/llmmodels/models--ise-uiuc--Magicoder-S-DS-6.7B/snapshots/cff055b1e110cbe75c0c3759bd436299c6d6bb66\",\"choices\":[{\"index\":0,\"text\":\"\\nAn anagram is a word or phrase formed by rearranging the letters of a different word or phrase, typically using all the original letters exactly once.\\n\\nHere is a simple C++ function to check if two strings are anagrams:\\n\\n```cpp\\n#include <bits/stdc++.h>\\nusing namespace std;\\n\\nbool areAnagram(string s1, string s2) {\\n    int count[256] = {0};\\n    int i;\\n\\n    if (s1.length() != s2.length())\\n        return false;\\n\\n    for (i = 0; s1[i] && s2[i]; i++) {\\n        count[s1[i]]++;\\n        count[s2[i]]--;\\n    }\\n\\n    for (i = 0; i < 256; i++)\\n        if (count\",\"logprobs\":null,\"finish_reason\":\"length\"}],\"usage\":{\"prompt_tokens\":46,\"total_tokens\":246,\"completion_tokens\":200}}\n",
      "Execution time: 10.293317 seconds \n",
      "\n",
      "\n",
      "Prompt==> Problem: Write a function in javascript to calculate the factorial of a given non-negative integer.Input: Non-negative integer n. Output: Integer, the factorial of n. \n",
      " {\"id\":\"cmpl-3bd7954efe6c45f3acb94688e63ce9e4\",\"object\":\"text_completion\",\"created\":452724,\"model\":\"/llmmodels/models--ise-uiuc--Magicoder-S-DS-6.7B/snapshots/cff055b1e110cbe75c0c3759bd436299c6d6bb66\",\"choices\":[{\"index\":0,\"text\":\"\\n\\n\\nfunction factorial(n) {\\n    if (n === 0) {\\n        return 1;\\n    } else {\\n        return n * factorial(n - 1);\\n    }\\n}\\n\\nconsole.log(factorial(5)); // Output: 120\",\"logprobs\":null,\"finish_reason\":\"stop\"}],\"usage\":{\"prompt_tokens\":40,\"total_tokens\":107,\"completion_tokens\":67}}\n",
      "Execution time: 3.443191 seconds \n",
      "\n",
      "\n",
      "Prompt==> Problem: Write a function in javascript to reverse a given string.Input: String s.Output: String, the reversed version of s. \n",
      " {\"id\":\"cmpl-de7b52a6de9e412b8d172df1bd764157\",\"object\":\"text_completion\",\"created\":452726,\"model\":\"/llmmodels/models--ise-uiuc--Magicoder-S-DS-6.7B/snapshots/cff055b1e110cbe75c0c3759bd436299c6d6bb66\",\"choices\":[{\"index\":0,\"text\":\"\\n\\n\\nfunction reverseString(s) {\\n    return s.split(\\\"\\\").reverse().join(\\\"\\\");\\n}\\n\\nconsole.log(reverseString(\\\"Hello World\\\")); // Output: \\\"dlroW olleH\\\"\",\"logprobs\":null,\"finish_reason\":\"stop\"}],\"usage\":{\"prompt_tokens\":31,\"total_tokens\":82,\"completion_tokens\":51}}\n",
      "Execution time: 2.643394 seconds \n",
      "\n",
      "\n"
     ]
    }
   ],
   "source": [
    "# url = \"https://refract.fosfor.com/magiccodermodel/6188a3e2-bc43-444e-bfaa-8159fca71b3a/score\"\n",
    "url = \"http://vllm-serving-service:8888/v1/completions\"\n",
    "# lltoken = \"eyJhbGciOiJSUzI1NiIsInR5cCIgOiAiSldUIiwia2lkIiA6ICJ4WTdTd3k5UE1xaXRDQmNSMm5qcVl6bmoxS3NqZzV3TmdOV0xDVzdyUkhvIn0.eyJleHAiOjE3MzA4ODM3MzgsImlhdCI6MTY5OTI2MTMzOCwiYXV0aF90aW1lIjoxNjk5MjUyMDQ0LCJqdGkiOiJmN2EzMzQwYy1kNDQwLTRlMzUtYjk2ZS04YzBiMTc0Y2RhODAiLCJpc3MiOiJodHRwczovL3JlZnJhY3QtbG9naW4uZm9zZm9yLmNvbS9hdXRoL3JlYWxtcy9tb3NhaWMiLCJhdWQiOlsibW9zYWljLWdhdGVrZWVwZXIiLCJhY2NvdW50Il0sInN1YiI6IjZjMjU4MWU3LWZmMTItNDljNy04MDJmLWI2ZjQzOWQxZDIwMSIsInR5cCI6IkJlYXJlciIsImF6cCI6Im1vc2FpYy1nYXRla2VlcGVyIiwic2Vzc2lvbl9zdGF0ZSI6IjBhY2Y3YWZhLTVmMzMtNGRhZS05OGM3LTQyZDQwYTdlZTM2NiIsImFsbG93ZWQtb3JpZ2lucyI6WyIqIl0sInJlYWxtX2FjY2VzcyI6eyJyb2xlcyI6WyJNTE9QUyIsImxvbmdfbGl2ZWRfdG9rZW4iLCJzcGVjdHJhLWRldmVsb3BlciIsImRlZmF1bHQtcm9sZXMtbW9zYWljIiwicmVmcmFjdC1kZXZlbG9wZXIiLCJvZmZsaW5lX2FjY2VzcyIsImFkbWluIiwidW1hX2F1dGhvcml6YXRpb24iLCJyZWZyYWN0LWFkbWluIl19LCJyZXNvdXJjZV9hY2Nlc3MiOnsiYWNjb3VudCI6eyJyb2xlcyI6WyJtYW5hZ2UtYWNjb3VudCIsIm1hbmFnZS1hY2NvdW50LWxpbmtzIiwidmlldy1wcm9maWxlIl19fSwic2NvcGUiOiJvcGVuaWQgZW1haWwgcHJvZmlsZSIsInNpZCI6IjBhY2Y3YWZhLTVmMzMtNGRhZS05OGM3LTQyZDQwYTdlZTM2NiIsImVtYWlsX3ZlcmlmaWVkIjp0cnVlLCJuYW1lIjoiUmVmcmFjdCBCRlNJIiwicHJlZmVycmVkX3VzZXJuYW1lIjoicmVmcmFjdC5iZnNpQGZvc2Zvci5jb20iLCJnaXZlbl9uYW1lIjoiUmVmcmFjdCIsImZhbWlseV9uYW1lIjoiQkZTSSIsImVtYWlsIjoicmVmcmFjdC5iZnNpQGZvc2Zvci5jb20ifQ.b6SYLgjo9Veo3GmJ8eZjCTNupQjpfMhzsoXdYjWwRtvRnNjBfx0gOqcugO9OcGn-mm8wwpSGI5uiL30-I6SdWBjsf1ur6GztoX7j-nP_3SrJJn3UhNNqIO8LbsPi5gGRTzWtnfjz92BF1YaCXxQwPY0P_aa8vJ6JxZz5Uctn9aIPIJZZnnjC_GPXtXurmshM_tEN2kwCjhEyr7wYzRqUoMtBGfpLjZREBzgZY-x6JyYiXNtycb1d6PFcCXf7nJVV8ienEC_x7OuciDzfeqd-SQnImvAHH7rqFdi9smBN08AbkDS2uAbMrokHrmbiBpaimrR013VwCWz2KL5QYlWleA\"\n",
    "request_payload_file = '/data/Magicoder_payloads.txt'\n",
    "report_path = '/data/vLLM_5Concurrency_1gpu.csv'\n",
    "df = pd.DataFrame(columns=['Prompt', 'Response', 'Response_status', 'Time (seconds)'])"
   ]
  },
  {
   "cell_type": "code",
   "execution_count": 11,
   "id": "201050d7",
   "metadata": {},
   "outputs": [],
   "source": [
    "payload = {\"prompt\": \"Problem: Write a function in python to check if two strings are anagrams.Input: Strings s1 and s2.Output: Boolean, indicating whether s1 and s2 are anagrams.\", \n",
    "           \"max_tokens\": 200,\n",
    "           \"temperature\": 0,\n",
    "           \"model\": \"/llmmodels/models--ise-uiuc--Magicoder-S-DS-6.7B/snapshots/cff055b1e110cbe75c0c3759bd436299c6d6bb66\"}"
   ]
  },
  {
   "cell_type": "code",
   "execution_count": 12,
   "id": "30c55110",
   "metadata": {},
   "outputs": [],
   "source": [
    "def read_payloads(file_path):\n",
    "    with open(file_path, 'r') as file:\n",
    "        for line in file:\n",
    "            prompt = json.loads(line.strip())\n",
    "            yield prompt['payload']"
   ]
  },
  {
   "cell_type": "code",
   "execution_count": 13,
   "id": "90a0dade",
   "metadata": {},
   "outputs": [],
   "source": [
    "def my_decorator(func):\n",
    "    def calculate_execution_time(*args, **kwargs):\n",
    "        global df\n",
    "        start_time = time.time()\n",
    "        result, _= func(*args, **kwargs)\n",
    "        end_time = time.time()\n",
    "        execution_time = end_time - start_time\n",
    "        data = {'Prompt':_,'Response':result.text, 'Response_status':result.status_code, 'Time (seconds)':f'{execution_time:.6f}'}\n",
    "        df = df.append(data, ignore_index=True)\n",
    "        print(f\"Execution time: {execution_time:.6f} seconds \\n\\n\")\n",
    "        return result\n",
    "    return calculate_execution_time"
   ]
  },
  {
   "cell_type": "code",
   "execution_count": 14,
   "id": "4f946126",
   "metadata": {},
   "outputs": [],
   "source": [
    "def save_report(file_path, df):\n",
    "    print(df)\n",
    "    df.to_csv(file_path, index=False)"
   ]
  },
  {
   "cell_type": "code",
   "execution_count": 17,
   "id": "3ed2a78a",
   "metadata": {},
   "outputs": [],
   "source": [
    "@my_decorator\n",
    "def inference(payload_data=None):\n",
    "    headers = {\n",
    "        'Content-Type': 'application/json'\n",
    "    }\n",
    "    try:\n",
    "        response = requests.request(\"POST\", url, headers=headers, json=payload_data)\n",
    "        print(f\"Prompt==> {payload_data['prompt']} \\n {response.text}\")\n",
    "        return response, payload_data['prompt']\n",
    "    except Exception as e:\n",
    "        print(e)\n",
    "        "
   ]
  },
  {
   "cell_type": "code",
   "execution_count": 20,
   "id": "c706b11c",
   "metadata": {},
   "outputs": [
    {
     "name": "stdout",
     "output_type": "stream",
     "text": [
      "loop 0+++++++++++++++++++++++++++++\n",
      "Prompt==> Problem: Write a function in python to reverse a given string.Input: String s.Output: String, the reversed version of s. \n",
      " {\"id\":\"cmpl-b457750dfa214b34b19846e0f699484a\",\"object\":\"text_completion\",\"created\":452677,\"model\":\"/llmmodels/models--ise-uiuc--Magicoder-S-DS-6.7B/snapshots/cff055b1e110cbe75c0c3759bd436299c6d6bb66\",\"choices\":[{\"index\":0,\"text\":\"\\n\\n\\ndef reverse_string(s):\\n    return s[::-1]\\n\\n# Test the function\\nprint(reverse_string(\\\"Hello, World!\\\"))  # Output: !dlroW ,olleH\",\"logprobs\":null,\"finish_reason\":\"stop\"}],\"usage\":{\"prompt_tokens\":31,\"total_tokens\":82,\"completion_tokens\":51}}\n",
      "Execution time: 2.779312 seconds \n",
      "\n",
      "\n",
      "Prompt==> Problem: Write a function in python to check if a given string is a palindrome.Input: String s.Output: Boolean, indicating whether s is a palindrome. \n",
      " {\"id\":\"cmpl-42796ccf5a8b4a5c86ddd6d92c0e51bc\",\"object\":\"text_completion\",\"created\":452677,\"model\":\"/llmmodels/models--ise-uiuc--Magicoder-S-DS-6.7B/snapshots/cff055b1e110cbe75c0c3759bd436299c6d6bb66\",\"choices\":[{\"index\":0,\"text\":\"\\n\\n\\ndef is_palindrome(s):\\n    return s == s[::-1]\\n\\n# Test the function\\nprint(is_palindrome('madam'))  # True\\nprint(is_palindrome('hello'))  # False\",\"logprobs\":null,\"finish_reason\":\"stop\"}],\"usage\":{\"prompt_tokens\":39,\"total_tokens\":98,\"completion_tokens\":59}}\n",
      "Execution time: 3.210780 seconds \n",
      "\n",
      "\n",
      "Prompt==> Problem: Write a function in python to calculate the factorial of a given non-negative integer.Input: Non-negative integer n. Output: Integer, the factorial of n. \n",
      " {\"id\":\"cmpl-0672cfd44eb24003b2167dd213a36aa2\",\"object\":\"text_completion\",\"created\":452677,\"model\":\"/llmmodels/models--ise-uiuc--Magicoder-S-DS-6.7B/snapshots/cff055b1e110cbe75c0c3759bd436299c6d6bb66\",\"choices\":[{\"index\":0,\"text\":\"\\n\\n\\ndef factorial(n):\\n    if n == 0:\\n        return 1\\n    else:\\n        return n * factorial(n-1)\\n\\n# Test the function\\nprint(factorial(5))  # Output: 120\\nprint(factorial(0))  # Output: 1\\nprint(factorial(10))  # Output: 3628800\",\"logprobs\":null,\"finish_reason\":\"stop\"}],\"usage\":{\"prompt_tokens\":40,\"total_tokens\":135,\"completion_tokens\":95}}\n",
      "Execution time: 5.077914 seconds \n",
      "\n",
      "\n",
      "Prompt==> Problem: Write a function in python to calculate the sum of the digits of a given positive integer.Input: Positive integer num.Output: Integer, the sum of the digits of num. \n",
      " {\"id\":\"cmpl-2476312d03584c86993d7468c019f8a8\",\"object\":\"text_completion\",\"created\":452677,\"model\":\"/llmmodels/models--ise-uiuc--Magicoder-S-DS-6.7B/snapshots/cff055b1e110cbe75c0c3759bd436299c6d6bb66\",\"choices\":[{\"index\":0,\"text\":\"\\n\\n\\ndef sum_of_digits(num):\\n    return sum(int(digit) for digit in str(num))\\n\\n# Test the function\\nprint(sum_of_digits(1234))  # Output: 10\\nprint(sum_of_digits(5678))  # Output: 26\\nprint(sum_of_digits(9001))  # Output: 10\",\"logprobs\":null,\"finish_reason\":\"stop\"}],\"usage\":{\"prompt_tokens\":43,\"total_tokens\":146,\"completion_tokens\":103}}\n",
      "Execution time: 5.467396 seconds \n",
      "\n",
      "\n",
      "Prompt==> Problem: Write a function in python to count the number of words in a given string.Input: String s.Output: Integer, the number of words in s. \n",
      " {\"id\":\"cmpl-46e36d62007447c8b273f4474280f2fa\",\"object\":\"text_completion\",\"created\":452681,\"model\":\"/llmmodels/models--ise-uiuc--Magicoder-S-DS-6.7B/snapshots/cff055b1e110cbe75c0c3759bd436299c6d6bb66\",\"choices\":[{\"index\":0,\"text\":\"\\n\\n\\ndef count_words(s):\\n    return len(s.split())\\n\\n# Test the function\\ns = \\\"Hello, how are you doing today?\\\"\\nprint(count_words(s))  # Output: 5\",\"logprobs\":null,\"finish_reason\":\"stop\"}],\"usage\":{\"prompt_tokens\":36,\"total_tokens\":89,\"completion_tokens\":53}}\n",
      "Execution time: 2.782770 seconds \n",
      "\n",
      "\n",
      "Prompt==> Problem: Write a function in python to check if a given number is a prime number.Input: Positive integer num.Output: Boolean, indicating whether num is prime. \n",
      " {\"id\":\"cmpl-93eda2d4c2364f2db3084e28f29219ef\",\"object\":\"text_completion\",\"created\":452677,\"model\":\"/llmmodels/models--ise-uiuc--Magicoder-S-DS-6.7B/snapshots/cff055b1e110cbe75c0c3759bd436299c6d6bb66\",\"choices\":[{\"index\":0,\"text\":\"\\n\\n\\ndef is_prime(num):\\n    if num <= 1:\\n        return False\\n    elif num <= 3:\\n        return True\\n    elif num % 2 == 0 or num % 3 == 0:\\n        return False\\n    i = 5\\n    while i * i <= num:\\n        if num % i == 0 or num % (i + 2) == 0:\\n            return False\\n        i += 6\\n    return True\\n\\n# Test the function\\nprint(is_prime(2))  # True\\nprint(is_prime(4))  # False\\nprint(is_prime(17))  # True\\nprint(is_prime(100))  # False\",\"logprobs\":null,\"finish_reason\":\"stop\"}],\"usage\":{\"prompt_tokens\":37,\"total_tokens\":194,\"completion_tokens\":157}}\n",
      "Execution time: 8.307277 seconds \n",
      "\n",
      "\n",
      "Prompt==> Problem: Write a function in python to check if two strings are anagrams.Input: Strings s1 and s2.Output: Boolean, indicating whether s1 and s2 are anagrams. \n",
      " {\"id\":\"cmpl-9c6537c9314f42d5b7b2e471be3e8ce5\",\"object\":\"text_completion\",\"created\":452683,\"model\":\"/llmmodels/models--ise-uiuc--Magicoder-S-DS-6.7B/snapshots/cff055b1e110cbe75c0c3759bd436299c6d6bb66\",\"choices\":[{\"index\":0,\"text\":\"\\nAn anagram is a word or phrase formed by rearranging the letters of a different word or phrase, typically using all the original letters exactly once.\\n\\ndef are_anagrams(s1, s2):\\n    return sorted(s1) == sorted(s2)\\n\\n# Test the function\\nprint(are_anagrams(\\\"listen\\\", \\\"silent\\\"))  # True\\nprint(are_anagrams(\\\"hello\\\", \\\"world\\\"))  # False\",\"logprobs\":null,\"finish_reason\":\"stop\"}],\"usage\":{\"prompt_tokens\":45,\"total_tokens\":148,\"completion_tokens\":103}}\n",
      "Execution time: 5.302386 seconds \n",
      "\n",
      "\n",
      "Prompt==> Problem: Write a function in python to generate the nth Fibonacci number.Input: Non-negative integer n.Output: Integer, the nth Fibonacci number. \n",
      " {\"id\":\"cmpl-4ac418df8a75489ea01763c842edd020\",\"object\":\"text_completion\",\"created\":452680,\"model\":\"/llmmodels/models--ise-uiuc--Magicoder-S-DS-6.7B/snapshots/cff055b1e110cbe75c0c3759bd436299c6d6bb66\",\"choices\":[{\"index\":0,\"text\":\"\\n\\nFibonacci sequence: 0, 1, 1, 2, 3, 5, 8, 13, 21, 34, 55, 89, 144, ...\\n\\nThe Fibonacci sequence is defined as follows:\\n\\nF(0) = 0, F(1) = 1\\n\\nFor n > 1, F(n) = F(n-1) + F(n-2)\\n\\nHere is a Python function that generates the nth Fibonacci number:\\n\\n```python\\ndef fibonacci(n):\\n    if n <= 0:\\n        return \\\"Input should be a positive integer.\\\"\\n    elif n == 1:\\n        return 0\\n    elif n == 2:\\n        return 1\\n    else:\\n        a, b = 0, 1\\n       \",\"logprobs\":null,\"finish_reason\":\"length\"}],\"usage\":{\"prompt_tokens\":43,\"total_tokens\":243,\"completion_tokens\":200}}\n",
      "Execution time: 10.440278 seconds \n",
      "\n",
      "\n",
      "Prompt==> Problem: Write a function in python to perform binary search on a sorted list.Input: Sorted list arr and target value target.Output: Integer, the index of target in arr (or -1 if not found). \n",
      " {\"id\":\"cmpl-a67b776b58d04c73ba43d356544ef594\",\"object\":\"text_completion\",\"created\":452682,\"model\":\"/llmmodels/models--ise-uiuc--Magicoder-S-DS-6.7B/snapshots/cff055b1e110cbe75c0c3759bd436299c6d6bb66\",\"choices\":[{\"index\":0,\"text\":\"\\n\\n\\ndef binary_search(arr, target):\\n    left, right = 0, len(arr) - 1\\n    while left <= right:\\n        mid = (left + right) // 2\\n        if arr[mid] == target:\\n            return mid\\n        elif arr[mid] < target:\\n            left = mid + 1\\n        else:\\n            right = mid - 1\\n    return -1\\n\\n# Test the function\\narr = [1, 2, 3, 4, 5, 6, 7, 8, 9, 10]\\ntarget = 5\\nprint(binary_search(arr, target))  # Output: 4\\n\\ntarget = 11\\nprint(binary_search(arr, target))  # Output: -1\",\"logprobs\":null,\"finish_reason\":\"stop\"}],\"usage\":{\"prompt_tokens\":47,\"total_tokens\":226,\"completion_tokens\":179}}\n",
      "Execution time: 9.398617 seconds \n",
      "\n",
      "\n",
      "Prompt==> Problem: Write a function in python to transpose a given matrix.Input: 2D list representing a matrix.Output: 2D list, the transpose of the input matrix. \n",
      " {\"id\":\"cmpl-3032a37d2699442ab37df753f0fad9f0\",\"object\":\"text_completion\",\"created\":452683,\"model\":\"/llmmodels/models--ise-uiuc--Magicoder-S-DS-6.7B/snapshots/cff055b1e110cbe75c0c3759bd436299c6d6bb66\",\"choices\":[{\"index\":0,\"text\":\"\\n\\nTranspose of a matrix is a new matrix whose rows are the columns of the original matrix.\\n\\nExample:\\nInput: [[1, 2, 3], [4, 5, 6], [7, 8, 9]]\\nOutput: [[1, 4, 7], [2, 5, 8], [3, 6, 9]]\\n\\nHere is a Python function that does this:\\n\\n```python\\ndef transpose(matrix):\\n    return [[matrix[j][i] for j in range(len(matrix))] for i in range(len(matrix[0]))]\\n```\\n\\nThis function works by iterating over the columns of the original matrix, and for each column, it creates a new row in the transposed matrix by selecting the corresponding element from each row of the original matrix.\",\"logprobs\":null,\"finish_reason\":\"stop\"}],\"usage\":{\"prompt_tokens\":41,\"total_tokens\":227,\"completion_tokens\":186}}\n",
      "Execution time: 9.770946 seconds \n",
      "\n",
      "\n"
     ]
    },
    {
     "name": "stdout",
     "output_type": "stream",
     "text": [
      "Prompt==> Problem: Write a function in java to reverse a given string.Input: String s.Output: String, the reversed version of s. \n",
      " {\"id\":\"cmpl-0a2fa777aa57470799e964a160db6552\",\"object\":\"text_completion\",\"created\":452689,\"model\":\"/llmmodels/models--ise-uiuc--Magicoder-S-DS-6.7B/snapshots/cff055b1e110cbe75c0c3759bd436299c6d6bb66\",\"choices\":[{\"index\":0,\"text\":\"\\n\\n\\npublic class Main {\\n    public static void main(String[] args) {\\n        String s = \\\"Hello World\\\";\\n        System.out.println(reverseString(s));\\n    }\\n\\n    public static String reverseString(String s) {\\n        String reversed = \\\"\\\";\\n        for (int i = s.length() - 1; i >= 0; i--) {\\n            reversed += s.charAt(i);\\n        }\\n        return reversed;\\n    }\\n}\",\"logprobs\":null,\"finish_reason\":\"stop\"}],\"usage\":{\"prompt_tokens\":31,\"total_tokens\":146,\"completion_tokens\":115}}\n",
      "Execution time: 6.108930 seconds \n",
      "\n",
      "\n",
      "Prompt==> Problem: Write a function in java to calculate the factorial of a given non-negative integer.Input: Non-negative integer n. Output: Integer, the factorial of n. \n",
      " {\"id\":\"cmpl-64dbfbedb3124b0f8ba4419182f999bf\",\"object\":\"text_completion\",\"created\":452686,\"model\":\"/llmmodels/models--ise-uiuc--Magicoder-S-DS-6.7B/snapshots/cff055b1e110cbe75c0c3759bd436299c6d6bb66\",\"choices\":[{\"index\":0,\"text\":\"\\n\\n\\nSolution:\\n\\nHere is a simple Java function to calculate the factorial of a given non-negative integer:\\n\\n```java\\npublic class Main {\\n    public static void main(String[] args) {\\n        System.out.println(factorial(5));  // Output: 120\\n    }\\n\\n    public static int factorial(int n) {\\n        if (n == 0) {\\n            return 1;\\n        } else {\\n            return n * factorial(n - 1);\\n        }\\n    }\\n}\\n```\\n\\nThis function uses recursion to calculate the factorial. The base case is when `n` is 0, in which case the function returns 1. For all other values of `n`, the function calls itself with the argument `n - 1` and multiplies the result by `n`. This continues until `n`\",\"logprobs\":null,\"finish_reason\":\"length\"}],\"usage\":{\"prompt_tokens\":40,\"total_tokens\":240,\"completion_tokens\":200}}\n",
      "Execution time: 10.555174 seconds \n",
      "\n",
      "\n",
      "Prompt==> Problem: Write a function in java to check if a given number is a prime number.Input: Positive integer num.Output: Boolean, indicating whether num is prime. \n",
      " {\"id\":\"cmpl-f69d4fcf6b5a456f82b37718782f9a15\",\"object\":\"text_completion\",\"created\":452691,\"model\":\"/llmmodels/models--ise-uiuc--Magicoder-S-DS-6.7B/snapshots/cff055b1e110cbe75c0c3759bd436299c6d6bb66\",\"choices\":[{\"index\":0,\"text\":\"\\n\\n\\nSolution:\\n\\n```java\\npublic class Main {\\n    public static void main(String[] args) {\\n        System.out.println(isPrime(11));  // Output: true\\n        System.out.println(isPrime(15));  // Output: false\\n    }\\n\\n    public static boolean isPrime(int num) {\\n        if (num <= 1) {\\n            return false;\\n        }\\n        for (int i = 2; i * i <= num; i++) {\\n            if (num % i == 0) {\\n                return false;\\n            }\\n        }\\n        return true;\\n    }\\n}\\n```\\n\\nThis function works by checking if the number is less than or equal to 1, in which case it is not prime. Then it checks if the number is divisible by any number up to its square root. If\",\"logprobs\":null,\"finish_reason\":\"length\"}],\"usage\":{\"prompt_tokens\":37,\"total_tokens\":237,\"completion_tokens\":200}}\n",
      "Execution time: 10.491954 seconds \n",
      "\n",
      "\n",
      "Prompt==> Problem: Write a function in java to check if a given string is a palindrome.Input: String s.Output: Boolean, indicating whether s is a palindrome. \n",
      " {\"id\":\"cmpl-9b9743c4e2244a978977921db763ad39\",\"object\":\"text_completion\",\"created\":452692,\"model\":\"/llmmodels/models--ise-uiuc--Magicoder-S-DS-6.7B/snapshots/cff055b1e110cbe75c0c3759bd436299c6d6bb66\",\"choices\":[{\"index\":0,\"text\":\"\\n\\n\\nSolution:\\n\\n```java\\npublic class Main {\\n    public static void main(String[] args) {\\n        System.out.println(isPalindrome(\\\"madam\\\"));\\n        System.out.println(isPalindrome(\\\"hello\\\"));\\n    }\\n\\n    public static boolean isPalindrome(String s) {\\n        int i = 0, j = s.length() - 1;\\n\\n        while (i < j) {\\n            if (s.charAt(i) != s.charAt(j))\\n                return false;\\n            i++;\\n            j--;\\n        }\\n\\n        return true;\\n    }\\n}\\n```\\n\\nIn this code, we define a function `isPalindrome` that takes a string `s` as input. We initialize two pointers, `i` and `j`, at the start and end\",\"logprobs\":null,\"finish_reason\":\"length\"}],\"usage\":{\"prompt_tokens\":39,\"total_tokens\":239,\"completion_tokens\":200}}\n",
      "Execution time: 10.507183 seconds \n",
      "\n",
      "\n",
      "Prompt==> Problem: Write a function in java to calculate the sum of the digits of a given positive integer.Input: Positive integer num.Output: Integer, the sum of the digits of num. \n",
      " {\"id\":\"cmpl-c7dff064a97a4b89870a82533beec113\",\"object\":\"text_completion\",\"created\":452693,\"model\":\"/llmmodels/models--ise-uiuc--Magicoder-S-DS-6.7B/snapshots/cff055b1e110cbe75c0c3759bd436299c6d6bb66\",\"choices\":[{\"index\":0,\"text\":\"\\n\\n\\nHere is a simple Java function that calculates the sum of the digits of a given positive integer:\\n\\n```java\\npublic class Main {\\n    public static void main(String[] args) {\\n        int num = 12345;\\n        System.out.println(\\\"Sum of digits: \\\" + sumOfDigits(num));\\n    }\\n\\n    public static int sumOfDigits(int num) {\\n        int sum = 0;\\n        while (num != 0) {\\n            sum += num % 10;\\n            num /= 10;\\n        }\\n        return sum;\\n    }\\n}\\n```\\n\\nIn this function, we use a while loop to iterate through each digit of the number. In each iteration, we add the last digit of the number to the sum and then remove the last digit from the number by dividing it by 10.\",\"logprobs\":null,\"finish_reason\":\"length\"}],\"usage\":{\"prompt_tokens\":43,\"total_tokens\":243,\"completion_tokens\":200}}\n",
      "Execution time: 10.433892 seconds \n",
      "\n",
      "\n",
      "Prompt==> Problem: Write a function in java to check if two strings are anagrams.Input: Strings s1 and s2.Output: Boolean, indicating whether s1 and s2 are anagrams. \n",
      " {\"id\":\"cmpl-2c825facac1346589ad648a80ca44a76\",\"object\":\"text_completion\",\"created\":452695,\"model\":\"/llmmodels/models--ise-uiuc--Magicoder-S-DS-6.7B/snapshots/cff055b1e110cbe75c0c3759bd436299c6d6bb66\",\"choices\":[{\"index\":0,\"text\":\"\\nAn anagram is a word or phrase formed by rearranging the letters of a different word or phrase, typically using all the original letters exactly once.\\n\\nHere is a simple Java function to check if two strings are anagrams:\\n\\n```java\\nimport java.util.Arrays;\\n\\npublic class Main {\\n    public static void main(String[] args) {\\n        System.out.println(areAnagrams(\\\"listen\\\", \\\"silent\\\"));  // Output: true\\n        System.out.println(areAnagrams(\\\"hello\\\", \\\"world\\\"));  // Output: false\\n    }\\n\\n    public static boolean areAnagrams(String s1, String s2) {\\n        if (s1.length() != s2.length()) {\\n            return false;\\n        }\\n\\n        char[] s1Array = s1.toCharArray();\\n        char[] s2Array =\",\"logprobs\":null,\"finish_reason\":\"length\"}],\"usage\":{\"prompt_tokens\":45,\"total_tokens\":245,\"completion_tokens\":200}}\n",
      "Execution time: 10.382430 seconds \n",
      "\n",
      "\n",
      "Prompt==> Problem: Write a function in java to generate the nth Fibonacci number.Input: Non-negative integer n.Output: Integer, the nth Fibonacci number. \n",
      " {\"id\":\"cmpl-9d611d7315624e1fbf6ca1bd3b3ed3dc\",\"object\":\"text_completion\",\"created\":452696,\"model\":\"/llmmodels/models--ise-uiuc--Magicoder-S-DS-6.7B/snapshots/cff055b1e110cbe75c0c3759bd436299c6d6bb66\",\"choices\":[{\"index\":0,\"text\":\"\\n\\nFibonacci sequence: 0, 1, 1, 2, 3, 5, 8, 13, 21, 34, 55, 89, 144, 233, 377, 610, 987, 1597, 2584, 4181, 6765, 10946, …\\n\\nHere is a simple Java function to generate the nth Fibonacci number:\\n\\n```java\\npublic class Main {\\n    public static void main(String[] args) {\\n        System.out.println(fibonacci(10));  // Output: 55\\n    }\\n\\n    public static int fibonacci(int n) {\\n        if (n <= 1) {\",\"logprobs\":null,\"finish_reason\":\"length\"}],\"usage\":{\"prompt_tokens\":43,\"total_tokens\":243,\"completion_tokens\":200}}\n",
      "Execution time: 10.344111 seconds \n",
      "\n",
      "\n"
     ]
    },
    {
     "ename": "KeyboardInterrupt",
     "evalue": "",
     "output_type": "error",
     "traceback": [
      "\u001b[0;31m---------------------------------------------------------------------------\u001b[0m",
      "\u001b[0;31mKeyboardInterrupt\u001b[0m                         Traceback (most recent call last)",
      "\u001b[0;32m<ipython-input-20-41406e2d8085>\u001b[0m in \u001b[0;36m<module>\u001b[0;34m\u001b[0m\n\u001b[1;32m     10\u001b[0m             \u001b[0mfutures\u001b[0m \u001b[0;34m=\u001b[0m \u001b[0;34m[\u001b[0m\u001b[0mexecutor\u001b[0m\u001b[0;34m.\u001b[0m\u001b[0msubmit\u001b[0m\u001b[0;34m(\u001b[0m\u001b[0minference\u001b[0m\u001b[0;34m,\u001b[0m \u001b[0;34m{\u001b[0m\u001b[0;34m**\u001b[0m\u001b[0mpayload\u001b[0m\u001b[0;34m,\u001b[0m \u001b[0;34m'prompt'\u001b[0m\u001b[0;34m:\u001b[0m \u001b[0mprompt\u001b[0m\u001b[0;34m}\u001b[0m\u001b[0;34m)\u001b[0m \u001b[0;32mfor\u001b[0m \u001b[0mprompt\u001b[0m \u001b[0;32min\u001b[0m \u001b[0mprompts\u001b[0m\u001b[0;34m]\u001b[0m\u001b[0;34m\u001b[0m\u001b[0;34m\u001b[0m\u001b[0m\n\u001b[0;32m---> 11\u001b[0;31m             \u001b[0mconcurrent\u001b[0m\u001b[0;34m.\u001b[0m\u001b[0mfutures\u001b[0m\u001b[0;34m.\u001b[0m\u001b[0mwait\u001b[0m\u001b[0;34m(\u001b[0m\u001b[0mfutures\u001b[0m\u001b[0;34m)\u001b[0m\u001b[0;34m\u001b[0m\u001b[0;34m\u001b[0m\u001b[0m\n\u001b[0m\u001b[1;32m     12\u001b[0m     \u001b[0msave_report\u001b[0m\u001b[0;34m(\u001b[0m\u001b[0mreport_path\u001b[0m\u001b[0;34m,\u001b[0m \u001b[0mdf\u001b[0m\u001b[0;34m)\u001b[0m\u001b[0;34m\u001b[0m\u001b[0;34m\u001b[0m\u001b[0m\n",
      "\u001b[0;32m/opt/conda/lib/python3.7/concurrent/futures/_base.py\u001b[0m in \u001b[0;36mwait\u001b[0;34m(fs, timeout, return_when)\u001b[0m\n\u001b[1;32m    300\u001b[0m \u001b[0;34m\u001b[0m\u001b[0m\n\u001b[0;32m--> 301\u001b[0;31m     \u001b[0mwaiter\u001b[0m\u001b[0;34m.\u001b[0m\u001b[0mevent\u001b[0m\u001b[0;34m.\u001b[0m\u001b[0mwait\u001b[0m\u001b[0;34m(\u001b[0m\u001b[0mtimeout\u001b[0m\u001b[0;34m)\u001b[0m\u001b[0;34m\u001b[0m\u001b[0;34m\u001b[0m\u001b[0m\n\u001b[0m\u001b[1;32m    302\u001b[0m     \u001b[0;32mfor\u001b[0m \u001b[0mf\u001b[0m \u001b[0;32min\u001b[0m \u001b[0mfs\u001b[0m\u001b[0;34m:\u001b[0m\u001b[0;34m\u001b[0m\u001b[0;34m\u001b[0m\u001b[0m\n",
      "\u001b[0;32m/opt/conda/lib/python3.7/threading.py\u001b[0m in \u001b[0;36mwait\u001b[0;34m(self, timeout)\u001b[0m\n\u001b[1;32m    551\u001b[0m             \u001b[0;32mif\u001b[0m \u001b[0;32mnot\u001b[0m \u001b[0msignaled\u001b[0m\u001b[0;34m:\u001b[0m\u001b[0;34m\u001b[0m\u001b[0;34m\u001b[0m\u001b[0m\n\u001b[0;32m--> 552\u001b[0;31m                 \u001b[0msignaled\u001b[0m \u001b[0;34m=\u001b[0m \u001b[0mself\u001b[0m\u001b[0;34m.\u001b[0m\u001b[0m_cond\u001b[0m\u001b[0;34m.\u001b[0m\u001b[0mwait\u001b[0m\u001b[0;34m(\u001b[0m\u001b[0mtimeout\u001b[0m\u001b[0;34m)\u001b[0m\u001b[0;34m\u001b[0m\u001b[0;34m\u001b[0m\u001b[0m\n\u001b[0m\u001b[1;32m    553\u001b[0m             \u001b[0;32mreturn\u001b[0m \u001b[0msignaled\u001b[0m\u001b[0;34m\u001b[0m\u001b[0;34m\u001b[0m\u001b[0m\n",
      "\u001b[0;32m/opt/conda/lib/python3.7/threading.py\u001b[0m in \u001b[0;36mwait\u001b[0;34m(self, timeout)\u001b[0m\n\u001b[1;32m    295\u001b[0m             \u001b[0;32mif\u001b[0m \u001b[0mtimeout\u001b[0m \u001b[0;32mis\u001b[0m \u001b[0;32mNone\u001b[0m\u001b[0;34m:\u001b[0m\u001b[0;34m\u001b[0m\u001b[0;34m\u001b[0m\u001b[0m\n\u001b[0;32m--> 296\u001b[0;31m                 \u001b[0mwaiter\u001b[0m\u001b[0;34m.\u001b[0m\u001b[0macquire\u001b[0m\u001b[0;34m(\u001b[0m\u001b[0;34m)\u001b[0m\u001b[0;34m\u001b[0m\u001b[0;34m\u001b[0m\u001b[0m\n\u001b[0m\u001b[1;32m    297\u001b[0m                 \u001b[0mgotit\u001b[0m \u001b[0;34m=\u001b[0m \u001b[0;32mTrue\u001b[0m\u001b[0;34m\u001b[0m\u001b[0;34m\u001b[0m\u001b[0m\n",
      "\u001b[0;31mKeyboardInterrupt\u001b[0m: ",
      "\nDuring handling of the above exception, another exception occurred:\n",
      "\u001b[0;31mKeyboardInterrupt\u001b[0m                         Traceback (most recent call last)",
      "\u001b[0;32m<ipython-input-20-41406e2d8085>\u001b[0m in \u001b[0;36m<module>\u001b[0;34m\u001b[0m\n\u001b[1;32m      9\u001b[0m         \u001b[0;32mwith\u001b[0m \u001b[0mconcurrent\u001b[0m\u001b[0;34m.\u001b[0m\u001b[0mfutures\u001b[0m\u001b[0;34m.\u001b[0m\u001b[0mThreadPoolExecutor\u001b[0m\u001b[0;34m(\u001b[0m\u001b[0mmax_workers\u001b[0m\u001b[0;34m=\u001b[0m\u001b[0;36m5\u001b[0m\u001b[0;34m)\u001b[0m \u001b[0;32mas\u001b[0m \u001b[0mexecutor\u001b[0m\u001b[0;34m:\u001b[0m\u001b[0;34m\u001b[0m\u001b[0;34m\u001b[0m\u001b[0m\n\u001b[1;32m     10\u001b[0m             \u001b[0mfutures\u001b[0m \u001b[0;34m=\u001b[0m \u001b[0;34m[\u001b[0m\u001b[0mexecutor\u001b[0m\u001b[0;34m.\u001b[0m\u001b[0msubmit\u001b[0m\u001b[0;34m(\u001b[0m\u001b[0minference\u001b[0m\u001b[0;34m,\u001b[0m \u001b[0;34m{\u001b[0m\u001b[0;34m**\u001b[0m\u001b[0mpayload\u001b[0m\u001b[0;34m,\u001b[0m \u001b[0;34m'prompt'\u001b[0m\u001b[0;34m:\u001b[0m \u001b[0mprompt\u001b[0m\u001b[0;34m}\u001b[0m\u001b[0;34m)\u001b[0m \u001b[0;32mfor\u001b[0m \u001b[0mprompt\u001b[0m \u001b[0;32min\u001b[0m \u001b[0mprompts\u001b[0m\u001b[0;34m]\u001b[0m\u001b[0;34m\u001b[0m\u001b[0;34m\u001b[0m\u001b[0m\n\u001b[0;32m---> 11\u001b[0;31m             \u001b[0mconcurrent\u001b[0m\u001b[0;34m.\u001b[0m\u001b[0mfutures\u001b[0m\u001b[0;34m.\u001b[0m\u001b[0mwait\u001b[0m\u001b[0;34m(\u001b[0m\u001b[0mfutures\u001b[0m\u001b[0;34m)\u001b[0m\u001b[0;34m\u001b[0m\u001b[0;34m\u001b[0m\u001b[0m\n\u001b[0m\u001b[1;32m     12\u001b[0m     \u001b[0msave_report\u001b[0m\u001b[0;34m(\u001b[0m\u001b[0mreport_path\u001b[0m\u001b[0;34m,\u001b[0m \u001b[0mdf\u001b[0m\u001b[0;34m)\u001b[0m\u001b[0;34m\u001b[0m\u001b[0;34m\u001b[0m\u001b[0m\n",
      "\u001b[0;32m/opt/conda/lib/python3.7/concurrent/futures/_base.py\u001b[0m in \u001b[0;36m__exit__\u001b[0;34m(self, exc_type, exc_val, exc_tb)\u001b[0m\n\u001b[1;32m    621\u001b[0m \u001b[0;34m\u001b[0m\u001b[0m\n\u001b[1;32m    622\u001b[0m     \u001b[0;32mdef\u001b[0m \u001b[0m__exit__\u001b[0m\u001b[0;34m(\u001b[0m\u001b[0mself\u001b[0m\u001b[0;34m,\u001b[0m \u001b[0mexc_type\u001b[0m\u001b[0;34m,\u001b[0m \u001b[0mexc_val\u001b[0m\u001b[0;34m,\u001b[0m \u001b[0mexc_tb\u001b[0m\u001b[0;34m)\u001b[0m\u001b[0;34m:\u001b[0m\u001b[0;34m\u001b[0m\u001b[0;34m\u001b[0m\u001b[0m\n\u001b[0;32m--> 623\u001b[0;31m         \u001b[0mself\u001b[0m\u001b[0;34m.\u001b[0m\u001b[0mshutdown\u001b[0m\u001b[0;34m(\u001b[0m\u001b[0mwait\u001b[0m\u001b[0;34m=\u001b[0m\u001b[0;32mTrue\u001b[0m\u001b[0;34m)\u001b[0m\u001b[0;34m\u001b[0m\u001b[0;34m\u001b[0m\u001b[0m\n\u001b[0m\u001b[1;32m    624\u001b[0m         \u001b[0;32mreturn\u001b[0m \u001b[0;32mFalse\u001b[0m\u001b[0;34m\u001b[0m\u001b[0;34m\u001b[0m\u001b[0m\n\u001b[1;32m    625\u001b[0m \u001b[0;34m\u001b[0m\u001b[0m\n",
      "\u001b[0;32m/opt/conda/lib/python3.7/concurrent/futures/thread.py\u001b[0m in \u001b[0;36mshutdown\u001b[0;34m(self, wait)\u001b[0m\n\u001b[1;32m    214\u001b[0m         \u001b[0;32mif\u001b[0m \u001b[0mwait\u001b[0m\u001b[0;34m:\u001b[0m\u001b[0;34m\u001b[0m\u001b[0;34m\u001b[0m\u001b[0m\n\u001b[1;32m    215\u001b[0m             \u001b[0;32mfor\u001b[0m \u001b[0mt\u001b[0m \u001b[0;32min\u001b[0m \u001b[0mself\u001b[0m\u001b[0;34m.\u001b[0m\u001b[0m_threads\u001b[0m\u001b[0;34m:\u001b[0m\u001b[0;34m\u001b[0m\u001b[0;34m\u001b[0m\u001b[0m\n\u001b[0;32m--> 216\u001b[0;31m                 \u001b[0mt\u001b[0m\u001b[0;34m.\u001b[0m\u001b[0mjoin\u001b[0m\u001b[0;34m(\u001b[0m\u001b[0;34m)\u001b[0m\u001b[0;34m\u001b[0m\u001b[0;34m\u001b[0m\u001b[0m\n\u001b[0m\u001b[1;32m    217\u001b[0m     \u001b[0mshutdown\u001b[0m\u001b[0;34m.\u001b[0m\u001b[0m__doc__\u001b[0m \u001b[0;34m=\u001b[0m \u001b[0m_base\u001b[0m\u001b[0;34m.\u001b[0m\u001b[0mExecutor\u001b[0m\u001b[0;34m.\u001b[0m\u001b[0mshutdown\u001b[0m\u001b[0;34m.\u001b[0m\u001b[0m__doc__\u001b[0m\u001b[0;34m\u001b[0m\u001b[0;34m\u001b[0m\u001b[0m\n",
      "\u001b[0;32m/opt/conda/lib/python3.7/threading.py\u001b[0m in \u001b[0;36mjoin\u001b[0;34m(self, timeout)\u001b[0m\n\u001b[1;32m   1042\u001b[0m \u001b[0;34m\u001b[0m\u001b[0m\n\u001b[1;32m   1043\u001b[0m         \u001b[0;32mif\u001b[0m \u001b[0mtimeout\u001b[0m \u001b[0;32mis\u001b[0m \u001b[0;32mNone\u001b[0m\u001b[0;34m:\u001b[0m\u001b[0;34m\u001b[0m\u001b[0;34m\u001b[0m\u001b[0m\n\u001b[0;32m-> 1044\u001b[0;31m             \u001b[0mself\u001b[0m\u001b[0;34m.\u001b[0m\u001b[0m_wait_for_tstate_lock\u001b[0m\u001b[0;34m(\u001b[0m\u001b[0;34m)\u001b[0m\u001b[0;34m\u001b[0m\u001b[0;34m\u001b[0m\u001b[0m\n\u001b[0m\u001b[1;32m   1045\u001b[0m         \u001b[0;32melse\u001b[0m\u001b[0;34m:\u001b[0m\u001b[0;34m\u001b[0m\u001b[0;34m\u001b[0m\u001b[0m\n\u001b[1;32m   1046\u001b[0m             \u001b[0;31m# the behavior of a negative timeout isn't documented, but\u001b[0m\u001b[0;34m\u001b[0m\u001b[0;34m\u001b[0m\u001b[0;34m\u001b[0m\u001b[0m\n",
      "\u001b[0;32m/opt/conda/lib/python3.7/threading.py\u001b[0m in \u001b[0;36m_wait_for_tstate_lock\u001b[0;34m(self, block, timeout)\u001b[0m\n\u001b[1;32m   1058\u001b[0m         \u001b[0;32mif\u001b[0m \u001b[0mlock\u001b[0m \u001b[0;32mis\u001b[0m \u001b[0;32mNone\u001b[0m\u001b[0;34m:\u001b[0m  \u001b[0;31m# already determined that the C code is done\u001b[0m\u001b[0;34m\u001b[0m\u001b[0;34m\u001b[0m\u001b[0m\n\u001b[1;32m   1059\u001b[0m             \u001b[0;32massert\u001b[0m \u001b[0mself\u001b[0m\u001b[0;34m.\u001b[0m\u001b[0m_is_stopped\u001b[0m\u001b[0;34m\u001b[0m\u001b[0;34m\u001b[0m\u001b[0m\n\u001b[0;32m-> 1060\u001b[0;31m         \u001b[0;32melif\u001b[0m \u001b[0mlock\u001b[0m\u001b[0;34m.\u001b[0m\u001b[0macquire\u001b[0m\u001b[0;34m(\u001b[0m\u001b[0mblock\u001b[0m\u001b[0;34m,\u001b[0m \u001b[0mtimeout\u001b[0m\u001b[0;34m)\u001b[0m\u001b[0;34m:\u001b[0m\u001b[0;34m\u001b[0m\u001b[0;34m\u001b[0m\u001b[0m\n\u001b[0m\u001b[1;32m   1061\u001b[0m             \u001b[0mlock\u001b[0m\u001b[0;34m.\u001b[0m\u001b[0mrelease\u001b[0m\u001b[0;34m(\u001b[0m\u001b[0;34m)\u001b[0m\u001b[0;34m\u001b[0m\u001b[0;34m\u001b[0m\u001b[0m\n\u001b[1;32m   1062\u001b[0m             \u001b[0mself\u001b[0m\u001b[0;34m.\u001b[0m\u001b[0m_stop\u001b[0m\u001b[0;34m(\u001b[0m\u001b[0;34m)\u001b[0m\u001b[0;34m\u001b[0m\u001b[0;34m\u001b[0m\u001b[0m\n",
      "\u001b[0;31mKeyboardInterrupt\u001b[0m: "
     ]
    }
   ],
   "source": [
    "#Model Inference(Request)\n",
    "if __name__ == \"__main__\":\n",
    "    # Using the generator function to read lines \n",
    "    prompts = list(read_payloads(request_payload_file))\n",
    "    \n",
    "    global df\n",
    "    for i in range(5):\n",
    "        print(f\"loop {i}+++++++++++++++++++++++++++++\")\n",
    "        with concurrent.futures.ThreadPoolExecutor(max_workers=5) as executor:\n",
    "            futures = [executor.submit(inference, {**payload, 'prompt': prompt}) for prompt in prompts]\n",
    "            concurrent.futures.wait(futures)\n",
    "    save_report(report_path, df)"
   ]
  },
  {
   "cell_type": "code",
   "execution_count": null,
   "id": "969fd1ee",
   "metadata": {},
   "outputs": [],
   "source": [
    "# import aiohttp\n",
    "# import asyncio\n",
    "# import time\n",
    "\n",
    "# start_time = time.time()\n",
    "# headers={\"Content-type\":\"application/json\"} \n",
    "# async def main():\n",
    "\n",
    "#     async with aiohttp.ClientSession(trust_env = True, headers=headers) as session:\n",
    "\n",
    "# #         for payload in payloads:\n",
    "# #             url='https://refract.fosfor.com/openchatfinetunedimqlgenerator/d0721c53-c9f5-4d79-a988-2d21df46198f/score' \n",
    "#         async with session.post(url, json=payload) as resp:\n",
    "#                 mql = await resp.json(content_type=None)\n",
    "#                 print(mql)\n",
    "\n",
    "# await main()\n",
    "# print(\"--- %s seconds ---\" % (time.time() - start_time))"
   ]
  },
  {
   "cell_type": "code",
   "execution_count": null,
   "id": "ba00e83d",
   "metadata": {},
   "outputs": [],
   "source": []
  }
 ],
 "metadata": {
  "kernelspec": {
   "display_name": "Python 3",
   "language": "python",
   "name": "python3"
  },
  "language_info": {
   "codemirror_mode": {
    "name": "ipython",
    "version": 3
   },
   "file_extension": ".py",
   "mimetype": "text/x-python",
   "name": "python",
   "nbconvert_exporter": "python",
   "pygments_lexer": "ipython3",
   "version": "3.7.10"
  }
 },
 "nbformat": 4,
 "nbformat_minor": 5
}
