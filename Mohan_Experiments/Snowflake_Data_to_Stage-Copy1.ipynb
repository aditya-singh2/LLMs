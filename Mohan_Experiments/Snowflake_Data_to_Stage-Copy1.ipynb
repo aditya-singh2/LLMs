{
 "cells": [
  {
   "cell_type": "code",
   "execution_count": 1,
   "id": "0fd42bbd",
   "metadata": {
    "scrolled": true
   },
   "outputs": [],
   "source": [
    "# !pip install snowflake-connector-python"
   ]
  },
  {
   "cell_type": "code",
   "execution_count": 2,
   "id": "fce2827b",
   "metadata": {},
   "outputs": [],
   "source": [
    "import snowflake.connector\n",
    "import pandas as pd\n",
    "import json\n",
    "\n",
    "'''user = REFRACT.FOSFOR@LNTINFOTECH.COM\n",
    "password = Password321\n",
    "account = fya62509.us-east-1\n",
    "warehouse = FOSFOR_REFRACT\n",
    "database = FOSFOR_REFRACT\n",
    "schema = SALES\n",
    "role = FOSFOR_REFRACT'''    \n",
    "\n",
    "# Snowflake connection parameters\n",
    "snowflake_account = 'rwb76633'\n",
    "snowflake_user = 'Ravi'\n",
    "snowflake_password = 'Kayakave@1983'\n",
    "snowflake_database = 'TUTORIAL_DB'\n",
    "snowflake_schema = 'DATA_SCHEMA'\n",
    "snowflake_stage = 'MAGICODER2'\n",
    "role = 'TEST_ROLE'\n",
    "\n",
    "# snowflake_account = 'fya62509.us-east-1'\n",
    "# snowflake_user = 'REFRACT.FOSFOR@LNTINFOTECH.COM'\n",
    "# snowflake_password = 'Password321'\n",
    "# snowflake_database = 'FOSFOR_REFRACT'\n",
    "# snowflake_schema = 'SALES'\n",
    "# snowflake_stage = 'MAGICODER'\n",
    " \n",
    "# Connect to Snowflake\n",
    "conn = snowflake.connector.connect(\n",
    "   user=snowflake_user,\n",
    "   password=snowflake_password,\n",
    "   account=snowflake_account,\n",
    "   session_parameters={\n",
    "      'PYTHON_CONNECTOR_QUERY_RESULT_FORMAT': 'json'\n",
    "   },\n",
    "   database=snowflake_database,\n",
    "   schema=snowflake_schema,\n",
    "   role=role,\n",
    ")\n",
    "\n",
    "\n"
   ]
  },
  {
   "cell_type": "code",
   "execution_count": 3,
   "id": "67c53233",
   "metadata": {},
   "outputs": [
    {
     "data": {
      "text/plain": [
       "<snowflake.connector.connection.SnowflakeConnection at 0x7f3ddc2d0340>"
      ]
     },
     "execution_count": 3,
     "metadata": {},
     "output_type": "execute_result"
    }
   ],
   "source": [
    "conn"
   ]
  },
  {
   "cell_type": "code",
   "execution_count": 3,
   "id": "6a4e9f0f",
   "metadata": {},
   "outputs": [],
   "source": [
    "#! ls -lrt /llmmodels/models--ise-uiuc--Magicoder-S-DS-6.7B/snapshots/cff055b1e110cbe75c0c3759bd436299c6d6bb66"
   ]
  },
  {
   "cell_type": "code",
   "execution_count": 4,
   "id": "f901ac58",
   "metadata": {},
   "outputs": [],
   "source": [
    "# Create a cursor object\n",
    "cur = conn.cursor()\n",
    " \n",
    "# Upload file to stage (example using Pandas)\n",
    "#file_path = '/llmmodels/models--ise-uiuc--Magicoder-S-DS-6.7B/snapshots/cff055b1e110cbe75c0c3759bd436299c6d6bb66/special_tokens_map.json'\n",
    "# df = pd.read_csv(file_path)\n",
    "#cur.execute(f\"PUT file://{file_path} @{snowflake_stage}/magicoder_model AUTO_COMPRESS = FALSE\")\n",
    "#cur.execute(\"Select * from Sales\")"
   ]
  },
  {
   "cell_type": "code",
   "execution_count": 170,
   "id": "1c4e118e",
   "metadata": {},
   "outputs": [],
   "source": [
    "prompt=\"\"\"\"Assume you are a DBT query optimizer, Optimize this DBT query and if possible modularize this query using CTE: '''\n",
    "SELECT\n",
    "ACC.ACCOUNT_ID AS ACCOUNT_ID\n",
    ",CASE WHEN OUTER.ACCOUNT_ID IS NOT NULL THEN 'Y' ELSE 'N' END AS DONATED\n",
    ",NVL(NULLIF(SPLIT_PART(OUTER.FIRST_OPPORTUNITY_DTL, '|', 1), 0),0) AS FIRST_GIFT_AMOUNT\n",
    ",NULLIF(SPLIT_PART(OUTER.FIRST_OPPORTUNITY_DTL, '|', 2),'') AS FIRST_GIFT_DATE\n",
    ",NVL(OUTER.TOTAL_AMOUNTS_OF_GIFTS_ALL_TIME_HC,0) AS TOTAL_AMOUNTS_OF_GIFTS_ALL_TIME_HC\n",
    ",NVL(OUTER.TOTAL_NUMBER_OF_GIFTS_ALL_TIME_HC,0) AS TOTAL_NUMBER_OF_GIFTS_ALL_TIME_HC\n",
    ",NVL(OUTER.TOTAL_AMOUNTS_OF_GIFTS_ALL_TIME_SC,0) AS TOTAL_AMOUNTS_OF_GIFTS_ALL_TIME_SC\n",
    ",NVL(OUTER.TOTAL_NUMBER_OF_GIFTS_ALL_TIME_SC,0) AS TOTAL_NUMBER_OF_GIFTS_ALL_TIME_SC\n",
    "FROM \"\"DIM_DB\"\".\"\"CORE\"\".\"\"DIM_ACCOUNT\"\" ACC\n",
    "LEFT JOIN (SELECT\n",
    "INNER.ACCOUNT_ID\n",
    ",ANY_VALUE(INNER.FIRST_OPPORTUNITY_DTL) AS FIRST_OPPORTUNITY_DTL\n",
    ",ANY_VALUE(INNER.LAST_OPPORTUNITY_DTL) AS LAST_OPPORTUNITY_DTL\n",
    ",ANY_VALUE(INNER.SMALLEST_OPPORTUNITY_DTL) AS SMALLEST_OPPORTUNITY_DTL\n",
    ",ANY_VALUE(INNER.LARGEST_OPPORTUNITY_DTL)  AS LARGEST_OPPORTUNITY_DTL\n",
    ",AVG(INNER.OPPORTUNITY_AMOUNT) AS AVERAGE_OPPORTUNITY_AMOUNT\n",
    ",ARRAY_SIZE(ARRAY_AGG( DISTINCT INNER.FISCAL_YEAR)  WITHIN GROUP (ORDER BY INNER.FISCAL_YEAR DESC)) AS NUMBER_OF_YEARS_DONATING\n",
    ",SUM(INNER.CURR_PREV_CONSECUTIVE_YEAR_DONATING_FLAG) AS CURR_PREV_NUMBER_OF_CONSECUTIVE_YEAR_DONATING\n",
    ",\"\"DIM_DB\"\".\"\"CORE\"\".\"\"NUM_OF_MAX_CONSQ_YEARS_CALC_FN\"\"(ARRAY_AGG( DISTINCT INNER.FISCAL_YEAR) WITHIN GROUP (ORDER BY INNER.FISCAL_YEAR DESC)) AS MAXIMUM_NUMBER_OF_CONSECUTIVE_YEAR_DONATING\n",
    ",GET(ARRAY_AGG(INNER.CAL_YEAR) WITHIN GROUP (ORDER BY INNER.TOTAL_DONATION_OVER_CAL_YEAR DESC, INNER.CAL_YEAR DESC), 0) AS BEST_GIFT_CAL_YEAR\n",
    ",MAX(INNER.TOTAL_DONATION_OVER_CAL_YEAR) AS BEST_GIFT_CAL_YEAR_TOTAL_AMOUNT\n",
    ",GET(ARRAY_AGG(INNER.FISCAL_YEAR) WITHIN GROUP (ORDER BY INNER.TOTAL_DONATION_OVER_FISCAL_YEAR DESC, INNER.FISCAL_YEAR DESC),0) AS BEST_GIFT_FISCAL_YEAR\n",
    ",MAX(INNER.TOTAL_DONATION_OVER_FISCAL_YEAR) AS BEST_GIFT_FISCAL_YEAR_TOTAL_AMOUNT\n",
    ",SUM(INNER.AMOUNTS_OF_GIFTS_ALL_TIME_HC) AS TOTAL_AMOUNTS_OF_GIFTS_ALL_TIME_HC\n",
    ",SUM(INNER.IS_DONATION_OF_GIFTS_ALL_TIME_HC) AS TOTAL_NUMBER_OF_GIFTS_ALL_TIME_HC\n",
    ",SUM(INNER.AMOUNTS_OF_GIFTS_ALL_TIME_SC) AS TOTAL_AMOUNTS_OF_GIFTS_ALL_TIME_SC\n",
    ",SUM(INNER.IS_DONATION_OF_GIFTS_ALL_TIME_SC) AS TOTAL_NUMBER_OF_GIFTS_ALL_TIME_SC\n",
    ",ANY_VALUE(INNER.CURR_CAL_YEAR) AS CURR_CAL_YEAR\n",
    ",ANY_VALUE(INNER.CURR_FISCAL_YEAR) AS CURR_FISCAL_YEAR\n",
    "FROM\n",
    "(SELECT\n",
    "REV.ACCOUNT_ID\n",
    ",FIRST_VALUE(REV.CONC_DTL) OVER(PARTITION BY REV.ACCOUNT_ID ORDER BY REV.OPPORTUNITY_CLOSEDATE, REV.OPPORTUNITY_ID ROWS BETWEEN UNBOUNDED PRECEDING AND CURRENT ROW) AS FIRST_OPPORTUNITY_DTL\n",
    ",LAST_VALUE(REV.CONC_DTL) OVER(PARTITION BY REV.ACCOUNT_ID ORDER BY REV.OPPORTUNITY_CLOSEDATE, REV.OPPORTUNITY_ID ROWS BETWEEN CURRENT ROW AND UNBOUNDED FOLLOWING) AS LAST_OPPORTUNITY_DTL\n",
    ",FIRST_VALUE(REV.CONC_DTL) OVER(PARTITION BY REV.ACCOUNT_ID ORDER BY REV.OPPORTUNITY_AMOUNT, REV.OPPORTUNITY_CLOSEDATE, REV.OPPORTUNITY_ID ROWS BETWEEN UNBOUNDED PRECEDING AND CURRENT ROW) AS SMALLEST_OPPORTUNITY_DTL\n",
    ",LAST_VALUE(REV.CONC_DTL) OVER(PARTITION BY REV.ACCOUNT_ID ORDER BY REV.OPPORTUNITY_AMOUNT, REV.OPPORTUNITY_CLOSEDATE, REV.OPPORTUNITY_ID ROWS BETWEEN CURRENT ROW AND UNBOUNDED FOLLOWING) AS LARGEST_OPPORTUNITY_DTL\n",
    ",CASE WHEN FIRST_VALUE(REV.FISCAL_YEAR) OVER (PARTITION BY REV.ACCOUNT_ID ORDER BY REV.FISCAL_YEAR DESC) < (YEAR(CURRENT_DATE()) -1) THEN 0 WHEN  REV.FI\n",
    "SCAL_YEAR + DENSE_RANK() OVER (PARTITION BY REV.ACCOUNT_ID ORDER BY REV.FISCAL_YEAR DESC) - ROW_NUMBER() OVER (PARTITION BY REV.ACCOUNT_ID,REV.FISCAL_YE\n",
    "AR ORDER BY REV.FISCAL_YEAR DESC) = FIRST_VALUE(REV.FISCAL_YEAR) OVER (PARTITION BY REV.ACCOUNT_ID ORDER BY REV.FISCAL_YEAR DESC) THEN 1 ELSE 0 END CURR_PREV_CONSECUTIVE_YEAR_DONATING_FLAG\n",
    ",SUM(REV.OPPORTUNITY_AMOUNT) OVER(PARTITION BY REV.ACCOUNT_ID, REV.CAL_YEAR) AS TOTAL_DONATION_OVER_CAL_YEAR\n",
    ",SUM(REV.OPPORTUNITY_AMOUNT) OVER(PARTITION BY REV.ACCOUNT_ID, REV.FISCAL_YEAR) AS TOTAL_DONATION_OVER_FISCAL_YEAR\n",
    ",CASE WHEN REV.OPPORTUNITY_TYPE_HARD_SOFT = 'Direct Credit' THEN REV.OPPORTUNITY_AMOUNT ELSE 0 END AS AMOUNTS_OF_GIFTS_ALL_TIME_HC\n",
    ",CASE WHEN REV.OPPORTUNITY_TYPE_HARD_SOFT = 'Direct Credit' THEN 1 ELSE 0 END AS IS_DONATION_OF_GIFTS_ALL_TIME_HC\n",
    ",CASE WHEN REV.OPPORTUNITY_TYPE_HARD_SOFT = 'Indirect Credit' THEN REV.OPPORTUNITY_AMOUNT ELSE 0 END AS AMOUNTS_OF_GIFTS_ALL_TIME_SC\n",
    ",CASE WHEN REV.OPPORTUNITY_TYPE_HARD_SOFT = 'Indirect Credit' THEN 1 ELSE 0 END AS IS_DONATION_OF_GIFTS_ALL_TIME_SC\n",
    ",REV.OPPORTUNITY_AMOUNT\n",
    ",REV.CAL_YEAR\n",
    ",REV.FISCAL_YEAR\n",
    ",REV.CURR_CAL_YEAR\n",
    ",REV.CURR_FISCAL_YEAR\n",
    "FROM\n",
    "(SELECT\n",
    "ARV.OPPORTUNITY_TYPE_HARD_SOFT\n",
    ",ARV.OPPORTUNITY_DONATIONTYPE\n",
    ",ARV.ACCOUNT_ID\n",
    ",ARV.OPPORTUNITY_AMOUNT\n",
    ",ARV.OPPORTUNITY_CLOSEDATE\n",
    ",ARV.OPPORTUNITY_CAMPAIGN_NAME\n",
    ",ARV.OPPORTUNITY_CAMPAIGN_DIVISIONAL_PROGRAM\n",
    ",ARV.OPPORTUNITY_ID\n",
    ",ARV.OPPORTUNITY_VEHICLE_TYPE\n",
    ",ARV.OPPORTUNITY_VEHICLE_SUBTYPE\n",
    ",C.CONTENT_MESSAGING_CATEGORY__C AS CONTENT_MESSAGING_CATEGORY\n",
    ",YEAR(ARV.OPPORTUNITY_CLOSEDATE) AS CAL_YEAR\n",
    ",DD.FISCAL_YEAR AS FISCAL_YEAR\n",
    ",YEAR(CURRENT_DATE()) AS CURR_CAL_YEAR\n",
    ",DD_CURR.FISCAL_YEAR AS CURR_FI.SCAL_YEAR\n",
    ",TO_CHAR(CURRENT_DATE(),'MM-DD') AS CURR_DATE_MM_DD\n",
    ",NVL(ARV.OPPORTUNITY_AMOUNT,0) || '|' || NVL(ARV.OPPORTUNITY_CLOSEDATE ::VARCHAR, '') || '|' || NVL(ARV.OPPORTUNITY_CAMPAIGN_ID, '') || '|' || NVL(ARV.O\n",
    "PPORTUNITY_CAMPAIGN_NAME, '') || '|' || NVL(C.CONTENT_MESSAGING_CATEGORY__C, '') || '|' || NVL(ARV.OPPORTUNITY_CAMPAIGN_DIVISIONAL_PROGRAM, '') || '|' |\n",
    "|  NVL(ARV.OPPORTUNITY_ID, '') || '|' || NVL(ARV.OPPORTUNITY_VEHICLE_TYPE, '') || '|' || NVL(ARV.OPPORTUNITY_VEHICLE_SUBTYPE, '') || '|' || NVL(DD.FISCAL_YEAR::VARCHAR,'')  AS CONC_DTL\n",
    "FROM REPORTING_DB.SEMANTIC.ALL_REVENUE_V ARV\n",
    "LEFT JOIN DIM_DB.CORE.DIM_DATE DD ON ARV.OPPORTUNITY_CLOSEDATE = DD.DATE\n",
    "LEFT JOIN DIM_DB.CORE.DIM_DATE DD_CURR ON CURRENT_DATE() = DD_CURR.DATE\n",
    "LEFT JOIN STG_DB.CRM_STAGE.CAMPAIGN_S C ON ARV.OPPORTUNITY_CAMPAIGN_ID = C.ID\n",
    "WHERE ARV.ACCOUNT_ID IS NOT NULL\n",
    "AND (NVL(ARV.OPPORTUNITY_AMOUNT,0) <> 0)\n",
    "AND NVL(ARV.OPPORTUNITY_CAMPAIGN_DIVISIONAL_PROGRAM, 'DUMMY') NOT IN ('Type_Kind','Type_Gifts')\n",
    "AND NVL(ARV.OPPORTUNITY_DONATIONTYPE, 'DUMMY') <> 'Type_Gifts'\n",
    "AND NVL(ARV.OPPORTUNITY_VEHICLE_TYPE, 'DUMMY') NOT IN ('Type_Kind','Type_Gifts')) AS REV\n",
    ") AS INNER\n",
    "GROUP BY INNER.ACCOUNT_ID ) AS OUTER ON ACC.ACCOUNT_ID = OUTER.ACCOUNT_ID\n",
    "LEFT JOIN (SELECT ACCOUNT_ID, COUNT(*) AS TOTAL_NUMBER_OF_IN_KIND_GIFTS , SUM(OPPORTUNITY_AMOUNT) AS TOTAL_AMOUNT_OF_IN_KIND_GIFTS FROM REPORTING_DB.SEMANTIC.ALL_REVENUE_V\n",
    "WHERE OPPORTUNITY_CAMPAIGN_DIVISIONAL_PROGRAM IN ('Type_Kind','Type_Gifts') OR OPPORTUNITY_DONATIONTYPE = 'Type_Gifts'\n",
    "OR OPPORTUNITY_VEHICLE_TYPE IN ('Type_Kind','Type_Gifts') GROUP BY ACCOUNT_ID) AS ARV1 ON ACC.ACCOUNT_ID = ARV1.ACCOUNT_ID\n",
    "WHERE ACC.ACCOUNT_ISDELETED = FALSE''', Kindly give the response strictly in this format only: OPTIMIZED CODE: ```optimized code``` and then, EXPLAINATI\n",
    "ON: explaination on how you optimized it. The most import instruction is that output of original query and optimized query should be exactly same and stick to specified format.\"\n",
    "\"\"\""
   ]
  },
  {
   "cell_type": "code",
   "execution_count": 127,
   "id": "a594c43a",
   "metadata": {},
   "outputs": [],
   "source": [
    "prompt = r\"\"\"Construct a DBT view model in the 'staging' schema, linking 'jaffle_shop' orders with payment information from 'stg_payments', summarizing successful payments per order, and merging with order details to handle potential missing payment scenarios.\"\"\""
   ]
  },
  {
   "cell_type": "code",
   "execution_count": 171,
   "id": "d2d47d35",
   "metadata": {},
   "outputs": [],
   "source": [
    "prompt = prompt.replace(\"'\", \"''\")\n",
    "prompt = prompt.replace(\"\\n\", \" \")"
   ]
  },
  {
   "cell_type": "code",
   "execution_count": 167,
   "id": "5467fa2f",
   "metadata": {},
   "outputs": [
    {
     "data": {
      "text/plain": [
       "\"Generate documentation for following dbt code  {{ config(materialized=''table'') }}  with source as (     select * from {{ source(''src_table'', ''employees'') }} ),  parsed as (     select         id,         PARSE_JSON(json_column):field1::varchar as field1,         PARSE_JSON(json_column):field2::int as field2,         PARSE_JSON(json_column):field3::timestamp as field3     from source )  select * from parsed\""
      ]
     },
     "execution_count": 167,
     "metadata": {},
     "output_type": "execute_result"
    }
   ],
   "source": [
    "prompt"
   ]
  },
  {
   "cell_type": "code",
   "execution_count": 101,
   "id": "172fadf0",
   "metadata": {},
   "outputs": [],
   "source": [
    "prompt = \"Generate bdt code to join supply and demand column\""
   ]
  },
  {
   "cell_type": "code",
   "execution_count": 86,
   "id": "6eb00ddc",
   "metadata": {},
   "outputs": [],
   "source": [
    "temp_arg ={\"prompt\":prompt, \"max_tokens\": 2000, \"temperature\": 0, \"model\": \"/data/magicoder_model\"}"
   ]
  },
  {
   "cell_type": "code",
   "execution_count": 87,
   "id": "63d9e792",
   "metadata": {},
   "outputs": [
    {
     "data": {
      "text/plain": [
       "{'prompt': \"Construct a DBT view model in the 'staging' schema, linking 'jaffle_shop' orders with payment information from 'stg_payments', summarizing successful payments per order, and merging with order details to handle potential missing payment scenarios.\",\n",
       " 'max_tokens': 2000,\n",
       " 'temperature': 0,\n",
       " 'model': '/data/magicoder_model'}"
      ]
     },
     "execution_count": 87,
     "metadata": {},
     "output_type": "execute_result"
    }
   ],
   "source": [
    "temp_arg"
   ]
  },
  {
   "cell_type": "code",
   "execution_count": 113,
   "id": "dedcc093",
   "metadata": {},
   "outputs": [
    {
     "data": {
      "text/plain": [
       "str"
      ]
     },
     "execution_count": 113,
     "metadata": {},
     "output_type": "execute_result"
    }
   ],
   "source": [
    "type(arg)"
   ]
  },
  {
   "cell_type": "code",
   "execution_count": 172,
   "id": "0dc60324",
   "metadata": {},
   "outputs": [
    {
     "name": "stdout",
     "output_type": "stream",
     "text": [
      "SELECT magicoder_udf(parse_json('{\"prompt\":\"\"Assume you are a DBT query optimizer, Optimize this DBT query and if possible modularize this query using CTE: '''''' SELECT ACC.ACCOUNT_ID AS ACCOUNT_ID ,CASE WHEN OUTER.ACCOUNT_ID IS NOT NULL THEN ''Y'' ELSE ''N'' END AS DONATED ,NVL(NULLIF(SPLIT_PART(OUTER.FIRST_OPPORTUNITY_DTL, ''|'', 1), 0),0) AS FIRST_GIFT_AMOUNT ,NULLIF(SPLIT_PART(OUTER.FIRST_OPPORTUNITY_DTL, ''|'', 2),'''') AS FIRST_GIFT_DATE ,NVL(OUTER.TOTAL_AMOUNTS_OF_GIFTS_ALL_TIME_HC,0) AS TOTAL_AMOUNTS_OF_GIFTS_ALL_TIME_HC ,NVL(OUTER.TOTAL_NUMBER_OF_GIFTS_ALL_TIME_HC,0) AS TOTAL_NUMBER_OF_GIFTS_ALL_TIME_HC ,NVL(OUTER.TOTAL_AMOUNTS_OF_GIFTS_ALL_TIME_SC,0) AS TOTAL_AMOUNTS_OF_GIFTS_ALL_TIME_SC ,NVL(OUTER.TOTAL_NUMBER_OF_GIFTS_ALL_TIME_SC,0) AS TOTAL_NUMBER_OF_GIFTS_ALL_TIME_SC FROM \"\"DIM_DB\"\".\"\"CORE\"\".\"\"DIM_ACCOUNT\"\" ACC LEFT JOIN (SELECT INNER.ACCOUNT_ID ,ANY_VALUE(INNER.FIRST_OPPORTUNITY_DTL) AS FIRST_OPPORTUNITY_DTL ,ANY_VALUE(INNER.LAST_OPPORTUNITY_DTL) AS LAST_OPPORTUNITY_DTL ,ANY_VALUE(INNER.SMALLEST_OPPORTUNITY_DTL) AS SMALLEST_OPPORTUNITY_DTL ,ANY_VALUE(INNER.LARGEST_OPPORTUNITY_DTL)  AS LARGEST_OPPORTUNITY_DTL ,AVG(INNER.OPPORTUNITY_AMOUNT) AS AVERAGE_OPPORTUNITY_AMOUNT ,ARRAY_SIZE(ARRAY_AGG( DISTINCT INNER.FISCAL_YEAR)  WITHIN GROUP (ORDER BY INNER.FISCAL_YEAR DESC)) AS NUMBER_OF_YEARS_DONATING ,SUM(INNER.CURR_PREV_CONSECUTIVE_YEAR_DONATING_FLAG) AS CURR_PREV_NUMBER_OF_CONSECUTIVE_YEAR_DONATING ,\"\"DIM_DB\"\".\"\"CORE\"\".\"\"NUM_OF_MAX_CONSQ_YEARS_CALC_FN\"\"(ARRAY_AGG( DISTINCT INNER.FISCAL_YEAR) WITHIN GROUP (ORDER BY INNER.FISCAL_YEAR DESC)) AS MAXIMUM_NUMBER_OF_CONSECUTIVE_YEAR_DONATING ,GET(ARRAY_AGG(INNER.CAL_YEAR) WITHIN GROUP (ORDER BY INNER.TOTAL_DONATION_OVER_CAL_YEAR DESC, INNER.CAL_YEAR DESC), 0) AS BEST_GIFT_CAL_YEAR ,MAX(INNER.TOTAL_DONATION_OVER_CAL_YEAR) AS BEST_GIFT_CAL_YEAR_TOTAL_AMOUNT ,GET(ARRAY_AGG(INNER.FISCAL_YEAR) WITHIN GROUP (ORDER BY INNER.TOTAL_DONATION_OVER_FISCAL_YEAR DESC, INNER.FISCAL_YEAR DESC),0) AS BEST_GIFT_FISCAL_YEAR ,MAX(INNER.TOTAL_DONATION_OVER_FISCAL_YEAR) AS BEST_GIFT_FISCAL_YEAR_TOTAL_AMOUNT ,SUM(INNER.AMOUNTS_OF_GIFTS_ALL_TIME_HC) AS TOTAL_AMOUNTS_OF_GIFTS_ALL_TIME_HC ,SUM(INNER.IS_DONATION_OF_GIFTS_ALL_TIME_HC) AS TOTAL_NUMBER_OF_GIFTS_ALL_TIME_HC ,SUM(INNER.AMOUNTS_OF_GIFTS_ALL_TIME_SC) AS TOTAL_AMOUNTS_OF_GIFTS_ALL_TIME_SC ,SUM(INNER.IS_DONATION_OF_GIFTS_ALL_TIME_SC) AS TOTAL_NUMBER_OF_GIFTS_ALL_TIME_SC ,ANY_VALUE(INNER.CURR_CAL_YEAR) AS CURR_CAL_YEAR ,ANY_VALUE(INNER.CURR_FISCAL_YEAR) AS CURR_FISCAL_YEAR FROM (SELECT REV.ACCOUNT_ID ,FIRST_VALUE(REV.CONC_DTL) OVER(PARTITION BY REV.ACCOUNT_ID ORDER BY REV.OPPORTUNITY_CLOSEDATE, REV.OPPORTUNITY_ID ROWS BETWEEN UNBOUNDED PRECEDING AND CURRENT ROW) AS FIRST_OPPORTUNITY_DTL ,LAST_VALUE(REV.CONC_DTL) OVER(PARTITION BY REV.ACCOUNT_ID ORDER BY REV.OPPORTUNITY_CLOSEDATE, REV.OPPORTUNITY_ID ROWS BETWEEN CURRENT ROW AND UNBOUNDED FOLLOWING) AS LAST_OPPORTUNITY_DTL ,FIRST_VALUE(REV.CONC_DTL) OVER(PARTITION BY REV.ACCOUNT_ID ORDER BY REV.OPPORTUNITY_AMOUNT, REV.OPPORTUNITY_CLOSEDATE, REV.OPPORTUNITY_ID ROWS BETWEEN UNBOUNDED PRECEDING AND CURRENT ROW) AS SMALLEST_OPPORTUNITY_DTL ,LAST_VALUE(REV.CONC_DTL) OVER(PARTITION BY REV.ACCOUNT_ID ORDER BY REV.OPPORTUNITY_AMOUNT, REV.OPPORTUNITY_CLOSEDATE, REV.OPPORTUNITY_ID ROWS BETWEEN CURRENT ROW AND UNBOUNDED FOLLOWING) AS LARGEST_OPPORTUNITY_DTL ,CASE WHEN FIRST_VALUE(REV.FISCAL_YEAR) OVER (PARTITION BY REV.ACCOUNT_ID ORDER BY REV.FISCAL_YEAR DESC) < (YEAR(CURRENT_DATE()) -1) THEN 0 WHEN  REV.FI SCAL_YEAR + DENSE_RANK() OVER (PARTITION BY REV.ACCOUNT_ID ORDER BY REV.FISCAL_YEAR DESC) - ROW_NUMBER() OVER (PARTITION BY REV.ACCOUNT_ID,REV.FISCAL_YE AR ORDER BY REV.FISCAL_YEAR DESC) = FIRST_VALUE(REV.FISCAL_YEAR) OVER (PARTITION BY REV.ACCOUNT_ID ORDER BY REV.FISCAL_YEAR DESC) THEN 1 ELSE 0 END CURR_PREV_CONSECUTIVE_YEAR_DONATING_FLAG ,SUM(REV.OPPORTUNITY_AMOUNT) OVER(PARTITION BY REV.ACCOUNT_ID, REV.CAL_YEAR) AS TOTAL_DONATION_OVER_CAL_YEAR ,SUM(REV.OPPORTUNITY_AMOUNT) OVER(PARTITION BY REV.ACCOUNT_ID, REV.FISCAL_YEAR) AS TOTAL_DONATION_OVER_FISCAL_YEAR ,CASE WHEN REV.OPPORTUNITY_TYPE_HARD_SOFT = ''Direct Credit'' THEN REV.OPPORTUNITY_AMOUNT ELSE 0 END AS AMOUNTS_OF_GIFTS_ALL_TIME_HC ,CASE WHEN REV.OPPORTUNITY_TYPE_HARD_SOFT = ''Direct Credit'' THEN 1 ELSE 0 END AS IS_DONATION_OF_GIFTS_ALL_TIME_HC ,CASE WHEN REV.OPPORTUNITY_TYPE_HARD_SOFT = ''Indirect Credit'' THEN REV.OPPORTUNITY_AMOUNT ELSE 0 END AS AMOUNTS_OF_GIFTS_ALL_TIME_SC ,CASE WHEN REV.OPPORTUNITY_TYPE_HARD_SOFT = ''Indirect Credit'' THEN 1 ELSE 0 END AS IS_DONATION_OF_GIFTS_ALL_TIME_SC ,REV.OPPORTUNITY_AMOUNT ,REV.CAL_YEAR ,REV.FISCAL_YEAR ,REV.CURR_CAL_YEAR ,REV.CURR_FISCAL_YEAR FROM (SELECT ARV.OPPORTUNITY_TYPE_HARD_SOFT ,ARV.OPPORTUNITY_DONATIONTYPE ,ARV.ACCOUNT_ID ,ARV.OPPORTUNITY_AMOUNT ,ARV.OPPORTUNITY_CLOSEDATE ,ARV.OPPORTUNITY_CAMPAIGN_NAME ,ARV.OPPORTUNITY_CAMPAIGN_DIVISIONAL_PROGRAM ,ARV.OPPORTUNITY_ID ,ARV.OPPORTUNITY_VEHICLE_TYPE ,ARV.OPPORTUNITY_VEHICLE_SUBTYPE ,C.CONTENT_MESSAGING_CATEGORY__C AS CONTENT_MESSAGING_CATEGORY ,YEAR(ARV.OPPORTUNITY_CLOSEDATE) AS CAL_YEAR ,DD.FISCAL_YEAR AS FISCAL_YEAR ,YEAR(CURRENT_DATE()) AS CURR_CAL_YEAR ,DD_CURR.FISCAL_YEAR AS CURR_FI.SCAL_YEAR ,TO_CHAR(CURRENT_DATE(),''MM-DD'') AS CURR_DATE_MM_DD ,NVL(ARV.OPPORTUNITY_AMOUNT,0) || ''|'' || NVL(ARV.OPPORTUNITY_CLOSEDATE ::VARCHAR, '''') || ''|'' || NVL(ARV.OPPORTUNITY_CAMPAIGN_ID, '''') || ''|'' || NVL(ARV.O PPORTUNITY_CAMPAIGN_NAME, '''') || ''|'' || NVL(C.CONTENT_MESSAGING_CATEGORY__C, '''') || ''|'' || NVL(ARV.OPPORTUNITY_CAMPAIGN_DIVISIONAL_PROGRAM, '''') || ''|'' | |  NVL(ARV.OPPORTUNITY_ID, '''') || ''|'' || NVL(ARV.OPPORTUNITY_VEHICLE_TYPE, '''') || ''|'' || NVL(ARV.OPPORTUNITY_VEHICLE_SUBTYPE, '''') || ''|'' || NVL(DD.FISCAL_YEAR::VARCHAR,'''')  AS CONC_DTL FROM REPORTING_DB.SEMANTIC.ALL_REVENUE_V ARV LEFT JOIN DIM_DB.CORE.DIM_DATE DD ON ARV.OPPORTUNITY_CLOSEDATE = DD.DATE LEFT JOIN DIM_DB.CORE.DIM_DATE DD_CURR ON CURRENT_DATE() = DD_CURR.DATE LEFT JOIN STG_DB.CRM_STAGE.CAMPAIGN_S C ON ARV.OPPORTUNITY_CAMPAIGN_ID = C.ID WHERE ARV.ACCOUNT_ID IS NOT NULL AND (NVL(ARV.OPPORTUNITY_AMOUNT,0) <> 0) AND NVL(ARV.OPPORTUNITY_CAMPAIGN_DIVISIONAL_PROGRAM, ''DUMMY'') NOT IN (''Type_Kind'',''Type_Gifts'') AND NVL(ARV.OPPORTUNITY_DONATIONTYPE, ''DUMMY'') <> ''Type_Gifts'' AND NVL(ARV.OPPORTUNITY_VEHICLE_TYPE, ''DUMMY'') NOT IN (''Type_Kind'',''Type_Gifts'')) AS REV ) AS INNER GROUP BY INNER.ACCOUNT_ID ) AS OUTER ON ACC.ACCOUNT_ID = OUTER.ACCOUNT_ID LEFT JOIN (SELECT ACCOUNT_ID, COUNT(*) AS TOTAL_NUMBER_OF_IN_KIND_GIFTS , SUM(OPPORTUNITY_AMOUNT) AS TOTAL_AMOUNT_OF_IN_KIND_GIFTS FROM REPORTING_DB.SEMANTIC.ALL_REVENUE_V WHERE OPPORTUNITY_CAMPAIGN_DIVISIONAL_PROGRAM IN (''Type_Kind'',''Type_Gifts'') OR OPPORTUNITY_DONATIONTYPE = ''Type_Gifts'' OR OPPORTUNITY_VEHICLE_TYPE IN (''Type_Kind'',''Type_Gifts'') GROUP BY ACCOUNT_ID) AS ARV1 ON ACC.ACCOUNT_ID = ARV1.ACCOUNT_ID WHERE ACC.ACCOUNT_ISDELETED = FALSE'''''', Kindly give the response strictly in this format only: OPTIMIZED CODE: ```optimized code``` and then, EXPLAINATI ON: explaination on how you optimized it. The most import instruction is that output of original query and optimized query should be exactly same and stick to specified format.\" \", \"max_tokens\": 2000, \"temperature\": 0, \"model\": \"/data/magicoder_model\"}'));\n"
     ]
    }
   ],
   "source": [
    "arg = '{\"prompt\":'+'\"'+prompt+'\"'+', \"max_tokens\": 2000, \"temperature\": 0, \"model\": \"/data/magicoder_model\"}'\n",
    "warehouse = 'USE WAREHOUSE TUTORIAL_WAREHOUSE;'\n",
    "query = f\"SELECT magicoder_udf(parse_json('{arg}'));\"\n",
    "print(query)"
   ]
  },
  {
   "cell_type": "code",
   "execution_count": 169,
   "id": "ed57b081",
   "metadata": {},
   "outputs": [
    {
     "name": "stdout",
     "output_type": "stream",
     "text": [
      "\n",
      "\n",
      "```\n",
      "\n",
      "This dbt code is using the `PARSE_JSON` function to parse a JSON column and extract specific fields. The `PARSE_JSON` function is a Snowflake specific function that converts a JSON string into a JSON object.\n",
      "\n",
      "The `source` CTE is selecting from the `employees` table in the `src_table` schema.\n",
      "\n",
      "The `parsed` CTE is selecting the `id` field from the `source` CTE, and then parsing the `json_column` field as a JSON object and extracting the `field1`, `field2`, and `field3` fields. The `::varchar`, `::int`, and `::timestamp` are type casts to convert the fields to the appropriate data types.\n",
      "\n",
      "Finally, the main query is selecting all fields from the `parsed` CTE.\n",
      "\n",
      "The documentation for this dbt code would be:\n",
      "\n",
      "```\n",
      "This dbt code is using the PARSE_JSON function to parse a JSON column and extract specific fields.\n",
      "\n",
      "The source CTE is selecting from the employees table in the src_table schema.\n",
      "\n",
      "The parsed CTE is selecting the id field from the source CTE, and then parsing the json_column field as a JSON object and extracting the field1, field2, and field3 fields. The ::varchar, ::int, and ::timestamp are type casts to convert the fields to the appropriate data types.\n",
      "\n",
      "Finally, the main query is selecting all fields from the parsed CTE.\n",
      "```\n"
     ]
    }
   ],
   "source": [
    "cur.execute(warehouse)\n",
    "cur.execute(query)\n",
    "result = cur.fetchall()\n",
    "print(json.loads(result[0][0])['choices'][0]['text'])"
   ]
  },
  {
   "cell_type": "code",
   "execution_count": 158,
   "id": "b237a2db",
   "metadata": {},
   "outputs": [
    {
     "data": {
      "text/plain": [
       "[('{\\n  \"choices\": [\\n    {\\n      \"finish_reason\": \"stop\",\\n      \"index\": 0,\\n      \"logprobs\": null,\\n      \"text\": \"\"\\n    }\\n  ],\\n  \"created\": 900528,\\n  \"id\": \"cmpl-691f59d7581040858ef60c101927dfdd\",\\n  \"model\": \"/data/magicoder_model\",\\n  \"object\": \"text_completion\",\\n  \"usage\": {\\n    \"completion_tokens\": 1,\\n    \"prompt_tokens\": 74,\\n    \"total_tokens\": 75\\n  }\\n}',)]"
      ]
     },
     "execution_count": 158,
     "metadata": {},
     "output_type": "execute_result"
    }
   ],
   "source": [
    "result"
   ]
  },
  {
   "cell_type": "code",
   "execution_count": 7,
   "id": "39daa111",
   "metadata": {},
   "outputs": [],
   "source": [
    "import requests\n",
    "import json\n",
    "\n",
    "# Obtain a session token.\n",
    "token_data = conn._rest._token_request('ISSUE')\n",
    "token_extract = token_data['data']['sessionToken']\n",
    "\n",
    "# Create a request to the ingress endpoint with authz.\n",
    "token = f'\\\"{token_extract}\\\"'\n",
    "# Set this to the ingress endpoint URL for your service\n",
    "url = 'http://gowiocnz-zqiseam-ltifosforscsaws.snowflakecomputing.app/vllm/magicoder/v1/completions'"
   ]
  },
  {
   "cell_type": "code",
   "execution_count": 8,
   "id": "1a2fea4f",
   "metadata": {},
   "outputs": [
    {
     "name": "stdout",
     "output_type": "stream",
     "text": [
      "{'Content-Type': 'application/json', 'Authorization': 'Snowflake Token=\"ver:1-hint:14544919633592326-ETMsDgAAAY5Vep50ABRBRVMvQ0JDL1BLQ1M1UGFkZGluZwEAABAAEMk0A8Nx2TZnVqLTbZSljBcAAACA48T2Lr8JKf/dNoQ+63nJH9+QxeHcASiPik2NSxujbZIIjM54+IsUlHcpGUPDwSwQ1JRZTrKIgY0Yuui3WXfMCELevmH/ouvrrg2R/v+F9ovWKUZG0EcY9IHo/Wvqgd1AEOopoYMmfVV+nCaf6UMf9zYA8pcF9Bp2QhsVDUBPBOEAFLlv+fQcuY44iMx5FEtWCNf9RUCD\"'}\n",
      "http://gowiocnz-zqiseam-ltifosforscsaws.snowflakecomputing.app/vllm/magicoder/v1/completions\n"
     ]
    }
   ],
   "source": [
    "headers = {\n",
    "  'Content-Type': 'application/json', 'Authorization': f'Snowflake Token={token}'\n",
    "}\n",
    "print(headers)\n",
    "print(url)\n",
    "#print(payload)"
   ]
  },
  {
   "cell_type": "code",
   "execution_count": 9,
   "id": "f15a1367",
   "metadata": {},
   "outputs": [
    {
     "name": "stdout",
     "output_type": "stream",
     "text": [
      "{\"detail\":\"Method Not Allowed\"}\n"
     ]
    }
   ],
   "source": [
    "payload = json.dumps({\n",
    "  \"prompt\": \"write a python code to check whether given string is pallindrome\",\n",
    "  \"max_tokens\": 2400,\n",
    "  \"temperature\": 0,\n",
    "  \"model\": \"/data/magicoder_model\"\n",
    "})\n",
    "headers = {\n",
    "  'Content-Type': 'application/json', 'Authorization': f'Snowflake Token={token}'\n",
    "}\n",
    "\n",
    "response = requests.request(\"POST\", url, headers=headers, data=payload)\n",
    "\n",
    "print(response.text)\n"
   ]
  },
  {
   "cell_type": "code",
   "execution_count": null,
   "id": "5060fba0",
   "metadata": {},
   "outputs": [],
   "source": []
  },
  {
   "cell_type": "code",
   "execution_count": null,
   "id": "a66279a6",
   "metadata": {},
   "outputs": [],
   "source": []
  }
 ],
 "metadata": {
  "kernelspec": {
   "display_name": "Python 3",
   "language": "python",
   "name": "python3"
  },
  "language_info": {
   "codemirror_mode": {
    "name": "ipython",
    "version": 3
   },
   "file_extension": ".py",
   "mimetype": "text/x-python",
   "name": "python",
   "nbconvert_exporter": "python",
   "pygments_lexer": "ipython3",
   "version": "3.8.18"
  }
 },
 "nbformat": 4,
 "nbformat_minor": 5
}
