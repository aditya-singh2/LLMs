{
 "cells": [
  {
   "cell_type": "code",
   "execution_count": 1,
   "id": "0fd42bbd",
   "metadata": {
    "scrolled": true
   },
   "outputs": [],
   "source": [
    "# !pip install snowflake-connector-python"
   ]
  },
  {
   "cell_type": "code",
   "execution_count": 2,
   "id": "fce2827b",
   "metadata": {},
   "outputs": [],
   "source": [
    "import snowflake.connector\n",
    "import pandas as pd\n",
    "import json\n",
    "\n",
    "'''user = REFRACT.FOSFOR@LNTINFOTECH.COM\n",
    "password = Password321\n",
    "account = fya62509.us-east-1\n",
    "warehouse = FOSFOR_REFRACT\n",
    "database = FOSFOR_REFRACT\n",
    "schema = SALES\n",
    "role = FOSFOR_REFRACT'''    \n",
    "\n",
    "# Snowflake connection parameters\n",
    "snowflake_account = 'rwb76633'\n",
    "snowflake_user = 'Ravi'\n",
    "snowflake_password = 'Kayakave@1983'\n",
    "snowflake_database = 'TUTORIAL_DB'\n",
    "snowflake_schema = 'DATA_SCHEMA'\n",
    "snowflake_stage = 'MAGICODER2'\n",
    "role = 'TEST_ROLE'\n",
    "\n",
    "# snowflake_account = 'fya62509.us-east-1'\n",
    "# snowflake_user = 'REFRACT.FOSFOR@LNTINFOTECH.COM'\n",
    "# snowflake_password = 'Password321'\n",
    "# snowflake_database = 'FOSFOR_REFRACT'\n",
    "# snowflake_schema = 'SALES'\n",
    "# snowflake_stage = 'MAGICODER'\n",
    " \n",
    "# Connect to Snowflake\n",
    "conn = snowflake.connector.connect(\n",
    "   user=snowflake_user,\n",
    "   password=snowflake_password,\n",
    "   account=snowflake_account,\n",
    "   session_parameters={\n",
    "      'PYTHON_CONNECTOR_QUERY_RESULT_FORMAT': 'json'\n",
    "   },\n",
    "   database=snowflake_database,\n",
    "   schema=snowflake_schema,\n",
    "   role=role,\n",
    ")\n",
    "\n",
    "\n"
   ]
  },
  {
   "cell_type": "code",
   "execution_count": 3,
   "id": "67c53233",
   "metadata": {},
   "outputs": [
    {
     "data": {
      "text/plain": [
       "<snowflake.connector.connection.SnowflakeConnection at 0x7f3ddc2d0340>"
      ]
     },
     "execution_count": 3,
     "metadata": {},
     "output_type": "execute_result"
    }
   ],
   "source": [
    "conn"
   ]
  },
  {
   "cell_type": "code",
   "execution_count": 3,
   "id": "6a4e9f0f",
   "metadata": {},
   "outputs": [],
   "source": [
    "#! ls -lrt /llmmodels/models--ise-uiuc--Magicoder-S-DS-6.7B/snapshots/cff055b1e110cbe75c0c3759bd436299c6d6bb66"
   ]
  },
  {
   "cell_type": "code",
   "execution_count": 4,
   "id": "f901ac58",
   "metadata": {},
   "outputs": [],
   "source": [
    "# Create a cursor object\n",
    "cur = conn.cursor()\n",
    " \n",
    "# Upload file to stage (example using Pandas)\n",
    "#file_path = '/llmmodels/models--ise-uiuc--Magicoder-S-DS-6.7B/snapshots/cff055b1e110cbe75c0c3759bd436299c6d6bb66/special_tokens_map.json'\n",
    "# df = pd.read_csv(file_path)\n",
    "#cur.execute(f\"PUT file://{file_path} @{snowflake_stage}/magicoder_model AUTO_COMPRESS = FALSE\")\n",
    "#cur.execute(\"Select * from Sales\")"
   ]
  },
  {
   "cell_type": "code",
   "execution_count": 165,
   "id": "3df841ff",
   "metadata": {},
   "outputs": [],
   "source": [
    "prompt=\"\"\"Generate documentation for following dbt code  {{ config(materialized='table') }}\n",
    "\n",
    "with source as (\n",
    "    select * from {{ source('src_table', 'employees') }}\n",
    "),\n",
    "\n",
    "parsed as (\n",
    "    select\n",
    "        id,\n",
    "        PARSE_JSON(json_column):field1::varchar as field1,\n",
    "        PARSE_JSON(json_column):field2::int as field2,\n",
    "        PARSE_JSON(json_column):field3::timestamp as field3\n",
    "    from source\n",
    ")\n",
    "\n",
    "select * from parsed\"\"\"\n"
   ]
  },
  {
   "cell_type": "code",
   "execution_count": 127,
   "id": "be110e63",
   "metadata": {},
   "outputs": [],
   "source": [
    "prompt = r\"\"\"Construct a DBT view model in the 'staging' schema, linking 'jaffle_shop' orders with payment information from 'stg_payments', summarizing successful payments per order, and merging with order details to handle potential missing payment scenarios.\"\"\""
   ]
  },
  {
   "cell_type": "code",
   "execution_count": 166,
   "id": "837bbb06",
   "metadata": {},
   "outputs": [],
   "source": [
    "prompt = prompt.replace(\"'\", \"''\")\n",
    "prompt = prompt.replace(\"\\n\", \" \")"
   ]
  },
  {
   "cell_type": "code",
   "execution_count": 167,
   "id": "1bf504dc",
   "metadata": {},
   "outputs": [
    {
     "data": {
      "text/plain": [
       "\"Generate documentation for following dbt code  {{ config(materialized=''table'') }}  with source as (     select * from {{ source(''src_table'', ''employees'') }} ),  parsed as (     select         id,         PARSE_JSON(json_column):field1::varchar as field1,         PARSE_JSON(json_column):field2::int as field2,         PARSE_JSON(json_column):field3::timestamp as field3     from source )  select * from parsed\""
      ]
     },
     "execution_count": 167,
     "metadata": {},
     "output_type": "execute_result"
    }
   ],
   "source": [
    "prompt"
   ]
  },
  {
   "cell_type": "code",
   "execution_count": 101,
   "id": "98a7db84",
   "metadata": {},
   "outputs": [],
   "source": [
    "prompt = \"Generate bdt code to join supply and demand column\""
   ]
  },
  {
   "cell_type": "code",
   "execution_count": 86,
   "id": "481f9cc2",
   "metadata": {},
   "outputs": [],
   "source": [
    "temp_arg ={\"prompt\":prompt, \"max_tokens\": 2000, \"temperature\": 0, \"model\": \"/data/magicoder_model\"}"
   ]
  },
  {
   "cell_type": "code",
   "execution_count": 87,
   "id": "6f0347e5",
   "metadata": {},
   "outputs": [
    {
     "data": {
      "text/plain": [
       "{'prompt': \"Construct a DBT view model in the 'staging' schema, linking 'jaffle_shop' orders with payment information from 'stg_payments', summarizing successful payments per order, and merging with order details to handle potential missing payment scenarios.\",\n",
       " 'max_tokens': 2000,\n",
       " 'temperature': 0,\n",
       " 'model': '/data/magicoder_model'}"
      ]
     },
     "execution_count": 87,
     "metadata": {},
     "output_type": "execute_result"
    }
   ],
   "source": [
    "temp_arg"
   ]
  },
  {
   "cell_type": "code",
   "execution_count": 113,
   "id": "c65d7fda",
   "metadata": {},
   "outputs": [
    {
     "data": {
      "text/plain": [
       "str"
      ]
     },
     "execution_count": 113,
     "metadata": {},
     "output_type": "execute_result"
    }
   ],
   "source": [
    "type(arg)"
   ]
  },
  {
   "cell_type": "code",
   "execution_count": 163,
   "id": "0dc60324",
   "metadata": {},
   "outputs": [
    {
     "name": "stdout",
     "output_type": "stream",
     "text": [
      "SELECT magicoder_udf(parse_json('{\"prompt\":\"optimize below dbt code  {{ config(materialized=''table'') }}  with source as (     select * from {{ source(''src_table'', ''employees'') }} ),  parsed as (     select         id,         PARSE_JSON(json_column):field1::varchar as field1,         PARSE_JSON(json_column):field2::int as field2,         PARSE_JSON(json_column):field3::timestamp as field3     from source )  select * from parsed\", \"max_tokens\": 2000, \"temperature\": 0, \"model\": \"/data/magicoder_model\"}'));\n"
     ]
    }
   ],
   "source": [
    "arg = '{\"prompt\":'+'\"'+prompt+'\"'+', \"max_tokens\": 2000, \"temperature\": 0, \"model\": \"/data/magicoder_model\"}'\n",
    "warehouse = 'USE WAREHOUSE TUTORIAL_WAREHOUSE;'\n",
    "query = f\"SELECT magicoder_udf(parse_json('{arg}'));\"\n",
    "print(query)"
   ]
  },
  {
   "cell_type": "code",
   "execution_count": 164,
   "id": "ed57b081",
   "metadata": {},
   "outputs": [
    {
     "name": "stdout",
     "output_type": "stream",
     "text": [
      "\n",
      "\n",
      "```\n",
      "\n",
      "The above dbt code is optimized as below:\n",
      "\n",
      "```sql\n",
      "with source as (\n",
      "    select * from {{ source('src_table', 'employees') }}\n",
      "),\n",
      "parsed as (\n",
      "    select\n",
      "        id,\n",
      "        json_extract_scalar(json_column, '$.field1')::varchar as field1,\n",
      "        json_extract_scalar(json_column, '$.field2')::int as field2,\n",
      "        json_extract_scalar(json_column, '$.field3')::timestamp as field3\n",
      "    from source\n",
      ")\n",
      "select * from parsed\n",
      "```\n",
      "\n",
      "In the optimized version, we use the `json_extract_scalar` function to extract the values from the JSON column. This function is more efficient than the `PARSE_JSON` function and is supported by all major databases.\n"
     ]
    }
   ],
   "source": [
    "cur.execute(warehouse)\n",
    "cur.execute(query)\n",
    "result = cur.fetchall()\n",
    "print(json.loads(result[0][0])['choices'][0]['text'])"
   ]
  },
  {
   "cell_type": "code",
   "execution_count": 158,
   "id": "11794919",
   "metadata": {},
   "outputs": [
    {
     "data": {
      "text/plain": [
       "[('{\\n  \"choices\": [\\n    {\\n      \"finish_reason\": \"stop\",\\n      \"index\": 0,\\n      \"logprobs\": null,\\n      \"text\": \"\"\\n    }\\n  ],\\n  \"created\": 900528,\\n  \"id\": \"cmpl-691f59d7581040858ef60c101927dfdd\",\\n  \"model\": \"/data/magicoder_model\",\\n  \"object\": \"text_completion\",\\n  \"usage\": {\\n    \"completion_tokens\": 1,\\n    \"prompt_tokens\": 74,\\n    \"total_tokens\": 75\\n  }\\n}',)]"
      ]
     },
     "execution_count": 158,
     "metadata": {},
     "output_type": "execute_result"
    }
   ],
   "source": [
    "result"
   ]
  },
  {
   "cell_type": "code",
   "execution_count": 7,
   "id": "39daa111",
   "metadata": {},
   "outputs": [],
   "source": [
    "import requests\n",
    "import json\n",
    "\n",
    "# Obtain a session token.\n",
    "token_data = conn._rest._token_request('ISSUE')\n",
    "token_extract = token_data['data']['sessionToken']\n",
    "\n",
    "# Create a request to the ingress endpoint with authz.\n",
    "token = f'\\\"{token_extract}\\\"'\n",
    "# Set this to the ingress endpoint URL for your service\n",
    "url = 'http://gowiocnz-zqiseam-ltifosforscsaws.snowflakecomputing.app/vllm/magicoder/v1/completions'"
   ]
  },
  {
   "cell_type": "code",
   "execution_count": 8,
   "id": "1a2fea4f",
   "metadata": {},
   "outputs": [
    {
     "name": "stdout",
     "output_type": "stream",
     "text": [
      "{'Content-Type': 'application/json', 'Authorization': 'Snowflake Token=\"ver:1-hint:14544919633592326-ETMsDgAAAY5Vep50ABRBRVMvQ0JDL1BLQ1M1UGFkZGluZwEAABAAEMk0A8Nx2TZnVqLTbZSljBcAAACA48T2Lr8JKf/dNoQ+63nJH9+QxeHcASiPik2NSxujbZIIjM54+IsUlHcpGUPDwSwQ1JRZTrKIgY0Yuui3WXfMCELevmH/ouvrrg2R/v+F9ovWKUZG0EcY9IHo/Wvqgd1AEOopoYMmfVV+nCaf6UMf9zYA8pcF9Bp2QhsVDUBPBOEAFLlv+fQcuY44iMx5FEtWCNf9RUCD\"'}\n",
      "http://gowiocnz-zqiseam-ltifosforscsaws.snowflakecomputing.app/vllm/magicoder/v1/completions\n"
     ]
    }
   ],
   "source": [
    "headers = {\n",
    "  'Content-Type': 'application/json', 'Authorization': f'Snowflake Token={token}'\n",
    "}\n",
    "print(headers)\n",
    "print(url)\n",
    "#print(payload)"
   ]
  },
  {
   "cell_type": "code",
   "execution_count": 9,
   "id": "f15a1367",
   "metadata": {},
   "outputs": [
    {
     "name": "stdout",
     "output_type": "stream",
     "text": [
      "{\"detail\":\"Method Not Allowed\"}\n"
     ]
    }
   ],
   "source": [
    "payload = json.dumps({\n",
    "  \"prompt\": \"write a python code to check whether given string is pallindrome\",\n",
    "  \"max_tokens\": 2400,\n",
    "  \"temperature\": 0,\n",
    "  \"model\": \"/data/magicoder_model\"\n",
    "})\n",
    "headers = {\n",
    "  'Content-Type': 'application/json', 'Authorization': f'Snowflake Token={token}'\n",
    "}\n",
    "\n",
    "response = requests.request(\"POST\", url, headers=headers, data=payload)\n",
    "\n",
    "print(response.text)\n"
   ]
  },
  {
   "cell_type": "code",
   "execution_count": null,
   "id": "5060fba0",
   "metadata": {},
   "outputs": [],
   "source": []
  },
  {
   "cell_type": "code",
   "execution_count": null,
   "id": "a66279a6",
   "metadata": {},
   "outputs": [],
   "source": []
  }
 ],
 "metadata": {
  "kernelspec": {
   "display_name": "Python 3",
   "language": "python",
   "name": "python3"
  },
  "language_info": {
   "codemirror_mode": {
    "name": "ipython",
    "version": 3
   },
   "file_extension": ".py",
   "mimetype": "text/x-python",
   "name": "python",
   "nbconvert_exporter": "python",
   "pygments_lexer": "ipython3",
   "version": "3.8.18"
  }
 },
 "nbformat": 4,
 "nbformat_minor": 5
}
