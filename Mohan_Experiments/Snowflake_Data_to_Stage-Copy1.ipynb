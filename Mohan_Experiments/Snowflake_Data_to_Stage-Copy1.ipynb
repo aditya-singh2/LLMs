{
 "cells": [
  {
   "cell_type": "code",
   "execution_count": 1,
   "id": "0fd42bbd",
   "metadata": {
    "scrolled": true
   },
   "outputs": [
    {
     "name": "stdout",
     "output_type": "stream",
     "text": [
      "\u001b[33mWARNING: The directory '/home/mosaic-ai/.cache/pip/http' or its parent directory is not owned by the current user and the cache has been disabled. Please check the permissions and owner of that directory. If executing pip with sudo, you may want sudo's -H flag.\u001b[0m\n",
      "\u001b[33mWARNING: The directory '/home/mosaic-ai/.cache/pip' or its parent directory is not owned by the current user and caching wheels has been disabled. check the permissions and owner of that directory. If executing pip with sudo, you may want sudo's -H flag.\u001b[0m\n",
      "Collecting snowflake-connector-python\n",
      "\u001b[?25l  Downloading https://files.pythonhosted.org/packages/2b/d5/67293fbfe342c234a0633d84342af734183aa809e2631f9c987f8b394baa/snowflake_connector_python-3.7.1-cp38-cp38-manylinux_2_17_x86_64.manylinux2014_x86_64.whl (2.6MB)\n",
      "\u001b[K     |████████████████████████████████| 2.6MB 7.4MB/s eta 0:00:01\n",
      "\u001b[?25hCollecting asn1crypto<2.0.0,>0.24.0\n",
      "\u001b[?25l  Downloading https://files.pythonhosted.org/packages/c9/7f/09065fd9e27da0eda08b4d6897f1c13535066174cc023af248fc2a8d5e5a/asn1crypto-1.5.1-py2.py3-none-any.whl (105kB)\n",
      "\u001b[K     |████████████████████████████████| 112kB 105.6MB/s eta 0:00:01\n",
      "\u001b[?25hCollecting platformdirs<4.0.0,>=2.6.0\n",
      "  Downloading https://files.pythonhosted.org/packages/56/29/3ec311dc18804409ecf0d2b09caa976f3ae6215559306b5b530004e11156/platformdirs-3.11.0-py3-none-any.whl\n",
      "Collecting filelock<4,>=3.5\n",
      "  Downloading https://files.pythonhosted.org/packages/81/54/84d42a0bee35edba99dee7b59a8d4970eccdd44b99fe728ed912106fc781/filelock-3.13.1-py3-none-any.whl\n",
      "Collecting packaging\n",
      "\u001b[?25l  Downloading https://files.pythonhosted.org/packages/49/df/1fceb2f8900f8639e278b056416d49134fb8d84c5942ffaa01ad34782422/packaging-24.0-py3-none-any.whl (53kB)\n",
      "\u001b[K     |████████████████████████████████| 61kB 85.8MB/s eta 0:00:01\n",
      "\u001b[?25hCollecting pytz\n",
      "\u001b[?25l  Downloading https://files.pythonhosted.org/packages/9c/3d/a121f284241f08268b21359bd425f7d4825cffc5ac5cd0e1b3d82ffd2b10/pytz-2024.1-py2.py3-none-any.whl (505kB)\n",
      "\u001b[K     |████████████████████████████████| 512kB 65.3MB/s eta 0:00:01\n",
      "\u001b[?25hCollecting charset-normalizer<4,>=2\n",
      "\u001b[?25l  Downloading https://files.pythonhosted.org/packages/3d/09/d82fe4a34c5f0585f9ea1df090e2a71eb9bb1e469723053e1ee9f57c16f3/charset_normalizer-3.3.2-cp38-cp38-manylinux_2_17_x86_64.manylinux2014_x86_64.whl (141kB)\n",
      "\u001b[K     |████████████████████████████████| 143kB 103.4MB/s eta 0:00:01\n",
      "\u001b[?25hCollecting sortedcontainers>=2.4.0\n",
      "  Downloading https://files.pythonhosted.org/packages/32/46/9cb0e58b2deb7f82b84065f37f3bffeb12413f947f9388e4cac22c4621ce/sortedcontainers-2.4.0-py2.py3-none-any.whl\n",
      "Collecting tomlkit\n",
      "  Downloading https://files.pythonhosted.org/packages/07/fa/c96545d741f2fd47f565e4e06bfef0962add790cb9c2289d900102b55eca/tomlkit-0.12.4-py3-none-any.whl\n",
      "Collecting cryptography<43.0.0,>=3.1.0\n",
      "\u001b[?25l  Downloading https://files.pythonhosted.org/packages/fb/0b/14509319a1b49858425553d2fb3808579cfdfe98c1d71a3f046c1b4e0108/cryptography-42.0.5-cp37-abi3-manylinux_2_17_x86_64.manylinux2014_x86_64.whl (4.6MB)\n",
      "\u001b[K     |████████████████████████████████| 4.6MB 68.0MB/s eta 0:00:01\n",
      "\u001b[?25hCollecting requests<3.0.0\n",
      "\u001b[?25l  Downloading https://files.pythonhosted.org/packages/70/8e/0e2d847013cb52cd35b38c009bb167a1a26b2ce6cd6965bf26b47bc0bf44/requests-2.31.0-py3-none-any.whl (62kB)\n",
      "\u001b[K     |████████████████████████████████| 71kB 106.9MB/s ta 0:00:01\n",
      "\u001b[?25hCollecting typing-extensions<5,>=4.3\n",
      "  Downloading https://files.pythonhosted.org/packages/f9/de/dc04a3ea60b22624b51c703a84bbe0184abcd1d0b9bc8074b5d6b7ab90bb/typing_extensions-4.10.0-py3-none-any.whl\n",
      "Collecting urllib3<2.0.0,>=1.21.1; python_version < \"3.10\"\n",
      "\u001b[?25l  Downloading https://files.pythonhosted.org/packages/b0/53/aa91e163dcfd1e5b82d8a890ecf13314e3e149c05270cc644581f77f17fd/urllib3-1.26.18-py2.py3-none-any.whl (143kB)\n",
      "\u001b[K     |████████████████████████████████| 153kB 114.0MB/s eta 0:00:01\n",
      "\u001b[?25hCollecting idna<4,>=2.5\n",
      "\u001b[?25l  Downloading https://files.pythonhosted.org/packages/c2/e7/a82b05cf63a603df6e68d59ae6a68bf5064484a0718ea5033660af4b54a9/idna-3.6-py3-none-any.whl (61kB)\n",
      "\u001b[K     |████████████████████████████████| 71kB 118.7MB/s eta 0:00:01\n",
      "\u001b[?25hCollecting certifi>=2017.4.17\n",
      "\u001b[?25l  Downloading https://files.pythonhosted.org/packages/ba/06/a07f096c664aeb9f01624f858c3add0a4e913d6c96257acb4fce61e7de14/certifi-2024.2.2-py3-none-any.whl (163kB)\n",
      "\u001b[K     |████████████████████████████████| 163kB 90.6MB/s eta 0:00:01\n",
      "\u001b[?25hCollecting cffi<2.0.0,>=1.9\n",
      "\u001b[?25l  Downloading https://files.pythonhosted.org/packages/f1/c9/326611aa83e16b13b6db4dbb73b5455c668159a003c4c2f0c3bcb2ddabaf/cffi-1.16.0-cp38-cp38-manylinux_2_17_x86_64.manylinux2014_x86_64.whl (444kB)\n",
      "\u001b[K     |████████████████████████████████| 450kB 99.9MB/s eta 0:00:01\n",
      "\u001b[?25hCollecting pyjwt<3.0.0\n",
      "  Downloading https://files.pythonhosted.org/packages/2b/4f/e04a8067c7c96c364cef7ef73906504e2f40d690811c021e1a1901473a19/PyJWT-2.8.0-py3-none-any.whl\n",
      "Collecting pyOpenSSL<25.0.0,>=16.2.0\n",
      "\u001b[?25l  Downloading https://files.pythonhosted.org/packages/54/a7/2104f674a5a6845b04c8ff01659becc6b8978ca410b82b94287e0b1e018b/pyOpenSSL-24.1.0-py3-none-any.whl (56kB)\n",
      "\u001b[K     |████████████████████████████████| 61kB 88.5MB/s eta 0:00:01\n",
      "\u001b[?25hCollecting pycparser\n",
      "\u001b[?25l  Downloading https://files.pythonhosted.org/packages/62/d5/5f610ebe421e85889f2e55e33b7f9a6795bd982198517d912eb1c76e1a53/pycparser-2.21-py2.py3-none-any.whl (118kB)\n",
      "\u001b[K     |████████████████████████████████| 122kB 108.4MB/s eta 0:00:01\n",
      "\u001b[31mERROR: mosaic-ai-client 1.0.0 has requirement matplotlib==3.1.1, but you'll have matplotlib 3.6.0 which is incompatible.\u001b[0m\n",
      "\u001b[31mERROR: jupyterlab 3.2.4 has requirement jupyter-server~=1.4, but you'll have jupyter-server 2.7.3 which is incompatible.\u001b[0m\n",
      "\u001b[31mERROR: jupyterlab-server 2.25.0 has requirement babel>=2.10, but you'll have babel 2.9.1 which is incompatible.\u001b[0m\n",
      "\u001b[?25hInstalling collected packages: asn1crypto, platformdirs, filelock, packaging, pytz, charset-normalizer, sortedcontainers, tomlkit, pycparser, cffi, cryptography, idna, urllib3, certifi, requests, typing-extensions, pyjwt, pyOpenSSL, snowflake-connector-python\n",
      "Successfully installed asn1crypto-1.5.1 certifi-2024.2.2 cffi-1.16.0 charset-normalizer-3.3.2 cryptography-42.0.5 filelock-3.13.1 idna-3.6 packaging-24.0 platformdirs-3.11.0 pyOpenSSL-24.1.0 pycparser-2.21 pyjwt-2.8.0 pytz-2024.1 requests-2.31.0 snowflake-connector-python-3.7.1 sortedcontainers-2.4.0 tomlkit-0.12.4 typing-extensions-4.10.0 urllib3-1.26.18\n",
      "\u001b[33mWARNING: You are using pip version 19.3.1; however, version 24.0 is available.\n",
      "You should consider upgrading via the 'pip install --upgrade pip' command.\u001b[0m\n"
     ]
    }
   ],
   "source": [
    "!pip install snowflake-connector-python"
   ]
  },
  {
   "cell_type": "code",
   "execution_count": null,
   "id": "8c8f591d",
   "metadata": {},
   "outputs": [],
   "source": [
    "from sno"
   ]
  },
  {
   "cell_type": "code",
   "execution_count": 1,
   "id": "fce2827b",
   "metadata": {},
   "outputs": [],
   "source": [
    "import snowflake.connector\n",
    "import pandas as pd\n",
    "import json\n",
    "\n",
    "'''user = REFRACT.FOSFOR@LNTINFOTECH.COM\n",
    "password = Password321\n",
    "account = fya62509.us-east-1\n",
    "warehouse = FOSFOR_REFRACT\n",
    "database = FOSFOR_REFRACT\n",
    "schema = SALES\n",
    "role = FOSFOR_REFRACT'''    \n",
    "\n",
    "# Snowflake connection parameters\n",
    "snowflake_account = 'rwb76633'\n",
    "snowflake_user = 'Ravi'\n",
    "snowflake_password = 'Kayakave@1983'\n",
    "snowflake_database = 'TUTORIAL_DB'\n",
    "snowflake_schema = 'DATA_SCHEMA'\n",
    "snowflake_stage = 'MAGICODER2'\n",
    "role = 'TEST_ROLE'\n",
    "\n",
    "# snowflake_account = 'fya62509.us-east-1'\n",
    "# snowflake_user = 'REFRACT.FOSFOR@LNTINFOTECH.COM'\n",
    "# snowflake_password = 'Password321'\n",
    "# snowflake_database = 'FOSFOR_REFRACT'\n",
    "# snowflake_schema = 'SALES'\n",
    "# snowflake_stage = 'MAGICODER'\n",
    " \n",
    "# Connect to Snowflake\n",
    "conn = snowflake.connector.connect(\n",
    "   user=snowflake_user,\n",
    "   password=snowflake_password,\n",
    "   account=snowflake_account,\n",
    "   session_parameters={\n",
    "      'PYTHON_CONNECTOR_QUERY_RESULT_FORMAT': 'json'\n",
    "   },\n",
    "   database=snowflake_database,\n",
    "   schema=snowflake_schema,\n",
    "   role=role,\n",
    ")\n",
    "\n",
    "\n"
   ]
  },
  {
   "cell_type": "code",
   "execution_count": 2,
   "id": "67c53233",
   "metadata": {},
   "outputs": [
    {
     "data": {
      "text/plain": [
       "<snowflake.connector.connection.SnowflakeConnection at 0x7f7fc80a8430>"
      ]
     },
     "execution_count": 2,
     "metadata": {},
     "output_type": "execute_result"
    }
   ],
   "source": [
    "conn"
   ]
  },
  {
   "cell_type": "code",
   "execution_count": 3,
   "id": "6a4e9f0f",
   "metadata": {},
   "outputs": [],
   "source": [
    "#! ls -lrt /llmmodels/models--ise-uiuc--Magicoder-S-DS-6.7B/snapshots/cff055b1e110cbe75c0c3759bd436299c6d6bb66"
   ]
  },
  {
   "cell_type": "code",
   "execution_count": 4,
   "id": "f901ac58",
   "metadata": {},
   "outputs": [],
   "source": [
    "# Create a cursor object\n",
    "cur = conn.cursor()\n",
    " \n",
    "# Upload file to stage (example using Pandas)\n",
    "#file_path = '/llmmodels/models--ise-uiuc--Magicoder-S-DS-6.7B/snapshots/cff055b1e110cbe75c0c3759bd436299c6d6bb66/special_tokens_map.json'\n",
    "# df = pd.read_csv(file_path)\n",
    "#cur.execute(f\"PUT file://{file_path} @{snowflake_stage}/magicoder_model AUTO_COMPRESS = FALSE\")\n",
    "#cur.execute(\"Select * from Sales\")"
   ]
  },
  {
   "cell_type": "code",
   "execution_count": 5,
   "id": "0dc60324",
   "metadata": {},
   "outputs": [
    {
     "name": "stdout",
     "output_type": "stream",
     "text": [
      "SELECT magicoder_udf(parse_json('{\"prompt\": \"python code to check pallindrome\", \"max_tokens\": 2000, \"temperature\": 0, \"model\": \"/data/magicoder_model\"}'));\n"
     ]
    }
   ],
   "source": [
    "arg = '{\"prompt\": \"python code to check pallindrome\", \"max_tokens\": 2000, \"temperature\": 0, \"model\": \"/data/magicoder_model\"}'\n",
    "warehouse = 'USE WAREHOUSE TUTORIAL_WAREHOUSE;'\n",
    "query = f\"SELECT magicoder_udf(parse_json('{arg}'));\"\n",
    "print(query)"
   ]
  },
  {
   "cell_type": "code",
   "execution_count": 6,
   "id": "ed57b081",
   "metadata": {},
   "outputs": [
    {
     "name": "stdout",
     "output_type": "stream",
     "text": [
      "\n",
      "\n",
      "\n",
      "def is_pallindrome(n):\n",
      "    return str(n) == str(n)[::-1]\n",
      "\n",
      "print(is_pallindrome(121))\n",
      "print(is_pallindrome(123))\n"
     ]
    }
   ],
   "source": [
    "cur.execute(warehouse)\n",
    "cur.execute(query)\n",
    "result = cur.fetchall()\n",
    "print(json.loads(result[0][0])['choices'][0]['text'])"
   ]
  },
  {
   "cell_type": "code",
   "execution_count": 7,
   "id": "39daa111",
   "metadata": {},
   "outputs": [],
   "source": [
    "import requests\n",
    "import json\n",
    "\n",
    "# Obtain a session token.\n",
    "token_data = conn._rest._token_request('ISSUE')\n",
    "token_extract = token_data['data']['sessionToken']\n",
    "\n",
    "# Create a request to the ingress endpoint with authz.\n",
    "token = f'\\\"{token_extract}\\\"'\n",
    "# Set this to the ingress endpoint URL for your service\n",
    "url = 'http://gowiocnz-zqiseam-ltifosforscsaws.snowflakecomputing.app/vllm/magicoder/v1/completions'"
   ]
  },
  {
   "cell_type": "code",
   "execution_count": 8,
   "id": "1a2fea4f",
   "metadata": {},
   "outputs": [
    {
     "name": "stdout",
     "output_type": "stream",
     "text": [
      "{'Content-Type': 'application/json', 'Authorization': 'Snowflake Token=\"ver:1-hint:14544919633592326-ETMsDgAAAY5Vep50ABRBRVMvQ0JDL1BLQ1M1UGFkZGluZwEAABAAEMk0A8Nx2TZnVqLTbZSljBcAAACA48T2Lr8JKf/dNoQ+63nJH9+QxeHcASiPik2NSxujbZIIjM54+IsUlHcpGUPDwSwQ1JRZTrKIgY0Yuui3WXfMCELevmH/ouvrrg2R/v+F9ovWKUZG0EcY9IHo/Wvqgd1AEOopoYMmfVV+nCaf6UMf9zYA8pcF9Bp2QhsVDUBPBOEAFLlv+fQcuY44iMx5FEtWCNf9RUCD\"'}\n",
      "http://gowiocnz-zqiseam-ltifosforscsaws.snowflakecomputing.app/vllm/magicoder/v1/completions\n"
     ]
    }
   ],
   "source": [
    "headers = {\n",
    "  'Content-Type': 'application/json', 'Authorization': f'Snowflake Token={token}'\n",
    "}\n",
    "print(headers)\n",
    "print(url)\n",
    "#print(payload)"
   ]
  },
  {
   "cell_type": "code",
   "execution_count": 9,
   "id": "f15a1367",
   "metadata": {},
   "outputs": [
    {
     "name": "stdout",
     "output_type": "stream",
     "text": [
      "{\"detail\":\"Method Not Allowed\"}\n"
     ]
    }
   ],
   "source": [
    "payload = json.dumps({\n",
    "  \"prompt\": \"write a python code to check whether given string is pallindrome\",\n",
    "  \"max_tokens\": 2400,\n",
    "  \"temperature\": 0,\n",
    "  \"model\": \"/data/magicoder_model\"\n",
    "})\n",
    "headers = {\n",
    "  'Content-Type': 'application/json', 'Authorization': f'Snowflake Token={token}'\n",
    "}\n",
    "\n",
    "response = requests.request(\"POST\", url, headers=headers, data=payload)\n",
    "\n",
    "print(response.text)\n"
   ]
  },
  {
   "cell_type": "code",
   "execution_count": null,
   "id": "5060fba0",
   "metadata": {},
   "outputs": [],
   "source": []
  },
  {
   "cell_type": "code",
   "execution_count": null,
   "id": "a66279a6",
   "metadata": {},
   "outputs": [],
   "source": []
  }
 ],
 "metadata": {
  "kernelspec": {
   "display_name": "Python 3",
   "language": "python",
   "name": "python3"
  },
  "language_info": {
   "codemirror_mode": {
    "name": "ipython",
    "version": 3
   },
   "file_extension": ".py",
   "mimetype": "text/x-python",
   "name": "python",
   "nbconvert_exporter": "python",
   "pygments_lexer": "ipython3",
   "version": "3.8.18"
  }
 },
 "nbformat": 4,
 "nbformat_minor": 5
}
