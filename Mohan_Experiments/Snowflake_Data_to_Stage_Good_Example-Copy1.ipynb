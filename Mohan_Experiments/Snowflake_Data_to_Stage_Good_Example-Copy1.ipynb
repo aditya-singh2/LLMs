{
 "cells": [
  {
   "cell_type": "code",
   "execution_count": null,
   "id": "0fd42bbd",
   "metadata": {
    "scrolled": true
   },
   "outputs": [],
   "source": [
    "#!pip install snowflake-connector-python"
   ]
  },
  {
   "cell_type": "code",
   "execution_count": 1,
   "id": "fce2827b",
   "metadata": {},
   "outputs": [],
   "source": [
    "import snowflake.connector\n",
    "import pandas as pd\n",
    "import json\n",
    "\n",
    "'''user = REFRACT.FOSFOR@LNTINFOTECH.COM\n",
    "password = Password321\n",
    "account = fya62509.us-east-1\n",
    "warehouse = FOSFOR_REFRACT\n",
    "database = FOSFOR_REFRACT\n",
    "schema = SALES\n",
    "role = FOSFOR_REFRACT'''    \n",
    "\n",
    "# Snowflake connection parameters\n",
    "snowflake_account = 'rwb76633'\n",
    "snowflake_user = 'Ravi'\n",
    "snowflake_password = 'Kayakave@1983'\n",
    "snowflake_database = 'TUTORIAL_DB'\n",
    "snowflake_schema = 'DATA_SCHEMA'\n",
    "snowflake_stage = 'MAGICODER2'\n",
    "role = 'TEST_ROLE'\n",
    "\n",
    "# snowflake_account = 'fya62509.us-east-1'\n",
    "# snowflake_user = 'REFRACT.FOSFOR@LNTINFOTECH.COM'\n",
    "# snowflake_password = 'Password321'\n",
    "# snowflake_database = 'FOSFOR_REFRACT'\n",
    "# snowflake_schema = 'SALES'\n",
    "# snowflake_stage = 'MAGICODER'\n",
    " \n",
    "# Connect to Snowflake\n",
    "conn = snowflake.connector.connect(\n",
    "   user=snowflake_user,\n",
    "   password=snowflake_password,\n",
    "   account=snowflake_account,\n",
    "   session_parameters={\n",
    "      'PYTHON_CONNECTOR_QUERY_RESULT_FORMAT': 'json'\n",
    "   },\n",
    "   database=snowflake_database,\n",
    "   schema=snowflake_schema,\n",
    "   role=role,\n",
    ")\n",
    "\n",
    "\n"
   ]
  },
  {
   "cell_type": "code",
   "execution_count": 2,
   "id": "67c53233",
   "metadata": {},
   "outputs": [
    {
     "data": {
      "text/plain": [
       "<snowflake.connector.connection.SnowflakeConnection at 0x7f749179a610>"
      ]
     },
     "execution_count": 2,
     "metadata": {},
     "output_type": "execute_result"
    }
   ],
   "source": [
    "conn"
   ]
  },
  {
   "cell_type": "code",
   "execution_count": 3,
   "id": "6a4e9f0f",
   "metadata": {},
   "outputs": [],
   "source": [
    "#! ls -lrt /llmmodels/models--ise-uiuc--Magicoder-S-DS-6.7B/snapshots/cff055b1e110cbe75c0c3759bd436299c6d6bb66"
   ]
  },
  {
   "cell_type": "code",
   "execution_count": 4,
   "id": "f901ac58",
   "metadata": {},
   "outputs": [],
   "source": [
    "# Create a cursor object\n",
    "cur = conn.cursor()\n",
    " \n",
    "# Upload file to stage (example using Pandas)\n",
    "#file_path = '/llmmodels/models--ise-uiuc--Magicoder-S-DS-6.7B/snapshots/cff055b1e110cbe75c0c3759bd436299c6d6bb66/special_tokens_map.json'\n",
    "# df = pd.read_csv(file_path)\n",
    "#cur.execute(f\"PUT file://{file_path} @{snowflake_stage}/magicoder_model AUTO_COMPRESS = FALSE\")\n",
    "#cur.execute(\"Select * from Sales\")"
   ]
  },
  {
   "cell_type": "code",
   "execution_count": 5,
   "id": "bd088320",
   "metadata": {},
   "outputs": [],
   "source": [
    "prompt= r\"\"\"You are an exceptional dbt analytics engineer writes dbt models, also creates very precise and accurate functional documentation to ensure any layman understands the code written by you.\n",
    "        follow instruction and response accuratly. finally only generate respose without instruction. \n",
    "        \n",
    "        @@Instruction\n",
    "        this is the sample dbt model\n",
    "        with customer_revenue as (\n",
    "        select\n",
    "        customer_id,\n",
    "        sum(amount) as total_revenue\n",
    "        from\n",
    "        {{ ref('orders') }}\n",
    "        group by 1\n",
    "        )\n",
    "        \n",
    "        select\n",
    "        c.customer_id,\n",
    "        c.first_name,\n",
    "        c.last_name,\n",
    "        cr.total_revenue\n",
    "        from\n",
    "        {{ source('master_data','customers') }} c\n",
    "        left join customer_revenue cr on c.customer_id = cr.customer_id\n",
    "\n",
    "        @@Response\n",
    "        Below is the sample dbt model documentation generated for above instruction dbt model:\n",
    "        \n",
    "        * Overview: This dbt model calculates the total revenue per customer by leveraging the data from the orders model and customers source. \n",
    "        * Dependencies:\n",
    "        * orders: dbt model that contains information about individual orders, including the customer_id and amount.\n",
    "        * customers: dbt source contains customer details, including customer_id, first_name, and last_name.\n",
    "        * Transformation:\n",
    "        * The CTE 'customer_revenue' aggregates the total revenue for each customer by summing the amount from the orders model. It utilizes the customer_id field for grouping.\n",
    "        * The final output includes customer details from the customers table (c) and their corresponding total revenue from the customer_revenue CTE (cr). The join is performed using the customer_id field.\n",
    "        * Example Usage:\tThe resulting model can be used for various analytical purposes, such as identifying high-value customers or generating reports on customer revenue.\n",
    "\n",
    "        @@ Instruction\n",
    "        create similar dbt model documentation for following dbt model code\n",
    "            \"create document for following dbt code {% snapshot users_snapshot %}  \n",
    "\n",
    "    {{\n",
    "      config(      \n",
    "        target_schema='snapshots',      \n",
    "        strategy='timestamp',      \n",
    "        unique_key='id',      \n",
    "        updated_at='updated_at'    \n",
    "      )  \n",
    "    }}  \n",
    "\n",
    "      select * \n",
    "      from {{ source('raw','users') }}\n",
    "\n",
    "    {% endsnapshot %}\"\"\"\n"
   ]
  },
  {
   "cell_type": "code",
   "execution_count": null,
   "id": "406c659f",
   "metadata": {},
   "outputs": [],
   "source": [
    "#prompt = r\"\"\"Construct a DBT view model in the 'staging' schema, linking 'jaffle_shop' orders with payment information from 'stg_payments', summarizing successful payments per order, and merging with order details to handle potential missing payment scenarios.\"\"\""
   ]
  },
  {
   "cell_type": "code",
   "execution_count": 6,
   "id": "937aee5b",
   "metadata": {},
   "outputs": [],
   "source": [
    "prompt = prompt.replace(\"'\", \"''\")\n",
    "prompt = prompt.replace(\"\\n\", \" \")"
   ]
  },
  {
   "cell_type": "code",
   "execution_count": 7,
   "id": "2141ccdc",
   "metadata": {},
   "outputs": [],
   "source": [
    "arg = '{\"prompt\":'+'\"'+prompt+'\"'+', \"max_tokens\": 2000, \"temperature\": 0, \"model\": \"/data/magicoder_model\"}'\n"
   ]
  },
  {
   "cell_type": "code",
   "execution_count": 8,
   "id": "35b68f3c",
   "metadata": {},
   "outputs": [],
   "source": [
    "import json\n",
    "arg = json.dumps(arg)"
   ]
  },
  {
   "cell_type": "code",
   "execution_count": 9,
   "id": "5a75b99a",
   "metadata": {},
   "outputs": [
    {
     "data": {
      "text/plain": [
       "'\"{\\\\\"prompt\\\\\":\\\\\"You are an exceptional dbt analytics engineer writes dbt models, also creates very precise and accurate functional documentation to ensure any layman understands the code written by you.         follow instruction and response accuratly. finally only generate respose without instruction.                   @@Instruction         this is the sample dbt model         with customer_revenue as (         select         customer_id,         sum(amount) as total_revenue         from         {{ ref(\\'\\'orders\\'\\') }}         group by 1         )                  select         c.customer_id,         c.first_name,         c.last_name,         cr.total_revenue         from         {{ source(\\'\\'master_data\\'\\',\\'\\'customers\\'\\') }} c         left join customer_revenue cr on c.customer_id = cr.customer_id          @@Response         Below is the sample dbt model documentation generated for above instruction dbt model:                  * Overview: This dbt model calculates the total revenue per customer by leveraging the data from the orders model and customers source.          * Dependencies:         * orders: dbt model that contains information about individual orders, including the customer_id and amount.         * customers: dbt source contains customer details, including customer_id, first_name, and last_name.         * Transformation:         * The CTE \\'\\'customer_revenue\\'\\' aggregates the total revenue for each customer by summing the amount from the orders model. It utilizes the customer_id field for grouping.         * The final output includes customer details from the customers table (c) and their corresponding total revenue from the customer_revenue CTE (cr). The join is performed using the customer_id field.         * Example Usage:\\\\tThe resulting model can be used for various analytical purposes, such as identifying high-value customers or generating reports on customer revenue.          @@ Instruction         create similar dbt model documentation for following dbt model code             \\\\\"create document for following dbt code {% snapshot users_snapshot %}        {{       config(               target_schema=\\'\\'snapshots\\'\\',               strategy=\\'\\'timestamp\\'\\',               unique_key=\\'\\'id\\'\\',               updated_at=\\'\\'updated_at\\'\\'           )       }}          select *        from {{ source(\\'\\'raw\\'\\',\\'\\'users\\'\\') }}      {% endsnapshot %}\\\\\", \\\\\"max_tokens\\\\\": 2000, \\\\\"temperature\\\\\": 0, \\\\\"model\\\\\": \\\\\"/data/magicoder_model\\\\\"}\"'"
      ]
     },
     "execution_count": 9,
     "metadata": {},
     "output_type": "execute_result"
    }
   ],
   "source": [
    "arg"
   ]
  },
  {
   "cell_type": "code",
   "execution_count": 10,
   "id": "0dc60324",
   "metadata": {},
   "outputs": [
    {
     "name": "stdout",
     "output_type": "stream",
     "text": [
      "SELECT magicoder_udf(parse_json('{\"prompt\":\"You are an exceptional dbt analytics engineer writes dbt models, also creates very precise and accurate functional documentation to ensure any layman understands the code written by you.         follow instruction and response accuratly. finally only generate respose without instruction.                   @@Instruction         this is the sample dbt model         with customer_revenue as (         select         customer_id,         sum(amount) as total_revenue         from         {{ ref(''orders'') }}         group by 1         )                  select         c.customer_id,         c.first_name,         c.last_name,         cr.total_revenue         from         {{ source(''master_data'',''customers'') }} c         left join customer_revenue cr on c.customer_id = cr.customer_id          @@Response         Below is the sample dbt model documentation generated for above instruction dbt model:                  * Overview: This dbt model calculates the total revenue per customer by leveraging the data from the orders model and customers source.          * Dependencies:         * orders: dbt model that contains information about individual orders, including the customer_id and amount.         * customers: dbt source contains customer details, including customer_id, first_name, and last_name.         * Transformation:         * The CTE ''customer_revenue'' aggregates the total revenue for each customer by summing the amount from the orders model. It utilizes the customer_id field for grouping.         * The final output includes customer details from the customers table (c) and their corresponding total revenue from the customer_revenue CTE (cr). The join is performed using the customer_id field.         * Example Usage:\tThe resulting model can be used for various analytical purposes, such as identifying high-value customers or generating reports on customer revenue.          @@ Instruction         create similar dbt model documentation for following dbt model code             \"create document for following dbt code {% snapshot users_snapshot %}        {{       config(               target_schema=''snapshots'',               strategy=''timestamp'',               unique_key=''id'',               updated_at=''updated_at''           )       }}          select *        from {{ source(''raw'',''users'') }}      {% endsnapshot %}\", \"max_tokens\": 2000, \"temperature\": 0, \"model\": \"/data/magicoder_model\"}'));\n"
     ]
    }
   ],
   "source": [
    "arg = '{\"prompt\":'+'\"'+prompt+'\"'+', \"max_tokens\": 2000, \"temperature\": 0, \"model\": \"/data/magicoder_model\"}'\n",
    "warehouse = 'USE WAREHOUSE TUTORIAL_WAREHOUSE;'\n",
    "query = f\"SELECT magicoder_udf(parse_json('{arg}'));\"\n",
    "print(query)"
   ]
  },
  {
   "cell_type": "code",
   "execution_count": null,
   "id": "ed57b081",
   "metadata": {},
   "outputs": [],
   "source": [
    "cur.execute(warehouse)\n",
    "cur.execute(query)\n",
    "result = cur.fetchall()\n",
    "print(json.loads(result[0][0])['choices'][0]['text'])"
   ]
  },
  {
   "cell_type": "code",
   "execution_count": null,
   "id": "dea68d77",
   "metadata": {},
   "outputs": [],
   "source": [
    "result"
   ]
  },
  {
   "cell_type": "code",
   "execution_count": null,
   "id": "39daa111",
   "metadata": {},
   "outputs": [],
   "source": [
    "import requests\n",
    "import json\n",
    "\n",
    "# Obtain a session token.\n",
    "token_data = conn._rest._token_request('ISSUE')\n",
    "token_extract = token_data['data']['sessionToken']\n",
    "\n",
    "# Create a request to the ingress endpoint with authz.\n",
    "token = f'\\\"{token_extract}\\\"'\n",
    "# Set this to the ingress endpoint URL for your service\n",
    "url = 'http://gowiocnz-zqiseam-ltifosforscsaws.snowflakecomputing.app/vllm/magicoder/v1/completions'"
   ]
  },
  {
   "cell_type": "code",
   "execution_count": null,
   "id": "1a2fea4f",
   "metadata": {},
   "outputs": [],
   "source": [
    "headers = {\n",
    "  'Content-Type': 'application/json', 'Authorization': f'Snowflake Token={token}'\n",
    "}\n",
    "print(headers)\n",
    "print(url)\n",
    "#print(payload)"
   ]
  },
  {
   "cell_type": "code",
   "execution_count": null,
   "id": "f15a1367",
   "metadata": {},
   "outputs": [],
   "source": [
    "payload = json.dumps({\n",
    "  \"prompt\": \"write a python code to check whether given string is pallindrome\",\n",
    "  \"max_tokens\": 2400,\n",
    "  \"temperature\": 0,\n",
    "  \"model\": \"/data/magicoder_model\"\n",
    "})\n",
    "headers = {\n",
    "  'Content-Type': 'application/json', 'Authorization': f'Snowflake Token={token}'\n",
    "}\n",
    "\n",
    "response = requests.request(\"POST\", url, headers=headers, data=payload)\n",
    "\n",
    "print(response.text)\n"
   ]
  },
  {
   "cell_type": "code",
   "execution_count": null,
   "id": "5060fba0",
   "metadata": {},
   "outputs": [],
   "source": []
  },
  {
   "cell_type": "code",
   "execution_count": null,
   "id": "a66279a6",
   "metadata": {},
   "outputs": [],
   "source": []
  }
 ],
 "metadata": {
  "kernelspec": {
   "display_name": "Python 3",
   "language": "python",
   "name": "python3"
  },
  "language_info": {
   "codemirror_mode": {
    "name": "ipython",
    "version": 3
   },
   "file_extension": ".py",
   "mimetype": "text/x-python",
   "name": "python",
   "nbconvert_exporter": "python",
   "pygments_lexer": "ipython3",
   "version": "3.8.18"
  }
 },
 "nbformat": 4,
 "nbformat_minor": 5
}
