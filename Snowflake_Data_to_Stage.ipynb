{
 "cells": [
  {
   "cell_type": "code",
   "execution_count": 6,
   "id": "fce2827b",
   "metadata": {},
   "outputs": [],
   "source": [
    "import snowflake.connector\n",
    "import pandas as pd\n",
    " \n",
    "'''user = REFRACT.FOSFOR@LNTINFOTECH.COM\n",
    "password = Password321\n",
    "account = fya62509.us-east-1\n",
    "warehouse = FOSFOR_REFRACT\n",
    "database = FOSFOR_REFRACT\n",
    "schema = SALES\n",
    "role = FOSFOR_REFRACT'''    \n",
    "\n",
    "# Snowflake connection parameters\n",
    "snowflake_account = 'rwb76633'\n",
    "snowflake_user = 'Ravi'\n",
    "snowflake_password = 'Kayakave@1983'\n",
    "snowflake_database = 'TUTORIAL_DB'\n",
    "snowflake_schema = 'DATA_SCHEMA'\n",
    "snowflake_stage = 'MAGICODER'\n",
    "\n",
    "# snowflake_account = 'fya62509.us-east-1'\n",
    "# snowflake_user = 'REFRACT.FOSFOR@LNTINFOTECH.COM'\n",
    "# snowflake_password = 'Password321'\n",
    "# snowflake_database = 'FOSFOR_REFRACT'\n",
    "# snowflake_schema = 'SALES'\n",
    "# snowflake_stage = 'MAGICODER'\n",
    " \n",
    "# Connect to Snowflake\n",
    "conn = snowflake.connector.connect(\n",
    "   user=snowflake_user,\n",
    "   password=snowflake_password,\n",
    "   account=snowflake_account,\n",
    "   database=snowflake_database,\n",
    "   schema=snowflake_schema\n",
    ")\n",
    " \n"
   ]
  },
  {
   "cell_type": "code",
   "execution_count": 7,
   "id": "c6e7fec4",
   "metadata": {},
   "outputs": [
    {
     "data": {
      "text/plain": [
       "<snowflake.connector.connection.SnowflakeConnection at 0x7fa42c5f3790>"
      ]
     },
     "execution_count": 7,
     "metadata": {},
     "output_type": "execute_result"
    }
   ],
   "source": [
    "conn"
   ]
  },
  {
   "cell_type": "code",
   "execution_count": 8,
   "id": "ebe756a1",
   "metadata": {},
   "outputs": [
    {
     "name": "stdout",
     "output_type": "stream",
     "text": [
      "BaselineResults_12cpu.csv    vLLM_1Concurrency_1gpu.csv\r\n",
      "BaselineResults_1gpu.csv     vLLM_20Concurrency_1gpu.csv\r\n",
      "BaselineResults_4cpu.csv     vLLM_25Concurrency_1gpu.csv\r\n",
      "BaselineResults_8cpu.csv     vLLM_30Concurrency_1gpu.csv\r\n",
      "Magicoder_payloads.txt\t     vLLM_50prompts.csv\r\n",
      "Promptshett_codegen_50.txt   vLLM_5Concurrency_1gpu.csv\r\n",
      "vLLM_10Concurrency_1gpu.csv  vLLM_Base_1gpu.csv\r\n",
      "vLLM_15Concurrency_1gpu.csv  vLLM_xyzConcurrency_1gpu.csv\r\n"
     ]
    }
   ],
   "source": [
    "! ls /data"
   ]
  },
  {
   "cell_type": "code",
   "execution_count": null,
   "id": "f901ac58",
   "metadata": {},
   "outputs": [],
   "source": [
    "# Create a cursor object\n",
    "cur = conn.cursor()\n",
    " \n",
    "# Upload file to stage (example using Pandas)\n",
    "file_path = '/data/vLLM_10Concurrency_1gpu.csv'\n",
    "df = pd.read_csv(file_path)\n",
    "cur.execute(f'PUT file://{file_path} @{snowflake_stage}')"
   ]
  },
  {
   "cell_type": "code",
   "execution_count": null,
   "id": "5060fba0",
   "metadata": {},
   "outputs": [],
   "source": []
  }
 ],
 "metadata": {
  "kernelspec": {
   "display_name": "Python 3",
   "language": "python",
   "name": "python3"
  },
  "language_info": {
   "codemirror_mode": {
    "name": "ipython",
    "version": 3
   },
   "file_extension": ".py",
   "mimetype": "text/x-python",
   "name": "python",
   "nbconvert_exporter": "python",
   "pygments_lexer": "ipython3",
   "version": "3.7.10"
  }
 },
 "nbformat": 4,
 "nbformat_minor": 5
}
