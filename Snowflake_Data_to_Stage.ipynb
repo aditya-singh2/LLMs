{
 "cells": [
  {
   "cell_type": "code",
   "execution_count": 2,
   "id": "fce2827b",
   "metadata": {},
   "outputs": [],
   "source": [
    "import snowflake.connector\n",
    "import pandas as pd\n",
    " \n",
    "'''user = REFRACT.FOSFOR@LNTINFOTECH.COM\n",
    "password = Password321\n",
    "account = fya62509.us-east-1\n",
    "warehouse = FOSFOR_REFRACT\n",
    "database = FOSFOR_REFRACT\n",
    "schema = SALES\n",
    "role = FOSFOR_REFRACT'''    \n",
    "\n",
    "# Snowflake connection parameters\n",
    "# snowflake_account = 'fya62509.us-east-1'\n",
    "# snowflake_user = 'Ravi'\n",
    "# snowflake_password = 'Kayakave@1983'\n",
    "# snowflake_database = 'TUTORIAL_DB'\n",
    "# snowflake_schema = 'DATA_SCHEMA'\n",
    "# snowflake_stage = 'MAGICODER'\n",
    "\n",
    "snowflake_account = 'fya62509.us-east-1'\n",
    "snowflake_user = 'REFRACT.FOSFOR@LNTINFOTECH.COM'\n",
    "snowflake_password = 'Password321'\n",
    "snowflake_database = 'FOSFOR_REFRACT'\n",
    "snowflake_schema = 'SALES'\n",
    "snowflake_stage = 'MAGICODER'\n",
    " \n",
    "# Connect to Snowflake\n",
    "conn = snowflake.connector.connect(\n",
    "   user=snowflake_user,\n",
    "   password=snowflake_password,\n",
    "   account=snowflake_account,\n",
    "   database=snowflake_database,\n",
    "   schema=snowflake_schema\n",
    ")\n",
    " \n"
   ]
  },
  {
   "cell_type": "code",
   "execution_count": 3,
   "id": "d75feaf6",
   "metadata": {},
   "outputs": [
    {
     "data": {
      "text/plain": [
       "<snowflake.connector.connection.SnowflakeConnection at 0x7fa42c5ed0d0>"
      ]
     },
     "execution_count": 3,
     "metadata": {},
     "output_type": "execute_result"
    }
   ],
   "source": [
    "conn"
   ]
  },
  {
   "cell_type": "code",
   "execution_count": 2,
   "id": "f901ac58",
   "metadata": {},
   "outputs": [
    {
     "ename": "NameError",
     "evalue": "name 'requests' is not defined",
     "output_type": "error",
     "traceback": [
      "\u001b[0;31m---------------------------------------------------------------------------\u001b[0m",
      "\u001b[0;31mNameError\u001b[0m                                 Traceback (most recent call last)",
      "\u001b[0;32m<ipython-input-2-0aba24bd9930>\u001b[0m in \u001b[0;36m<module>\u001b[0;34m\u001b[0m\n\u001b[1;32m      1\u001b[0m \u001b[0mquestion\u001b[0m\u001b[0;34m=\u001b[0m\u001b[0;34m\"growth rate of horlicks average price across months\"\u001b[0m\u001b[0;34m\u001b[0m\u001b[0;34m\u001b[0m\u001b[0m\n\u001b[1;32m      2\u001b[0m \u001b[0mintermediate_result\u001b[0m \u001b[0;34m=\u001b[0m \u001b[0;34m\"{'Measure_1_Total': 288960.06, 'Measure_1_Minimum_Value': 3829.37, 'Measure_1_Maximum_Value': 6781.3, 'Measure_1_Average': 5351.11, 'Measure_1_Stable_Case': False, 'Measure_1_Label_Available': False, 'Measure_1_Maximum_Date': '2019-01-01', 'Measure_1_Minimum_Date': '2019-03-01', 'Measure_1_Last_Date': ['2021-12-01', '2022-01-01'], 'Measure_1_Last_Values': [6462.11, 6437.65], 'Measure_1_Date_Interval': 'month', 'Measure_1_Final_Change_Percentage': -0.38, 'Measure_1_Final_Period_Change_Note': 'not_good', 'Measure_1_Final_Delta_Change': -24.46, 'Measure_1_Maximum_Growth_Percentage': 20, 'Measure_1_Maximum_Growth_From': 4651.09, 'Measure_1_Maximum_Growth_To': 5596.63, 'Measure_1_Maximum_Growth_Date_From': '2020-11-01', 'Measure_1_Maximum_Growth_Date_To': '2020-12-01', 'Measure_1_Maximum_Decline_Percentage': 44, 'Measure_1_Maximum_Decline_From': 6781.3, 'Measure_1_Maximum_Decline_To': 3829.37, 'Measure_1_Maximum_Decline_Date_From': '2019-02-01', 'Measure_1_Maximum_Decline_Date_To': '2019-03-01', 'Measure_1_Average_Change_Percentage': 8, 'Measure_1_Average_Decline_Percentage': 9, 'Measure_1_Average_Climb_Percentage': 7, 'Measure_1_Data_length': 54, 'Measure_1_Latest_Value': 6437.65, 'Measure_1_Change_Delta': 24, 'Measure_1_Average_Change_last_5_period': 14, 'Measure_2_Total': 71.84, 'Measure_2_Minimum_Value': -43.53, 'Measure_2_Maximum_Value': 20.33, 'Measure_2_Average': 1.33, 'Measure_2_Stable_Case': False, 'Measure_2_Label_Available': False, 'Measure_2_Maximum_Date': '2020-12-01', 'Measure_2_Minimum_Date': '2019-03-01', 'Measure_2_Last_Date': ['2021-12-01', '2022-01-01'], 'Measure_2_Last_Values': [4.69, -0.38], 'Measure_2_Date_Interval': 'month', 'Measure_2_Final_Change_Percentage': -108, 'Measure_2_Final_Period_Change_Note': 'not_good', 'Measure_2_Final_Delta_Change': -5.07, 'Measure_2_Maximum_Growth_Percentage': 1094, 'Measure_2_Maximum_Growth_From': -1.6, 'Measure_2_Maximum_Growth_To': 15.9, 'Measure_2_Maximum_Growth_Date_From': '2019-10-01', 'Measure_2_Maximum_Growth_Date_To': '2019-11-01', 'Measure_2_Maximum_Decline_Percentage': 812, 'Measure_2_Maximum_Decline_From': 2.75, 'Measure_2_Maximum_Decline_To': -19.59, 'Measure_2_Maximum_Decline_Date_From': '2020-02-01', 'Measure_2_Maximum_Decline_Date_To': '2020-03-01', 'Measure_2_Average_Change_Percentage': 254, 'Measure_2_Average_Decline_Percentage': 200, 'Measure_2_Average_Climb_Percentage': 319, 'Measure_2_Data_length': 54, 'Measure_2_Latest_Value': -0.38, 'Measure_2_Change_Delta': 5, 'Measure_2_Average_Change_last_5_period': 164, 'Measure_2_Growth_Rate_Result': {'growth_last_period': -0.38, 'max_growth': 20.33, 'max_growth_from': '2020-11-01', 'max_growth_to': '2020-12-01', 'min_growth': -43.53, 'min_growth_from': '2019-02-01', 'min_growth_to': '2019-03-01', 'uptrend': False, 'downtrend': True, 'stable': False, 'downtrend_from': '2021-11-01', 'downtrend_interval': 2}, 'Measure': [{'label': 'Value Offtake(000 Rs)', 'variable': 'Value Offtake(000 Rs)', 'type': 'measure', 'alternate_usage': ['Value Offtake(000 Rs)'], 'isRegional': False, 'number_type': 'add_values'}, {'label': 'Growth Rate (in percentage)', 'type': 'measure', 'alternate_usage': ['Growth Rate (in percentage)'], 'isRegional': False, 'number_type': 'non_additive'}], 'Dimension': {'label': 'month', 'variable': 'month', 'type': 'dimension', 'alternate_usage': ['month'], 'isRegional': False, 'singular': 'Month', 'plural': 'Months'}, 'Filter': {'on_time': False, 'filter_count': 1, 'filter_type': 'default', 'date_count': 0, 'data': [{'default0': 'HORLICKS'}], 'voice_data': [{'default0': 'HORLICKS'}]}}\"\u001b[0m\u001b[0;34m\u001b[0m\u001b[0;34m\u001b[0m\u001b[0m\n\u001b[0;32m----> 3\u001b[0;31m \u001b[0mprint\u001b[0m\u001b[0;34m(\u001b[0m\u001b[0mnarrative_generation_with_openllm\u001b[0m\u001b[0;34m(\u001b[0m\u001b[0mintermediate_result\u001b[0m\u001b[0;34m,\u001b[0m\u001b[0mquestion\u001b[0m\u001b[0;34m)\u001b[0m\u001b[0;34m)\u001b[0m\u001b[0;34m\u001b[0m\u001b[0;34m\u001b[0m\u001b[0m\n\u001b[0m",
      "\u001b[0;32m<ipython-input-1-492bc0c6d8fb>\u001b[0m in \u001b[0;36mnarrative_generation_with_openllm\u001b[0;34m(intermediate_result, question)\u001b[0m\n\u001b[1;32m     14\u001b[0m     }\n\u001b[1;32m     15\u001b[0m     \u001b[0mstart\u001b[0m \u001b[0;34m=\u001b[0m \u001b[0mtime\u001b[0m\u001b[0;34m.\u001b[0m\u001b[0mtime\u001b[0m\u001b[0;34m(\u001b[0m\u001b[0;34m)\u001b[0m\u001b[0;34m\u001b[0m\u001b[0;34m\u001b[0m\u001b[0m\n\u001b[0;32m---> 16\u001b[0;31m     \u001b[0mresponse\u001b[0m \u001b[0;34m=\u001b[0m \u001b[0mrequests\u001b[0m\u001b[0;34m.\u001b[0m\u001b[0mpost\u001b[0m\u001b[0;34m(\u001b[0m\u001b[0murl_openllm\u001b[0m\u001b[0;34m,\u001b[0m \u001b[0mjson\u001b[0m\u001b[0;34m=\u001b[0m\u001b[0mdata_openllm\u001b[0m\u001b[0;34m,\u001b[0m \u001b[0mheaders\u001b[0m\u001b[0;34m=\u001b[0m\u001b[0mheaders_openllm\u001b[0m\u001b[0;34m)\u001b[0m\u001b[0;34m\u001b[0m\u001b[0;34m\u001b[0m\u001b[0m\n\u001b[0m\u001b[1;32m     17\u001b[0m     \u001b[0mend\u001b[0m \u001b[0;34m=\u001b[0m \u001b[0mtime\u001b[0m\u001b[0;34m.\u001b[0m\u001b[0mtime\u001b[0m\u001b[0;34m(\u001b[0m\u001b[0;34m)\u001b[0m\u001b[0;34m\u001b[0m\u001b[0;34m\u001b[0m\u001b[0m\n\u001b[1;32m     18\u001b[0m     \u001b[0mopen_llm_narrative_json\u001b[0m \u001b[0;34m=\u001b[0m \u001b[0mjson\u001b[0m\u001b[0;34m.\u001b[0m\u001b[0mloads\u001b[0m\u001b[0;34m(\u001b[0m\u001b[0mresponse\u001b[0m\u001b[0;34m.\u001b[0m\u001b[0mtext\u001b[0m\u001b[0;34m)\u001b[0m\u001b[0;34m\u001b[0m\u001b[0;34m\u001b[0m\u001b[0m\n",
      "\u001b[0;31mNameError\u001b[0m: name 'requests' is not defined"
     ]
    }
   ],
   "source": [
    "# Create a cursor object\n",
    "cur = conn.cursor()\n",
    " \n",
    "# Upload file to stage (example using Pandas)\n",
    "file_path = 'your_file.csv'\n",
    "df = pd.read_csv(file_path)\n",
    "cur.execute(f'PUT file://{file_path} @{snowflake_stage}')"
   ]
  },
  {
   "cell_type": "code",
   "execution_count": null,
   "id": "5060fba0",
   "metadata": {},
   "outputs": [],
   "source": []
  }
 ],
 "metadata": {
  "kernelspec": {
   "display_name": "Python 3",
   "language": "python",
   "name": "python3"
  },
  "language_info": {
   "codemirror_mode": {
    "name": "ipython",
    "version": 3
   },
   "file_extension": ".py",
   "mimetype": "text/x-python",
   "name": "python",
   "nbconvert_exporter": "python",
   "pygments_lexer": "ipython3",
   "version": "3.7.10"
  }
 },
 "nbformat": 4,
 "nbformat_minor": 5
}
