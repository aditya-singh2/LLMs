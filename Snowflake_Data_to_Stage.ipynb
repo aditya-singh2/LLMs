{
 "cells": [
  {
   "cell_type": "code",
   "execution_count": 35,
   "id": "fce2827b",
   "metadata": {},
   "outputs": [],
   "source": [
    "import snowflake.connector\n",
    "import pandas as pd\n",
    " \n",
    "'''user = REFRACT.FOSFOR@LNTINFOTECH.COM\n",
    "password = Password321\n",
    "account = fya62509.us-east-1\n",
    "warehouse = FOSFOR_REFRACT\n",
    "database = FOSFOR_REFRACT\n",
    "schema = SALES\n",
    "role = FOSFOR_REFRACT'''    \n",
    "\n",
    "# Snowflake connection parameters\n",
    "snowflake_account = 'rwb76633'\n",
    "snowflake_user = 'Ravi'\n",
    "snowflake_password = 'Kayakave@1983'\n",
    "snowflake_database = 'TUTORIAL_DB'\n",
    "snowflake_schema = 'DATA_SCHEMA'\n",
    "snowflake_stage = 'MAGICODER2'\n",
    "\n",
    "# snowflake_account = 'fya62509.us-east-1'\n",
    "# snowflake_user = 'REFRACT.FOSFOR@LNTINFOTECH.COM'\n",
    "# snowflake_password = 'Password321'\n",
    "# snowflake_database = 'FOSFOR_REFRACT'\n",
    "# snowflake_schema = 'SALES'\n",
    "# snowflake_stage = 'MAGICODER'\n",
    " \n",
    "# Connect to Snowflake\n",
    "conn = snowflake.connector.connect(\n",
    "   user=snowflake_user,\n",
    "   password=snowflake_password,\n",
    "   account=snowflake_account,\n",
    "   session_parameters={\n",
    "      'PYTHON_CONNECTOR_QUERY_RESULT_FORMAT': 'json'\n",
    "   },\n",
    "   database=snowflake_database,\n",
    "   schema=snowflake_schema\n",
    ")\n",
    "\n",
    "\n"
   ]
  },
  {
   "cell_type": "code",
   "execution_count": 36,
   "id": "67c53233",
   "metadata": {},
   "outputs": [
    {
     "data": {
      "text/plain": [
       "<snowflake.connector.connection.SnowflakeConnection at 0x7fbe04f32c10>"
      ]
     },
     "execution_count": 36,
     "metadata": {},
     "output_type": "execute_result"
    }
   ],
   "source": [
    "conn"
   ]
  },
  {
   "cell_type": "code",
   "execution_count": null,
   "id": "6a4e9f0f",
   "metadata": {},
   "outputs": [],
   "source": [
    "! ls -lrt /llmmodels/models--ise-uiuc--Magicoder-S-DS-6.7B/snapshots/cff055b1e110cbe75c0c3759bd436299c6d6bb66"
   ]
  },
  {
   "cell_type": "code",
   "execution_count": 11,
   "id": "f901ac58",
   "metadata": {},
   "outputs": [
    {
     "data": {
      "text/plain": [
       "<snowflake.connector.cursor.SnowflakeCursor at 0x7f6a8eaf4790>"
      ]
     },
     "execution_count": 11,
     "metadata": {},
     "output_type": "execute_result"
    }
   ],
   "source": [
    "# Create a cursor object\n",
    "cur = conn.cursor()\n",
    " \n",
    "# Upload file to stage (example using Pandas)\n",
    "file_path = '/llmmodels/models--ise-uiuc--Magicoder-S-DS-6.7B/snapshots/cff055b1e110cbe75c0c3759bd436299c6d6bb66/special_tokens_map.json'\n",
    "# df = pd.read_csv(file_path)\n",
    "cur.execute(f\"PUT file://{file_path} @{snowflake_stage}/magicoder_model AUTO_COMPRESS = FALSE\")"
   ]
  },
  {
   "cell_type": "code",
   "execution_count": 69,
   "id": "aaa31dd3",
   "metadata": {},
   "outputs": [],
   "source": [
    "import requests\n",
    "\n",
    "\n",
    "# Obtain a session token.\n",
    "token_data = conn._rest._token_request('ISSUE')\n",
    "token_extract = token_data['data']['sessionToken']\n",
    "\n",
    "# Create a request to the ingress endpoint with authz.\n",
    "token = f'\\\"{token_extract}\\\"'\n",
    "headers = {'Content-Type': 'application/json', 'Authorization': f'Snowflake Token={token}'}\n",
    "# Set this to the ingress endpoint URL for your service\n",
    "url = 'http://gowiockz-zqiseam-ltifosforscsaws.snowflakecomputing.app/vllm/magicoder/v1/completions'"
   ]
  },
  {
   "cell_type": "code",
   "execution_count": null,
   "id": "2c345c17",
   "metadata": {},
   "outputs": [],
   "source": [
    "payload = {\"prompt\": \"Problem: Create an animated dropdown menu in CSS that appears when a button is clicked.Input: Button element selector, dropdown menu element selector.Output: None (animate the dropdown menu).\", \n",
    "           \"max_tokens\": 200,\n",
    "           \"temperature\": 0,\n",
    "           \"model\": \"/data/magicoder_model\"}"
   ]
  },
  {
   "cell_type": "code",
   "execution_count": 66,
   "id": "1b891b64",
   "metadata": {},
   "outputs": [
    {
     "name": "stdout",
     "output_type": "stream",
     "text": [
      "{'Content-Type': 'application/json', 'Authorization': 'Snowflake Token=\"ver:1-hint:14544919633420298-ETMsDgAAAY5B3cU7ABRBRVMvQ0JDL1BLQ1M1UGFkZGluZwEAABAAEO+KGL3pLWyQ/IEbN1Oc/DAAAACAKcjT1x3sFYbd3O5b2S+y30B8M93liP0wkJRxV0zmRha41uydtQ+5qENA438Gy1BMc1E9C6oQcwDtj72Oqt8QprzGbE+pG9iYNIzlAMnOx5zcMALdCLkdWYtkDJX8YCM+XUeq3hBrSC96zfPMkh1IGsiVh7soZNzrkusOHjLgCYkAFKeqGVqj1jBcj6xCni93QjNkUtIK\"'}\n",
      "http://gowiockz-zqiseam-ltifosforscsaws.snowflakecomputing.app/vllm/magicoder/health\n",
      "{'prompt': 'Problem: Create an animated dropdown menu in CSS that appears when a button is clicked.Input: Button element selector, dropdown menu element selector.Output: None (animate the dropdown menu).', 'max_tokens': 200, 'temperature': 0, 'model': '/data/magicoder_model'}\n"
     ]
    }
   ],
   "source": [
    "print(headers)\n",
    "print(url)\n",
    "print(payload)"
   ]
  },
  {
   "cell_type": "code",
   "execution_count": 68,
   "id": "5060fba0",
   "metadata": {},
   "outputs": [
    {
     "name": "stdout",
     "output_type": "stream",
     "text": [
      "<Response [200]>\n"
     ]
    }
   ],
   "source": [
    "# Validate the connection.\n",
    "# response = requests.post(f'{url}', headers=headers, json=payload)\n",
    "response = requests.get(f'{url}', headers=headers)\n",
    "# response = requests.request(\"POST\", url, headers=headers, json=payload)\n",
    "print(response)\n",
    "\n",
    "# Insert your code to interact with the application here"
   ]
  },
  {
   "cell_type": "code",
   "execution_count": null,
   "id": "858ce936",
   "metadata": {},
   "outputs": [],
   "source": []
  }
 ],
 "metadata": {
  "kernelspec": {
   "display_name": "Python 3",
   "language": "python",
   "name": "python3"
  },
  "language_info": {
   "codemirror_mode": {
    "name": "ipython",
    "version": 3
   },
   "file_extension": ".py",
   "mimetype": "text/x-python",
   "name": "python",
   "nbconvert_exporter": "python",
   "pygments_lexer": "ipython3",
   "version": "3.7.10"
  }
 },
 "nbformat": 4,
 "nbformat_minor": 5
}
