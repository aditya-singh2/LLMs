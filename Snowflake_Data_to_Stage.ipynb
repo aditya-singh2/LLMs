{
 "cells": [
  {
   "cell_type": "code",
   "execution_count": 3,
   "id": "fce2827b",
   "metadata": {},
   "outputs": [],
   "source": [
    "import snowflake.connector\n",
    "import pandas as pd\n",
    " \n",
    "'''user = REFRACT.FOSFOR@LNTINFOTECH.COM\n",
    "password = Password321\n",
    "account = fya62509.us-east-1\n",
    "warehouse = FOSFOR_REFRACT\n",
    "database = FOSFOR_REFRACT\n",
    "schema = SALES\n",
    "role = FOSFOR_REFRACT'''    \n",
    "\n",
    "# Snowflake connection parameters\n",
    "snowflake_account = 'rwb76633'\n",
    "snowflake_user = 'Ravi'\n",
    "snowflake_password = 'Kayakave@1983'\n",
    "snowflake_database = 'TUTORIAL_DB'\n",
    "snowflake_schema = 'DATA_SCHEMA'\n",
    "snowflake_stage = 'MAGICODER2'\n",
    "\n",
    "# snowflake_account = 'fya62509.us-east-1'\n",
    "# snowflake_user = 'REFRACT.FOSFOR@LNTINFOTECH.COM'\n",
    "# snowflake_password = 'Password321'\n",
    "# snowflake_database = 'FOSFOR_REFRACT'\n",
    "# snowflake_schema = 'SALES'\n",
    "# snowflake_stage = 'MAGICODER'\n",
    " \n",
    "# Connect to Snowflake\n",
    "conn = snowflake.connector.connect(\n",
    "   user=snowflake_user,\n",
    "   password=snowflake_password,\n",
    "   account=snowflake_account,\n",
    "   session_parameters={\n",
    "      'PYTHON_CONNECTOR_QUERY_RESULT_FORMAT': 'json'\n",
    "   },\n",
    "   database=snowflake_database,\n",
    "   schema=snowflake_schema\n",
    ")\n",
    "\n",
    "\n"
   ]
  },
  {
   "cell_type": "code",
   "execution_count": 4,
   "id": "67c53233",
   "metadata": {},
   "outputs": [
    {
     "data": {
      "text/plain": [
       "<snowflake.connector.connection.SnowflakeConnection at 0x7f9547bf60d0>"
      ]
     },
     "execution_count": 4,
     "metadata": {},
     "output_type": "execute_result"
    }
   ],
   "source": [
    "conn"
   ]
  },
  {
   "cell_type": "code",
   "execution_count": 5,
   "id": "6a4e9f0f",
   "metadata": {},
   "outputs": [
    {
     "name": "stdout",
     "output_type": "stream",
     "text": [
      "total 21\n",
      "lrwxrwxrwx 1 mosaic-ai mosaic-ai 52 Dec 19 13:10 config.json -> ../../blobs/0ab4309467c11a3b4351da3e47610b41016f9f88\n",
      "lrwxrwxrwx 1 mosaic-ai mosaic-ai 52 Dec 19 13:10 model.safetensors.index.json -> ../../blobs/178e79fbffc73d2f16e8eaab9667491e80f6ba15\n",
      "lrwxrwxrwx 1 mosaic-ai mosaic-ai 76 Dec 19 13:10 model-00001-of-00006.safetensors -> ../../blobs/f0aa9176721014753ab7f10465fb4db7600d3899a2ff487ac86b04bceb3efb40\n",
      "lrwxrwxrwx 1 mosaic-ai mosaic-ai 76 Dec 19 13:10 model-00002-of-00006.safetensors -> ../../blobs/5356ff52d006111e9d07823e461d5205152ff56131359724c269e267ae4b80f1\n",
      "lrwxrwxrwx 1 mosaic-ai mosaic-ai 76 Dec 19 13:10 model-00003-of-00006.safetensors -> ../../blobs/1be051467308146b7196444cfd57b44ac0967537a31518e014e5d6a42469c0a0\n",
      "lrwxrwxrwx 1 mosaic-ai mosaic-ai 76 Dec 19 13:10 model-00004-of-00006.safetensors -> ../../blobs/775447e165690964578dd9f6c8ca5f94169831e40f52b8ff667f3997b947f79a\n",
      "lrwxrwxrwx 1 mosaic-ai mosaic-ai 76 Dec 19 13:10 model-00005-of-00006.safetensors -> ../../blobs/dda91b47771c4916315456eafff657a172f576ed4163d191fa014d77efda8331\n",
      "lrwxrwxrwx 1 mosaic-ai mosaic-ai 76 Dec 19 13:10 model-00006-of-00006.safetensors -> ../../blobs/5cb977be9484f101d0329643889c1cfa7d4863d2bcb0b1ebc93d74aa00dffcb6\n",
      "lrwxrwxrwx 1 mosaic-ai mosaic-ai 52 Dec 19 13:14 generation_config.json -> ../../blobs/044edaf8c54caf5f8c78d53d991d2bcb1e665c3e\n",
      "lrwxrwxrwx 1 mosaic-ai mosaic-ai 52 Dec 19 13:14 tokenizer_config.json -> ../../blobs/7379f6e1d773885fb89c3c97ce5266faea62152d\n",
      "lrwxrwxrwx 1 mosaic-ai mosaic-ai 76 Dec 19 13:14 tokenizer.model -> ../../blobs/45ccb9c8b6b561889acea59191d66986d314e7cbd6a78abc6e49b139ca91c1e6\n",
      "lrwxrwxrwx 1 mosaic-ai mosaic-ai 52 Dec 19 13:14 tokenizer.json -> ../../blobs/0a667f9a0a6fd585202c83fb5c0bfda68e1ea858\n",
      "lrwxrwxrwx 1 mosaic-ai mosaic-ai 52 Dec 19 13:14 added_tokens.json -> ../../blobs/08d77431d4b1bc63a27a920f697ca328c7156b2b\n",
      "lrwxrwxrwx 1 mosaic-ai mosaic-ai 52 Dec 19 13:14 special_tokens_map.json -> ../../blobs/5ff8f57b46ed9d045d6a786cc8e89e79c0005742\n"
     ]
    }
   ],
   "source": [
    "! ls -lrt /llmmodels/models--ise-uiuc--Magicoder-S-DS-6.7B/snapshots/cff055b1e110cbe75c0c3759bd436299c6d6bb66"
   ]
  },
  {
   "cell_type": "code",
   "execution_count": 11,
   "id": "f901ac58",
   "metadata": {},
   "outputs": [
    {
     "data": {
      "text/plain": [
       "<snowflake.connector.cursor.SnowflakeCursor at 0x7f6a8eaf4790>"
      ]
     },
     "execution_count": 11,
     "metadata": {},
     "output_type": "execute_result"
    }
   ],
   "source": [
    "# Create a cursor object\n",
    "cur = conn.cursor()\n",
    " \n",
    "# Upload file to stage (example using Pandas)\n",
    "file_path = '/llmmodels/models--ise-uiuc--Magicoder-S-DS-6.7B/snapshots/cff055b1e110cbe75c0c3759bd436299c6d6bb66/special_tokens_map.json'\n",
    "# df = pd.read_csv(file_path)\n",
    "cur.execute(f\"PUT file://{file_path} @{snowflake_stage}/magicoder_model AUTO_COMPRESS = FALSE\")"
   ]
  },
  {
   "cell_type": "code",
   "execution_count": 6,
   "id": "39daa111",
   "metadata": {},
   "outputs": [],
   "source": [
    "import requests\n",
    "\n",
    "\n",
    "# Obtain a session token.\n",
    "token_data = conn._rest._token_request('ISSUE')\n",
    "token_extract = token_data['data']['sessionToken']\n",
    "\n",
    "# Create a request to the ingress endpoint with authz.\n",
    "token = f'\\\"{token_extract}\\\"'\n",
    "headers = {'Content-Type': 'application/json', 'Authorization': f'Snowflake Token={token}'}\n",
    "# Set this to the ingress endpoint URL for your service\n",
    "url = 'http://gowiockz-zqiseam-ltifosforscsaws.snowflakecomputing.app/vllm/magicoder/v1/completions'"
   ]
  },
  {
   "cell_type": "code",
   "execution_count": 7,
   "id": "f15a1367",
   "metadata": {},
   "outputs": [],
   "source": [
    "payload = {\"prompt\": \"Problem: Create an animated dropdown menu in CSS that appears when a button is clicked.Input: Button element selector, dropdown menu element selector.Output: None (animate the dropdown menu).\", \n",
    "           \"max_tokens\": 200,\n",
    "           \"temperature\": 0,\n",
    "           \"model\": \"/data/magicoder_model\"}"
   ]
  },
  {
   "cell_type": "code",
   "execution_count": 8,
   "id": "1a2fea4f",
   "metadata": {},
   "outputs": [
    {
     "name": "stdout",
     "output_type": "stream",
     "text": [
      "{'Content-Type': 'application/json', 'Authorization': 'Snowflake Token=\"ver:1-hint:14544919633420298-ETMsDgAAAY5CgyPhABRBRVMvQ0JDL1BLQ1M1UGFkZGluZwEAABAAEAtrhcq4t1Yc2fkNNPQaiq8AAACADT1rtiyxMRaWIHaQfp+95hHFTcGoaTsAngSy0xBdqBGzUdp4g2elqh8WrV1AUd9PlCKStHP55awhVtnrdRiYFf38Le0MWJmAwhCDsGGOCxq7IJuImvifFFJ0u1k+EoeIGZ/b3LzIdTzIhEhV+iBdUMVltvyiazVxUjLXMjVz3ksAFMcNoezTizpi5aL9DXNoo6kVd0MI\"'}\n",
      "http://gowiockz-zqiseam-ltifosforscsaws.snowflakecomputing.app/vllm/magicoder/v1/completions\n",
      "{'prompt': 'Problem: Create an animated dropdown menu in CSS that appears when a button is clicked.Input: Button element selector, dropdown menu element selector.Output: None (animate the dropdown menu).', 'max_tokens': 200, 'temperature': 0, 'model': '/data/magicoder_model'}\n"
     ]
    }
   ],
   "source": [
    "print(headers)\n",
    "print(url)\n",
    "print(payload)"
   ]
  },
  {
   "cell_type": "code",
   "execution_count": 9,
   "id": "5060fba0",
   "metadata": {},
   "outputs": [
    {
     "name": "stdout",
     "output_type": "stream",
     "text": [
      "<Response [405]>\n"
     ]
    }
   ],
   "source": [
    "# Validate the connection.\n",
    "response = requests.post(f'{url}', headers=headers, json=payload)\n",
    "# response = requests.get(f'{url}', headers=headers)\n",
    "# response = requests.request(\"POST\", url, headers=headers, json=payload)\n",
    "print(response)\n",
    "\n",
    "# Insert your code to interact with the application here"
   ]
  },
  {
   "cell_type": "code",
   "execution_count": null,
   "id": "a66279a6",
   "metadata": {},
   "outputs": [],
   "source": []
  }
 ],
 "metadata": {
  "kernelspec": {
   "display_name": "Python 3",
   "language": "python",
   "name": "python3"
  },
  "language_info": {
   "codemirror_mode": {
    "name": "ipython",
    "version": 3
   },
   "file_extension": ".py",
   "mimetype": "text/x-python",
   "name": "python",
   "nbconvert_exporter": "python",
   "pygments_lexer": "ipython3",
   "version": "3.7.10"
  }
 },
 "nbformat": 4,
 "nbformat_minor": 5
}
