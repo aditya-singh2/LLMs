{
 "cells": [
  {
   "cell_type": "code",
   "execution_count": 5,
   "id": "fce2827b",
   "metadata": {},
   "outputs": [
    {
     "ename": "ForbiddenError",
     "evalue": "250001 (08001): Failed to connect to DB. Verify the account name is correct: LTIFOSFORSCSAWS.snowflakecomputing.com:443. HTTP 403: Forbidden",
     "output_type": "error",
     "traceback": [
      "\u001b[0;31m---------------------------------------------------------------------------\u001b[0m",
      "\u001b[0;31mForbiddenError\u001b[0m                            Traceback (most recent call last)",
      "\u001b[0;32m/tmp/pip_packages/snowflake/connector/auth/_auth.py\u001b[0m in \u001b[0;36mauthenticate\u001b[0;34m(self, auth_instance, account, user, database, schema, warehouse, role, passcode, passcode_in_password, mfa_callback, password_callback, session_parameters, timeout)\u001b[0m\n\u001b[1;32m    254\u001b[0m                 \u001b[0mtimeout\u001b[0m\u001b[0;34m=\u001b[0m\u001b[0mauth_timeout\u001b[0m\u001b[0;34m,\u001b[0m\u001b[0;34m\u001b[0m\u001b[0;34m\u001b[0m\u001b[0m\n\u001b[0;32m--> 255\u001b[0;31m                 \u001b[0msocket_timeout\u001b[0m\u001b[0;34m=\u001b[0m\u001b[0mauth_timeout\u001b[0m\u001b[0;34m,\u001b[0m\u001b[0;34m\u001b[0m\u001b[0;34m\u001b[0m\u001b[0m\n\u001b[0m\u001b[1;32m    256\u001b[0m             )\n",
      "\u001b[0;32m/tmp/pip_packages/snowflake/connector/network.py\u001b[0m in \u001b[0;36m_post_request\u001b[0;34m(self, url, headers, body, token, timeout, _no_results, no_retry, socket_timeout, _include_retry_params)\u001b[0m\n\u001b[1;32m    728\u001b[0m             \u001b[0msocket_timeout\u001b[0m\u001b[0;34m=\u001b[0m\u001b[0msocket_timeout\u001b[0m\u001b[0;34m,\u001b[0m\u001b[0;34m\u001b[0m\u001b[0;34m\u001b[0m\u001b[0m\n\u001b[0;32m--> 729\u001b[0;31m             \u001b[0m_include_retry_params\u001b[0m\u001b[0;34m=\u001b[0m\u001b[0m_include_retry_params\u001b[0m\u001b[0;34m,\u001b[0m\u001b[0;34m\u001b[0m\u001b[0;34m\u001b[0m\u001b[0m\n\u001b[0m\u001b[1;32m    730\u001b[0m         )\n",
      "\u001b[0;32m/tmp/pip_packages/snowflake/connector/network.py\u001b[0m in \u001b[0;36mfetch\u001b[0;34m(self, method, full_url, headers, data, timeout, **kwargs)\u001b[0m\n\u001b[1;32m    818\u001b[0m                 ret = self._request_exec_wrapper(\n\u001b[0;32m--> 819\u001b[0;31m                     \u001b[0msession\u001b[0m\u001b[0;34m,\u001b[0m \u001b[0mmethod\u001b[0m\u001b[0;34m,\u001b[0m \u001b[0mfull_url\u001b[0m\u001b[0;34m,\u001b[0m \u001b[0mheaders\u001b[0m\u001b[0;34m,\u001b[0m \u001b[0mdata\u001b[0m\u001b[0;34m,\u001b[0m \u001b[0mretry_ctx\u001b[0m\u001b[0;34m,\u001b[0m \u001b[0;34m**\u001b[0m\u001b[0mkwargs\u001b[0m\u001b[0;34m\u001b[0m\u001b[0;34m\u001b[0m\u001b[0m\n\u001b[0m\u001b[1;32m    820\u001b[0m                 )\n",
      "\u001b[0;32m/tmp/pip_packages/snowflake/connector/network.py\u001b[0m in \u001b[0;36m_request_exec_wrapper\u001b[0;34m(self, session, method, full_url, headers, data, retry_ctx, no_retry, token, **kwargs)\u001b[0m\n\u001b[1;32m    940\u001b[0m             \u001b[0;32mif\u001b[0m \u001b[0;32mnot\u001b[0m \u001b[0mno_retry\u001b[0m\u001b[0;34m:\u001b[0m\u001b[0;34m\u001b[0m\u001b[0;34m\u001b[0m\u001b[0m\n\u001b[0;32m--> 941\u001b[0;31m                 \u001b[0;32mraise\u001b[0m \u001b[0me\u001b[0m\u001b[0;34m\u001b[0m\u001b[0;34m\u001b[0m\u001b[0m\n\u001b[0m\u001b[1;32m    942\u001b[0m             \u001b[0mlogger\u001b[0m\u001b[0;34m.\u001b[0m\u001b[0mdebug\u001b[0m\u001b[0;34m(\u001b[0m\u001b[0;34m\"Ignored error\"\u001b[0m\u001b[0;34m,\u001b[0m \u001b[0mexc_info\u001b[0m\u001b[0;34m=\u001b[0m\u001b[0;32mTrue\u001b[0m\u001b[0;34m)\u001b[0m\u001b[0;34m\u001b[0m\u001b[0;34m\u001b[0m\u001b[0m\n",
      "\u001b[0;32m/tmp/pip_packages/snowflake/connector/network.py\u001b[0m in \u001b[0;36m_request_exec_wrapper\u001b[0;34m(self, session, method, full_url, headers, data, retry_ctx, no_retry, token, **kwargs)\u001b[0m\n\u001b[1;32m    867\u001b[0m                 \u001b[0mtoken\u001b[0m\u001b[0;34m=\u001b[0m\u001b[0mtoken\u001b[0m\u001b[0;34m,\u001b[0m\u001b[0;34m\u001b[0m\u001b[0;34m\u001b[0m\u001b[0m\n\u001b[0;32m--> 868\u001b[0;31m                 \u001b[0;34m**\u001b[0m\u001b[0mkwargs\u001b[0m\u001b[0;34m,\u001b[0m\u001b[0;34m\u001b[0m\u001b[0;34m\u001b[0m\u001b[0m\n\u001b[0m\u001b[1;32m    869\u001b[0m             )\n",
      "\u001b[0;32m/tmp/pip_packages/snowflake/connector/network.py\u001b[0m in \u001b[0;36m_request_exec\u001b[0;34m(self, session, method, full_url, headers, data, token, catch_okta_unauthorized_error, is_raw_text, is_raw_binary, binary_data_handler, socket_timeout)\u001b[0m\n\u001b[1;32m   1137\u001b[0m             )\n\u001b[0;32m-> 1138\u001b[0;31m             \u001b[0;32mraise\u001b[0m \u001b[0merr\u001b[0m\u001b[0;34m\u001b[0m\u001b[0;34m\u001b[0m\u001b[0m\n\u001b[0m\u001b[1;32m   1139\u001b[0m \u001b[0;34m\u001b[0m\u001b[0m\n",
      "\u001b[0;32m/tmp/pip_packages/snowflake/connector/network.py\u001b[0m in \u001b[0;36m_request_exec\u001b[0;34m(self, session, method, full_url, headers, data, token, catch_okta_unauthorized_error, is_raw_text, is_raw_binary, binary_data_handler, socket_timeout)\u001b[0m\n\u001b[1;32m   1062\u001b[0m                 \u001b[0;32mif\u001b[0m \u001b[0mis_login_request\u001b[0m\u001b[0;34m(\u001b[0m\u001b[0mfull_url\u001b[0m\u001b[0;34m)\u001b[0m \u001b[0;32mand\u001b[0m \u001b[0mraw_ret\u001b[0m\u001b[0;34m.\u001b[0m\u001b[0mstatus_code\u001b[0m \u001b[0;34m==\u001b[0m \u001b[0mFORBIDDEN\u001b[0m\u001b[0;34m:\u001b[0m\u001b[0;34m\u001b[0m\u001b[0;34m\u001b[0m\u001b[0m\n\u001b[0;32m-> 1063\u001b[0;31m                     \u001b[0;32mraise\u001b[0m \u001b[0mForbiddenError\u001b[0m\u001b[0;34m\u001b[0m\u001b[0;34m\u001b[0m\u001b[0m\n\u001b[0m\u001b[1;32m   1064\u001b[0m \u001b[0;34m\u001b[0m\u001b[0m\n",
      "\u001b[0;31mForbiddenError\u001b[0m: HTTP 403: Forbidden",
      "\nDuring handling of the above exception, another exception occurred:\n",
      "\u001b[0;31mForbiddenError\u001b[0m                            Traceback (most recent call last)",
      "\u001b[0;32m<ipython-input-5-72e3cfec8786>\u001b[0m in \u001b[0;36m<module>\u001b[0;34m\u001b[0m\n\u001b[1;32m     31\u001b[0m    \u001b[0maccount\u001b[0m\u001b[0;34m=\u001b[0m\u001b[0msnowflake_account\u001b[0m\u001b[0;34m,\u001b[0m\u001b[0;34m\u001b[0m\u001b[0;34m\u001b[0m\u001b[0m\n\u001b[1;32m     32\u001b[0m    \u001b[0mdatabase\u001b[0m\u001b[0;34m=\u001b[0m\u001b[0msnowflake_database\u001b[0m\u001b[0;34m,\u001b[0m\u001b[0;34m\u001b[0m\u001b[0;34m\u001b[0m\u001b[0m\n\u001b[0;32m---> 33\u001b[0;31m    \u001b[0mschema\u001b[0m\u001b[0;34m=\u001b[0m\u001b[0msnowflake_schema\u001b[0m\u001b[0;34m\u001b[0m\u001b[0;34m\u001b[0m\u001b[0m\n\u001b[0m\u001b[1;32m     34\u001b[0m )\n\u001b[1;32m     35\u001b[0m \u001b[0;34m\u001b[0m\u001b[0m\n",
      "\u001b[0;32m/tmp/pip_packages/snowflake/connector/__init__.py\u001b[0m in \u001b[0;36mConnect\u001b[0;34m(**kwargs)\u001b[0m\n\u001b[1;32m     49\u001b[0m \u001b[0;34m\u001b[0m\u001b[0m\n\u001b[1;32m     50\u001b[0m \u001b[0;32mdef\u001b[0m \u001b[0mConnect\u001b[0m\u001b[0;34m(\u001b[0m\u001b[0;34m**\u001b[0m\u001b[0mkwargs\u001b[0m\u001b[0;34m)\u001b[0m \u001b[0;34m->\u001b[0m \u001b[0mSnowflakeConnection\u001b[0m\u001b[0;34m:\u001b[0m\u001b[0;34m\u001b[0m\u001b[0;34m\u001b[0m\u001b[0m\n\u001b[0;32m---> 51\u001b[0;31m     \u001b[0;32mreturn\u001b[0m \u001b[0mSnowflakeConnection\u001b[0m\u001b[0;34m(\u001b[0m\u001b[0;34m**\u001b[0m\u001b[0mkwargs\u001b[0m\u001b[0;34m)\u001b[0m\u001b[0;34m\u001b[0m\u001b[0;34m\u001b[0m\u001b[0m\n\u001b[0m\u001b[1;32m     52\u001b[0m \u001b[0;34m\u001b[0m\u001b[0m\n\u001b[1;32m     53\u001b[0m \u001b[0;34m\u001b[0m\u001b[0m\n",
      "\u001b[0;32m/tmp/pip_packages/snowflake/connector/connection.py\u001b[0m in \u001b[0;36m__init__\u001b[0;34m(self, **kwargs)\u001b[0m\n\u001b[1;32m    317\u001b[0m         \u001b[0mself\u001b[0m\u001b[0;34m.\u001b[0m\u001b[0mquery_context_cache_size\u001b[0m \u001b[0;34m=\u001b[0m \u001b[0;36m5\u001b[0m\u001b[0;34m\u001b[0m\u001b[0;34m\u001b[0m\u001b[0m\n\u001b[1;32m    318\u001b[0m         \u001b[0mself\u001b[0m\u001b[0;34m.\u001b[0m\u001b[0m__set_error_attributes\u001b[0m\u001b[0;34m(\u001b[0m\u001b[0;34m)\u001b[0m\u001b[0;34m\u001b[0m\u001b[0;34m\u001b[0m\u001b[0m\n\u001b[0;32m--> 319\u001b[0;31m         \u001b[0mself\u001b[0m\u001b[0;34m.\u001b[0m\u001b[0mconnect\u001b[0m\u001b[0;34m(\u001b[0m\u001b[0;34m**\u001b[0m\u001b[0mkwargs\u001b[0m\u001b[0;34m)\u001b[0m\u001b[0;34m\u001b[0m\u001b[0;34m\u001b[0m\u001b[0m\n\u001b[0m\u001b[1;32m    320\u001b[0m         \u001b[0mself\u001b[0m\u001b[0;34m.\u001b[0m\u001b[0m_telemetry\u001b[0m \u001b[0;34m=\u001b[0m \u001b[0mTelemetryClient\u001b[0m\u001b[0;34m(\u001b[0m\u001b[0mself\u001b[0m\u001b[0;34m.\u001b[0m\u001b[0m_rest\u001b[0m\u001b[0;34m)\u001b[0m\u001b[0;34m\u001b[0m\u001b[0;34m\u001b[0m\u001b[0m\n\u001b[1;32m    321\u001b[0m \u001b[0;34m\u001b[0m\u001b[0m\n",
      "\u001b[0;32m/tmp/pip_packages/snowflake/connector/connection.py\u001b[0m in \u001b[0;36mconnect\u001b[0;34m(self, **kwargs)\u001b[0m\n\u001b[1;32m    588\u001b[0m                 \u001b[0mconnection_diag\u001b[0m\u001b[0;34m.\u001b[0m\u001b[0mgenerate_report\u001b[0m\u001b[0;34m(\u001b[0m\u001b[0;34m)\u001b[0m\u001b[0;34m\u001b[0m\u001b[0;34m\u001b[0m\u001b[0m\n\u001b[1;32m    589\u001b[0m         \u001b[0;32melse\u001b[0m\u001b[0;34m:\u001b[0m\u001b[0;34m\u001b[0m\u001b[0;34m\u001b[0m\u001b[0m\n\u001b[0;32m--> 590\u001b[0;31m             \u001b[0mself\u001b[0m\u001b[0;34m.\u001b[0m\u001b[0m__open_connection\u001b[0m\u001b[0;34m(\u001b[0m\u001b[0;34m)\u001b[0m\u001b[0;34m\u001b[0m\u001b[0;34m\u001b[0m\u001b[0m\n\u001b[0m\u001b[1;32m    591\u001b[0m \u001b[0;34m\u001b[0m\u001b[0m\n\u001b[1;32m    592\u001b[0m     \u001b[0;32mdef\u001b[0m \u001b[0mclose\u001b[0m\u001b[0;34m(\u001b[0m\u001b[0mself\u001b[0m\u001b[0;34m,\u001b[0m \u001b[0mretry\u001b[0m\u001b[0;34m:\u001b[0m \u001b[0mbool\u001b[0m \u001b[0;34m=\u001b[0m \u001b[0;32mTrue\u001b[0m\u001b[0;34m)\u001b[0m \u001b[0;34m->\u001b[0m \u001b[0;32mNone\u001b[0m\u001b[0;34m:\u001b[0m\u001b[0;34m\u001b[0m\u001b[0;34m\u001b[0m\u001b[0m\n",
      "\u001b[0;32m/tmp/pip_packages/snowflake/connector/connection.py\u001b[0m in \u001b[0;36m__open_connection\u001b[0;34m(self)\u001b[0m\n\u001b[1;32m    858\u001b[0m             \u001b[0mself\u001b[0m\u001b[0;34m.\u001b[0m\u001b[0mauth_class\u001b[0m \u001b[0;34m=\u001b[0m \u001b[0mAuthByOkta\u001b[0m\u001b[0;34m(\u001b[0m\u001b[0mapplication\u001b[0m\u001b[0;34m=\u001b[0m\u001b[0mself\u001b[0m\u001b[0;34m.\u001b[0m\u001b[0mapplication\u001b[0m\u001b[0;34m)\u001b[0m\u001b[0;34m\u001b[0m\u001b[0;34m\u001b[0m\u001b[0m\n\u001b[1;32m    859\u001b[0m \u001b[0;34m\u001b[0m\u001b[0m\n\u001b[0;32m--> 860\u001b[0;31m         \u001b[0mself\u001b[0m\u001b[0;34m.\u001b[0m\u001b[0mauthenticate_with_retry\u001b[0m\u001b[0;34m(\u001b[0m\u001b[0mself\u001b[0m\u001b[0;34m.\u001b[0m\u001b[0mauth_class\u001b[0m\u001b[0;34m)\u001b[0m\u001b[0;34m\u001b[0m\u001b[0;34m\u001b[0m\u001b[0m\n\u001b[0m\u001b[1;32m    861\u001b[0m \u001b[0;34m\u001b[0m\u001b[0m\n\u001b[1;32m    862\u001b[0m         \u001b[0mself\u001b[0m\u001b[0;34m.\u001b[0m\u001b[0m_password\u001b[0m \u001b[0;34m=\u001b[0m \u001b[0;32mNone\u001b[0m  \u001b[0;31m# ensure password won't persist\u001b[0m\u001b[0;34m\u001b[0m\u001b[0;34m\u001b[0m\u001b[0m\n",
      "\u001b[0;32m/tmp/pip_packages/snowflake/connector/connection.py\u001b[0m in \u001b[0;36mauthenticate_with_retry\u001b[0;34m(self, auth_instance)\u001b[0m\n\u001b[1;32m   1125\u001b[0m         \u001b[0;31m# make some changes if needed before real __authenticate\u001b[0m\u001b[0;34m\u001b[0m\u001b[0;34m\u001b[0m\u001b[0;34m\u001b[0m\u001b[0m\n\u001b[1;32m   1126\u001b[0m         \u001b[0;32mtry\u001b[0m\u001b[0;34m:\u001b[0m\u001b[0;34m\u001b[0m\u001b[0;34m\u001b[0m\u001b[0m\n\u001b[0;32m-> 1127\u001b[0;31m             \u001b[0mself\u001b[0m\u001b[0;34m.\u001b[0m\u001b[0m_authenticate\u001b[0m\u001b[0;34m(\u001b[0m\u001b[0mauth_instance\u001b[0m\u001b[0;34m)\u001b[0m\u001b[0;34m\u001b[0m\u001b[0;34m\u001b[0m\u001b[0m\n\u001b[0m\u001b[1;32m   1128\u001b[0m         \u001b[0;32mexcept\u001b[0m \u001b[0mReauthenticationRequest\u001b[0m \u001b[0;32mas\u001b[0m \u001b[0mex\u001b[0m\u001b[0;34m:\u001b[0m\u001b[0;34m\u001b[0m\u001b[0;34m\u001b[0m\u001b[0m\n\u001b[1;32m   1129\u001b[0m             \u001b[0;31m# cached id_token expiration error, we have cleaned id_token and try to authenticate again\u001b[0m\u001b[0;34m\u001b[0m\u001b[0;34m\u001b[0m\u001b[0;34m\u001b[0m\u001b[0m\n",
      "\u001b[0;32m/tmp/pip_packages/snowflake/connector/connection.py\u001b[0m in \u001b[0;36m_authenticate\u001b[0;34m(self, auth_instance)\u001b[0m\n\u001b[1;32m   1163\u001b[0m                 \u001b[0mmfa_callback\u001b[0m\u001b[0;34m=\u001b[0m\u001b[0mself\u001b[0m\u001b[0;34m.\u001b[0m\u001b[0m_mfa_callback\u001b[0m\u001b[0;34m,\u001b[0m\u001b[0;34m\u001b[0m\u001b[0;34m\u001b[0m\u001b[0m\n\u001b[1;32m   1164\u001b[0m                 \u001b[0mpassword_callback\u001b[0m\u001b[0;34m=\u001b[0m\u001b[0mself\u001b[0m\u001b[0;34m.\u001b[0m\u001b[0m_password_callback\u001b[0m\u001b[0;34m,\u001b[0m\u001b[0;34m\u001b[0m\u001b[0;34m\u001b[0m\u001b[0m\n\u001b[0;32m-> 1165\u001b[0;31m                 \u001b[0msession_parameters\u001b[0m\u001b[0;34m=\u001b[0m\u001b[0mself\u001b[0m\u001b[0;34m.\u001b[0m\u001b[0m_session_parameters\u001b[0m\u001b[0;34m,\u001b[0m\u001b[0;34m\u001b[0m\u001b[0;34m\u001b[0m\u001b[0m\n\u001b[0m\u001b[1;32m   1166\u001b[0m             )\n\u001b[1;32m   1167\u001b[0m         \u001b[0;32mexcept\u001b[0m \u001b[0mOperationalError\u001b[0m \u001b[0;32mas\u001b[0m \u001b[0me\u001b[0m\u001b[0;34m:\u001b[0m\u001b[0;34m\u001b[0m\u001b[0;34m\u001b[0m\u001b[0m\n",
      "\u001b[0;32m/tmp/pip_packages/snowflake/connector/auth/_auth.py\u001b[0m in \u001b[0;36mauthenticate\u001b[0;34m(self, auth_instance, account, user, database, schema, warehouse, role, passcode, passcode_in_password, mfa_callback, password_callback, session_parameters, timeout)\u001b[0m\n\u001b[1;32m    266\u001b[0m                 ),\n\u001b[1;32m    267\u001b[0m                 \u001b[0merrno\u001b[0m\u001b[0;34m=\u001b[0m\u001b[0mER_FAILED_TO_CONNECT_TO_DB\u001b[0m\u001b[0;34m,\u001b[0m\u001b[0;34m\u001b[0m\u001b[0;34m\u001b[0m\u001b[0m\n\u001b[0;32m--> 268\u001b[0;31m                 \u001b[0msqlstate\u001b[0m\u001b[0;34m=\u001b[0m\u001b[0mSQLSTATE_CONNECTION_WAS_NOT_ESTABLISHED\u001b[0m\u001b[0;34m,\u001b[0m\u001b[0;34m\u001b[0m\u001b[0;34m\u001b[0m\u001b[0m\n\u001b[0m\u001b[1;32m    269\u001b[0m             )\n\u001b[1;32m    270\u001b[0m         \u001b[0;32mexcept\u001b[0m \u001b[0;34m(\u001b[0m\u001b[0mServiceUnavailableError\u001b[0m\u001b[0;34m,\u001b[0m \u001b[0mBadGatewayError\u001b[0m\u001b[0;34m)\u001b[0m \u001b[0;32mas\u001b[0m \u001b[0merr\u001b[0m\u001b[0;34m:\u001b[0m\u001b[0;34m\u001b[0m\u001b[0;34m\u001b[0m\u001b[0m\n",
      "\u001b[0;31mForbiddenError\u001b[0m: 250001 (08001): Failed to connect to DB. Verify the account name is correct: LTIFOSFORSCSAWS.snowflakecomputing.com:443. HTTP 403: Forbidden"
     ]
    }
   ],
   "source": [
    "import snowflake.connector\n",
    "import pandas as pd\n",
    " \n",
    "'''user = REFRACT.FOSFOR@LNTINFOTECH.COM\n",
    "password = Password321\n",
    "account = fya62509.us-east-1\n",
    "warehouse = FOSFOR_REFRACT\n",
    "database = FOSFOR_REFRACT\n",
    "schema = SALES\n",
    "role = FOSFOR_REFRACT'''    \n",
    "\n",
    "# Snowflake connection parameters\n",
    "snowflake_account = 'LTIFOSFORSCSAWS'\n",
    "snowflake_user = 'Ravi'\n",
    "snowflake_password = 'Kayakave@1983'\n",
    "snowflake_database = 'TUTORIAL_DB'\n",
    "snowflake_schema = 'DATA_SCHEMA'\n",
    "snowflake_stage = 'MAGICODER'\n",
    "\n",
    "# snowflake_account = 'fya62509.us-east-1'\n",
    "# snowflake_user = 'REFRACT.FOSFOR@LNTINFOTECH.COM'\n",
    "# snowflake_password = 'Password321'\n",
    "# snowflake_database = 'FOSFOR_REFRACT'\n",
    "# snowflake_schema = 'SALES'\n",
    "# snowflake_stage = 'MAGICODER'\n",
    " \n",
    "# Connect to Snowflake\n",
    "conn = snowflake.connector.connect(\n",
    "   user=snowflake_user,\n",
    "   password=snowflake_password,\n",
    "   account=snowflake_account,\n",
    "   database=snowflake_database,\n",
    "   schema=snowflake_schema\n",
    ")\n",
    " \n"
   ]
  },
  {
   "cell_type": "code",
   "execution_count": 3,
   "id": "f3ba6ed2",
   "metadata": {},
   "outputs": [
    {
     "data": {
      "text/plain": [
       "<snowflake.connector.connection.SnowflakeConnection at 0x7fa42c5ed0d0>"
      ]
     },
     "execution_count": 3,
     "metadata": {},
     "output_type": "execute_result"
    }
   ],
   "source": [
    "conn"
   ]
  },
  {
   "cell_type": "code",
   "execution_count": 2,
   "id": "f901ac58",
   "metadata": {},
   "outputs": [
    {
     "ename": "NameError",
     "evalue": "name 'requests' is not defined",
     "output_type": "error",
     "traceback": [
      "\u001b[0;31m---------------------------------------------------------------------------\u001b[0m",
      "\u001b[0;31mNameError\u001b[0m                                 Traceback (most recent call last)",
      "\u001b[0;32m<ipython-input-2-0aba24bd9930>\u001b[0m in \u001b[0;36m<module>\u001b[0;34m\u001b[0m\n\u001b[1;32m      1\u001b[0m \u001b[0mquestion\u001b[0m\u001b[0;34m=\u001b[0m\u001b[0;34m\"growth rate of horlicks average price across months\"\u001b[0m\u001b[0;34m\u001b[0m\u001b[0;34m\u001b[0m\u001b[0m\n\u001b[1;32m      2\u001b[0m \u001b[0mintermediate_result\u001b[0m \u001b[0;34m=\u001b[0m \u001b[0;34m\"{'Measure_1_Total': 288960.06, 'Measure_1_Minimum_Value': 3829.37, 'Measure_1_Maximum_Value': 6781.3, 'Measure_1_Average': 5351.11, 'Measure_1_Stable_Case': False, 'Measure_1_Label_Available': False, 'Measure_1_Maximum_Date': '2019-01-01', 'Measure_1_Minimum_Date': '2019-03-01', 'Measure_1_Last_Date': ['2021-12-01', '2022-01-01'], 'Measure_1_Last_Values': [6462.11, 6437.65], 'Measure_1_Date_Interval': 'month', 'Measure_1_Final_Change_Percentage': -0.38, 'Measure_1_Final_Period_Change_Note': 'not_good', 'Measure_1_Final_Delta_Change': -24.46, 'Measure_1_Maximum_Growth_Percentage': 20, 'Measure_1_Maximum_Growth_From': 4651.09, 'Measure_1_Maximum_Growth_To': 5596.63, 'Measure_1_Maximum_Growth_Date_From': '2020-11-01', 'Measure_1_Maximum_Growth_Date_To': '2020-12-01', 'Measure_1_Maximum_Decline_Percentage': 44, 'Measure_1_Maximum_Decline_From': 6781.3, 'Measure_1_Maximum_Decline_To': 3829.37, 'Measure_1_Maximum_Decline_Date_From': '2019-02-01', 'Measure_1_Maximum_Decline_Date_To': '2019-03-01', 'Measure_1_Average_Change_Percentage': 8, 'Measure_1_Average_Decline_Percentage': 9, 'Measure_1_Average_Climb_Percentage': 7, 'Measure_1_Data_length': 54, 'Measure_1_Latest_Value': 6437.65, 'Measure_1_Change_Delta': 24, 'Measure_1_Average_Change_last_5_period': 14, 'Measure_2_Total': 71.84, 'Measure_2_Minimum_Value': -43.53, 'Measure_2_Maximum_Value': 20.33, 'Measure_2_Average': 1.33, 'Measure_2_Stable_Case': False, 'Measure_2_Label_Available': False, 'Measure_2_Maximum_Date': '2020-12-01', 'Measure_2_Minimum_Date': '2019-03-01', 'Measure_2_Last_Date': ['2021-12-01', '2022-01-01'], 'Measure_2_Last_Values': [4.69, -0.38], 'Measure_2_Date_Interval': 'month', 'Measure_2_Final_Change_Percentage': -108, 'Measure_2_Final_Period_Change_Note': 'not_good', 'Measure_2_Final_Delta_Change': -5.07, 'Measure_2_Maximum_Growth_Percentage': 1094, 'Measure_2_Maximum_Growth_From': -1.6, 'Measure_2_Maximum_Growth_To': 15.9, 'Measure_2_Maximum_Growth_Date_From': '2019-10-01', 'Measure_2_Maximum_Growth_Date_To': '2019-11-01', 'Measure_2_Maximum_Decline_Percentage': 812, 'Measure_2_Maximum_Decline_From': 2.75, 'Measure_2_Maximum_Decline_To': -19.59, 'Measure_2_Maximum_Decline_Date_From': '2020-02-01', 'Measure_2_Maximum_Decline_Date_To': '2020-03-01', 'Measure_2_Average_Change_Percentage': 254, 'Measure_2_Average_Decline_Percentage': 200, 'Measure_2_Average_Climb_Percentage': 319, 'Measure_2_Data_length': 54, 'Measure_2_Latest_Value': -0.38, 'Measure_2_Change_Delta': 5, 'Measure_2_Average_Change_last_5_period': 164, 'Measure_2_Growth_Rate_Result': {'growth_last_period': -0.38, 'max_growth': 20.33, 'max_growth_from': '2020-11-01', 'max_growth_to': '2020-12-01', 'min_growth': -43.53, 'min_growth_from': '2019-02-01', 'min_growth_to': '2019-03-01', 'uptrend': False, 'downtrend': True, 'stable': False, 'downtrend_from': '2021-11-01', 'downtrend_interval': 2}, 'Measure': [{'label': 'Value Offtake(000 Rs)', 'variable': 'Value Offtake(000 Rs)', 'type': 'measure', 'alternate_usage': ['Value Offtake(000 Rs)'], 'isRegional': False, 'number_type': 'add_values'}, {'label': 'Growth Rate (in percentage)', 'type': 'measure', 'alternate_usage': ['Growth Rate (in percentage)'], 'isRegional': False, 'number_type': 'non_additive'}], 'Dimension': {'label': 'month', 'variable': 'month', 'type': 'dimension', 'alternate_usage': ['month'], 'isRegional': False, 'singular': 'Month', 'plural': 'Months'}, 'Filter': {'on_time': False, 'filter_count': 1, 'filter_type': 'default', 'date_count': 0, 'data': [{'default0': 'HORLICKS'}], 'voice_data': [{'default0': 'HORLICKS'}]}}\"\u001b[0m\u001b[0;34m\u001b[0m\u001b[0;34m\u001b[0m\u001b[0m\n\u001b[0;32m----> 3\u001b[0;31m \u001b[0mprint\u001b[0m\u001b[0;34m(\u001b[0m\u001b[0mnarrative_generation_with_openllm\u001b[0m\u001b[0;34m(\u001b[0m\u001b[0mintermediate_result\u001b[0m\u001b[0;34m,\u001b[0m\u001b[0mquestion\u001b[0m\u001b[0;34m)\u001b[0m\u001b[0;34m)\u001b[0m\u001b[0;34m\u001b[0m\u001b[0;34m\u001b[0m\u001b[0m\n\u001b[0m",
      "\u001b[0;32m<ipython-input-1-492bc0c6d8fb>\u001b[0m in \u001b[0;36mnarrative_generation_with_openllm\u001b[0;34m(intermediate_result, question)\u001b[0m\n\u001b[1;32m     14\u001b[0m     }\n\u001b[1;32m     15\u001b[0m     \u001b[0mstart\u001b[0m \u001b[0;34m=\u001b[0m \u001b[0mtime\u001b[0m\u001b[0;34m.\u001b[0m\u001b[0mtime\u001b[0m\u001b[0;34m(\u001b[0m\u001b[0;34m)\u001b[0m\u001b[0;34m\u001b[0m\u001b[0;34m\u001b[0m\u001b[0m\n\u001b[0;32m---> 16\u001b[0;31m     \u001b[0mresponse\u001b[0m \u001b[0;34m=\u001b[0m \u001b[0mrequests\u001b[0m\u001b[0;34m.\u001b[0m\u001b[0mpost\u001b[0m\u001b[0;34m(\u001b[0m\u001b[0murl_openllm\u001b[0m\u001b[0;34m,\u001b[0m \u001b[0mjson\u001b[0m\u001b[0;34m=\u001b[0m\u001b[0mdata_openllm\u001b[0m\u001b[0;34m,\u001b[0m \u001b[0mheaders\u001b[0m\u001b[0;34m=\u001b[0m\u001b[0mheaders_openllm\u001b[0m\u001b[0;34m)\u001b[0m\u001b[0;34m\u001b[0m\u001b[0;34m\u001b[0m\u001b[0m\n\u001b[0m\u001b[1;32m     17\u001b[0m     \u001b[0mend\u001b[0m \u001b[0;34m=\u001b[0m \u001b[0mtime\u001b[0m\u001b[0;34m.\u001b[0m\u001b[0mtime\u001b[0m\u001b[0;34m(\u001b[0m\u001b[0;34m)\u001b[0m\u001b[0;34m\u001b[0m\u001b[0;34m\u001b[0m\u001b[0m\n\u001b[1;32m     18\u001b[0m     \u001b[0mopen_llm_narrative_json\u001b[0m \u001b[0;34m=\u001b[0m \u001b[0mjson\u001b[0m\u001b[0;34m.\u001b[0m\u001b[0mloads\u001b[0m\u001b[0;34m(\u001b[0m\u001b[0mresponse\u001b[0m\u001b[0;34m.\u001b[0m\u001b[0mtext\u001b[0m\u001b[0;34m)\u001b[0m\u001b[0;34m\u001b[0m\u001b[0;34m\u001b[0m\u001b[0m\n",
      "\u001b[0;31mNameError\u001b[0m: name 'requests' is not defined"
     ]
    }
   ],
   "source": [
    "# Create a cursor object\n",
    "cur = conn.cursor()\n",
    " \n",
    "# Upload file to stage (example using Pandas)\n",
    "file_path = 'your_file.csv'\n",
    "df = pd.read_csv(file_path)\n",
    "cur.execute(f'PUT file://{file_path} @{snowflake_stage}')"
   ]
  },
  {
   "cell_type": "code",
   "execution_count": null,
   "id": "5060fba0",
   "metadata": {},
   "outputs": [],
   "source": []
  }
 ],
 "metadata": {
  "kernelspec": {
   "display_name": "Python 3",
   "language": "python",
   "name": "python3"
  },
  "language_info": {
   "codemirror_mode": {
    "name": "ipython",
    "version": 3
   },
   "file_extension": ".py",
   "mimetype": "text/x-python",
   "name": "python",
   "nbconvert_exporter": "python",
   "pygments_lexer": "ipython3",
   "version": "3.7.10"
  }
 },
 "nbformat": 4,
 "nbformat_minor": 5
}
