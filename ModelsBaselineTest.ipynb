{
 "cells": [
  {
   "cell_type": "code",
   "execution_count": 1,
   "id": "35cb6c07",
   "metadata": {},
   "outputs": [],
   "source": [
    "import requests\n",
    "import time\n",
    "import os\n",
    "import csv"
   ]
  },
  {
   "cell_type": "code",
   "execution_count": 2,
   "id": "baedb00a",
   "metadata": {},
   "outputs": [],
   "source": [
    "url = \"https://refract.fosfor.com/magiccodermodel/6188a3e2-bc43-444e-bfaa-8159fca71b3a/score\"\n",
    "lltoken = \"eyJhbGciOiJSUzI1NiIsInR5cCIgOiAiSldUIiwia2lkIiA6ICJ4WTdTd3k5UE1xaXRDQmNSMm5qcVl6bmoxS3NqZzV3TmdOV0xDVzdyUkhvIn0.eyJleHAiOjE3MzA4ODM3MzgsImlhdCI6MTY5OTI2MTMzOCwiYXV0aF90aW1lIjoxNjk5MjUyMDQ0LCJqdGkiOiJmN2EzMzQwYy1kNDQwLTRlMzUtYjk2ZS04YzBiMTc0Y2RhODAiLCJpc3MiOiJodHRwczovL3JlZnJhY3QtbG9naW4uZm9zZm9yLmNvbS9hdXRoL3JlYWxtcy9tb3NhaWMiLCJhdWQiOlsibW9zYWljLWdhdGVrZWVwZXIiLCJhY2NvdW50Il0sInN1YiI6IjZjMjU4MWU3LWZmMTItNDljNy04MDJmLWI2ZjQzOWQxZDIwMSIsInR5cCI6IkJlYXJlciIsImF6cCI6Im1vc2FpYy1nYXRla2VlcGVyIiwic2Vzc2lvbl9zdGF0ZSI6IjBhY2Y3YWZhLTVmMzMtNGRhZS05OGM3LTQyZDQwYTdlZTM2NiIsImFsbG93ZWQtb3JpZ2lucyI6WyIqIl0sInJlYWxtX2FjY2VzcyI6eyJyb2xlcyI6WyJNTE9QUyIsImxvbmdfbGl2ZWRfdG9rZW4iLCJzcGVjdHJhLWRldmVsb3BlciIsImRlZmF1bHQtcm9sZXMtbW9zYWljIiwicmVmcmFjdC1kZXZlbG9wZXIiLCJvZmZsaW5lX2FjY2VzcyIsImFkbWluIiwidW1hX2F1dGhvcml6YXRpb24iLCJyZWZyYWN0LWFkbWluIl19LCJyZXNvdXJjZV9hY2Nlc3MiOnsiYWNjb3VudCI6eyJyb2xlcyI6WyJtYW5hZ2UtYWNjb3VudCIsIm1hbmFnZS1hY2NvdW50LWxpbmtzIiwidmlldy1wcm9maWxlIl19fSwic2NvcGUiOiJvcGVuaWQgZW1haWwgcHJvZmlsZSIsInNpZCI6IjBhY2Y3YWZhLTVmMzMtNGRhZS05OGM3LTQyZDQwYTdlZTM2NiIsImVtYWlsX3ZlcmlmaWVkIjp0cnVlLCJuYW1lIjoiUmVmcmFjdCBCRlNJIiwicHJlZmVycmVkX3VzZXJuYW1lIjoicmVmcmFjdC5iZnNpQGZvc2Zvci5jb20iLCJnaXZlbl9uYW1lIjoiUmVmcmFjdCIsImZhbWlseV9uYW1lIjoiQkZTSSIsImVtYWlsIjoicmVmcmFjdC5iZnNpQGZvc2Zvci5jb20ifQ.b6SYLgjo9Veo3GmJ8eZjCTNupQjpfMhzsoXdYjWwRtvRnNjBfx0gOqcugO9OcGn-mm8wwpSGI5uiL30-I6SdWBjsf1ur6GztoX7j-nP_3SrJJn3UhNNqIO8LbsPi5gGRTzWtnfjz92BF1YaCXxQwPY0P_aa8vJ6JxZz5Uctn9aIPIJZZnnjC_GPXtXurmshM_tEN2kwCjhEyr7wYzRqUoMtBGfpLjZREBzgZY-x6JyYiXNtycb1d6PFcCXf7nJVV8ienEC_x7OuciDzfeqd-SQnImvAHH7rqFdi9smBN08AbkDS2uAbMrokHrmbiBpaimrR013VwCWz2KL5QYlWleA\"\n",
    "request_payload_file = '/data/Magicoder_payloads.txt'\n",
    "report_path = '/data/BaselineResults_8cpu.csv'"
   ]
  },
  {
   "cell_type": "code",
   "execution_count": 3,
   "id": "3f550c6b",
   "metadata": {},
   "outputs": [],
   "source": [
    "\n",
    "def calculate_execution_time(func, *args, **kwargs):\n",
    "    start_time = time.time()\n",
    "    result,_ = func(*args, **kwargs)\n",
    "    end_time = time.time()\n",
    "    execution_time = end_time - start_time\n",
    "    data = [\n",
    "        ['Payload', 'Response', 'Time'],\n",
    "        [result, _.status_code, f'{execution_time:.6f} seconds'],\n",
    "    ]\n",
    "    save_report(report_path, data)\n",
    "    print(f\"Execution time of {func.__name__}: {execution_time:.6f} seconds\")\n",
    "    return result, _"
   ]
  },
  {
   "cell_type": "code",
   "execution_count": 4,
   "id": "d4d3691a",
   "metadata": {},
   "outputs": [],
   "source": [
    "def read_payloads(file_path):\n",
    "    with open(file_path, 'r') as file:\n",
    "        for line in file:\n",
    "            yield line.strip()\n",
    "\n",
    "# Using the generator function to read lines\n",
    "payloads = read_payloads(request_payload_file)   "
   ]
  },
  {
   "cell_type": "code",
   "execution_count": 5,
   "id": "3f8509d6",
   "metadata": {},
   "outputs": [],
   "source": [
    "def save_report(file_path, data):\n",
    "    file_exists = os.path.exists(file_path)\n",
    "    with open(file_path, 'a', newline='') as csv_file:\n",
    "        csv_writer = csv.writer(csv_file)\n",
    "        if not file_exists:\n",
    "            csv_writer.writerow(data[0])\n",
    "        for row in data[1:]:\n",
    "            csv_writer.writerow(row)\n",
    "#     csv_writer=csv.writer(csv_file)\n",
    "#     if not file_exists:\n",
    "#         csv_writer.writerow(data[0])\n",
    "#     for row in data[1:]:\n",
    "#         csv_writer.writerow(row)"
   ]
  },
  {
   "cell_type": "code",
   "execution_count": 6,
   "id": "f5f8664f",
   "metadata": {},
   "outputs": [
    {
     "ename": "SyntaxError",
     "evalue": "'return' outside function (<ipython-input-6-8600b8edb6d6>, line 18)",
     "output_type": "error",
     "traceback": [
      "\u001b[0;36m  File \u001b[0;32m\"<ipython-input-6-8600b8edb6d6>\"\u001b[0;36m, line \u001b[0;32m18\u001b[0m\n\u001b[0;31m    return line_content, DummyResponse\u001b[0m\n\u001b[0m    ^\u001b[0m\n\u001b[0;31mSyntaxError\u001b[0m\u001b[0;31m:\u001b[0m 'return' outside function\n"
     ]
    }
   ],
   "source": [
    "#Inference Model\n",
    "try:\n",
    "    for line_number, line_content in enumerate(payloads, start=0):\n",
    "        print(f\"Line {line_number}: {line_content}\") \n",
    "        @calculate_execution_time\n",
    "        def inference():\n",
    "            payload = line_content\n",
    "            headers = {\n",
    "              'Content-Type': 'application/json',\n",
    "              'Authorization': 'Bearer {0}'.format(lltoken)\n",
    "            }\n",
    "            response = requests.request(\"POST\", url, headers=headers, data=payload)\n",
    "            return line_content, response\n",
    "except Exception as e:\n",
    "    class DummyResponse():\n",
    "        def __init__(self, line_content):\n",
    "            self.status_code=500\n",
    "            self.line_content = line_content\n",
    "        @classmethod   \n",
    "        def outdata(cls):\n",
    "            return getattr(cls, 'line_content', None), getattr(cls, 'status_code', None)"
   ]
  },
  {
   "cell_type": "code",
   "execution_count": null,
   "id": "d64d7a6a",
   "metadata": {},
   "outputs": [],
   "source": []
  }
 ],
 "metadata": {
  "kernelspec": {
   "display_name": "Python 3",
   "language": "python",
   "name": "python3"
  },
  "language_info": {
   "codemirror_mode": {
    "name": "ipython",
    "version": 3
   },
   "file_extension": ".py",
   "mimetype": "text/x-python",
   "name": "python",
   "nbconvert_exporter": "python",
   "pygments_lexer": "ipython3",
   "version": "3.7.10"
  }
 },
 "nbformat": 4,
 "nbformat_minor": 5
}
