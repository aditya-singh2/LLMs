{
 "cells": [
  {
   "cell_type": "code",
   "execution_count": 1,
   "id": "fce2827b",
   "metadata": {},
   "outputs": [],
   "source": [
    "import time\n",
    "import json\n",
    "import requests\n",
    "import re\n",
    "def narrative_generation_with_openllm(intermediate_result, question):\n",
    "    headers_openllm = {\"Content-Type\": \"application/json\", \"Accept\": \"application/json\",\"AUTHORIZATION\": \"eyJhbGciOiJSUzI1NiIsInR5cCIgOiAiSldUIiwia2lkIiA6ICJ4WTdTd3k5UE1xaXRDQmNSMm5qcVl6bmoxS3NqZzV3TmdOV0xDVzdyUkhvIn0.eyJleHAiOjE3MzA4ODM3MzgsImlhdCI6MTY5OTI2MTMzOCwiYXV0aF90aW1lIjoxNjk5MjUyMDQ0LCJqdGkiOiJmN2EzMzQwYy1kNDQwLTRlMzUtYjk2ZS04YzBiMTc0Y2RhODAiLCJpc3MiOiJodHRwczovL3JlZnJhY3QtbG9naW4uZm9zZm9yLmNvbS9hdXRoL3JlYWxtcy9tb3NhaWMiLCJhdWQiOlsibW9zYWljLWdhdGVrZWVwZXIiLCJhY2NvdW50Il0sInN1YiI6IjZjMjU4MWU3LWZmMTItNDljNy04MDJmLWI2ZjQzOWQxZDIwMSIsInR5cCI6IkJlYXJlciIsImF6cCI6Im1vc2FpYy1nYXRla2VlcGVyIiwic2Vzc2lvbl9zdGF0ZSI6IjBhY2Y3YWZhLTVmMzMtNGRhZS05OGM3LTQyZDQwYTdlZTM2NiIsImFsbG93ZWQtb3JpZ2lucyI6WyIqIl0sInJlYWxtX2FjY2VzcyI6eyJyb2xlcyI6WyJNTE9QUyIsImxvbmdfbGl2ZWRfdG9rZW4iLCJzcGVjdHJhLWRldmVsb3BlciIsImRlZmF1bHQtcm9sZXMtbW9zYWljIiwicmVmcmFjdC1kZXZlbG9wZXIiLCJvZmZsaW5lX2FjY2VzcyIsImFkbWluIiwidW1hX2F1dGhvcml6YXRpb24iLCJyZWZyYWN0LWFkbWluIl19LCJyZXNvdXJjZV9hY2Nlc3MiOnsiYWNjb3VudCI6eyJyb2xlcyI6WyJtYW5hZ2UtYWNjb3VudCIsIm1hbmFnZS1hY2NvdW50LWxpbmtzIiwidmlldy1wcm9maWxlIl19fSwic2NvcGUiOiJvcGVuaWQgZW1haWwgcHJvZmlsZSIsInNpZCI6IjBhY2Y3YWZhLTVmMzMtNGRhZS05OGM3LTQyZDQwYTdlZTM2NiIsImVtYWlsX3ZlcmlmaWVkIjp0cnVlLCJuYW1lIjoiUmVmcmFjdCBCRlNJIiwicHJlZmVycmVkX3VzZXJuYW1lIjoicmVmcmFjdC5iZnNpQGZvc2Zvci5jb20iLCJnaXZlbl9uYW1lIjoiUmVmcmFjdCIsImZhbWlseV9uYW1lIjoiQkZTSSIsImVtYWlsIjoicmVmcmFjdC5iZnNpQGZvc2Zvci5jb20ifQ.b6SYLgjo9Veo3GmJ8eZjCTNupQjpfMhzsoXdYjWwRtvRnNjBfx0gOqcugO9OcGn-mm8wwpSGI5uiL30-I6SdWBjsf1ur6GztoX7j-nP_3SrJJn3UhNNqIO8LbsPi5gGRTzWtnfjz92BF1YaCXxQwPY0P_aa8vJ6JxZz5Uctn9aIPIJZZnnjC_GPXtXurmshM_tEN2kwCjhEyr7wYzRqUoMtBGfpLjZREBzgZY-x6JyYiXNtycb1d6PFcCXf7nJVV8ienEC_x7OuciDzfeqd-SQnImvAHH7rqFdi9smBN08AbkDS2uAbMrokHrmbiBpaimrR013VwCWz2KL5QYlWleA\"}\n",
    "    url_openllm = 'https://refract.fosfor.com/vllm/mistral/v1/completions'\n",
    "    prompt = \"\"\"Given the input :\\n\"\"\"+str(intermediate_result)+\"\"\"\\nAnd the query: \"\"\"+ str(question)+\"\"\"\\n is converted into below narrative.\\n[Narrative]\"\"\"\n",
    "    data_openllm = {\n",
    "     \"prompt\": prompt,\n",
    "     \"max_tokens\": 2500,\n",
    "     \"temperature\": 0.01,\n",
    "     \"model\": \"/llmmodels/NLG_FINETUNEDMODELS/DATASET_MODELS/FINETUNED_MISTRALV2_V5/MISTRAL_MERGED_MODEL_JAN30_V3_0021\",\n",
    "     \"stop\": \"[\"\n",
    "    }\n",
    "    start = time.time()\n",
    "    response = requests.post(url_openllm, json=data_openllm, headers=headers_openllm)\n",
    "    end = time.time()\n",
    "    open_llm_narrative_json = json.loads(response.text)\n",
    "    open_llm_narrative = re.search(r'\\n([^|\\n]*)', open_llm_narrative_json[\"choices\"][0][\"text\"]).group(1)\n",
    "    open_llm_response_time = str(end - start) + str(\" seconds\")\n",
    " \n",
    "    output_dict = {\n",
    "        \"opensource_llm_narrative\":open_llm_narrative,\n",
    "        \"opensource_llm_response_time\":open_llm_response_time\n",
    "    }\n",
    "    return output_dict"
   ]
  },
  {
   "cell_type": "code",
   "execution_count": 2,
   "id": "f901ac58",
   "metadata": {},
   "outputs": [
    {
     "ename": "NameError",
     "evalue": "name 'requests' is not defined",
     "output_type": "error",
     "traceback": [
      "\u001b[0;31m---------------------------------------------------------------------------\u001b[0m",
      "\u001b[0;31mNameError\u001b[0m                                 Traceback (most recent call last)",
      "\u001b[0;32m<ipython-input-2-0aba24bd9930>\u001b[0m in \u001b[0;36m<module>\u001b[0;34m\u001b[0m\n\u001b[1;32m      1\u001b[0m \u001b[0mquestion\u001b[0m\u001b[0;34m=\u001b[0m\u001b[0;34m\"growth rate of horlicks average price across months\"\u001b[0m\u001b[0;34m\u001b[0m\u001b[0;34m\u001b[0m\u001b[0m\n\u001b[1;32m      2\u001b[0m \u001b[0mintermediate_result\u001b[0m \u001b[0;34m=\u001b[0m \u001b[0;34m\"{'Measure_1_Total': 288960.06, 'Measure_1_Minimum_Value': 3829.37, 'Measure_1_Maximum_Value': 6781.3, 'Measure_1_Average': 5351.11, 'Measure_1_Stable_Case': False, 'Measure_1_Label_Available': False, 'Measure_1_Maximum_Date': '2019-01-01', 'Measure_1_Minimum_Date': '2019-03-01', 'Measure_1_Last_Date': ['2021-12-01', '2022-01-01'], 'Measure_1_Last_Values': [6462.11, 6437.65], 'Measure_1_Date_Interval': 'month', 'Measure_1_Final_Change_Percentage': -0.38, 'Measure_1_Final_Period_Change_Note': 'not_good', 'Measure_1_Final_Delta_Change': -24.46, 'Measure_1_Maximum_Growth_Percentage': 20, 'Measure_1_Maximum_Growth_From': 4651.09, 'Measure_1_Maximum_Growth_To': 5596.63, 'Measure_1_Maximum_Growth_Date_From': '2020-11-01', 'Measure_1_Maximum_Growth_Date_To': '2020-12-01', 'Measure_1_Maximum_Decline_Percentage': 44, 'Measure_1_Maximum_Decline_From': 6781.3, 'Measure_1_Maximum_Decline_To': 3829.37, 'Measure_1_Maximum_Decline_Date_From': '2019-02-01', 'Measure_1_Maximum_Decline_Date_To': '2019-03-01', 'Measure_1_Average_Change_Percentage': 8, 'Measure_1_Average_Decline_Percentage': 9, 'Measure_1_Average_Climb_Percentage': 7, 'Measure_1_Data_length': 54, 'Measure_1_Latest_Value': 6437.65, 'Measure_1_Change_Delta': 24, 'Measure_1_Average_Change_last_5_period': 14, 'Measure_2_Total': 71.84, 'Measure_2_Minimum_Value': -43.53, 'Measure_2_Maximum_Value': 20.33, 'Measure_2_Average': 1.33, 'Measure_2_Stable_Case': False, 'Measure_2_Label_Available': False, 'Measure_2_Maximum_Date': '2020-12-01', 'Measure_2_Minimum_Date': '2019-03-01', 'Measure_2_Last_Date': ['2021-12-01', '2022-01-01'], 'Measure_2_Last_Values': [4.69, -0.38], 'Measure_2_Date_Interval': 'month', 'Measure_2_Final_Change_Percentage': -108, 'Measure_2_Final_Period_Change_Note': 'not_good', 'Measure_2_Final_Delta_Change': -5.07, 'Measure_2_Maximum_Growth_Percentage': 1094, 'Measure_2_Maximum_Growth_From': -1.6, 'Measure_2_Maximum_Growth_To': 15.9, 'Measure_2_Maximum_Growth_Date_From': '2019-10-01', 'Measure_2_Maximum_Growth_Date_To': '2019-11-01', 'Measure_2_Maximum_Decline_Percentage': 812, 'Measure_2_Maximum_Decline_From': 2.75, 'Measure_2_Maximum_Decline_To': -19.59, 'Measure_2_Maximum_Decline_Date_From': '2020-02-01', 'Measure_2_Maximum_Decline_Date_To': '2020-03-01', 'Measure_2_Average_Change_Percentage': 254, 'Measure_2_Average_Decline_Percentage': 200, 'Measure_2_Average_Climb_Percentage': 319, 'Measure_2_Data_length': 54, 'Measure_2_Latest_Value': -0.38, 'Measure_2_Change_Delta': 5, 'Measure_2_Average_Change_last_5_period': 164, 'Measure_2_Growth_Rate_Result': {'growth_last_period': -0.38, 'max_growth': 20.33, 'max_growth_from': '2020-11-01', 'max_growth_to': '2020-12-01', 'min_growth': -43.53, 'min_growth_from': '2019-02-01', 'min_growth_to': '2019-03-01', 'uptrend': False, 'downtrend': True, 'stable': False, 'downtrend_from': '2021-11-01', 'downtrend_interval': 2}, 'Measure': [{'label': 'Value Offtake(000 Rs)', 'variable': 'Value Offtake(000 Rs)', 'type': 'measure', 'alternate_usage': ['Value Offtake(000 Rs)'], 'isRegional': False, 'number_type': 'add_values'}, {'label': 'Growth Rate (in percentage)', 'type': 'measure', 'alternate_usage': ['Growth Rate (in percentage)'], 'isRegional': False, 'number_type': 'non_additive'}], 'Dimension': {'label': 'month', 'variable': 'month', 'type': 'dimension', 'alternate_usage': ['month'], 'isRegional': False, 'singular': 'Month', 'plural': 'Months'}, 'Filter': {'on_time': False, 'filter_count': 1, 'filter_type': 'default', 'date_count': 0, 'data': [{'default0': 'HORLICKS'}], 'voice_data': [{'default0': 'HORLICKS'}]}}\"\u001b[0m\u001b[0;34m\u001b[0m\u001b[0;34m\u001b[0m\u001b[0m\n\u001b[0;32m----> 3\u001b[0;31m \u001b[0mprint\u001b[0m\u001b[0;34m(\u001b[0m\u001b[0mnarrative_generation_with_openllm\u001b[0m\u001b[0;34m(\u001b[0m\u001b[0mintermediate_result\u001b[0m\u001b[0;34m,\u001b[0m\u001b[0mquestion\u001b[0m\u001b[0;34m)\u001b[0m\u001b[0;34m)\u001b[0m\u001b[0;34m\u001b[0m\u001b[0;34m\u001b[0m\u001b[0m\n\u001b[0m",
      "\u001b[0;32m<ipython-input-1-492bc0c6d8fb>\u001b[0m in \u001b[0;36mnarrative_generation_with_openllm\u001b[0;34m(intermediate_result, question)\u001b[0m\n\u001b[1;32m     14\u001b[0m     }\n\u001b[1;32m     15\u001b[0m     \u001b[0mstart\u001b[0m \u001b[0;34m=\u001b[0m \u001b[0mtime\u001b[0m\u001b[0;34m.\u001b[0m\u001b[0mtime\u001b[0m\u001b[0;34m(\u001b[0m\u001b[0;34m)\u001b[0m\u001b[0;34m\u001b[0m\u001b[0;34m\u001b[0m\u001b[0m\n\u001b[0;32m---> 16\u001b[0;31m     \u001b[0mresponse\u001b[0m \u001b[0;34m=\u001b[0m \u001b[0mrequests\u001b[0m\u001b[0;34m.\u001b[0m\u001b[0mpost\u001b[0m\u001b[0;34m(\u001b[0m\u001b[0murl_openllm\u001b[0m\u001b[0;34m,\u001b[0m \u001b[0mjson\u001b[0m\u001b[0;34m=\u001b[0m\u001b[0mdata_openllm\u001b[0m\u001b[0;34m,\u001b[0m \u001b[0mheaders\u001b[0m\u001b[0;34m=\u001b[0m\u001b[0mheaders_openllm\u001b[0m\u001b[0;34m)\u001b[0m\u001b[0;34m\u001b[0m\u001b[0;34m\u001b[0m\u001b[0m\n\u001b[0m\u001b[1;32m     17\u001b[0m     \u001b[0mend\u001b[0m \u001b[0;34m=\u001b[0m \u001b[0mtime\u001b[0m\u001b[0;34m.\u001b[0m\u001b[0mtime\u001b[0m\u001b[0;34m(\u001b[0m\u001b[0;34m)\u001b[0m\u001b[0;34m\u001b[0m\u001b[0;34m\u001b[0m\u001b[0m\n\u001b[1;32m     18\u001b[0m     \u001b[0mopen_llm_narrative_json\u001b[0m \u001b[0;34m=\u001b[0m \u001b[0mjson\u001b[0m\u001b[0;34m.\u001b[0m\u001b[0mloads\u001b[0m\u001b[0;34m(\u001b[0m\u001b[0mresponse\u001b[0m\u001b[0;34m.\u001b[0m\u001b[0mtext\u001b[0m\u001b[0;34m)\u001b[0m\u001b[0;34m\u001b[0m\u001b[0;34m\u001b[0m\u001b[0m\n",
      "\u001b[0;31mNameError\u001b[0m: name 'requests' is not defined"
     ]
    }
   ],
   "source": [
    "question=\"growth rate of horlicks average price across months\"\n",
    "intermediate_result = \"{'Measure_1_Total': 288960.06, 'Measure_1_Minimum_Value': 3829.37, 'Measure_1_Maximum_Value': 6781.3, 'Measure_1_Average': 5351.11, 'Measure_1_Stable_Case': False, 'Measure_1_Label_Available': False, 'Measure_1_Maximum_Date': '2019-01-01', 'Measure_1_Minimum_Date': '2019-03-01', 'Measure_1_Last_Date': ['2021-12-01', '2022-01-01'], 'Measure_1_Last_Values': [6462.11, 6437.65], 'Measure_1_Date_Interval': 'month', 'Measure_1_Final_Change_Percentage': -0.38, 'Measure_1_Final_Period_Change_Note': 'not_good', 'Measure_1_Final_Delta_Change': -24.46, 'Measure_1_Maximum_Growth_Percentage': 20, 'Measure_1_Maximum_Growth_From': 4651.09, 'Measure_1_Maximum_Growth_To': 5596.63, 'Measure_1_Maximum_Growth_Date_From': '2020-11-01', 'Measure_1_Maximum_Growth_Date_To': '2020-12-01', 'Measure_1_Maximum_Decline_Percentage': 44, 'Measure_1_Maximum_Decline_From': 6781.3, 'Measure_1_Maximum_Decline_To': 3829.37, 'Measure_1_Maximum_Decline_Date_From': '2019-02-01', 'Measure_1_Maximum_Decline_Date_To': '2019-03-01', 'Measure_1_Average_Change_Percentage': 8, 'Measure_1_Average_Decline_Percentage': 9, 'Measure_1_Average_Climb_Percentage': 7, 'Measure_1_Data_length': 54, 'Measure_1_Latest_Value': 6437.65, 'Measure_1_Change_Delta': 24, 'Measure_1_Average_Change_last_5_period': 14, 'Measure_2_Total': 71.84, 'Measure_2_Minimum_Value': -43.53, 'Measure_2_Maximum_Value': 20.33, 'Measure_2_Average': 1.33, 'Measure_2_Stable_Case': False, 'Measure_2_Label_Available': False, 'Measure_2_Maximum_Date': '2020-12-01', 'Measure_2_Minimum_Date': '2019-03-01', 'Measure_2_Last_Date': ['2021-12-01', '2022-01-01'], 'Measure_2_Last_Values': [4.69, -0.38], 'Measure_2_Date_Interval': 'month', 'Measure_2_Final_Change_Percentage': -108, 'Measure_2_Final_Period_Change_Note': 'not_good', 'Measure_2_Final_Delta_Change': -5.07, 'Measure_2_Maximum_Growth_Percentage': 1094, 'Measure_2_Maximum_Growth_From': -1.6, 'Measure_2_Maximum_Growth_To': 15.9, 'Measure_2_Maximum_Growth_Date_From': '2019-10-01', 'Measure_2_Maximum_Growth_Date_To': '2019-11-01', 'Measure_2_Maximum_Decline_Percentage': 812, 'Measure_2_Maximum_Decline_From': 2.75, 'Measure_2_Maximum_Decline_To': -19.59, 'Measure_2_Maximum_Decline_Date_From': '2020-02-01', 'Measure_2_Maximum_Decline_Date_To': '2020-03-01', 'Measure_2_Average_Change_Percentage': 254, 'Measure_2_Average_Decline_Percentage': 200, 'Measure_2_Average_Climb_Percentage': 319, 'Measure_2_Data_length': 54, 'Measure_2_Latest_Value': -0.38, 'Measure_2_Change_Delta': 5, 'Measure_2_Average_Change_last_5_period': 164, 'Measure_2_Growth_Rate_Result': {'growth_last_period': -0.38, 'max_growth': 20.33, 'max_growth_from': '2020-11-01', 'max_growth_to': '2020-12-01', 'min_growth': -43.53, 'min_growth_from': '2019-02-01', 'min_growth_to': '2019-03-01', 'uptrend': False, 'downtrend': True, 'stable': False, 'downtrend_from': '2021-11-01', 'downtrend_interval': 2}, 'Measure': [{'label': 'Value Offtake(000 Rs)', 'variable': 'Value Offtake(000 Rs)', 'type': 'measure', 'alternate_usage': ['Value Offtake(000 Rs)'], 'isRegional': False, 'number_type': 'add_values'}, {'label': 'Growth Rate (in percentage)', 'type': 'measure', 'alternate_usage': ['Growth Rate (in percentage)'], 'isRegional': False, 'number_type': 'non_additive'}], 'Dimension': {'label': 'month', 'variable': 'month', 'type': 'dimension', 'alternate_usage': ['month'], 'isRegional': False, 'singular': 'Month', 'plural': 'Months'}, 'Filter': {'on_time': False, 'filter_count': 1, 'filter_type': 'default', 'date_count': 0, 'data': [{'default0': 'HORLICKS'}], 'voice_data': [{'default0': 'HORLICKS'}]}}\"\n",
    "print(narrative_generation_with_openllm(intermediate_result,question))"
   ]
  },
  {
   "cell_type": "code",
   "execution_count": null,
   "id": "5060fba0",
   "metadata": {},
   "outputs": [],
   "source": []
  }
 ],
 "metadata": {
  "kernelspec": {
   "display_name": "Python 3",
   "language": "python",
   "name": "python3"
  },
  "language_info": {
   "codemirror_mode": {
    "name": "ipython",
    "version": 3
   },
   "file_extension": ".py",
   "mimetype": "text/x-python",
   "name": "python",
   "nbconvert_exporter": "python",
   "pygments_lexer": "ipython3",
   "version": "3.7.10"
  }
 },
 "nbformat": 4,
 "nbformat_minor": 5
}
