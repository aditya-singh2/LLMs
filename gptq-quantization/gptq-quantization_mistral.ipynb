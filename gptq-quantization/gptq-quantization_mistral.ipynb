{
 "cells": [
  {
   "cell_type": "code",
   "execution_count": null,
   "id": "f3aeb65b",
   "metadata": {},
   "outputs": [],
   "source": [
    "## ref : https://github.com/philschmid/deep-learning-pytorch-huggingface/blob/main/training/optimize-llama-2-gptq.ipynb "
   ]
  },
  {
   "cell_type": "code",
   "execution_count": null,
   "id": "df8f451f",
   "metadata": {},
   "outputs": [],
   "source": [
    "!sudo pip install -q transformers --upgrade"
   ]
  },
  {
   "cell_type": "code",
   "execution_count": null,
   "id": "0a1722e7",
   "metadata": {},
   "outputs": [],
   "source": [
    "!sudo -H pip install auto-gptq --no-cache-dir"
   ]
  },
  {
   "cell_type": "code",
   "execution_count": null,
   "id": "0cfc5857",
   "metadata": {},
   "outputs": [],
   "source": [
    "!sudo -H pip install --upgrade optimum"
   ]
  },
  {
   "cell_type": "code",
   "execution_count": null,
   "id": "82bfabbd",
   "metadata": {},
   "outputs": [],
   "source": [
    "import torch\n",
    "torch.cuda.empty_cache()"
   ]
  },
  {
   "cell_type": "code",
   "execution_count": null,
   "id": "24447890",
   "metadata": {},
   "outputs": [],
   "source": [
    "import gc\n",
    "gc.collect()"
   ]
  },
  {
   "cell_type": "code",
   "execution_count": null,
   "id": "d4ceb91e",
   "metadata": {},
   "outputs": [],
   "source": [
    "from transformers import AutoModelForCausalLM, AutoTokenizer\n",
    "from optimum.gptq import GPTQQuantizer, load_quantized_model\n",
    "import torch"
   ]
  },
  {
   "cell_type": "code",
   "execution_count": null,
   "id": "7984f86b",
   "metadata": {},
   "outputs": [],
   "source": [
    "model_name = \"mistralai/Mistral-7B-v0.1\""
   ]
  },
  {
   "cell_type": "code",
   "execution_count": null,
   "id": "edd20f08",
   "metadata": {},
   "outputs": [],
   "source": [
    "tokenizer = AutoTokenizer.from_pretrained(model_name)"
   ]
  },
  {
   "cell_type": "code",
   "execution_count": null,
   "id": "48b53bfc",
   "metadata": {},
   "outputs": [],
   "source": [
    "model = AutoModelForCausalLM.from_pretrained(model_name, torch_dtype=torch.float16,device_map='auto')"
   ]
  },
  {
   "cell_type": "code",
   "execution_count": null,
   "id": "996540fb",
   "metadata": {},
   "outputs": [],
   "source": [
    "import os\n",
    "os.environ[\"PYTORCH_CUDA_ALLOC_CONF\"] = \"max_split_size_mb:512\""
   ]
  },
  {
   "cell_type": "code",
   "execution_count": null,
   "id": "0790f328",
   "metadata": {},
   "outputs": [],
   "source": [
    "quantizer = GPTQQuantizer(bits=4, dataset=\"wikitext2\")\n",
    "quantizer.quant_method = \"gptq\""
   ]
  },
  {
   "cell_type": "code",
   "execution_count": null,
   "id": "4f98ec6b",
   "metadata": {},
   "outputs": [],
   "source": [
    "quantized_model = quantizer.quantize_model(model, tokenizer)"
   ]
  },
  {
   "cell_type": "code",
   "execution_count": null,
   "id": "f2838e7a",
   "metadata": {},
   "outputs": [],
   "source": [
    "print(os.environ[\"PYTORCH_CUDA_ALLOC_CONF\"])"
   ]
  },
  {
   "cell_type": "code",
   "execution_count": null,
   "id": "e1d50f66",
   "metadata": {},
   "outputs": [],
   "source": [
    "quant_path = \"/data/quantization-trials/GPTQ-quantized/ravi\""
   ]
  },
  {
   "cell_type": "code",
   "execution_count": null,
   "id": "36d32571",
   "metadata": {},
   "outputs": [],
   "source": [
    "# save the quantize model to disk\n",
    "\n",
    "quantized_model.save_pretrained(quant_path, safe_serialization=True)"
   ]
  },
  {
   "cell_type": "markdown",
   "id": "4943d59a",
   "metadata": {},
   "source": [
    "### Inference on quantized model"
   ]
  },
  {
   "cell_type": "code",
   "execution_count": null,
   "id": "c5fe1eac",
   "metadata": {},
   "outputs": [],
   "source": [
    "from transformers import AutoModelForCausalLM, AutoTokenizer, GPTQConfig"
   ]
  },
  {
   "cell_type": "code",
   "execution_count": null,
   "id": "716eaa1b",
   "metadata": {},
   "outputs": [],
   "source": [
    "gptq_config = GPTQConfig(bits=4, use_exllama=True)\n",
    "\n",
    "model_id = \"/data/quantization-trials/GPTQ-quantized\"\n",
    "quant_model = AutoModelForCausalLM.from_pretrained(model_id, device_map=\"cuda\", torch_dtype=torch.float16)"
   ]
  },
  {
   "cell_type": "code",
   "execution_count": null,
   "id": "e0d47ba9",
   "metadata": {},
   "outputs": [],
   "source": [
    "def predict_from_quant(user_query):\n",
    "    _inputs = tokenizer.encode(user_query, return_tensors=\"pt\").to('cuda')\n",
    "    outputs = quant_model.generate(input_ids=_inputs, max_length= 1000, pad_token_id=tokenizer.eos_token_id)\n",
    "    output = tokenizer.decode(outputs[0])\n",
    "    return output\n",
    "\n",
    "import time"
   ]
  },
  {
   "cell_type": "code",
   "execution_count": null,
   "id": "5e258ccf",
   "metadata": {},
   "outputs": [],
   "source": [
    "# Using quant model\n",
    "start = time.time()\n",
    "output1 = predict_from_quant(\"what is science\")\n",
    "print(\"time taken is :\", time.time()-start)"
   ]
  }
 ],
 "metadata": {
  "kernelspec": {
   "display_name": "Python 3",
   "language": "python",
   "name": "python3"
  },
  "language_info": {
   "codemirror_mode": {
    "name": "ipython",
    "version": 3
   },
   "file_extension": ".py",
   "mimetype": "text/x-python",
   "name": "python",
   "nbconvert_exporter": "python",
   "pygments_lexer": "ipython3",
   "version": "3.7.10"
  }
 },
 "nbformat": 4,
 "nbformat_minor": 5
}
