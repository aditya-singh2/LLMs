{
 "cells": [
  {
   "cell_type": "code",
   "execution_count": 1,
   "id": "85065d82",
   "metadata": {},
   "outputs": [],
   "source": [
    "import requests\n",
    "import time, random\n",
    "import os, json\n",
    "import csv\n",
    "import concurrent.futures\n",
    "# from functools import partial\n",
    "import pandas as pd"
   ]
  },
  {
   "cell_type": "code",
   "execution_count": 16,
   "id": "ddec33f0",
   "metadata": {},
   "outputs": [],
   "source": [
    "# url = \"http://vllm-serving-service:8888/v1/completions\"\n",
    "# url = \"https://refract.fosfor.com/v1/completions\"\n",
    "url = \"https://refract.fosfor.com/vllm/magicoder/v1/completions\"\n",
    "lltoken = \"eyJhbGciOiJSUzI1NiIsInR5cCIgOiAiSldUIiwia2lkIiA6ICJ4WTdTd3k5UE1xaXRDQmNSMm5qcVl6bmoxS3NqZzV3TmdOV0xDVzdyUkhvIn0.eyJleHAiOjE3MzA4ODM3MzgsImlhdCI6MTY5OTI2MTMzOCwiYXV0aF90aW1lIjoxNjk5MjUyMDQ0LCJqdGkiOiJmN2EzMzQwYy1kNDQwLTRlMzUtYjk2ZS04YzBiMTc0Y2RhODAiLCJpc3MiOiJodHRwczovL3JlZnJhY3QtbG9naW4uZm9zZm9yLmNvbS9hdXRoL3JlYWxtcy9tb3NhaWMiLCJhdWQiOlsibW9zYWljLWdhdGVrZWVwZXIiLCJhY2NvdW50Il0sInN1YiI6IjZjMjU4MWU3LWZmMTItNDljNy04MDJmLWI2ZjQzOWQxZDIwMSIsInR5cCI6IkJlYXJlciIsImF6cCI6Im1vc2FpYy1nYXRla2VlcGVyIiwic2Vzc2lvbl9zdGF0ZSI6IjBhY2Y3YWZhLTVmMzMtNGRhZS05OGM3LTQyZDQwYTdlZTM2NiIsImFsbG93ZWQtb3JpZ2lucyI6WyIqIl0sInJlYWxtX2FjY2VzcyI6eyJyb2xlcyI6WyJNTE9QUyIsImxvbmdfbGl2ZWRfdG9rZW4iLCJzcGVjdHJhLWRldmVsb3BlciIsImRlZmF1bHQtcm9sZXMtbW9zYWljIiwicmVmcmFjdC1kZXZlbG9wZXIiLCJvZmZsaW5lX2FjY2VzcyIsImFkbWluIiwidW1hX2F1dGhvcml6YXRpb24iLCJyZWZyYWN0LWFkbWluIl19LCJyZXNvdXJjZV9hY2Nlc3MiOnsiYWNjb3VudCI6eyJyb2xlcyI6WyJtYW5hZ2UtYWNjb3VudCIsIm1hbmFnZS1hY2NvdW50LWxpbmtzIiwidmlldy1wcm9maWxlIl19fSwic2NvcGUiOiJvcGVuaWQgZW1haWwgcHJvZmlsZSIsInNpZCI6IjBhY2Y3YWZhLTVmMzMtNGRhZS05OGM3LTQyZDQwYTdlZTM2NiIsImVtYWlsX3ZlcmlmaWVkIjp0cnVlLCJuYW1lIjoiUmVmcmFjdCBCRlNJIiwicHJlZmVycmVkX3VzZXJuYW1lIjoicmVmcmFjdC5iZnNpQGZvc2Zvci5jb20iLCJnaXZlbl9uYW1lIjoiUmVmcmFjdCIsImZhbWlseV9uYW1lIjoiQkZTSSIsImVtYWlsIjoicmVmcmFjdC5iZnNpQGZvc2Zvci5jb20ifQ.b6SYLgjo9Veo3GmJ8eZjCTNupQjpfMhzsoXdYjWwRtvRnNjBfx0gOqcugO9OcGn-mm8wwpSGI5uiL30-I6SdWBjsf1ur6GztoX7j-nP_3SrJJn3UhNNqIO8LbsPi5gGRTzWtnfjz92BF1YaCXxQwPY0P_aa8vJ6JxZz5Uctn9aIPIJZZnnjC_GPXtXurmshM_tEN2kwCjhEyr7wYzRqUoMtBGfpLjZREBzgZY-x6JyYiXNtycb1d6PFcCXf7nJVV8ienEC_x7OuciDzfeqd-SQnImvAHH7rqFdi9smBN08AbkDS2uAbMrokHrmbiBpaimrR013VwCWz2KL5QYlWleA\"\n",
    "request_payload_file = '/data/Promptshett_codegen_50.txt'\n",
    "# report_path = '/data/vLLM_Base_1gpu.csv'\n",
    "df = pd.DataFrame(columns=['Prompt_No', 'Prompt', 'Response', 'Response_status', 'Time (seconds)'])"
   ]
  },
  {
   "cell_type": "code",
   "execution_count": 3,
   "id": "2d4aa3f5",
   "metadata": {},
   "outputs": [],
   "source": [
    "context_code_gen = \"\"\"Generate a dbt model which gives me month-wise sum of payment done by each customer.\n",
    "    {\n",
    "    \"schema\": [\n",
    "        {\n",
    "            \"Table Name\": \"customers\",\n",
    "            \"Column Names\": [\n",
    "\t\t\t\t\"customer_id\",\n",
    "\t\t\t\t\"name\",\n",
    "\t\t\t\t\"email\",\n",
    "\t\t\t\t\"phone_number\",\n",
    "\t\t\t\t\"address\",\n",
    "\t\t\t\t\"registration_date\"\n",
    "            ]\n",
    "        },\n",
    "        {\n",
    "            \"Table Name\": \"orders\",\n",
    "            \"Column Names\": [\n",
    "\t\t\t\t\"order_id\",\n",
    "\t\t\t\t\"customer_id\",\n",
    "\t\t\t\t\"order_date\",\n",
    "\t\t\t\t\"total_amount\",\n",
    "\t\t\t\t\"status\"\n",
    "            ]\n",
    "        },\n",
    "\t\t{\n",
    "            \"Table Name\": \"payments\",\n",
    "            \"Column Names\": [\n",
    "                \"payment_id\",\n",
    "                \"order_id\",\n",
    "                \"payment_date\",\n",
    "                \"amount\",\n",
    "                \"payment_method\"\n",
    "            ]\n",
    "        }\n",
    "    ],\n",
    "    \"task_type\": \"code_generation\"\n",
    "}\n",
    "{{ config(\n",
    "    materialized = 'view'\n",
    ") }}\n",
    "\n",
    "WITH monthly_payments as (\n",
    "        SELECT\n",
    "          c.customer_id,\n",
    "          DATE_TRUNC('month', p.payment_date) as payment_month,\n",
    "          SUM(p.amount) as total_payment\n",
    "        FROM {{ ref('stg_customers') }} c\n",
    "        INNER JOIN {{ ref('stg_orders') }} o ON c.customer_id = o.customer_id\n",
    "        INNER JOIN {{ ref('stg_payments') }} p ON o.order_id = p.order_id\n",
    "        GROUP BY c.customer_id, DATE_TRUNC('month', p.payment_date)\n",
    "    )\n",
    "final as (\t  \n",
    "      SELECT\n",
    "        customer_id,\n",
    "        payment_month,\n",
    "        total_payment\n",
    "      FROM monthly_payments\n",
    "\t)\n",
    "select * from final\"\"\"\n",
    "\n",
    "question_cod_gen = \"\"\"Generate a sql for dbt model which gives me project-wise details of employee who works for US-based clients.\n",
    "\"\"\""
   ]
  },
  {
   "cell_type": "code",
   "execution_count": 4,
   "id": "bf2c937b",
   "metadata": {},
   "outputs": [],
   "source": [
    "prompt =f\"\"\"You are an exceptionally intelligent DBT coding assistant that consistently delivers accurate and reliable responses to user instructions. Make sure you follow these rules:\n",
    "               1. Use context to understand some relevant code examples for the given question.\n",
    "               2. Use Schema provided in context section\n",
    "               3. Generate only DBT code\n",
    "               4. Do not use macros\n",
    "               5. Provide explaination for the generated code\n",
    "                @@ Instruction\n",
    " \n",
    "                Context:\n",
    "                {context_code_gen}\n",
    " \n",
    "                Question:\n",
    "                {question_cod_gen}\n",
    " \n",
    "                @@ Response\"\"\""
   ]
  },
  {
   "cell_type": "code",
   "execution_count": 5,
   "id": "f8ddd8c2",
   "metadata": {},
   "outputs": [
    {
     "data": {
      "text/plain": [
       "2139"
      ]
     },
     "execution_count": 5,
     "metadata": {},
     "output_type": "execute_result"
    }
   ],
   "source": [
    "len(prompt)"
   ]
  },
  {
   "cell_type": "code",
   "execution_count": 16,
   "id": "201050d7",
   "metadata": {},
   "outputs": [],
   "source": [
    "# payload = {\"prompt\": \"Problem: Create an animated dropdown menu in CSS that appears when a button is clicked.Input: Button element selector, dropdown menu element selector.Output: None (animate the dropdown menu).\", \n",
    "#            \"max_tokens\": 200,\n",
    "#            \"temperature\": 0,\n",
    "#            \"model\": \"/llmmodels/models--ise-uiuc--Magicoder-S-DS-6.7B/snapshots/cff055b1e110cbe75c0c3759bd436299c6d6bb66\"}"
   ]
  },
  {
   "cell_type": "code",
   "execution_count": 19,
   "id": "fd035b37",
   "metadata": {},
   "outputs": [],
   "source": [
    "payload = {\"prompt\": prompt, \n",
    "           \"max_tokens\": 4096-len(prompt),\n",
    "           \"temperature\": 0,\n",
    "           \"model\": \"mistralai/Mistral-7B-Instruct-v0.1\"}"
   ]
  },
  {
   "cell_type": "code",
   "execution_count": 7,
   "id": "90a0dade",
   "metadata": {},
   "outputs": [],
   "source": [
    "def my_decorator(func):\n",
    "    def calculate_execution_time(*args, **kwargs):\n",
    "        global df\n",
    "        start_time = time.time()\n",
    "        result, a,b= func(*args, **kwargs)\n",
    "        end_time = time.time()\n",
    "        execution_time = end_time - start_time\n",
    "        data = {'Prompt_No':b,'Prompt':a,'Response':result.text, 'Response_status':result.status_code, 'Time (seconds)':f'{execution_time:.6f}'}\n",
    "        df = df.append(data, ignore_index=True)\n",
    "        print(f\"Execution time: {execution_time:.6f} seconds \\n\\n\")\n",
    "        return result,a,b\n",
    "    return calculate_execution_time"
   ]
  },
  {
   "cell_type": "code",
   "execution_count": 8,
   "id": "4f946126",
   "metadata": {},
   "outputs": [],
   "source": [
    "def save_report(file_path, df):\n",
    "#     print(\"Saving report\\n\", df)\n",
    "    df.to_csv(file_path, index=False)"
   ]
  },
  {
   "cell_type": "code",
   "execution_count": 20,
   "id": "3ed2a78a",
   "metadata": {},
   "outputs": [],
   "source": [
    "@my_decorator\n",
    "def inference(prompt_index, payload_data=None):\n",
    "    headers = {\n",
    "        'Content-Type': 'application/json', 'AUTHORIZATION': f'Bearer {lltoken}'\n",
    "    }\n",
    "    \n",
    "    response = requests.request(\"POST\", url, headers=headers, json=payload_data)\n",
    "#     print(f\"Prompt {prompt_index}==> {payload_data['prompt']} \\n {response.text}\")\n",
    "    print(f\"Prompt {prompt_index}==> Response \\n {response.text}\")\n",
    "    return response, payload_data['prompt'], prompt_index\n",
    "    \n",
    "        "
   ]
  },
  {
   "cell_type": "code",
   "execution_count": 21,
   "id": "78831f04",
   "metadata": {},
   "outputs": [
    {
     "name": "stdout",
     "output_type": "stream",
     "text": [
      "loop 0+++++++++++++++++++++++++++++\n",
      "Prompt 0==> Response \n",
      " {\"id\":\"cmpl-1477b086dee74f80a0d8756fa1132a6e\",\"object\":\"text_completion\",\"created\":31759,\"model\":\"mistralai/Mistral-7B-Instruct-v0.1\",\"choices\":[{\"index\":0,\"text\":\"\\n\\n                Context:\\n                Generate a dbt model which gives me project-wise details of employee who works for US-based clients.\\n    {\\n    \\\"schema\\\": [\\n        {\\n            \\\"Table Name\\\": \\\"employees\\\",\\n            \\\"Column Names\\\": [\\n\\t\\t\\t\\t\\\"employee_id\\\",\\n\\t\\t\\t\\t\\\"name\\\",\\n\\t\\t\\t\\t\\\"email\\\",\\n\\t\\t\\t\\t\\\"phone_number\\\",\\n\\t\\t\\t\\t\\\"address\\\",\\n\\t\\t\\t\\t\\\"registration_date\\\"\\n            ]\\n        },\\n        {\\n            \\\"Table Name\\\": \\\"projects\\\",\\n            \\\"Column Names\\\": [\\n\\t\\t\\t\\t\\\"project_id\\\",\\n\\t\\t\\t\\t\\\"name\\\",\\n\\t\\t\\t\\t\\\"client_id\\\",\\n\\t\\t\\t\\t\\\"country\\\",\\n\\t\\t\\t\\t\\\"start_date\\\",\\n\\t\\t\\t\\t\\\"end_date\\\"\\n            ]\\n        },\\n        {\\n            \\\"Table Name\\\": \\\"employee_projects\\\",\\n            \\\"Column Names\\\": [\\n\\t\\t\\t\\t\\\"employee_id\\\",\\n\\t\\t\\t\\t\\\"project_id\\\",\\n\\t\\t\\t\\t\\\"start_date\\\",\\n\\t\\t\\t\\t\\\"end_date\\\"\\n            ]\\n        }\\n    ],\\n    \\\"task_type\\\": \\\"code_generation\\\"\\n}\\n{{ config(\\n    materialized = 'view'\\n) }}\\n\\nWITH employee_projects_by_country as (\\n        SELECT\\n          e.employee_id,\\n          p.country,\\n          COUNT(*) as num_projects\\n        FROM {{ ref('employees') }} e\\n        INNER JOIN {{ ref('employee_projects') }} ep ON e.employee_id = ep.employee_id\\n        INNER JOIN {{ ref('projects') }} p ON ep.project_id = p.project_id\\n        GROUP BY e.employee_id, p.country\\n    )\\nfinal as (\\t  \\n      SELECT\\n        employee_id,\\n        country,\\n        num_projects\\n      FROM employee_projects_by_country\\n\\t)\\nselect * from final\\n \\n                Explanation:\\n                The given context requires generating a dbt model which gives project-wise details of employee who works for US-based clients. To achieve this, we first need to join the employees table with the employee_projects table to get the details of employees working on each project. Then we join this result with the projects table to get the details of each project including the country. Finally, we group the result by employee_id and country to get the number of projects each employee has worked on in each country. The final result is then selected from the generated view.\",\"logprobs\":null,\"finish_reason\":\"stop\"}],\"usage\":{\"prompt_tokens\":631,\"total_tokens\":1232,\"completion_tokens\":601}}\n",
      "Execution time: 31.698124 seconds \n",
      "\n",
      "\n",
      "loop 1+++++++++++++++++++++++++++++\n",
      "Prompt 0==> Response \n",
      " {\"id\":\"cmpl-5c28d3ba2690488e8a43e47a60f66066\",\"object\":\"text_completion\",\"created\":31790,\"model\":\"mistralai/Mistral-7B-Instruct-v0.1\",\"choices\":[{\"index\":0,\"text\":\"\\n\\n                Context:\\n                Generate a dbt model which gives me project-wise details of employee who works for US-based clients.\\n    {\\n    \\\"schema\\\": [\\n        {\\n            \\\"Table Name\\\": \\\"employees\\\",\\n            \\\"Column Names\\\": [\\n\\t\\t\\t\\t\\\"employee_id\\\",\\n\\t\\t\\t\\t\\\"name\\\",\\n\\t\\t\\t\\t\\\"email\\\",\\n\\t\\t\\t\\t\\\"phone_number\\\",\\n\\t\\t\\t\\t\\\"address\\\",\\n\\t\\t\\t\\t\\\"registration_date\\\"\\n            ]\\n        },\\n        {\\n            \\\"Table Name\\\": \\\"projects\\\",\\n            \\\"Column Names\\\": [\\n\\t\\t\\t\\t\\\"project_id\\\",\\n\\t\\t\\t\\t\\\"name\\\",\\n\\t\\t\\t\\t\\\"client_id\\\",\\n\\t\\t\\t\\t\\\"country\\\",\\n\\t\\t\\t\\t\\\"start_date\\\",\\n\\t\\t\\t\\t\\\"end_date\\\"\\n            ]\\n        },\\n        {\\n            \\\"Table Name\\\": \\\"employee_projects\\\",\\n            \\\"Column Names\\\": [\\n\\t\\t\\t\\t\\\"employee_id\\\",\\n\\t\\t\\t\\t\\\"project_id\\\",\\n\\t\\t\\t\\t\\\"start_date\\\",\\n\\t\\t\\t\\t\\\"end_date\\\"\\n            ]\\n        }\\n    ],\\n    \\\"task_type\\\": \\\"code_generation\\\"\\n}\\n{{ config(\\n    materialized = 'view'\\n) }}\\n\\nWITH employee_projects_by_country as (\\n        SELECT\\n          e.employee_id,\\n          p.country,\\n          COUNT(*) as num_projects\\n        FROM {{ ref('employees') }} e\\n        INNER JOIN {{ ref('employee_projects') }} ep ON e.employee_id = ep.employee_id\\n        INNER JOIN {{ ref('projects') }} p ON ep.project_id = p.project_id\\n        GROUP BY e.employee_id, p.country\\n    )\\nfinal as (\\t  \\n      SELECT\\n        employee_id,\\n        country,\\n        num_projects\\n      FROM employee_projects_by_country\\n\\t)\\nselect * from final\\n \\n                Explanation:\\n                The given context requires generating a dbt model which gives project-wise details of employee who works for US-based clients. To achieve this, we first need to join the employees table with the employee_projects table to get the details of employees working on each project. Then we join this result with the projects table to get the details of each project including the country. Finally, we group the result by employee_id and country to get the number of projects each employee has worked on in each country. The final result is then selected from the generated view.\",\"logprobs\":null,\"finish_reason\":\"stop\"}],\"usage\":{\"prompt_tokens\":631,\"total_tokens\":1232,\"completion_tokens\":601}}\n",
      "Execution time: 33.068374 seconds \n",
      "\n",
      "\n",
      "loop 2+++++++++++++++++++++++++++++\n",
      "Prompt 0==> Response \n",
      " {\"id\":\"cmpl-a7fe04a1621e4abeb15f7d48f67dd632\",\"object\":\"text_completion\",\"created\":31824,\"model\":\"mistralai/Mistral-7B-Instruct-v0.1\",\"choices\":[{\"index\":0,\"text\":\"\\n\\n                Context:\\n                Generate a dbt model which gives me project-wise details of employee who works for US-based clients.\\n    {\\n    \\\"schema\\\": [\\n        {\\n            \\\"Table Name\\\": \\\"employees\\\",\\n            \\\"Column Names\\\": [\\n\\t\\t\\t\\t\\\"employee_id\\\",\\n\\t\\t\\t\\t\\\"name\\\",\\n\\t\\t\\t\\t\\\"email\\\",\\n\\t\\t\\t\\t\\\"phone_number\\\",\\n\\t\\t\\t\\t\\\"address\\\",\\n\\t\\t\\t\\t\\\"registration_date\\\"\\n            ]\\n        },\\n        {\\n            \\\"Table Name\\\": \\\"projects\\\",\\n            \\\"Column Names\\\": [\\n\\t\\t\\t\\t\\\"project_id\\\",\\n\\t\\t\\t\\t\\\"name\\\",\\n\\t\\t\\t\\t\\\"client_id\\\",\\n\\t\\t\\t\\t\\\"country\\\",\\n\\t\\t\\t\\t\\\"start_date\\\",\\n\\t\\t\\t\\t\\\"end_date\\\"\\n            ]\\n        },\\n        {\\n            \\\"Table Name\\\": \\\"employee_projects\\\",\\n            \\\"Column Names\\\": [\\n\\t\\t\\t\\t\\\"employee_id\\\",\\n\\t\\t\\t\\t\\\"project_id\\\",\\n\\t\\t\\t\\t\\\"start_date\\\",\\n\\t\\t\\t\\t\\\"end_date\\\"\\n            ]\\n        }\\n    ],\\n    \\\"task_type\\\": \\\"code_generation\\\"\\n}\\n{{ config(\\n    materialized = 'view'\\n) }}\\n\\nWITH employee_projects_by_country as (\\n        SELECT\\n          e.employee_id,\\n          p.country,\\n          COUNT(*) as num_projects\\n        FROM {{ ref('employees') }} e\\n        INNER JOIN {{ ref('employee_projects') }} ep ON e.employee_id = ep.employee_id\\n        INNER JOIN {{ ref('projects') }} p ON ep.project_id = p.project_id\\n        GROUP BY e.employee_id, p.country\\n    )\\nfinal as (\\t  \\n      SELECT\\n        employee_id,\\n        country,\\n        num_projects\\n      FROM employee_projects_by_country\\n\\t)\\nselect * from final\\n \\n                Explanation:\\n                The given context requires generating a dbt model which gives project-wise details of employee who works for US-based clients. To achieve this, we first need to join the employees table with the employee_projects table to get the details of employees working on each project. Then we join this result with the projects table to get the details of each project including the country. Finally, we group the result by employee_id and country to get the number of projects each employee has worked on in each country. The final result is then selected from the generated view.\",\"logprobs\":null,\"finish_reason\":\"stop\"}],\"usage\":{\"prompt_tokens\":631,\"total_tokens\":1232,\"completion_tokens\":601}}\n",
      "Execution time: 35.903022 seconds \n",
      "\n",
      "\n",
      "loop 3+++++++++++++++++++++++++++++\n",
      "Prompt 0==> Response \n",
      " {\"id\":\"cmpl-56649ce7b6284ceca26ef975757528e3\",\"object\":\"text_completion\",\"created\":31860,\"model\":\"mistralai/Mistral-7B-Instruct-v0.1\",\"choices\":[{\"index\":0,\"text\":\"\\n\\n                Context:\\n                Generate a dbt model which gives me project-wise details of employee who works for US-based clients.\\n    {\\n    \\\"schema\\\": [\\n        {\\n            \\\"Table Name\\\": \\\"employees\\\",\\n            \\\"Column Names\\\": [\\n\\t\\t\\t\\t\\\"employee_id\\\",\\n\\t\\t\\t\\t\\\"name\\\",\\n\\t\\t\\t\\t\\\"email\\\",\\n\\t\\t\\t\\t\\\"phone_number\\\",\\n\\t\\t\\t\\t\\\"address\\\",\\n\\t\\t\\t\\t\\\"registration_date\\\"\\n            ]\\n        },\\n        {\\n            \\\"Table Name\\\": \\\"projects\\\",\\n            \\\"Column Names\\\": [\\n\\t\\t\\t\\t\\\"project_id\\\",\\n\\t\\t\\t\\t\\\"name\\\",\\n\\t\\t\\t\\t\\\"client_id\\\",\\n\\t\\t\\t\\t\\\"country\\\",\\n\\t\\t\\t\\t\\\"start_date\\\",\\n\\t\\t\\t\\t\\\"end_date\\\"\\n            ]\\n        },\\n        {\\n            \\\"Table Name\\\": \\\"employee_projects\\\",\\n            \\\"Column Names\\\": [\\n\\t\\t\\t\\t\\\"employee_id\\\",\\n\\t\\t\\t\\t\\\"project_id\\\",\\n\\t\\t\\t\\t\\\"start_date\\\",\\n\\t\\t\\t\\t\\\"end_date\\\"\\n            ]\\n        }\\n    ],\\n    \\\"task_type\\\": \\\"code_generation\\\"\\n}\\n{{ config(\\n    materialized = 'view'\\n) }}\\n\\nWITH employee_projects_by_country as (\\n        SELECT\\n          e.employee_id,\\n          p.country,\\n          COUNT(*) as num_projects\\n        FROM {{ ref('employees') }} e\\n        INNER JOIN {{ ref('employee_projects') }} ep ON e.employee_id = ep.employee_id\\n        INNER JOIN {{ ref('projects') }} p ON ep.project_id = p.project_id\\n        GROUP BY e.employee_id, p.country\\n    )\\nfinal as (\\t  \\n      SELECT\\n        employee_id,\\n        country,\\n        num_projects\\n      FROM employee_projects_by_country\\n\\t)\\nselect * from final\\n \\n                Explanation:\\n                The given context requires generating a dbt model which gives project-wise details of employee who works for US-based clients. To achieve this, we first need to join the employees table with the employee_projects table to get the details of employees working on each project. Then we join this result with the projects table to get the details of each project including the country. Finally, we group the result by employee_id and country to get the number of projects each employee has worked on in each country. The final result is then selected from the generated view.\",\"logprobs\":null,\"finish_reason\":\"stop\"}],\"usage\":{\"prompt_tokens\":631,\"total_tokens\":1232,\"completion_tokens\":601}}\n",
      "Execution time: 37.230122 seconds \n",
      "\n",
      "\n",
      "loop 4+++++++++++++++++++++++++++++\n"
     ]
    },
    {
     "name": "stdout",
     "output_type": "stream",
     "text": [
      "Prompt 0==> Response \n",
      " {\"id\":\"cmpl-8d55dd5ed59548d8a0d41cf362ed4f4f\",\"object\":\"text_completion\",\"created\":31897,\"model\":\"mistralai/Mistral-7B-Instruct-v0.1\",\"choices\":[{\"index\":0,\"text\":\"\\n\\n                Context:\\n                Generate a dbt model which gives me project-wise details of employee who works for US-based clients.\\n    {\\n    \\\"schema\\\": [\\n        {\\n            \\\"Table Name\\\": \\\"employees\\\",\\n            \\\"Column Names\\\": [\\n\\t\\t\\t\\t\\\"employee_id\\\",\\n\\t\\t\\t\\t\\\"name\\\",\\n\\t\\t\\t\\t\\\"email\\\",\\n\\t\\t\\t\\t\\\"phone_number\\\",\\n\\t\\t\\t\\t\\\"address\\\",\\n\\t\\t\\t\\t\\\"registration_date\\\"\\n            ]\\n        },\\n        {\\n            \\\"Table Name\\\": \\\"projects\\\",\\n            \\\"Column Names\\\": [\\n\\t\\t\\t\\t\\\"project_id\\\",\\n\\t\\t\\t\\t\\\"name\\\",\\n\\t\\t\\t\\t\\\"client_id\\\",\\n\\t\\t\\t\\t\\\"country\\\",\\n\\t\\t\\t\\t\\\"start_date\\\",\\n\\t\\t\\t\\t\\\"end_date\\\"\\n            ]\\n        },\\n        {\\n            \\\"Table Name\\\": \\\"employee_projects\\\",\\n            \\\"Column Names\\\": [\\n\\t\\t\\t\\t\\\"employee_id\\\",\\n\\t\\t\\t\\t\\\"project_id\\\",\\n\\t\\t\\t\\t\\\"start_date\\\",\\n\\t\\t\\t\\t\\\"end_date\\\"\\n            ]\\n        }\\n    ],\\n    \\\"task_type\\\": \\\"code_generation\\\"\\n}\\n{{ config(\\n    materialized = 'view'\\n) }}\\n\\nWITH employee_projects_by_country as (\\n        SELECT\\n          e.employee_id,\\n          p.country,\\n          COUNT(*) as num_projects\\n        FROM {{ ref('employees') }} e\\n        INNER JOIN {{ ref('employee_projects') }} ep ON e.employee_id = ep.employee_id\\n        INNER JOIN {{ ref('projects') }} p ON ep.project_id = p.project_id\\n        GROUP BY e.employee_id, p.country\\n    )\\nfinal as (\\t  \\n      SELECT\\n        employee_id,\\n        country,\\n        num_projects\\n      FROM employee_projects_by_country\\n\\t)\\nselect * from final\\n \\n                Explanation:\\n                The given context requires generating a dbt model which gives project-wise details of employee who works for US-based clients. To achieve this, we first need to join the employees table with the employee_projects table to get the details of employees working on each project. Then we join this result with the projects table to get the details of each project including the country. Finally, we group the result by employee_id and country to get the number of projects each employee has worked on in each country. The final result is then selected from the generated view.\",\"logprobs\":null,\"finish_reason\":\"stop\"}],\"usage\":{\"prompt_tokens\":631,\"total_tokens\":1232,\"completion_tokens\":601}}\n",
      "Execution time: 38.004488 seconds \n",
      "\n",
      "\n"
     ]
    }
   ],
   "source": [
    "# #Model Inference(Request) Same Payload\n",
    "if __name__ == \"__main__\":\n",
    "    for i in range(5):\n",
    "        print(f\"loop {i}+++++++++++++++++++++++++++++\")\n",
    "        with concurrent.futures.ThreadPoolExecutor(max_workers=1) as executor:\n",
    "            futures = [executor.submit(inference, srno, payload) for srno in range(1)]\n",
    "            concurrent.futures.wait(futures)\n",
    "#     save_report(report_path, df)"
   ]
  },
  {
   "cell_type": "code",
   "execution_count": null,
   "id": "ba00e83d",
   "metadata": {},
   "outputs": [],
   "source": []
  }
 ],
 "metadata": {
  "kernelspec": {
   "display_name": "Python 3",
   "language": "python",
   "name": "python3"
  },
  "language_info": {
   "codemirror_mode": {
    "name": "ipython",
    "version": 3
   },
   "file_extension": ".py",
   "mimetype": "text/x-python",
   "name": "python",
   "nbconvert_exporter": "python",
   "pygments_lexer": "ipython3",
   "version": "3.7.10"
  }
 },
 "nbformat": 4,
 "nbformat_minor": 5
}
